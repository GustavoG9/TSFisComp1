{
 "cells": [
  {
   "cell_type": "raw",
   "metadata": {},
   "source": [
    "Problema 1"
   ]
  },
  {
   "cell_type": "code",
   "execution_count": 1,
   "metadata": {},
   "outputs": [
    {
     "data": {
      "text/plain": [
       "fprime (generic function with 1 method)"
      ]
     },
     "execution_count": 1,
     "metadata": {},
     "output_type": "execute_result"
    }
   ],
   "source": [
    "function f(x)\n",
    "    x^2-2\n",
    "end\n",
    "\n",
    "function fprime(x)\n",
    "    2x\n",
    "end"
   ]
  },
  {
   "cell_type": "code",
   "execution_count": 2,
   "metadata": {},
   "outputs": [
    {
     "data": {
      "text/plain": [
       "newton (generic function with 1 method)"
      ]
     },
     "execution_count": 2,
     "metadata": {},
     "output_type": "execute_result"
    }
   ],
   "source": [
    "\"Esta función aplica el método de Newton para f(x) = x^2-2\"\n",
    "function newton(xn,iteraciones)\n",
    "    xm = 1\n",
    "    for i in 1:iteraciones\n",
    "        xm = xn - f(xn)/fprime(xn)\n",
    "        xn = xm\n",
    "    end\n",
    "return xm\n",
    "end"
   ]
  },
  {
   "cell_type": "code",
   "execution_count": 3,
   "metadata": {},
   "outputs": [
    {
     "data": {
      "text/plain": [
       "2.2830936467975564"
      ]
     },
     "execution_count": 3,
     "metadata": {},
     "output_type": "execute_result"
    }
   ],
   "source": [
    "newton(0.001,10)"
   ]
  },
  {
   "cell_type": "raw",
   "metadata": {},
   "source": [
    "Problema 2"
   ]
  },
  {
   "cell_type": "code",
   "execution_count": 4,
   "metadata": {},
   "outputs": [],
   "source": [
    "paso = 0.125\n",
    "x = -3\n",
    "A = []\n",
    "y = []\n",
    "for i in 1:49\n",
    "    push!(A,x)\n",
    "    push!(y,newton(x,10))\n",
    "    x += paso\n",
    "end"
   ]
  },
  {
   "cell_type": "code",
   "execution_count": 40,
   "metadata": {},
   "outputs": [],
   "source": [
    "function g(x)\n",
    "    (x-1)*(x-2)*(x-3)\n",
    "end\n",
    "\n",
    "function dg(x)\n",
    "    3*x^2-12*x+11\n",
    "end\n",
    "\n",
    "function newtong(xn,iteraciones)\n",
    "    xm = 1\n",
    "    for i in 1:iteraciones\n",
    "        xm = xn - g(xn)/dg(xn)\n",
    "        xn = xm\n",
    "    end\n",
    "return xm\n",
    "end\n",
    "\n",
    "paso = 0.01\n",
    "x = 1\n",
    "B = []\n",
    "y1 = []\n",
    "for i in 1:201\n",
    "    push!(B,x)\n",
    "    push!(y1,newtong(x,30))\n",
    "    x += paso\n",
    "end\n"
   ]
  },
  {
   "cell_type": "markdown",
   "metadata": {},
   "source": [
    "Pregunta 3"
   ]
  },
  {
   "cell_type": "code",
   "execution_count": 9,
   "metadata": {},
   "outputs": [
    {
     "data": {
      "text/plain": [
       "h (generic function with 1 method)"
      ]
     },
     "execution_count": 9,
     "metadata": {},
     "output_type": "execute_result"
    }
   ],
   "source": [
    "function h(z::Complex)\n",
    "    z^3-1\n",
    "end    \n",
    "\n",
    "function dh(z::Complex)\n",
    "    3*z^2\n",
    "end\n",
    "\n",
    "function newtonh(z::Complex, iteraciones)\n",
    "    xm = 1 + 1im\n",
    "    for i in 1:iteraciones\n",
    "        xm = z - h(z)/dh(z)\n",
    "        z = xm\n",
    "    end\n",
    "return xm\n",
    "end"
   ]
  },
  {
   "cell_type": "code",
   "execution_count": 10,
   "metadata": {},
   "outputs": [
    {
     "data": {
      "text/plain": [
       "-1 - 1im"
      ]
     },
     "execution_count": 10,
     "metadata": {},
     "output_type": "execute_result"
    }
   ],
   "source": [
    "h(1im)"
   ]
  },
  {
   "cell_type": "markdown",
   "metadata": {},
   "source": [
    "Pregunta 4"
   ]
  },
  {
   "cell_type": "code",
   "execution_count": 34,
   "metadata": {},
   "outputs": [],
   "source": [
    "function f4(x)\n",
    "    3*x^3-2\n",
    "end\n",
    "\n",
    "function df4(h)\n",
    "    (f4(1+h)-f4(1))/h\n",
    "end\n",
    "\n",
    "ho=0.0001\n",
    "paso=0.002\n",
    "D=[]\n",
    "for i in 1:100\n",
    "    push!(D,df4(ho+(i-1)*paso)-9)\n",
    "end"
   ]
  },
  {
   "cell_type": "code",
   "execution_count": 39,
   "metadata": {},
   "outputs": [
    {
     "data": {
      "text/plain": [
       "0.0009000299939856404"
      ]
     },
     "execution_count": 39,
     "metadata": {},
     "output_type": "execute_result"
    }
   ],
   "source": [
    "D[1]"
   ]
  },
  {
   "cell_type": "code",
   "execution_count": 37,
   "metadata": {},
   "outputs": [],
   "source": [
    "function dsf4(h)\n",
    "    (f4(1+h)-f4(1-h))/2h\n",
    "end\n",
    "\n",
    "ho=0.0001\n",
    "paso=0.002\n",
    "Ds=[]\n",
    "for i in 1:100\n",
    "    push!(Ds,dsf4(ho+(i-1)*paso)-9)\n",
    "end\n"
   ]
  },
  {
   "cell_type": "code",
   "execution_count": 38,
   "metadata": {},
   "outputs": [
    {
     "data": {
      "text/plain": [
       "2.9995014472206094e-8"
      ]
     },
     "execution_count": 38,
     "metadata": {},
     "output_type": "execute_result"
    }
   ],
   "source": [
    "Ds[1]"
   ]
  },
  {
   "cell_type": "code",
   "execution_count": 41,
   "metadata": {},
   "outputs": [
    {
     "name": "stderr",
     "output_type": "stream",
     "text": [
      "fatal: your current branch 'master' does not have any commits yet\n"
     ]
    },
    {
     "ename": "LoadError",
     "evalue": "failed process: Process(`git '--git-dir=C:\\Users\\Carlos Borja\\.julia\\v0.4\\.cache\\Colors' log --all --format=%H`, ProcessExited(128)) [128]\n in pipeline_error at process.jl:555",
     "output_type": "error",
     "traceback": [
      "failed process: Process(`git '--git-dir=C:\\Users\\Carlos Borja\\.julia\\v0.4\\.cache\\Colors' log --all --format=%H`, ProcessExited(128)) [128]\n in pipeline_error at process.jl:555",
      "",
      " in sync_end at task.jl:413",
      " [inlined code] from task.jl:422",
      " in add at pkg/entry.jl:64",
      " in add at pkg/entry.jl:73",
      " in anonymous at pkg/dir.jl:31",
      " in cd at file.jl:32",
      " in cd at pkg/dir.jl:31",
      " in add at pkg.jl:23"
     ]
    }
   ],
   "source": [
    "Pkg.add(\"Plots\")"
   ]
  },
  {
   "cell_type": "code",
   "execution_count": null,
   "metadata": {},
   "outputs": [],
   "source": []
  }
 ],
 "metadata": {
  "kernelspec": {
   "display_name": "Julia 0.4.7",
   "language": "julia",
   "name": "julia-0.4"
  },
  "language_info": {
   "file_extension": ".jl",
   "mimetype": "application/julia",
   "name": "julia",
   "version": "0.4.7"
  }
 },
 "nbformat": 4,
 "nbformat_minor": 2
}
