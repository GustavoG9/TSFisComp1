{
 "cells": [
  {
   "cell_type": "markdown",
   "metadata": {},
   "source": [
    "# Tarea 2"
   ]
  },
  {
   "cell_type": "markdown",
   "metadata": {},
   "source": [
    "**Envío del PR inicial: 07.09.2018**\n",
    "\n",
    "**Aceptación del PR: 14.09.2018**"
   ]
  },
  {
   "cell_type": "markdown",
   "metadata": {},
   "source": [
    "## 1\n",
    "\n",
    "Extiendan los operadores `+`, `-`, `*` y `/` para que funcionen cuando una de las dos entradas es un `Dual` y la otra es un `Real` (número cualquiera), sin importar el orden."
   ]
  },
  {
   "cell_type": "code",
   "execution_count": 1,
   "metadata": {},
   "outputs": [
    {
     "data": {
      "text/plain": [
       "^ (generic function with 63 methods)"
      ]
     },
     "execution_count": 1,
     "metadata": {},
     "output_type": "execute_result"
    }
   ],
   "source": [
    "\"\"\"\n",
    "    Dual\n",
    "\n",
    "Definición de los números duales. Los campos internos son\n",
    "    x   :: Float64      # Valor de la función\n",
    "    x'  :: Float64      # Valor de su derivada\n",
    "\n",
    "\"\"\"\n",
    "struct Dual\n",
    "    x  :: Float64\n",
    "    x´ :: Float64\n",
    "end\n",
    "\n",
    "Dual(c::Real) = Dual(c,0.0)\n",
    "\n",
    "dual(x0::Real)=Dual(x0,1.0)\n",
    "\n",
    "\n",
    "#Importamos la definición de los siguientes operadores\n",
    "import Base:+,-,*,/,^\n",
    "\n",
    "+(u::Dual,v::Dual)=Dual(u.x+v.x,u.x´+v.x´)\n",
    "\n",
    "-(u::Dual,v::Dual)=Dual(u.x-v.x, u.x´-v.x´)\n",
    "\n",
    "*(u::Dual,v::Dual)=Dual( u.x * v.x, u.x´*v.x + u.x*v.x´)\n",
    "\n",
    "function /(u::Dual , v::Dual)\n",
    "    y = u.x / v.x\n",
    "    Dual(y, (u.x´ - y * v.x´)/v.x)\n",
    "end\n",
    "\n",
    "function ^(a::Dual , n::Int)\n",
    "    y = a.x^(n-1)\n",
    "    Dual(a.x * y , n*y*a.x´)\n",
    "end"
   ]
  },
  {
   "cell_type": "code",
   "execution_count": 2,
   "metadata": {},
   "outputs": [
    {
     "data": {
      "text/plain": [
       "/ (generic function with 107 methods)"
      ]
     },
     "execution_count": 2,
     "metadata": {},
     "output_type": "execute_result"
    }
   ],
   "source": [
    "#Extenderemos la operación +\n",
    "+(a::Real, u::Dual) = Dual(a + u.x, u.x´)\n",
    "+(u::Dual,a::Real) = Dual(a+u.x,u.x´)\n",
    "\n",
    "#Extenderemos la operación -\n",
    "-(a::Real,u::Dual) = Dual(a - u.x, -u.x´)\n",
    "-(u::Dual,a::Real) = Dual(u.x - a, u.x´)\n",
    "\n",
    "#Extenderemos la operación *\n",
    "*(a::Real, u::Dual) = Dual(a*u.x , a*u.x´)\n",
    "*(u::Dual, a::Real) = Dual(a*u.x , a*u.x´)\n",
    "\n",
    "#Extenderemos la operación /\n",
    "function /(a::Real,u::Dual)\n",
    "    Dual(a/u.x , -a*u.x´/u.x^2)\n",
    "end\n",
    "\n",
    "/(u::Dual, a::Real) = u*a^(-1)"
   ]
  },
  {
   "cell_type": "markdown",
   "metadata": {},
   "source": [
    "## 2\n",
    "\n",
    "Construyan 2 tests para cada una de las operaciones aritméticas definidas para los `Dual`es, incluyendo las que definieron en el ejercicio 1."
   ]
  },
  {
   "cell_type": "code",
   "execution_count": 3,
   "metadata": {},
   "outputs": [],
   "source": [
    "import Test.@test   \n",
    "\n",
    "#Funciona para cuando tnemos más de dos elementos: u + v + w = (u + v) + w"
   ]
  },
  {
   "cell_type": "code",
   "execution_count": 4,
   "metadata": {},
   "outputs": [
    {
     "data": {
      "text/plain": [
       "\u001b[32m\u001b[1mTest Passed\u001b[22m\u001b[39m"
      ]
     },
     "execution_count": 4,
     "metadata": {},
     "output_type": "execute_result"
    }
   ],
   "source": [
    "#Tests para operación +\n",
    "@test Dual(1,1) + pi + Dual(-1,-1) == Dual(pi,0)\n",
    "@test 1 + Dual(2,2) + Dual(1,1) == Dual(4,3) "
   ]
  },
  {
   "cell_type": "code",
   "execution_count": 5,
   "metadata": {},
   "outputs": [
    {
     "data": {
      "text/plain": [
       "\u001b[32m\u001b[1mTest Passed\u001b[22m\u001b[39m"
      ]
     },
     "execution_count": 5,
     "metadata": {},
     "output_type": "execute_result"
    }
   ],
   "source": [
    "#Tests para operación -\n",
    "@test Dual(1,1) - pi - Dual(-1,-1) == Dual(2-pi,2)\n",
    "@test 1 - Dual(2,2) - Dual(1,1) == Dual(-2,-3) "
   ]
  },
  {
   "cell_type": "code",
   "execution_count": 6,
   "metadata": {},
   "outputs": [
    {
     "data": {
      "text/plain": [
       "\u001b[32m\u001b[1mTest Passed\u001b[22m\u001b[39m"
      ]
     },
     "execution_count": 6,
     "metadata": {},
     "output_type": "execute_result"
    }
   ],
   "source": [
    "#Tests para operación *\n",
    "@test Dual(1,3)*5*Dual(-1,1) == Dual(-5,-10) && 5*Dual(1,3)*Dual(-1,1) == Dual(-5,-10)"
   ]
  },
  {
   "cell_type": "code",
   "execution_count": 7,
   "metadata": {},
   "outputs": [
    {
     "name": "stdout",
     "output_type": "stream",
     "text": [
      "\u001b[91m\u001b[1mTest Failed\u001b[22m\u001b[39m at \u001b[39m\u001b[1mIn[7]:2\u001b[22m\n",
      "  Expression: (Dual(2, 1) / 0.5) / Dual(3, 4) == Dual(4 / 3, -10 / 9)\n",
      "   Evaluated: Dual(1.3333333333333333, -1.111111111111111) == Dual(1.3333333333333333, -1.1111111111111112)\n"
     ]
    },
    {
     "ename": "Test.FallbackTestSetException",
     "evalue": "There was an error during testing",
     "output_type": "error",
     "traceback": [
      "There was an error during testing",
      "",
      "Stacktrace:",
      " [1] record(::Test.FallbackTestSet, ::Test.Fail) at C:\\cygwin\\home\\Administrator\\buildbot\\worker\\package_win64\\build\\usr\\share\\julia\\stdlib\\v1.0\\Test\\src\\Test.jl:707",
      " [2] do_test(::Test.Returned, ::Expr) at C:\\cygwin\\home\\Administrator\\buildbot\\worker\\package_win64\\build\\usr\\share\\julia\\stdlib\\v1.0\\Test\\src\\Test.jl:496",
      " [3] top-level scope at In[7]:2"
     ]
    }
   ],
   "source": [
    "#Tests para operación /\n",
    "@test Dual(2,1)/0.5/Dual(3,4) == Dual(4/3,-10/9)\n",
    "\n",
    "@test 4/Dual(2,1)/Dual(3,4) == Dual(2/3,-11/9)"
   ]
  },
  {
   "cell_type": "code",
   "execution_count": 8,
   "metadata": {},
   "outputs": [
    {
     "data": {
      "text/plain": [
       "\u001b[32m\u001b[1mTest Passed\u001b[22m\u001b[39m"
      ]
     },
     "execution_count": 8,
     "metadata": {},
     "output_type": "execute_result"
    }
   ],
   "source": [
    "#Tests para la operación ^\n",
    "@test Dual(2.5,3)^3 == Dual(2.5^3,9*6.25) \n",
    "@test Dual(25,16)^1 == Dual(25, 16) "
   ]
  },
  {
   "cell_type": "code",
   "execution_count": 9,
   "metadata": {},
   "outputs": [
    {
     "name": "stdout",
     "output_type": "stream",
     "text": [
      "\u001b[91m\u001b[1mError During Test\u001b[22m\u001b[39m at \u001b[39m\u001b[1mIn[9]:2\u001b[22m\n",
      "  Expression evaluated to non-Boolean\n",
      "  Expression: Dual(2.5, 3) ^ 3 == Dual(2.5 ^ 3, 9 * 6.25) && #= In[9]:2 =# @test(Dual(25, 16) ^ 1 == Dual(25, 16))\n",
      "       Value: Test Passed\n"
     ]
    },
    {
     "ename": "Test.FallbackTestSetException",
     "evalue": "There was an error during testing",
     "output_type": "error",
     "traceback": [
      "There was an error during testing",
      "",
      "Stacktrace:",
      " [1] record(::Test.FallbackTestSet, ::Test.Error) at C:\\cygwin\\home\\Administrator\\buildbot\\worker\\package_win64\\build\\usr\\share\\julia\\stdlib\\v1.0\\Test\\src\\Test.jl:707",
      " [2] do_test(::Test.Returned, ::Expr) at C:\\cygwin\\home\\Administrator\\buildbot\\worker\\package_win64\\build\\usr\\share\\julia\\stdlib\\v1.0\\Test\\src\\Test.jl:496",
      " [3] top-level scope at In[9]:2"
     ]
    }
   ],
   "source": [
    "#Test passed, pero hay un error durante el testing, es mejor en líneas separadas\n",
    "@test Dual(2.5,3)^3 == Dual(2.5^3,9*6.25) && @test Dual(25,16)^1 == Dual(25,16) "
   ]
  },
  {
   "cell_type": "markdown",
   "metadata": {},
   "source": [
    "## 3\n",
    "\n",
    "Sobrecarguen la función `show` (que está en Base) para que cuando se impriman los duales aparezcan con la notación $\\varepsilon$ que usamos al principio de este notebook, por ejemplo, el resultado de `Dual(1,2)` debe ser parecido a `1.0 + 2.0 ε`."
   ]
  },
  {
   "cell_type": "code",
   "execution_count": 10,
   "metadata": {},
   "outputs": [
    {
     "data": {
      "text/html": [
       "Dual(x, x´) in Main at In[1]:10"
      ],
      "text/plain": [
       "Dual(x, x´) in Main at In[1]:10"
      ]
     },
     "execution_count": 10,
     "metadata": {},
     "output_type": "execute_result"
    }
   ],
   "source": [
    "@which Dual(1,2)"
   ]
  },
  {
   "cell_type": "code",
   "execution_count": 22,
   "metadata": {},
   "outputs": [
    {
     "data": {
      "text/plain": []
     },
     "execution_count": 22,
     "metadata": {},
     "output_type": "execute_result"
    },
    {
     "name": "stdout",
     "output_type": "stream",
     "text": [
      "1.0 -1.0 ϵ\n"
     ]
    }
   ],
   "source": [
    "Dual(1,-1)"
   ]
  },
  {
   "cell_type": "code",
   "execution_count": 12,
   "metadata": {},
   "outputs": [],
   "source": [
    "import Base: show\n",
    "\n",
    "function Base.show(io::IO, d::Dual)\n",
    "    if d.x´>= 0\n",
    "        println(\"$(d.x) + $(d.x´) ϵ\")\n",
    "    else\n",
    "        println(\"$(d.x) $(d.x´) ϵ\")\n",
    "    end\n",
    "end"
   ]
  },
  {
   "cell_type": "markdown",
   "metadata": {},
   "source": [
    "## 4\n",
    "\n",
    "Obtengan la derivada de \n",
    "$$g(x) = \\frac{3x^2-8x+5}{7x^3-1}$$\n",
    "en $x_0=1$."
   ]
  },
  {
   "cell_type": "code",
   "execution_count": 23,
   "metadata": {},
   "outputs": [
    {
     "data": {
      "text/plain": [
       "dg (generic function with 1 method)"
      ]
     },
     "execution_count": 23,
     "metadata": {},
     "output_type": "execute_result"
    }
   ],
   "source": [
    "g(x) = (3*x^2-8*x+5)/(7*x^3-1)\n",
    "\n",
    "dg(x) = g(dual(x))"
   ]
  },
  {
   "cell_type": "code",
   "execution_count": 24,
   "metadata": {},
   "outputs": [
    {
     "data": {
      "text/plain": []
     },
     "execution_count": 24,
     "metadata": {},
     "output_type": "execute_result"
    },
    {
     "name": "stdout",
     "output_type": "stream",
     "text": [
      "0.0 -0.3333333333333333 ϵ\n"
     ]
    }
   ],
   "source": [
    "dg(1)"
   ]
  },
  {
   "cell_type": "code",
   "execution_count": 25,
   "metadata": {},
   "outputs": [
    {
     "data": {
      "text/plain": [
       "Df (generic function with 1 method)"
      ]
     },
     "execution_count": 25,
     "metadata": {},
     "output_type": "execute_result"
    }
   ],
   "source": [
    "Df(f,x) = f(dual(x))"
   ]
  },
  {
   "cell_type": "code",
   "execution_count": 26,
   "metadata": {},
   "outputs": [
    {
     "data": {
      "text/plain": []
     },
     "execution_count": 26,
     "metadata": {},
     "output_type": "execute_result"
    },
    {
     "name": "stdout",
     "output_type": "stream",
     "text": [
      "0.0 -0.3333333333333333 ϵ\n"
     ]
    }
   ],
   "source": [
    "Df(x->(3*x^2-8*x+5)/(7*x^3-1), 1)"
   ]
  },
  {
   "cell_type": "markdown",
   "metadata": {},
   "source": [
    "## 5\n",
    "\n",
    "- Recordando la regla de la cadena(!!!), extiendan el usar los `Dual` a las funciones `sqrt`, `exp`, `log`, `sin`, `cos`, `sinh` y `cosh`. \n",
    "\n",
    "- Muestren que las cosas dan los resultados que esperan usando pruebas como hicieron en el ejercicio 2.\n",
    "\n",
    "- Calculen la derivada de $h(x) = \\sin\\Big(x^3 - \\frac{2}{x^6}\\Big)$ en $x_0 = 2$. ¿Qué tan preciso es el resultado?(Pueden usar cualquier otra manera de obtener el resultado correcto, sólo tienen que ser claros en la explicación.)\n",
    "\n",
    "- Dibujen, para $x_0 \\in [1,5]$ la función $h'(x)$."
   ]
  },
  {
   "cell_type": "code",
   "execution_count": 17,
   "metadata": {},
   "outputs": [],
   "source": [
    "import Base: sqrt, exp, log, sin, cos, sinh, cosh"
   ]
  },
  {
   "cell_type": "code",
   "execution_count": 30,
   "metadata": {},
   "outputs": [
    {
     "data": {
      "text/plain": [
       "cosh (generic function with 13 methods)"
      ]
     },
     "execution_count": 30,
     "metadata": {},
     "output_type": "execute_result"
    }
   ],
   "source": [
    "sqrt(u::Dual) = Dual(sqrt(u.x), u.x´/(2*sqrt(u.x)))\n",
    "\n",
    "exp(u::Dual) = Dual(exp(u.x), u.x´*exp(u.x))\n",
    "\n",
    "log(u::Dual) = Dual(log(u.x), u.x´/u.x)\n",
    "\n",
    "sin(u::Dual) = Dual(sin(u.x), u.x´*cos(u.x))\n",
    "\n",
    "cos(u::Dual) = Dual(cos(u.x), -u.x´*sin(u.x))\n",
    "\n",
    "sinh(u::Dual) = Dual(sinh(u.x), u.x´*cosh(u.x))\n",
    "\n",
    "cosh(u::Dual) = Dual(cosh(u.x), u.x´*sinh(u.x))"
   ]
  },
  {
   "cell_type": "code",
   "execution_count": 33,
   "metadata": {},
   "outputs": [
    {
     "data": {
      "text/plain": []
     },
     "execution_count": 33,
     "metadata": {},
     "output_type": "execute_result"
    },
    {
     "name": "stdout",
     "output_type": "stream",
     "text": [
      "1.0 + 0.5 ϵ\n"
     ]
    }
   ],
   "source": [
    "sqrt(Dual(1,1))"
   ]
  },
  {
   "cell_type": "markdown",
   "metadata": {},
   "source": [
    "## 6\n",
    "\n",
    "Implementen el método de Newton para una función arbitraria $f(x)$ en una variable, explotando el uso de los `Dual`. \n",
    "\n",
    "- Obtengan, usando su función para el método de Newton, las raices del polinomio de Wilkinson \n",
    "\n",
    "$$\n",
    "W_{6}(x) = (x-1)(x-2)(x-3)(x-4)(x-5)(x-6),\n",
    "$$ \n",
    "\n",
    "usando como iterados iniciales $x_0=2.2$ y $x_0=2.45$.\n",
    "    \n",
    "- Hagan lo mismo que en el inciso anterior para $g(x) = x \\sin(2x)$, con $x_0=0.7$."
   ]
  },
  {
   "cell_type": "code",
   "execution_count": null,
   "metadata": {},
   "outputs": [],
   "source": []
  },
  {
   "cell_type": "markdown",
   "metadata": {},
   "source": [
    "## 7\n",
    "\n",
    "Argumenten qué podrían hacer para extender la idea de los `Dual` y calcular derivadas aún más altas. Como caso concreto, piensen en querer obtener la derivada 18 de funciones como las que hemos usado arriba"
   ]
  },
  {
   "cell_type": "code",
   "execution_count": null,
   "metadata": {},
   "outputs": [],
   "source": []
  }
 ],
 "metadata": {
  "kernelspec": {
   "display_name": "Julia 1.0.0",
   "language": "julia",
   "name": "julia-1.0"
  },
  "language_info": {
   "file_extension": ".jl",
   "mimetype": "application/julia",
   "name": "julia",
   "version": "1.0.0"
  }
 },
 "nbformat": 4,
 "nbformat_minor": 2
}
