{
 "cells": [
  {
   "cell_type": "markdown",
   "metadata": {},
   "source": [
    "# Tarea 5"
   ]
  },
  {
   "cell_type": "markdown",
   "metadata": {},
   "source": [
    "**Envío del PR inicial:** 15 de octubre\n",
    "\n",
    "**Aceptación del PR:** 21 de octubre"
   ]
  },
  {
   "cell_type": "markdown",
   "metadata": {},
   "source": [
    "NOTA: Esta tarea debe entregarse en equipo."
   ]
  },
  {
   "cell_type": "markdown",
   "metadata": {},
   "source": [
    "## 1\n",
    "\n",
    "Llamemos $c_n$ el valor del parámetro $c$ donde ocurre la bifurcación de doblamiento de periodo para el mapeo $Q_c(x)=x^2+c$, donde la órbita de periodo $2^n$ nace. Como hemos visto en notebooks anteriores, tenemos que $c_0=1/4$ marca la aparición del atractor de periodo $2^0=1$, $c_1=-1/4$ corresponde a la aparición del atractor de periodo $2^1=2$, $c_2=-3/4$ a la aparición del atractor de periodo $2^2=4$, etc. \n",
    "\n",
    "A partir de estos valores y otros que calcularán (al menos deben encontrar $c_6$), definimos la secuencia: $\\{f_0, f_1, f_2, \\dots\\}$, donde\n",
    "\n",
    "\\begin{equation}\n",
    "f_n = \\frac{c_n-c_{n+1}}{c_{n+1}-c_{n+2}} .\n",
    "\\end{equation}\n",
    "\n",
    "La pregunta es, ¿a qué valor converge esta secuencia?, es decir, dar una estimación de $f_\\infty$.\n",
    "\n",
    "\n",
    "*Hint:* Para realizar este ejercicio deben calcular el atractor para varios valores de $c$, de tal manera que puedan aislar las órbitas de periodo $2^p$ y de ahí determinar varios valores $c_n$. Se requerir suficiente cuidado para obtener una buena aproximación de $c_n$. \n",
    "Una opción se basa en recordar/usar que las bifurcaciones de doblamiento de periodo ocurren cuando los puntos de la órbita de periodo $p$ se tornan en repulsores, es decir, $(Q_c^p)'(x)=-1$. Esta opción, entonces, involucra obtener los valores $c_n$ a partir de órbitas periódicas de periodo $2^n$ usando los polinomios $Q_c^{2^p}(x)$ y diferenciación automática."
   ]
  },
  {
   "cell_type": "code",
   "execution_count": 1,
   "metadata": {},
   "outputs": [
    {
     "data": {
      "text/plain": [
       "ciclosestables!"
      ]
     },
     "execution_count": 1,
     "metadata": {},
     "output_type": "execute_result"
    }
   ],
   "source": [
    "\"\"\"\n",
    "    ciclosestables!(xx, f, cc, nit, nout)\n",
    "\n",
    "Esta función itera el mapeo `f`, de una variable, `nit+nout` veces, \n",
    "usando como condición inicial `x0=0`; los últimos `nout` iterados \n",
    "actualizan al vector `xx` que tiene longitud `nout`. `cc` es el valor\n",
    "del parámetro del mapeo `f`. El mapeo `f` debe ser definido de \n",
    "tal manera que `f(x0, cc)` tenga sentido. La idea es que los últimos \n",
    "`nout` iterados reflejen los ciclos estables del mapeo `f`.\n",
    "\"\"\"\n",
    "function ciclosestables!(xx, f, cc, nit, nout)\n",
    "    @assert (nit > 0) && (nout > 0)\n",
    "    \n",
    "    # Primeros nit iterados\n",
    "    x0 = 0.0\n",
    "    for it = 1:nit\n",
    "        x0 = f(x0, cc)\n",
    "    end\n",
    "    \n",
    "    # Se guardan los siguientes nout iterados\n",
    "    for it = 1:nout\n",
    "        x0 = f(x0, cc)\n",
    "        @inbounds xx[it] = x0\n",
    "    end\n",
    "    \n",
    "    nothing\n",
    "end"
   ]
  },
  {
   "cell_type": "code",
   "execution_count": 2,
   "metadata": {},
   "outputs": [
    {
     "data": {
      "text/plain": [
       "Main.DualNum"
      ]
     },
     "execution_count": 2,
     "metadata": {},
     "output_type": "execute_result"
    }
   ],
   "source": [
    "include(\"DualNum.jl\")"
   ]
  },
  {
   "cell_type": "code",
   "execution_count": 3,
   "metadata": {},
   "outputs": [],
   "source": [
    "using Plots"
   ]
  },
  {
   "cell_type": "code",
   "execution_count": 3,
   "metadata": {},
   "outputs": [
    {
     "data": {
      "text/plain": [
       "diag_bifurc"
      ]
     },
     "execution_count": 3,
     "metadata": {},
     "output_type": "execute_result"
    }
   ],
   "source": [
    "\"\"\"\n",
    "    diag_bifurc(f, nit, nout, crange)\n",
    "\n",
    "Itera el mapeo `f` `nit+nout` veces y regresa una matriz\n",
    "cuya columna `i` tiene los últimos `nout` iterados del mapeo\n",
    "para el valor del parámetro del mapeo `crange[i]`.\n",
    "\n",
    "La función `f` debe ser definida de tal manera que `f(x0, c)` \n",
    "tenga sentido.\n",
    "\"\"\"\n",
    "function diag_bifurc(f, nit, nout, crange)\n",
    "#     xx = Vector{Float64}(nout)\n",
    "    ff = Array{Float64,2}(undef, nout, length(crange))\n",
    "    \n",
    "    for ic in eachindex(crange)\n",
    "        c = crange[ic]\n",
    "       ciclosestables!(view(ff, :, ic), f, c, nit, nout)\n",
    "#         ff[:,ic] = xx\n",
    "    end\n",
    "    \n",
    "    return ff\n",
    "end"
   ]
  },
  {
   "cell_type": "code",
   "execution_count": 4,
   "metadata": {},
   "outputs": [
    {
     "data": {
      "text/plain": [
       "Qc (generic function with 1 method)"
      ]
     },
     "execution_count": 4,
     "metadata": {},
     "output_type": "execute_result"
    }
   ],
   "source": [
    "Qc(x,c) = x^2 + c"
   ]
  },
  {
   "cell_type": "code",
   "execution_count": 5,
   "metadata": {},
   "outputs": [
    {
     "data": {
      "text/plain": [
       "C (generic function with 1 method)"
      ]
     },
     "execution_count": 5,
     "metadata": {},
     "output_type": "execute_result"
    }
   ],
   "source": [
    "function C(f,c,p)\n",
    "    \n",
    "    A = diag_bifurc(f, 2000000, p, c)\n",
    "    dc = 0\n",
    "    r = 1\n",
    "    g = DualNum.dual(A[1,r])\n",
    "    \n",
    "    while g.x´ > -1\n",
    "        r = r+1\n",
    "        g = DualNum.dual(A[1,r])      \n",
    "        for j in 1:p\n",
    "            g = f(g, c[r])\n",
    "        end \n",
    "        #println(g.x´,c[r])\n",
    "        if g.x´ < -1.0\n",
    "            dc = c[r]\n",
    "            break\n",
    "        end\n",
    "    end\n",
    "    return dc\n",
    "end"
   ]
  },
  {
   "cell_type": "code",
   "execution_count": 6,
   "metadata": {},
   "outputs": [
    {
     "data": {
      "text/plain": [
       "8-element Array{Any,1}:\n",
       "  0.25              \n",
       " -0.75              \n",
       " -1.2499983215332031\n",
       " -1.3681013488769531\n",
       " -1.394049041748047 \n",
       " -1.3996348571777344\n",
       " -1.4008316040039062\n",
       " -1.4010877380371094"
      ]
     },
     "execution_count": 6,
     "metadata": {},
     "output_type": "execute_result"
    }
   ],
   "source": [
    "# sea el vector C_n\n",
    "Cn = []\n",
    "push!(Cn,0.25)\n",
    "push!(Cn,-0.75)\n",
    "push!(Cn,C(Qc,-1.24:-1/2^18:-1.26, 2))\n",
    "push!(Cn,C(Qc,-1.365:-1/2^18:-1.370,4))\n",
    "push!(Cn,C(Qc,-1.393:-1/2^18:-1.395,8))\n",
    "push!(Cn,C(Qc,-1.395:-1/2^18:-1.4,16)) \n",
    "push!(Cn,C(Qc,-1.4:-1/2^18:-1.401,32))             #-1.4008287\n",
    "push!(Cn,C(Qc,-1.401:-1/2^18:-1.42,64))            #1M"
   ]
  },
  {
   "cell_type": "code",
   "execution_count": 7,
   "metadata": {},
   "outputs": [
    {
     "data": {
      "text/plain": [
       "fn (generic function with 1 method)"
      ]
     },
     "execution_count": 7,
     "metadata": {},
     "output_type": "execute_result"
    }
   ],
   "source": [
    "fn(cn,cn1,cn2) = (cn-cn1)/(cn1-cn2) "
   ]
  },
  {
   "cell_type": "code",
   "execution_count": 8,
   "metadata": {},
   "outputs": [],
   "source": [
    "Fn = []\n",
    "\n",
    "for i in 1:6\n",
    "    push!(Fn,fn(Cn[i],Cn[i+1],Cn[i+2]))\n",
    "end"
   ]
  },
  {
   "cell_type": "code",
   "execution_count": 9,
   "metadata": {},
   "outputs": [
    {
     "data": {
      "text/plain": [
       "6-element Array{Any,1}:\n",
       " 2.0000067138897255\n",
       " 4.233577519379845 \n",
       " 4.551581056954741 \n",
       " 4.645282895168167 \n",
       " 4.667499681244839 \n",
       " 4.672346002618775 "
      ]
     },
     "execution_count": 9,
     "metadata": {},
     "output_type": "execute_result"
    }
   ],
   "source": [
    "Fn"
   ]
  },
  {
   "cell_type": "markdown",
   "metadata": {},
   "source": [
    "## 2\n",
    "\n",
    "Repitan el ejercicio anterior para el mapeo $S_c(x) = c \\sin(x)$. \n",
    "\n",
    "- ¿Cómo se comparan los valores obtenidos de $f_n$? \n",
    "\n",
    "- ¿Qué interpretación le pueden dar a este resultado, en comparación del ejercicio anterior?"
   ]
  },
  {
   "cell_type": "code",
   "execution_count": 86,
   "metadata": {},
   "outputs": [
    {
     "ename": "BoundsError",
     "evalue": "BoundsError: attempt to access 1×26215 Array{Float64,2} at index [1, 26216]",
     "output_type": "error",
     "traceback": [
      "BoundsError: attempt to access 1×26215 Array{Float64,2} at index [1, 26216]",
      "",
      "Stacktrace:",
      " [1] getindex at .\\array.jl:732 [inlined]",
      " [2] C(::typeof(Sc), ::StepRangeLen{Float64,Base.TwicePrecision{Float64},Base.TwicePrecision{Float64}}, ::Int64) at .\\In[5]:10",
      " [3] top-level scope at In[86]:4"
     ]
    }
   ],
   "source": [
    "Sc(x,c) = c*sin(x)\n",
    "Cns = []\n",
    "push!(Cns,0.25)\n",
    "push!(Cns,C(Sc, 2.2:1/2^18:2.3, 1))\n",
    "push!(Cns,C(Sc, 2.6:1/2^18:2.65, 2))\n",
    "push!(Cns,C(Sc, 2.685:1/2^18:2.7,4))\n",
    "push!(Cns,C(Sc, 2.71:1/2^18:2.72,8))"
   ]
  },
  {
   "cell_type": "markdown",
   "metadata": {},
   "source": [
    "## 3\n",
    "\n",
    "Como se ve en la Fig. 1 del diagrama de bifurcaciones de $Q_c$, $x=0$ pertenece a un ciclo de periodo $2^n$ para ciertos valores $C_n$ del parámetro. Dichos valores son *especiales*, ya que el hecho de que $x=0$ pertenezca a un ciclo de periodo $2^n$ define los llamados *ciclos superestable*, donde tenemos $(Q^{2^p}_{C_n})'(0)=0$.\n",
    "\n",
    "- ¿A qué converge la secuencia $f_n$, definida ahora a partir de los valores $C_n$.\n",
    "\n",
    "- De los $2^p$ puntos del ciclo de periodo $2^p$, es decir, $\\{0, p_1, \\dots p_{2^{n-1}}\\,\\}$ hay uno (distinto del 0) cuya distancia a 0 es la menor; a esa distancia la identificaremos como $d_n$. Calcular numéricamente a qué converge la secuencia $d_n/d_{n+1}$."
   ]
  },
  {
   "cell_type": "code",
   "execution_count": 10,
   "metadata": {},
   "outputs": [
    {
     "data": {
      "text/plain": [
       "Cz (generic function with 1 method)"
      ]
     },
     "execution_count": 10,
     "metadata": {},
     "output_type": "execute_result"
    }
   ],
   "source": [
    "function Cz(f,c,p)\n",
    "    \n",
    "    A = diag_bifurc(f, 100000, p, c)\n",
    "    dc = 0\n",
    "    r = 1\n",
    "    g = DualNum.dual(A[1,r])\n",
    "    \n",
    "    while g.x´ > 0.0\n",
    "        r = r+1\n",
    "        g = DualNum.dual(A[1,r])      \n",
    "        for j in 1:p\n",
    "            g = f(g, c[r])\n",
    "        end \n",
    "        #println(g.x´,\"  \",c[r])\n",
    "        if g.x´ < 0.0\n",
    "            dc = c[r]\n",
    "            break\n",
    "        end\n",
    "    end\n",
    "    return dc\n",
    "    \n",
    "    while g.x´ < 0.0\n",
    "        r = r+1\n",
    "        g = DualNum.dual(A[1,r])      \n",
    "        for j in 1:p\n",
    "            g = f(g, c[r])\n",
    "        end \n",
    "        #println(g.x´,\"  \",c[r])\n",
    "        if g.x´ > 0.0\n",
    "            dc = c[r]\n",
    "            break\n",
    "        end\n",
    "    end\n",
    "    return dc\n",
    "end"
   ]
  },
  {
   "cell_type": "code",
   "execution_count": 11,
   "metadata": {},
   "outputs": [
    {
     "data": {
      "text/plain": [
       "9-element Array{Any,1}:\n",
       "  0.0       \n",
       " -1.0       \n",
       " -1.310703  \n",
       " -1.381548  \n",
       " -1.396946  \n",
       " -1.400254  \n",
       " -1.40096197\n",
       " -1.40111381\n",
       " -1.40114633"
      ]
     },
     "execution_count": 11,
     "metadata": {},
     "output_type": "execute_result"
    }
   ],
   "source": [
    "Czn = []\n",
    "\n",
    "push!(Czn, 0.0)\n",
    "push!(Czn, -1.0)\n",
    "push!(Czn, Cz(Qc, -1.30:-1/10^6:-1.32, 4))\n",
    "push!(Czn, Cz(Qc, -1.38:-1/10^6:-1.385, 8))\n",
    "push!(Czn, Cz(Qc, -1.396:-1/10^6:-1.398, 16))\n",
    "push!(Czn, Cz(Qc, -1.40015:-1/10^6:-1.40035, 32))\n",
    "push!(Czn, Cz(Qc, -1.4009:-1/10^8:-1.4010, 64))\n",
    "push!(Czn, Cz(Qc, -1.4010:-1/10^8:-1.40125, 128))\n",
    "push!(Czn, Cz(Qc, -1.40114:-1/10^8:-1.40115, 256))"
   ]
  },
  {
   "cell_type": "code",
   "execution_count": 12,
   "metadata": {},
   "outputs": [],
   "source": [
    "Fzn = []\n",
    "\n",
    "for i in 1:7\n",
    "    push!(Fzn,fn(Czn[i],Czn[i+1],Czn[i+2]))\n",
    "end"
   ]
  },
  {
   "cell_type": "code",
   "execution_count": 13,
   "metadata": {},
   "outputs": [
    {
     "data": {
      "text/plain": [
       "7-element Array{Any,1}:\n",
       " 3.218507706716704 \n",
       " 4.385672947985034 \n",
       " 4.600922197688008 \n",
       " 4.6547762998789635\n",
       " 4.672514372078756 \n",
       " 4.662605374076825 \n",
       " 4.669126691270171 "
      ]
     },
     "execution_count": 13,
     "metadata": {},
     "output_type": "execute_result"
    }
   ],
   "source": [
    "Fzn"
   ]
  },
  {
   "cell_type": "code",
   "execution_count": 81,
   "metadata": {},
   "outputs": [
    {
     "name": "stdout",
     "output_type": "stream",
     "text": [
      "1\n",
      "2\n",
      "4\n",
      "8\n",
      "16\n",
      "32\n",
      "64\n",
      "64\n",
      "192\n"
     ]
    }
   ],
   "source": [
    "D = []\n",
    "for i in 1:9\n",
    "\n",
    "    A = diag_bifurc(Qc, 1000000, 2^(i-1), Czn[i])\n",
    "    \n",
    "    absA = []\n",
    "    \n",
    "    for l in 1:length(A)\n",
    "        push!( absA , abs(A[l]))\n",
    "    end\n",
    "    \n",
    "    #println(absA)\n",
    "    \n",
    "    min = minimum(absA)\n",
    "    s = 0\n",
    "    \n",
    "    #println(absA)\n",
    "    \n",
    "    for r in 1:length(absA)\n",
    "        if absA[r] == min\n",
    "            s = r\n",
    "        end\n",
    "    end\n",
    "    #println(min)\n",
    "    println(s)\n",
    "    D1 = []\n",
    "    \n",
    "    if i == 1\n",
    "        push!(D1,0.0)\n",
    "    end\n",
    "    \n",
    "    for m in 1:length(A)\n",
    "        if m != s\n",
    "            push!(D1, abs(min-A[m]))\n",
    "        end\n",
    "    end\n",
    "    \n",
    "    push!(D, minimum(D1))\n",
    "    \n",
    "end"
   ]
  },
  {
   "cell_type": "code",
   "execution_count": 82,
   "metadata": {},
   "outputs": [
    {
     "data": {
      "text/plain": [
       "9-element Array{Any,1}:\n",
       " 0.0                  \n",
       " 1.0                  \n",
       " 0.4072387322583946   \n",
       " 0.16342849226476241  \n",
       " 0.06536302595334376  \n",
       " 0.026140533748405748 \n",
       " 0.010436909263090488 \n",
       " 0.004170337459091122 \n",
       " 0.0016660259442164982"
      ]
     },
     "execution_count": 82,
     "metadata": {},
     "output_type": "execute_result"
    }
   ],
   "source": [
    "D"
   ]
  },
  {
   "cell_type": "code",
   "execution_count": 83,
   "metadata": {},
   "outputs": [
    {
     "data": {
      "text/plain": [
       "8-element Array{Any,1}:\n",
       " 0.0               \n",
       " 2.4555621083838757\n",
       " 2.4918465967283554\n",
       " 2.500320171551084 \n",
       " 2.500447258745438 \n",
       " 2.504624030875711 \n",
       " 2.5026534100588336\n",
       " 2.5031647757756597"
      ]
     },
     "execution_count": 83,
     "metadata": {},
     "output_type": "execute_result"
    }
   ],
   "source": [
    "dn = []\n",
    "for i in 1:8\n",
    "    push!(dn, D[i]/D[i+1])\n",
    "end\n",
    "dn"
   ]
  },
  {
   "cell_type": "code",
   "execution_count": 84,
   "metadata": {},
   "outputs": [
    {
     "data": {
      "text/plain": [
       "2.732050807568877"
      ]
     },
     "execution_count": 84,
     "metadata": {},
     "output_type": "execute_result"
    }
   ],
   "source": [
    "1+sqrt(3)"
   ]
  },
  {
   "cell_type": "code",
   "execution_count": null,
   "metadata": {},
   "outputs": [],
   "source": []
  }
 ],
 "metadata": {
  "kernelspec": {
   "display_name": "Julia 1.0.0",
   "language": "julia",
   "name": "julia-1.0"
  },
  "language_info": {
   "file_extension": ".jl",
   "mimetype": "application/julia",
   "name": "julia",
   "version": "1.0.0"
  }
 },
 "nbformat": 4,
 "nbformat_minor": 1
}
