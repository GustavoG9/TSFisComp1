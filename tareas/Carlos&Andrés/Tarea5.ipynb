{
 "cells": [
  {
   "cell_type": "markdown",
   "metadata": {},
   "source": [
    "# Tarea 5"
   ]
  },
  {
   "cell_type": "markdown",
   "metadata": {},
   "source": [
    "**Envío del PR inicial:** 15 de octubre\n",
    "\n",
    "**Aceptación del PR:** 21 de octubre"
   ]
  },
  {
   "cell_type": "markdown",
   "metadata": {},
   "source": [
    "NOTA: Esta tarea debe entregarse en equipo."
   ]
  },
  {
   "cell_type": "markdown",
   "metadata": {},
   "source": [
    "## 1\n",
    "\n",
    "Llamemos $c_n$ el valor del parámetro $c$ donde ocurre la bifurcación de doblamiento de periodo para el mapeo $Q_c(x)=x^2+c$, donde la órbita de periodo $2^n$ nace. Como hemos visto en notebooks anteriores, tenemos que $c_0=1/4$ marca la aparición del atractor de periodo $2^0=1$, $c_1=-1/4$ corresponde a la aparición del atractor de periodo $2^1=2$, $c_2=-3/4$ a la aparición del atractor de periodo $2^2=4$, etc. \n",
    "\n",
    "A partir de estos valores y otros que calcularán (al menos deben encontrar $c_6$), definimos la secuencia: $\\{f_0, f_1, f_2, \\dots\\}$, donde\n",
    "\n",
    "\\begin{equation}\n",
    "f_n = \\frac{c_n-c_{n+1}}{c_{n+1}-c_{n+2}} .\n",
    "\\end{equation}\n",
    "\n",
    "La pregunta es, ¿a qué valor converge esta secuencia?, es decir, dar una estimación de $f_\\infty$.\n",
    "\n",
    "\n",
    "*Hint:* Para realizar este ejercicio deben calcular el atractor para varios valores de $c$, de tal manera que puedan aislar las órbitas de periodo $2^p$ y de ahí determinar varios valores $c_n$. Se requerir suficiente cuidado para obtener una buena aproximación de $c_n$. \n",
    "Una opción se basa en recordar/usar que las bifurcaciones de doblamiento de periodo ocurren cuando los puntos de la órbita de periodo $p$ se tornan en repulsores, es decir, $(Q_c^p)'(x)=-1$. Esta opción, entonces, involucra obtener los valores $c_n$ a partir de órbitas periódicas de periodo $2^n$ usando los polinomios $Q_c^{2^p}(x)$ y diferenciación automática."
   ]
  },
  {
   "cell_type": "code",
   "execution_count": 1,
   "metadata": {},
   "outputs": [
    {
     "data": {
      "text/plain": [
       "ciclosestables!"
      ]
     },
     "execution_count": 1,
     "metadata": {},
     "output_type": "execute_result"
    }
   ],
   "source": [
    "\"\"\"\n",
    "    ciclosestables!(xx, f, cc, nit, nout)\n",
    "\n",
    "Esta función itera el mapeo `f`, de una variable, `nit+nout` veces, \n",
    "usando como condición inicial `x0=0`; los últimos `nout` iterados \n",
    "actualizan al vector `xx` que tiene longitud `nout`. `cc` es el valor\n",
    "del parámetro del mapeo `f`. El mapeo `f` debe ser definido de \n",
    "tal manera que `f(x0, cc)` tenga sentido. La idea es que los últimos \n",
    "`nout` iterados reflejen los ciclos estables del mapeo `f`.\n",
    "\"\"\"\n",
    "function ciclosestables!(xx, f, cc, nit, nout)\n",
    "    @assert (nit > 0) && (nout > 0)\n",
    "    \n",
    "    # Primeros nit iterados\n",
    "    x0 = 0.0\n",
    "    for it = 1:nit\n",
    "        x0 = f(x0, cc)\n",
    "    end\n",
    "    \n",
    "    # Se guardan los siguientes nout iterados\n",
    "    for it = 1:nout\n",
    "        x0 = f(x0, cc)\n",
    "        @inbounds xx[it] = x0\n",
    "    end\n",
    "    \n",
    "    nothing\n",
    "end"
   ]
  },
  {
   "cell_type": "code",
   "execution_count": 2,
   "metadata": {},
   "outputs": [
    {
     "data": {
      "text/plain": [
       "Main.DualNum"
      ]
     },
     "execution_count": 2,
     "metadata": {},
     "output_type": "execute_result"
    }
   ],
   "source": [
    "include(\"DualNum.jl\")"
   ]
  },
  {
   "cell_type": "code",
   "execution_count": 3,
   "metadata": {},
   "outputs": [],
   "source": [
    "using Plots"
   ]
  },
  {
   "cell_type": "code",
   "execution_count": 3,
   "metadata": {},
   "outputs": [
    {
     "data": {
      "text/plain": [
       "diag_bifurc"
      ]
     },
     "execution_count": 3,
     "metadata": {},
     "output_type": "execute_result"
    }
   ],
   "source": [
    "\"\"\"\n",
    "    diag_bifurc(f, nit, nout, crange)\n",
    "\n",
    "Itera el mapeo `f` `nit+nout` veces y regresa una matriz\n",
    "cuya columna `i` tiene los últimos `nout` iterados del mapeo\n",
    "para el valor del parámetro del mapeo `crange[i]`.\n",
    "\n",
    "La función `f` debe ser definida de tal manera que `f(x0, c)` \n",
    "tenga sentido.\n",
    "\"\"\"\n",
    "function diag_bifurc(f, nit, nout, crange)\n",
    "#     xx = Vector{Float64}(nout)\n",
    "    ff = Array{Float64,2}(undef, nout, length(crange))\n",
    "    \n",
    "    for ic in eachindex(crange)\n",
    "        c = crange[ic]\n",
    "       ciclosestables!(view(ff, :, ic), f, c, nit, nout)\n",
    "#         ff[:,ic] = xx\n",
    "    end\n",
    "    \n",
    "    return ff\n",
    "end"
   ]
  },
  {
   "cell_type": "code",
   "execution_count": 4,
   "metadata": {},
   "outputs": [
    {
     "data": {
      "text/plain": [
       "Qc (generic function with 1 method)"
      ]
     },
     "execution_count": 4,
     "metadata": {},
     "output_type": "execute_result"
    }
   ],
   "source": [
    "Qc(x,c) = x^2 + c"
   ]
  },
  {
   "cell_type": "code",
   "execution_count": 31,
   "metadata": {},
   "outputs": [
    {
     "data": {
      "text/plain": [
       "C (generic function with 1 method)"
      ]
     },
     "execution_count": 31,
     "metadata": {},
     "output_type": "execute_result"
    }
   ],
   "source": [
    "function C(f,c,p)\n",
    "    \n",
    "    A = diag_bifurc(f, 100000, p, c)\n",
    "    lc = length(c)\n",
    "    dc = 0\n",
    "    r = 1\n",
    "    g = DualNum.dual(A[1,r])\n",
    "    \n",
    "    while g.x´ > -1\n",
    "        r = r+1\n",
    "        g = DualNum.dual(A[1,r])      \n",
    "        for j in 1:p\n",
    "            g = f(g, c[r])\n",
    "        end \n",
    "        #println(g.x´,c[r])\n",
    "        if g.x´ < -1.0\n",
    "            dc = c[r]\n",
    "            break\n",
    "        end\n",
    "    end\n",
    "    return dc\n",
    "end"
   ]
  },
  {
   "cell_type": "code",
   "execution_count": 41,
   "metadata": {},
   "outputs": [
    {
     "data": {
      "text/plain": [
       "7-element Array{Any,1}:\n",
       "  0.25     \n",
       " -0.75     \n",
       " -1.2499734\n",
       " -1.3680878\n",
       " -1.3940417\n",
       " -1.3996295\n",
       " -1.4011925"
      ]
     },
     "execution_count": 41,
     "metadata": {},
     "output_type": "execute_result"
    }
   ],
   "source": [
    "# sea el vector C_n\n",
    "Cn = []\n",
    "push!(Cn,0.25)\n",
    "push!(Cn,-0.75)\n",
    "push!(Cn,C(Qc,-1.24:-1/10^7:-1.26, 2))\n",
    "push!(Cn,C(Qc,-1.365:-1/10^7:-1.370,4))\n",
    "push!(Cn,C(Qc,-1.393:-1/10^7:-1.395,8))\n",
    "push!(Cn,C(Qc,-1.395:-1/10^7:-1.4,16)) \n",
    "push!(Cn,C(Qc,-1.4:-1/10^7:-1.41,32))"
   ]
  },
  {
   "cell_type": "code",
   "execution_count": 38,
   "metadata": {},
   "outputs": [
    {
     "data": {
      "text/plain": [
       "fn (generic function with 1 method)"
      ]
     },
     "execution_count": 38,
     "metadata": {},
     "output_type": "execute_result"
    }
   ],
   "source": [
    "fn(cn,cn1,cn2) = (cn-cn1)/(cn1-cn2) "
   ]
  },
  {
   "cell_type": "code",
   "execution_count": 42,
   "metadata": {},
   "outputs": [],
   "source": [
    "Fn = []\n",
    "\n",
    "for i in 1:5\n",
    "    push!(Fn,fn(Cn[i],Cn[i+1],Cn[i+2]))\n",
    "end"
   ]
  },
  {
   "cell_type": "code",
   "execution_count": 43,
   "metadata": {},
   "outputs": [
    {
     "data": {
      "text/plain": [
       "5-element Array{Any,1}:\n",
       " 2.000106405660781\n",
       " 4.232958894089118\n",
       " 4.550930688644103\n",
       " 4.644743906367412\n",
       " 3.575047984644977"
      ]
     },
     "execution_count": 43,
     "metadata": {},
     "output_type": "execute_result"
    }
   ],
   "source": [
    "Fn"
   ]
  },
  {
   "cell_type": "code",
   "execution_count": 29,
   "metadata": {},
   "outputs": [
    {
     "data": {
      "text/plain": [
       "32×185001 Array{Float64,2}:\n",
       " -1.40091    -1.40051    -1.40003    …  -1.37418     -1.33793    -1.41698  \n",
       "  0.56104     0.559918    0.558585       0.468363     0.370044    0.587827 \n",
       " -1.08673    -1.08799    -1.08948       -1.20064     -1.28307    -1.07446  \n",
       " -0.220508   -0.217774   -0.214526       0.0215263    0.226263   -0.265536 \n",
       " -1.35288    -1.35407    -1.35548       -1.41954     -1.36881    -1.34949  \n",
       "  0.428774    0.432018    0.435823   …   0.595084     0.453627    0.401125 \n",
       " -1.21765    -1.21486    -1.21156       -1.06588     -1.21422    -1.2591   \n",
       "  0.0811787   0.0743863   0.0663743     -0.28391      0.0543355   0.16533  \n",
       " -1.39491    -1.39597    -1.39709       -1.33939     -1.41705    -1.39267  \n",
       "  0.544274    0.547223    0.550373       0.373979     0.588024    0.519519 \n",
       " -1.10527    -1.10205    -1.09859    …  -1.28014     -1.07423    -1.1501   \n",
       " -0.179887   -0.186993   -0.194601       0.218758    -0.266035   -0.0972699\n",
       " -1.36914    -1.36653    -1.36363       -1.37214     -1.34923    -1.41054  \n",
       "  ⋮                                  ⋱                            ⋮        \n",
       " -1.35171    -1.35108    -1.35215    …  -1.34221     -1.41115    -1.41864  \n",
       "  0.425622    0.423906    0.426799       0.381528     0.571341    0.592547 \n",
       " -1.22035    -1.2218     -1.21934       -1.27444     -1.09357    -1.06889  \n",
       "  0.0877446   0.0913038   0.0852975      0.204188    -0.224107   -0.277478 \n",
       " -1.3938     -1.39316    -1.39422       -1.37831     -1.36978    -1.34301  \n",
       "  0.541181    0.539405    0.542362   …   0.47973      0.456287    0.383665 \n",
       " -1.10862    -1.11054    -1.10734       -1.18986     -1.2118     -1.2728   \n",
       " -0.172455   -0.168196   -0.17529       -0.00423585   0.0484652   0.200022 \n",
       " -1.37176    -1.37321    -1.37077       -1.41998     -1.41765    -1.37999  \n",
       "  0.480224    0.484206    0.47752        0.596349     0.589735    0.484376 \n",
       " -1.17088    -1.16704    -1.17347    …  -1.06437     -1.07221    -1.18538  \n",
       " -0.0305284  -0.0395074  -0.0244575     -0.28712     -0.270359   -0.0148735"
      ]
     },
     "execution_count": 29,
     "metadata": {},
     "output_type": "execute_result"
    }
   ],
   "source": [
    "R = diag_bifurc(Qc, 10000, 32, -1.4015:-1/10^7:-1.42)"
   ]
  },
  {
   "cell_type": "code",
   "execution_count": 30,
   "metadata": {},
   "outputs": [
    {
     "name": "stdout",
     "output_type": "stream",
     "text": [
      "-1.4005680194862877 + 3.0817404860511175 ϵ\n",
      "-1.4015\n",
      "-1.3999392669935642 -0.35954367735046555 ϵ\n",
      "-1.4015001\n",
      "-1.4009020329825488 -2.6902487683081264 ϵ\n",
      "-1.4015002\n",
      "-1.4011079199736445 -4.6416521304159755 ϵ\n",
      "-1.4015003\n",
      "-1.4009003563658577 + 3.1970853777229973 ϵ\n",
      "-1.4015004\n",
      "-1.4008995812779288 + 3.19768325944695 ϵ\n",
      "-1.4015005\n",
      "-1.4008992035292842 + 3.1980752776708425 ϵ\n",
      "-1.4015006\n",
      "-1.4008989298692964 + 3.198413421481101 ϵ\n",
      "-1.4015007\n",
      "-1.4008987116199147 + 3.1987229111747166 ϵ\n",
      "-1.4015008\n",
      "-1.4008985292280576 + 3.199013874340542 ϵ\n",
      "-1.4015009\n",
      "-1.4008983724938742 + 3.199291592555149 ϵ\n",
      "-1.401501\n",
      "-1.4008982352964179 + 3.199559234425215 ϵ\n",
      "-1.4015011\n",
      "-1.4008981136202567 + 3.19981887803994 ϵ\n",
      "-1.4015012\n",
      "-1.400898004662512 + 3.2000719735663643 ϵ\n",
      "-1.4015013\n",
      "-1.4008979063747806 + 3.2003195805258637 ϵ\n",
      "-1.4015014\n",
      "-1.4008978172061264 + 3.200562500916345 ϵ\n",
      "-1.4015015\n",
      "-1.4008977359529442 + 3.200801357038255 ϵ\n",
      "-1.4015016\n",
      "-1.400897668057854 + 3.201033466344521 ϵ\n",
      "-1.4015017\n",
      "-1.400898287352128 + 3.200923478822518 ϵ\n",
      "-1.4015018\n",
      "-1.4008990684088172 + 3.200730365083612 ϵ\n",
      "-1.4015019\n",
      "-1.4008996002501786 + 3.2006607148136004 ϵ\n",
      "-1.401502\n",
      "-1.400900042361537 + 3.200635482962169 ϵ\n",
      "-1.4015021\n",
      "-1.4009004340008286 + 3.2006352147359305 ϵ\n",
      "-1.4015022\n",
      "-1.4009007921228716 + 3.200651510565765 ϵ\n",
      "-1.4015023\n",
      "-1.4009011259646749 + 3.2006797944304917 ϵ\n",
      "-1.4015024\n",
      "-1.4009019581784152 + 3.200450331516663 ϵ\n",
      "-1.4015025\n",
      "-1.4009025607219765 + 3.200337310964415 ϵ\n",
      "-1.4015026\n",
      "-1.4009031051394318 + 3.200253101400531 ϵ\n",
      "-1.4015027\n",
      "-1.4009039356605757 + 3.2000168029938263 ϵ\n",
      "-1.4015028\n",
      "-1.4008966403176903 + 3.2039151705187163 ϵ\n",
      "-1.4015029\n",
      "-1.4008977959674145 + 3.2035475483828257 ϵ\n",
      "-1.401503\n",
      "-1.4008944176244744 + 3.205376162302095 ϵ\n",
      "-1.4015031\n",
      "-1.4009019746387927 + 3.201839835723391 ϵ\n",
      "-1.4015032\n",
      "-1.4008930775549846 + 3.206398019051973 ϵ\n",
      "-1.4015033\n",
      "-1.400893034692085 + 3.206614313224355 ϵ\n",
      "-1.4015034\n",
      "-1.4015031928074537 + 0.11260125482392147 ϵ\n",
      "-1.4015035\n",
      "-1.401435158393449 + 1.530092421585095 ϵ\n",
      "-1.4015036\n",
      "-1.4005877448818616 + 3.108045077100318 ϵ\n",
      "-1.4015037\n",
      "-1.4010174159182305 -5.21661149367574 ϵ\n",
      "-1.4015038\n",
      "-1.400438001594735 -2.573921278988089 ϵ\n",
      "-1.4015039\n",
      "-1.4012905710929846 + 2.437170139136725 ϵ\n",
      "-1.401504\n",
      "-1.4010353153893598 -5.113987525937595 ϵ\n",
      "-1.4015041\n",
      "-1.4011521622454324 -2.3404917630984854 ϵ\n",
      "-1.4015042\n",
      "-1.401136046149336 -2.375479103174222 ϵ\n",
      "-1.4015043\n",
      "-1.4014069782770209 -2.1918068481433224 ϵ\n",
      "-1.4015044\n",
      "-1.4007893258545174 -2.7552114952386035 ϵ\n",
      "-1.4015045\n",
      "-1.4001479712096727 -1.9028607871942202 ϵ\n",
      "-1.4015046\n",
      "-1.3999672888317005 -0.8172912794020817 ϵ\n",
      "-1.4015047\n",
      "-1.4010222368249687 -5.195278205140626 ϵ\n",
      "-1.4015048\n",
      "-1.4006173748561108 + 3.1393759345485983 ϵ\n",
      "-1.4015049\n"
     ]
    }
   ],
   "source": [
    "ccc =  -1.4015:-1/10^7:-1.42\n",
    "for i in 1:50\n",
    "    d = DualNum.dual(R[1,i])\n",
    "    for j in 1:32\n",
    "        d = Qc(d, ccc[i])\n",
    "    end\n",
    "    println(d, ccc[i])\n",
    "end"
   ]
  },
  {
   "cell_type": "markdown",
   "metadata": {},
   "source": [
    "## 2\n",
    "\n",
    "Repitan el ejercicio anterior para el mapeo $S_c(x) = c \\sin(x)$. \n",
    "\n",
    "- ¿Cómo se comparan los valores obtenidos de $f_n$? \n",
    "\n",
    "- ¿Qué interpretación le pueden dar a este resultado, en comparación del ejercicio anterior?"
   ]
  },
  {
   "cell_type": "code",
   "execution_count": null,
   "metadata": {},
   "outputs": [],
   "source": []
  },
  {
   "cell_type": "markdown",
   "metadata": {},
   "source": [
    "## 3\n",
    "\n",
    "Como se ve en la Fig. 1 del diagrama de bifurcaciones de $Q_c$, $x=0$ pertenece a un ciclo de periodo $2^n$ para ciertos valores $C_n$ del parámetro. Dichos valores son *especiales*, ya que el hecho de que $x=0$ pertenezca a un ciclo de periodo $2^n$ define los llamados *ciclos superestable*, donde tenemos $(Q^{2^p}_{C_n})'(0)=0$.\n",
    "\n",
    "- ¿A qué converge la secuencia $f_n$, definida ahora a partir de los valores $C_n$.\n",
    "\n",
    "- De los $2^p$ puntos del ciclo de periodo $2^p$, es decir, $\\{0, p_1, \\dots p_{2^{n-1}}\\,\\}$ hay uno (distinto del 0) cuya distancia a 0 es la menor; a esa distancia la identificaremos como $d_n$. Calcular numéricamente a qué converge la secuencia $d_n/d_{n+1}$."
   ]
  },
  {
   "cell_type": "code",
   "execution_count": null,
   "metadata": {},
   "outputs": [],
   "source": []
  }
 ],
 "metadata": {
  "kernelspec": {
   "display_name": "Julia 1.0.0",
   "language": "julia",
   "name": "julia-1.0"
  },
  "language_info": {
   "file_extension": ".jl",
   "mimetype": "application/julia",
   "name": "julia",
   "version": "1.0.0"
  }
 },
 "nbformat": 4,
 "nbformat_minor": 1
}
