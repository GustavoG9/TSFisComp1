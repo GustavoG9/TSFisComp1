{
 "cells": [
  {
   "cell_type": "markdown",
   "metadata": {},
   "source": [
    "# Tarea 5"
   ]
  },
  {
   "cell_type": "markdown",
   "metadata": {},
   "source": [
    "**Envío del PR inicial:** 15 de octubre\n",
    "\n",
    "**Aceptación del PR:** 21 de octubre"
   ]
  },
  {
   "cell_type": "markdown",
   "metadata": {},
   "source": [
    "NOTA: Esta tarea debe entregarse en equipo."
   ]
  },
  {
   "cell_type": "markdown",
   "metadata": {},
   "source": [
    "## 1\n",
    "\n",
    "Llamemos $c_n$ el valor del parámetro $c$ donde ocurre la bifurcación de doblamiento de periodo para el mapeo $Q_c(x)=x^2+c$, donde la órbita de periodo $2^n$ nace. Como hemos visto en notebooks anteriores, tenemos que $c_0=1/4$ marca la aparición del atractor de periodo $2^0=1$, $c_1=-1/4$ corresponde a la aparición del atractor de periodo $2^1=2$, $c_2=-3/4$ a la aparición del atractor de periodo $2^2=4$, etc. \n",
    "\n",
    "A partir de estos valores y otros que calcularán (al menos deben encontrar $c_6$), definimos la secuencia: $\\{f_0, f_1, f_2, \\dots\\}$, donde\n",
    "\n",
    "\\begin{equation}\n",
    "f_n = \\frac{c_n-c_{n+1}}{c_{n+1}-c_{n+2}} .\n",
    "\\end{equation}\n",
    "\n",
    "La pregunta es, ¿a qué valor converge esta secuencia?, es decir, dar una estimación de $f_\\infty$.\n",
    "\n",
    "\n",
    "*Hint:* Para realizar este ejercicio deben calcular el atractor para varios valores de $c$, de tal manera que puedan aislar las órbitas de periodo $2^p$ y de ahí determinar varios valores $c_n$. Se requerir suficiente cuidado para obtener una buena aproximación de $c_n$. \n",
    "Una opción se basa en recordar/usar que las bifurcaciones de doblamiento de periodo ocurren cuando los puntos de la órbita de periodo $p$ se tornan en repulsores, es decir, $(Q_c^p)'(x)=-1$. Esta opción, entonces, involucra obtener los valores $c_n$ a partir de órbitas periódicas de periodo $2^n$ usando los polinomios $Q_c^{2^p}(x)$ y diferenciación automática."
   ]
  },
  {
   "cell_type": "code",
   "execution_count": 24,
   "metadata": {},
   "outputs": [
    {
     "data": {
      "text/plain": [
       "ciclosestables!"
      ]
     },
     "execution_count": 24,
     "metadata": {},
     "output_type": "execute_result"
    }
   ],
   "source": [
    "\"\"\"\n",
    "    ciclosestables!(xx, f, cc, nit, nout)\n",
    "\n",
    "Esta función itera el mapeo `f`, de una variable, `nit+nout` veces, \n",
    "usando como condición inicial `x0=0`; los últimos `nout` iterados \n",
    "actualizan al vector `xx` que tiene longitud `nout`. `cc` es el valor\n",
    "del parámetro del mapeo `f`. El mapeo `f` debe ser definido de \n",
    "tal manera que `f(x0, cc)` tenga sentido. La idea es que los últimos \n",
    "`nout` iterados reflejen los ciclos estables del mapeo `f`.\n",
    "\"\"\"\n",
    "function ciclosestables!(xx, f, cc, nit, nout)\n",
    "    @assert (nit > 0) && (nout > 0)\n",
    "    \n",
    "    # Primeros nit iterados\n",
    "    x0 = 0.0\n",
    "    for it = 1:nit\n",
    "        x0 = f(x0, cc)\n",
    "    end\n",
    "    \n",
    "    # Se guardan los siguientes nout iterados\n",
    "    for it = 1:nout\n",
    "        x0 = f(x0, cc)\n",
    "        @inbounds xx[it] = x0\n",
    "    end\n",
    "    \n",
    "    nothing\n",
    "end"
   ]
  },
  {
   "cell_type": "code",
   "execution_count": 5,
   "metadata": {},
   "outputs": [
    {
     "data": {
      "text/plain": [
       "Main.DualNum"
      ]
     },
     "execution_count": 5,
     "metadata": {},
     "output_type": "execute_result"
    }
   ],
   "source": [
    "include(\"DualNum.jl\")"
   ]
  },
  {
   "cell_type": "code",
   "execution_count": 16,
   "metadata": {},
   "outputs": [
    {
     "name": "stderr",
     "output_type": "stream",
     "text": [
      "┌ Info: Recompiling stale cache file C:\\Users\\Carlos Borja\\.julia\\compiled\\v1.0\\Plots\\ld3vC.ji for Plots [91a5bcdd-55d7-5caf-9e0b-520d859cae80]\n",
      "└ @ Base loading.jl:1184\n",
      "┌ Warning: Module Compat with build ID 1372881305922 is missing from the cache.\n",
      "│ This may mean Compat [34da2185-b29b-5c13-b0c7-acf172513d20] does not support precompilation but is imported by a module that does.\n",
      "└ @ Base loading.jl:941\n",
      "┌ Warning: Module Compat with build ID 1372881305922 is missing from the cache.\n",
      "│ This may mean Compat [34da2185-b29b-5c13-b0c7-acf172513d20] does not support precompilation but is imported by a module that does.\n",
      "└ @ Base loading.jl:941\n",
      "┌ Info: Precompiling Showoff [992d4aef-0814-514b-bc4d-f2e9a6c4116f]\n",
      "└ @ Base loading.jl:1186\n",
      "┌ Warning: Module Compat with build ID 1372881305922 is missing from the cache.\n",
      "│ This may mean Compat [34da2185-b29b-5c13-b0c7-acf172513d20] does not support precompilation but is imported by a module that does.\n",
      "└ @ Base loading.jl:941\n",
      "┌ Info: Recompiling stale cache file C:\\Users\\Carlos Borja\\.julia\\compiled\\v1.0\\StatsBase\\EZjIG.ji for StatsBase [2913bbd2-ae8a-5f71-8c99-4fb6c76f3a91]\n",
      "└ @ Base loading.jl:1184\n"
     ]
    }
   ],
   "source": [
    "using Plots"
   ]
  },
  {
   "cell_type": "code",
   "execution_count": 40,
   "metadata": {},
   "outputs": [
    {
     "data": {
      "text/plain": [
       "diag_bifurc"
      ]
     },
     "execution_count": 40,
     "metadata": {},
     "output_type": "execute_result"
    }
   ],
   "source": [
    "\"\"\"\n",
    "    diag_bifurc(f, nit, nout, crange)\n",
    "\n",
    "Itera el mapeo `f` `nit+nout` veces y regresa una matriz\n",
    "cuya columna `i` tiene los últimos `nout` iterados del mapeo\n",
    "para el valor del parámetro del mapeo `crange[i]`.\n",
    "\n",
    "La función `f` debe ser definida de tal manera que `f(x0, c)` \n",
    "tenga sentido.\n",
    "\"\"\"\n",
    "function diag_bifurc(f, nit, nout, crange)\n",
    "#     xx = Vector{Float64}(nout)\n",
    "    ff = Array{Float64,2}(undef, nout, length(crange))\n",
    "    \n",
    "    for ic in eachindex(crange)\n",
    "        c = crange[ic]\n",
    "       ciclosestables!(view(ff, :, ic), f, c, nit, nout)\n",
    "#         ff[:,ic] = xx\n",
    "    end\n",
    "    \n",
    "    return ff\n",
    "end"
   ]
  },
  {
   "cell_type": "code",
   "execution_count": 38,
   "metadata": {},
   "outputs": [
    {
     "data": {
      "text/plain": [
       "Qc (generic function with 1 method)"
      ]
     },
     "execution_count": 38,
     "metadata": {},
     "output_type": "execute_result"
    }
   ],
   "source": [
    "Qc(x,c) = x^2 + c"
   ]
  },
  {
   "cell_type": "code",
   "execution_count": 53,
   "metadata": {},
   "outputs": [
    {
     "data": {
      "text/plain": [
       "4×21 Array{Float64,2}:\n",
       " -0.529891  -0.532881  -0.535984  …  -0.595679  -0.599589  -0.603469\n",
       " -0.459216  -0.457014  -0.454674     -0.402745  -0.399048  -0.395356\n",
       " -0.529121  -0.532115  -0.535225     -0.595375  -0.599316  -0.603225\n",
       " -0.460031  -0.45783   -0.455487     -0.403107  -0.399375  -0.395651"
      ]
     },
     "execution_count": 53,
     "metadata": {},
     "output_type": "execute_result"
    }
   ],
   "source": [
    "a=-0.74:-1/2^10:-0.76\n",
    "f = diag_bifurc(Qc,100,4,a)"
   ]
  },
  {
   "cell_type": "code",
   "execution_count": 79,
   "metadata": {},
   "outputs": [
    {
     "name": "stdout",
     "output_type": "stream",
     "text": [
      "-0.45921571176780396 -1.0597816534214886 ϵ\n",
      "-0.46019227426780396 -1.0597816534214886 ϵ\n",
      "-0.46116883676780396 -1.0597816534214886 ϵ\n",
      "-0.46214539926780396 -1.0597816534214886 ϵ\n",
      "-0.46312196176780396 -1.0597816534214886 ϵ\n",
      "-0.46409852426780396 -1.0597816534214886 ϵ\n",
      "-0.46507508676780396 -1.0597816534214886 ϵ\n",
      "-0.46605164926780396 -1.0597816534214886 ϵ\n",
      "-0.46702821176780396 -1.0597816534214886 ϵ\n",
      "-0.46800477426780396 -1.0597816534214886 ϵ\n",
      "-0.46898133676780396 -1.0597816534214886 ϵ\n",
      "-0.46995789926780396 -1.0597816534214886 ϵ\n",
      "-0.47093446176780396 -1.0597816534214886 ϵ\n",
      "-0.47191102426780396 -1.0597816534214886 ϵ\n",
      "-0.47288758676780396 -1.0597816534214886 ϵ\n",
      "-0.47386414926780396 -1.0597816534214886 ϵ\n",
      "-0.47484071176780396 -1.0597816534214886 ϵ\n",
      "-0.47581727426780396 -1.0597816534214886 ϵ\n",
      "-0.47679383676780396 -1.0597816534214886 ϵ\n",
      "-0.47777039926780396 -1.0597816534214886 ϵ\n",
      "-0.47874696176780396 -1.0597816534214886 ϵ\n"
     ]
    }
   ],
   "source": [
    "for c in a\n",
    "    df = Qc(DualNum.dual(f[1]),c)\n",
    "    print(df)\n",
    "end"
   ]
  },
  {
   "cell_type": "code",
   "execution_count": 74,
   "metadata": {},
   "outputs": [
    {
     "data": {
      "text/plain": [
       "g (generic function with 1 method)"
      ]
     },
     "execution_count": 74,
     "metadata": {},
     "output_type": "execute_result"
    }
   ],
   "source": [
    "g(x) = x^2-10"
   ]
  },
  {
   "cell_type": "code",
   "execution_count": 78,
   "metadata": {},
   "outputs": [
    {
     "data": {
      "text/plain": []
     },
     "execution_count": 78,
     "metadata": {},
     "output_type": "execute_result"
    },
    {
     "name": "stdout",
     "output_type": "stream",
     "text": [
      "-9.0 + 2.0 ϵ\n"
     ]
    }
   ],
   "source": [
    "Qc(DualNum.dual(1),-10)"
   ]
  },
  {
   "cell_type": "markdown",
   "metadata": {},
   "source": [
    "## 2\n",
    "\n",
    "Repitan el ejercicio anterior para el mapeo $S_c(x) = c \\sin(x)$. \n",
    "\n",
    "- ¿Cómo se comparan los valores obtenidos de $f_n$? \n",
    "\n",
    "- ¿Qué interpretación le pueden dar a este resultado, en comparación del ejercicio anterior?"
   ]
  },
  {
   "cell_type": "code",
   "execution_count": null,
   "metadata": {},
   "outputs": [],
   "source": []
  },
  {
   "cell_type": "markdown",
   "metadata": {},
   "source": [
    "## 3\n",
    "\n",
    "Como se ve en la Fig. 1 del diagrama de bifurcaciones de $Q_c$, $x=0$ pertenece a un ciclo de periodo $2^n$ para ciertos valores $C_n$ del parámetro. Dichos valores son *especiales*, ya que el hecho de que $x=0$ pertenezca a un ciclo de periodo $2^n$ define los llamados *ciclos superestable*, donde tenemos $(Q^{2^p}_{C_n})'(0)=0$.\n",
    "\n",
    "- ¿A qué converge la secuencia $f_n$, definida ahora a partir de los valores $C_n$.\n",
    "\n",
    "- De los $2^p$ puntos del ciclo de periodo $2^p$, es decir, $\\{0, p_1, \\dots p_{2^{n-1}}\\,\\}$ hay uno (distinto del 0) cuya distancia a 0 es la menor; a esa distancia la identificaremos como $d_n$. Calcular numéricamente a qué converge la secuencia $d_n/d_{n+1}$."
   ]
  },
  {
   "cell_type": "code",
   "execution_count": null,
   "metadata": {},
   "outputs": [],
   "source": []
  }
 ],
 "metadata": {
  "kernelspec": {
   "display_name": "Julia 1.0.0",
   "language": "julia",
   "name": "julia-1.0"
  },
  "language_info": {
   "file_extension": ".jl",
   "mimetype": "application/julia",
   "name": "julia",
   "version": "1.0.0"
  }
 },
 "nbformat": 4,
 "nbformat_minor": 1
}
