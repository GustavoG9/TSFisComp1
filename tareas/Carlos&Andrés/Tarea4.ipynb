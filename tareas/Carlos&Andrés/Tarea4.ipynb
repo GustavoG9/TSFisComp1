{
 "cells": [
  {
   "cell_type": "markdown",
   "metadata": {},
   "source": [
    "# Tarea 4"
   ]
  },
  {
   "cell_type": "markdown",
   "metadata": {},
   "source": [
    "**Envío del PR inicial:** viernes 28 de septiembre\n",
    "\n",
    "**Aceptación del PR:** martes 9 de octubre"
   ]
  },
  {
   "cell_type": "code",
   "execution_count": null,
   "metadata": {},
   "outputs": [],
   "source": [
    "using Plots\n",
    "gr(grid=false)"
   ]
  },
  {
   "cell_type": "markdown",
   "metadata": {},
   "source": [
    "## 1\n",
    "\n",
    "Para el mapeo $Q_c(x) = x^2 + c$, ¿cuál es el dominio $\\cal{D}\\subset \\mathbb{R}$ de $Q_c(x)$ tal que la órbita generada por una condición inicial $x_0\\in \\cal{D}$ *no* escapa a infinito a ningún tiempo?"
   ]
  },
  {
   "cell_type": "code",
   "execution_count": null,
   "metadata": {},
   "outputs": [],
   "source": [
    "\"\"\"\n",
    "mapeo(f,xo,n)  \n",
    "f: es una función f(x) arbitraria\n",
    "xo: condición inicial\n",
    "n: número de iteraciones\n",
    "\"\"\"\n",
    "function mapeo(f,xo,n)\n",
    "    X = [xo]\n",
    "    for i in 1:n\n",
    "        xo = f(xo)\n",
    "        push!(X,xo)\n",
    "    end\n",
    "    return xo\n",
    "end"
   ]
  },
  {
   "cell_type": "code",
   "execution_count": null,
   "metadata": {},
   "outputs": [],
   "source": [
    "\"\"\"\n",
    "La función `gráfica(f,xo,n,a,b)` mapea en 2D la órbita de la función f(x)\n",
    "a partir de la condición inicial `x_o`, un número `n` de iteraciones, en el intervalo (a,b)\n",
    "\"\"\"\n",
    "function gráfica(f,xo,n, a, b)\n",
    "    rango_xo = a:1/32:b\n",
    "    \n",
    "    R = []\n",
    "    for i in 1:length(rango_xo)\n",
    "        push!(R,f(rango_xo[i]))\n",
    "    end\n",
    "    \n",
    "    min = minimum(R)\n",
    "    max = maximum(R)\n",
    "    \n",
    "    plot(rango_xo, f,\n",
    "        xaxis=(\"x\", (a, b)), \n",
    "        yaxis=((min-abs(min)/3, max+abs(max)/3), \"F(x)\"), legend = false, title = \"F(x)\", grid = false)\n",
    "    plot!(rango_xo, x->x, color = :red)\n",
    "    \n",
    "    X = [xo,xo]\n",
    "    Y = [min-abs(min)/3]\n",
    "    \n",
    "    for i in 1:n\n",
    "        push!(X, mapeo(f,xo,i))\n",
    "        push!(X, mapeo(f,xo,i))\n",
    "        push!(Y, mapeo(f,xo,i))\n",
    "        push!(Y, mapeo(f,xo,i))\n",
    "    end\n",
    "    pop!(X)\n",
    "    \n",
    "    plot!(X,Y, line = (:green, :path, 2.0, :dot), marker=(:dot, 0.5))\n",
    "end\n",
    "\n",
    "function gráfica!(f,xo,n, a, b)         #Para agregar más órbitas a la misma gráfica.\n",
    "    \n",
    "    rango_xo = a:1/32:b\n",
    "    \n",
    "    R = []\n",
    "    for i in 1:length(rango_xo)\n",
    "        push!(R,f(rango_xo[i]))\n",
    "    end\n",
    "    \n",
    "    min = minimum(R)\n",
    "    \n",
    "    X = [xo,xo]\n",
    "    Y = [min-abs(min)/3]\n",
    "    \n",
    "    for i in 1:n\n",
    "        push!(X, mapeo(f,xo,i))\n",
    "        push!(X, mapeo(f,xo,i))\n",
    "        push!(Y, mapeo(f,xo,i))\n",
    "        push!(Y, mapeo(f,xo,i))\n",
    "    end\n",
    "    pop!(X)\n",
    "    \n",
    "    plot!(X,Y, line = (:path, 2.0, :dot), marker=(:dot, 0.5))\n",
    "end"
   ]
  },
  {
   "cell_type": "code",
   "execution_count": null,
   "metadata": {},
   "outputs": [],
   "source": [
    "Qc(x,c) = x^2 + c       # Mapeo cuadrático\n",
    "\n",
    "qc1 = x -> Qc(x, -0.5)   # Mapeo cuadrático con c =  -0.5\n",
    "qc2 = x -> Qc(x, -0.25)  # Mapeo cuadrático con c = 0.25\n",
    "qc3 = x -> Qc(x, -2.1)  # Mapeo cuadrático con c =  -3.0\n",
    "qc4 = x -> Qc(x, 0.25)  #Mapeo cuadrático con c = -1.4"
   ]
  },
  {
   "cell_type": "code",
   "execution_count": null,
   "metadata": {},
   "outputs": [],
   "source": [
    "p_m = 1/2*(1+sqrt(1-4*0.25))"
   ]
  },
  {
   "cell_type": "code",
   "execution_count": null,
   "metadata": {},
   "outputs": [],
   "source": [
    "gráfica(qc4, -0.55, 20, -1,1)\n",
    "gráfica!(qc4, -0.4, 5, -3,3)\n",
    "gráfica!(qc4, 0.4, 15, -1,1)\n",
    "gráfica!(qc4, -p_m, 1, -1,1)"
   ]
  },
  {
   "cell_type": "markdown",
   "metadata": {},
   "source": [
    "Tenemos tres casos para el dominio de la condición incial, en función de $c$, tal que la órbita no escapa a infinito.\n",
    "\n",
    "Para $c > 1/4$:la órbita escapa a infinito para toda condición inicial $x_0$\n",
    "\n",
    "Para $-2 < c <= 1/4$:\n",
    "\n",
    "Si la condición inicial cumple que $|x_0| > p_+(c)$ entonces la órbita diverge a $+\\infty$\n",
    "\n",
    "Si la condición inicial es tal que $|x_0| = p_+(c)$, la órbita es \\textit{eventualmente fija}\n",
    "\n",
    "Si la condición inicial es tal que $|x_0| < p_+(c)$, la órbita se queda encerrada en el intervalo $[-p_+(c),p_+(c)]$ (no escapa a infinito). Esto no nos dice cuántos puntos atractores tiene la órbita, si son fijos, o de periodo $n$. "
   ]
  },
  {
   "cell_type": "code",
   "execution_count": null,
   "metadata": {},
   "outputs": [],
   "source": [
    "p_m1 = 1/2*(1+sqrt(1-4*-0.5))"
   ]
  },
  {
   "cell_type": "code",
   "execution_count": null,
   "metadata": {},
   "outputs": [],
   "source": [
    "gráfica(qc1, -1.0, 20, -1.5,1.5)\n",
    "gráfica!(qc1, 0.0, 5, -1.5,1.5)\n",
    "gráfica!(qc1, -1.4, 2, -1.5,1.5)\n",
    "gráfica!(qc1, -p_m1, 1, -1.5,1.5)"
   ]
  },
  {
   "cell_type": "markdown",
   "metadata": {},
   "source": [
    "Para $c < 2$, no es fácil determinar si hay dominio de no divergencia para las condiciones iniciales.\n"
   ]
  },
  {
   "cell_type": "code",
   "execution_count": null,
   "metadata": {},
   "outputs": [],
   "source": [
    "p_m2 = 1/2*(1+sqrt(1-4*-2.1))\n",
    "gráfica(qc3, -0.55, 10, -3,3)\n",
    "gráfica!(qc3, -0.3, 13, -3,3)\n",
    "gráfica!(qc3, 0.4, 12, -3,3)\n",
    "gráfica!(qc3, -p_m2, 1, -3,3)"
   ]
  },
  {
   "cell_type": "markdown",
   "metadata": {},
   "source": [
    "## 2\n",
    "\n",
    "- Obtengan el diagrama de bifurcación que se muestra en la Fig. 2 del mapeo $Q_c(x)$ a partir de la iteración de una condición inicial.\n",
    "\n",
    "- Caractericen la cuenca de atracción de $p_-(c)$ cuando el punto es estable.\n"
   ]
  },
  {
   "cell_type": "code",
   "execution_count": null,
   "metadata": {},
   "outputs": [],
   "source": [
    "function bifurcación(f, c,xo,it)\n",
    "    C = []\n",
    "    X = []\n",
    "\n",
    "    for a in c\n",
    "        for i in 1:it\n",
    "            xo = f(xo,a)\n",
    "        end\n",
    "        push!(X,xo)\n",
    "        push!(C,a)   \n",
    "    end\n",
    "    \n",
    "    plot(C,X, xaxis = (\"c\", (c[end],c[1])), yaxis = (\"X_$it\"), legend=false, title=\"x^2+c\", color=:blue)\n",
    "end"
   ]
  },
  {
   "cell_type": "code",
   "execution_count": null,
   "metadata": {},
   "outputs": [],
   "source": [
    "bifurcación((x,a)->x^2+a,0.25:-0.01:-1.0, 0.5,100000)\n",
    "plot!(-1.0:0.01:0.25,x->1/2*(1-sqrt(1-4*x)), line = (:dash), label=\"p_(c)\")"
   ]
  },
  {
   "cell_type": "markdown",
   "metadata": {},
   "source": [
    "### Cuenca de atracción\n",
    "\n",
    "El punto $p_-(c)$ es estable cuando $-3/4<c<1/4$ y su cuenca de atracción es $|x_0| < p_+(c)$"
   ]
  },
  {
   "cell_type": "markdown",
   "metadata": {},
   "source": [
    "## 3\n",
    "\n",
    "Para el mapeo $F_\\lambda(x) = \\lambda x(1-x)$, ¿qué podemos decir de la bifurcación que ocurre en $\\lambda_0=1$? ¿Es o no una bifurcación de silla-nodo?"
   ]
  },
  {
   "cell_type": "code",
   "execution_count": null,
   "metadata": {},
   "outputs": [],
   "source": [
    "gráfica(x->2.0*x*(1-x),0.5,4,-1,1)\n",
    "plot!(-1:1/32:1,x->2.0*x*(1-x))\n",
    "plot!(-1:1/32:1,x->1.0*x*(1-x))\n",
    "plot!(-1:1/32:1,x->0.1*x*(1-x))"
   ]
  },
  {
   "cell_type": "markdown",
   "metadata": {},
   "source": [
    "Para $\\lambda \\neq 1$ tenemos siempre dos puntos fijos, por tanto la bifurcación no es de silla-nodo, pues nunca se aniquilan los puntos fijos."
   ]
  },
  {
   "cell_type": "markdown",
   "metadata": {},
   "source": [
    "## 4\n",
    "\n",
    "- Obtengan numéricamente el diagrama de bifurcación del mapeo $Q_c(x)$ a partir de la iteración de una condición inicial en el intervalo de parámetros $-2<c<1/4$. Para esto se necesita iterar un gran número de veces (hasta llegar al ciclo periódico) condiciones iniciales, y repetir esto para *muchos* valores de $c$ en el intervalo. Vale la pena hacer notar que, si hay ciclos periódicos, *a priori* no conocen su periodicidad.\n",
    "\n",
    "- Para ciertos valores de $c$ característicos, muestren el análisis gráfico del mapeo $Q_c(x)$ a fin de entender los resultados.\n"
   ]
  },
  {
   "cell_type": "code",
   "execution_count": null,
   "metadata": {},
   "outputs": [],
   "source": [
    "function bifurcación1(f, c,xo,it)\n",
    "    C = []\n",
    "    X = [[],[],[],[]]\n",
    "    x1 = xo\n",
    "    for a in c\n",
    "        for j in 1:4\n",
    "            for i in 1:it-j+1\n",
    "                x1 = f(x1,a)\n",
    "            end\n",
    "            push!(X[j],x1)\n",
    "        end\n",
    "        push!(C,a)   \n",
    "    end\n",
    "    \n",
    "    scatter(C,X[1], xaxis = (\"c\", (c[end],c[1])), yaxis = (\"X_$it\"), legend=false, title=\"x^2+c\", markersize=0.05, color=:blue)\n",
    "    scatter!(C,X[2], markersize=0.05, color=:blue)\n",
    "    scatter!(C,X[3], markersize=0.05, color=:blue)\n",
    "    scatter!(C,X[4], markersize=0.05, color=:blue)\n",
    "end"
   ]
  },
  {
   "cell_type": "code",
   "execution_count": null,
   "metadata": {},
   "outputs": [],
   "source": [
    "bifurcación1((x,a)->x^2+a,0.25:-0.0001:-2.0, 0.5,1000)"
   ]
  },
  {
   "cell_type": "code",
   "execution_count": null,
   "metadata": {},
   "outputs": [],
   "source": [
    "f1 = x -> Qc(x, -2.0)\n",
    "f2 = x -> Qc(x, -1.4)\n",
    "f3 = x -> Qc(x, -0.8)"
   ]
  },
  {
   "cell_type": "code",
   "execution_count": null,
   "metadata": {},
   "outputs": [],
   "source": [
    "gráfica(f1,0.95,200,-2.5,2.5)"
   ]
  },
  {
   "cell_type": "code",
   "execution_count": null,
   "metadata": {},
   "outputs": [],
   "source": [
    "gráfica(f2,1.5,400,-1.6,1.5)"
   ]
  },
  {
   "cell_type": "markdown",
   "metadata": {},
   "source": [
    "Se nota que para $c=-2$, la órbita es densa en el intervalo.\n",
    "\n",
    "Para $c=-1.4$, se pueden ver varios puntos fijos en la órbita, no escapa a infinito.\n",
    "\n",
    "El diagrama de bifurcación nos muestra entonces el número de puntos fijos y los puntos fijos del mapeo, dependiendo de $c$.\n",
    "\n",
    "Pero la presición depende de el número de iteraciones."
   ]
  },
  {
   "cell_type": "markdown",
   "metadata": {},
   "source": [
    "## 5\n",
    "\n",
    "El objetivo de este ejercicio es relacionar, la velocidad de convergencia con que un punto fijo (o una órbita periódica, en el caso de los dos últimos incisos) atraen a puntos suficientemente cercanos, con la derivada del mapeo en el punto fijo (o ciclo periódico). La idea es, entonces, calcular primero el punto fijo y, después, medir cómo la distancia de los iterados sucesivos (de una condición inicial $x_0$) al punto fijo se comporta en el tiempo, para los siguientes mapeos:\n",
    "\n",
    "- $F(x) = x^2+0.25$\n",
    "\n",
    "- $F(x) = 3x(1-x)$\n",
    "\n",
    "- $F(x) = \\exp(x-1)$\n",
    "\n",
    "- $F(x) = x^2 - 1.25$\n",
    "\n",
    "- $F(x) = \\exp(x+1)$\n",
    "\n",
    "Deberán resolver algunas cosas intermedias. Por ejemplo, ¿qué tanto deben acercarse al punto fijo, a fin de evitar ruido numérico? ¿Qué hay que hacer en el caso en que el punto tenga una estabilidad neutra, i.e., no sea no atractivo ni repulsivo?\n",
    "\n",
    "En los dos últimos incisos, el interés está en los ciclos de periodo 2."
   ]
  },
  {
   "cell_type": "code",
   "execution_count": null,
   "metadata": {},
   "outputs": [],
   "source": [
    "F_1(x) = x^2 + 0.25\n",
    "F_2(x) = 3*x*(1-x)  #0 2/3\n",
    "F_3(x) = exp(x-1)\n",
    "F_4(x) = (x^2-1.25)^2-1.25\n",
    "F_5(x) = exp(x+1)"
   ]
  },
  {
   "cell_type": "code",
   "execution_count": null,
   "metadata": {},
   "outputs": [],
   "source": [
    "function distancia1(f,p,n)\n",
    "    D = []\n",
    "    N = []\n",
    "    xo = p + rand() - 1\n",
    "    for i in 1:n\n",
    "        xo = f(xo)\n",
    "        d = abs(xo - p)\n",
    "        push!(D,log(10,d))\n",
    "        push!(N,log(10,i))\n",
    "    end\n",
    "    plot(N,D, color=:blue, xaxis = (\"log(n)\"), yaxis=(\"log(d)\"), legend=false)\n",
    "end\n",
    "\n",
    "function distancia1!(f,p,n)\n",
    "    D = []\n",
    "    N = []\n",
    "    xo = p -1 + rand()\n",
    "    for i in 1:n\n",
    "        xo = f(xo)\n",
    "        d = abs(xo - p)\n",
    "        push!(D,log(10,d))\n",
    "        push!(N,log(10,i))\n",
    "    end\n",
    "    plot!(N,D)\n",
    "end"
   ]
  },
  {
   "cell_type": "code",
   "execution_count": null,
   "metadata": {},
   "outputs": [],
   "source": [
    "distancia1(F_1, 0.5, 10000)\n",
    "distancia1!(F_3, 1.0, 10000)\n",
    "distancia1!(F_2, 2/3, 10000)"
   ]
  },
  {
   "cell_type": "markdown",
   "metadata": {},
   "source": [
    "Las derivadas de las funciones $F_1$, $F_2$ y $F_3$ en los puntos atractivos son:\n",
    "\n",
    "$F_1'(0.5) = 1$  convergencia mostrada en curva azul de la gráfica anterior.\n",
    "\n",
    "$F_2'(2/3) = -1$  convergencia, en la curva verde.\n",
    "\n",
    "$F_3'(1) = 1$   convergencia en la curva roja."
   ]
  },
  {
   "cell_type": "code",
   "execution_count": null,
   "metadata": {},
   "outputs": [],
   "source": [
    "gráfica(x->3*x*(1-x), 0.9,10, -1,2)"
   ]
  },
  {
   "cell_type": "markdown",
   "metadata": {},
   "source": [
    "La derivada da información sobre cómo es la convergencia al punto fijo atractivo $x_a$.\n",
    "\n",
    "Si $f'(x_a)<0$ la convergencia se da de manera alterna en sucesión de puntos a la izquierda y derecha ndel punto fijo. Esta puede ser la razón de que la convergencia sea más lenta que cuando la derivada $f'(x_a)>0$. (Se observa que la convergencia es más rápida para los casos de las funciones $F_1$ y $F_3$, cuyas derivadas son $>0$)."
   ]
  },
  {
   "cell_type": "code",
   "execution_count": null,
   "metadata": {},
   "outputs": [],
   "source": [
    "gráfica(x->x^2-1.25, -1.2, 400, -1.7,1.75)"
   ]
  },
  {
   "cell_type": "markdown",
   "metadata": {},
   "source": [
    "Obervamos que el mapeo $x^2-1.25$ tiene puntos de periodo dos.\n",
    "\n",
    "Los cuáles son $p_1=-1.207107$ y $p_2=0.207107$\n",
    "\n",
    "La derivada de la función en tales puntos:\n",
    "\n",
    "$F_4'(p_1)=-2.414214$ y $F_4'(p_2)=0.414214$\n",
    "\n",
    "La órbita converge  ambos puntos con la misma rapidez."
   ]
  },
  {
   "cell_type": "code",
   "execution_count": null,
   "metadata": {},
   "outputs": [],
   "source": [
    "p_1 = -1.207107\n",
    "p_2 = 0.207107\n",
    "distancia1(F_4, p_1, 10000)\n",
    "distancia1!(F_4,p_2,10000)"
   ]
  }
 ],
 "metadata": {
  "kernelspec": {
   "display_name": "Julia 1.0.0",
   "language": "julia",
   "name": "julia-1.0"
  },
  "language_info": {
   "file_extension": ".jl",
   "mimetype": "application/julia",
   "name": "julia",
   "version": "1.0.0"
  },
  "nteract": {
   "version": "0.11.6"
  }
 },
 "nbformat": 4,
 "nbformat_minor": 1
}
