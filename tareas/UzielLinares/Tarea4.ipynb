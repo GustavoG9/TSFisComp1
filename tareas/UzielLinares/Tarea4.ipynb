{
 "cells": [
  {
   "cell_type": "markdown",
   "metadata": {},
   "source": [
    "# Tarea 4"
   ]
  },
  {
   "cell_type": "markdown",
   "metadata": {},
   "source": [
    "**Envío del PR inicial:** viernes 28 de septiembre\n",
    "\n",
    "**Aceptación del PR:** martes 9 de octubre"
   ]
  },
  {
   "cell_type": "markdown",
   "metadata": {},
   "source": [
    "## 1\n",
    "\n",
    "Para el mapeo $Q_c(x) = x^2 + c$, ¿cuál es el dominio $\\cal{D}\\subset \\mathbb{R}$ de $Q_c(x)$ tal que la órbita generada por una condición inicial $x_0\\in \\cal{D}$ *no* escapa a infinito a ningún tiempo?"
   ]
  },
  {
   "cell_type": "code",
   "execution_count": 1,
   "metadata": {
    "ExecuteTime": {
     "end_time": "2018-09-29T02:23:03.565000-05:00",
     "start_time": "2018-09-29T07:22:37.560Z"
    }
   },
   "outputs": [
    {
     "data": {
      "text/plain": [
       "Plots.PyPlotBackend()"
      ]
     },
     "execution_count": 1,
     "metadata": {},
     "output_type": "execute_result"
    }
   ],
   "source": [
    "include(\"Mapeos.jl\")\n",
    "using Mapeos\n",
    "using Plots; pyplot()"
   ]
  },
  {
   "cell_type": "code",
   "execution_count": 2,
   "metadata": {
    "ExecuteTime": {
     "end_time": "2018-09-29T02:23:07.933000-05:00",
     "start_time": "2018-09-29T07:23:07.043Z"
    }
   },
   "outputs": [
    {
     "data": {
      "text/plain": [
       "Qc (generic function with 1 method)"
      ]
     },
     "execution_count": 2,
     "metadata": {},
     "output_type": "execute_result"
    }
   ],
   "source": [
    "Qc(x, c) = x^2 + c"
   ]
  },
  {
   "cell_type": "markdown",
   "metadata": {},
   "source": [
    "Para encontrar este dominio hagamos uso del método gráfico. Para ello tomemos un conjunto de condiciones iniciales y evalúemos ahí."
   ]
  },
  {
   "cell_type": "code",
   "execution_count": 3,
   "metadata": {
    "ExecuteTime": {
     "end_time": "2018-09-29T02:23:08.165000-05:00",
     "start_time": "2018-09-29T07:23:07.973Z"
    }
   },
   "outputs": [
    {
     "data": {
      "text/plain": [
       "(::#1) (generic function with 1 method)"
      ]
     },
     "execution_count": 3,
     "metadata": {},
     "output_type": "execute_result"
    }
   ],
   "source": [
    "# Primero necesitamos fijar un Qc tal que c < 1/4\n",
    "c = 0.08\n",
    "qc1 = x -> Qc(x, c)"
   ]
  },
  {
   "cell_type": "markdown",
   "metadata": {},
   "source": [
    "Veamos quiénes son los puntos fijos bajo esta elección."
   ]
  },
  {
   "cell_type": "code",
   "execution_count": 4,
   "metadata": {
    "ExecuteTime": {
     "end_time": "2018-09-29T02:23:09.379000-05:00",
     "start_time": "2018-09-29T07:23:09.193Z"
    }
   },
   "outputs": [
    {
     "data": {
      "text/plain": [
       "p₋ (generic function with 1 method)"
      ]
     },
     "execution_count": 4,
     "metadata": {},
     "output_type": "execute_result"
    }
   ],
   "source": [
    "p₊(c) = 1/2 * (1 + sqrt(1 - 4*c))\n",
    "p₋(c) = 1/2 * (1 - sqrt(1 - 4*c))"
   ]
  },
  {
   "cell_type": "code",
   "execution_count": 5,
   "metadata": {
    "ExecuteTime": {
     "end_time": "2018-09-29T02:23:10.483000-05:00",
     "start_time": "2018-09-29T07:23:09.814Z"
    }
   },
   "outputs": [
    {
     "name": "stdout",
     "output_type": "stream",
     "text": [
      "pp = p₊(c) = 0.912310562561766\n",
      "pm = p₋(c) = 0.08768943743823399\n"
     ]
    }
   ],
   "source": [
    "@show pp = p₊(c)\n",
    "@show pm = p₋(c);"
   ]
  },
  {
   "cell_type": "code",
   "execution_count": 6,
   "metadata": {
    "ExecuteTime": {
     "end_time": "2018-09-29T02:23:11.059000-05:00",
     "start_time": "2018-09-29T07:23:10.268Z"
    }
   },
   "outputs": [
    {
     "data": {
      "text/plain": [
       "-2.0:0.2:2.0"
      ]
     },
     "execution_count": 6,
     "metadata": {},
     "output_type": "execute_result"
    }
   ],
   "source": [
    "rango = -2:0.2:2"
   ]
  },
  {
   "cell_type": "code",
   "execution_count": 7,
   "metadata": {
    "ExecuteTime": {
     "end_time": "2018-09-29T02:23:13.736000-05:00",
     "start_time": "2018-09-29T07:23:12.787Z"
    }
   },
   "outputs": [],
   "source": [
    "mapeos = [Mapeo(qc1, x0, 10) for x0 in rango];"
   ]
  },
  {
   "cell_type": "markdown",
   "metadata": {},
   "source": [
    "Primero veamos cuáles de estos mapeos divergen, para esto hagamos uso del atributo `div` de cada tipo mapeo, este atributo nos dice si el mapeo ha divergido(se ha ido a infinito) o no."
   ]
  },
  {
   "cell_type": "code",
   "execution_count": 8,
   "metadata": {
    "ExecuteTime": {
     "end_time": "2018-09-29T02:23:15.700000-05:00",
     "start_time": "2018-09-29T07:23:15.656Z"
    }
   },
   "outputs": [
    {
     "name": "stdout",
     "output_type": "stream",
     "text": [
      "x0=-2.0, div=true\n",
      "x0=-1.8, div=true\n",
      "x0=-1.6, div=true\n",
      "x0=-1.4, div=true\n",
      "x0=-1.2, div=true\n",
      "x0=-1.0, div=true\n",
      "x0=-0.8, div=false\n",
      "x0=-0.6, div=false\n",
      "x0=-0.4, div=false\n",
      "x0=-0.2, div=false\n",
      "x0=0.0, div=false\n",
      "x0=0.2, div=false\n",
      "x0=0.4, div=false\n",
      "x0=0.6, div=false\n",
      "x0=0.8, div=false\n",
      "x0=1.0, div=true\n",
      "x0=1.2, div=true\n",
      "x0=1.4, div=true\n",
      "x0=1.6, div=true\n",
      "x0=1.8, div=true\n",
      "x0=2.0, div=true\n"
     ]
    }
   ],
   "source": [
    "for m in mapeos\n",
    "    println(\"x0=$(m.x₀), div=$(m.div)\")\n",
    "end"
   ]
  },
  {
   "cell_type": "code",
   "execution_count": 9,
   "metadata": {
    "ExecuteTime": {
     "end_time": "2018-09-29T02:23:24.487000-05:00",
     "start_time": "2018-09-29T07:23:24.356Z"
    }
   },
   "outputs": [],
   "source": [
    "# Tomemos los mapeos no divergentes\n",
    "no_div = mapeos[[!m.div for m in mapeos]];"
   ]
  },
  {
   "cell_type": "code",
   "execution_count": 15,
   "metadata": {
    "ExecuteTime": {
     "end_time": "2018-09-29T02:26:14.771000-05:00",
     "start_time": "2018-09-29T07:26:14.284Z"
    }
   },
   "outputs": [
    {
     "data": {
      "image/png": "[encoded data removed]"
     },
     "execution_count": 15,
     "metadata": {},
     "output_type": "execute_result"
    }
   ],
   "source": [
    "p = grafica_mapeo(no_div[1], 10, legend=false)\n",
    "for m in no_div[2:end]\n",
    "    grafica_mapeo!(m, 10)\n",
    "end\n",
    "p\n",
    "xlims!(-2, 2)"
   ]
  },
  {
   "cell_type": "markdown",
   "metadata": {},
   "source": [
    "Para verificar que en efecto no escapan, demos aún más pasos."
   ]
  },
  {
   "cell_type": "code",
   "execution_count": 16,
   "metadata": {
    "ExecuteTime": {
     "end_time": "2018-09-29T02:31:11.162000-05:00",
     "start_time": "2018-09-29T07:31:10.849Z"
    }
   },
   "outputs": [],
   "source": [
    "mapeos = [Mapeo(qc1, x0, 50) for x0 in rango];\n",
    "no_div = mapeos[[!m.div for m in mapeos]];"
   ]
  },
  {
   "cell_type": "code",
   "execution_count": 17,
   "metadata": {
    "ExecuteTime": {
     "end_time": "2018-09-29T02:31:40.201000-05:00",
     "start_time": "2018-09-29T07:31:40.176Z"
    }
   },
   "outputs": [
    {
     "name": "stdout",
     "output_type": "stream",
     "text": [
      "x0=-2.0, div=true\n",
      "x0=-1.8, div=true\n",
      "x0=-1.6, div=true\n",
      "x0=-1.4, div=true\n",
      "x0=-1.2, div=true\n",
      "x0=-1.0, div=true\n",
      "x0=-0.8, div=false\n",
      "x0=-0.6, div=false\n",
      "x0=-0.4, div=false\n",
      "x0=-0.2, div=false\n",
      "x0=0.0, div=false\n",
      "x0=0.2, div=false\n",
      "x0=0.4, div=false\n",
      "x0=0.6, div=false\n",
      "x0=0.8, div=false\n",
      "x0=1.0, div=true\n",
      "x0=1.2, div=true\n",
      "x0=1.4, div=true\n",
      "x0=1.6, div=true\n",
      "x0=1.8, div=true\n",
      "x0=2.0, div=true\n"
     ]
    }
   ],
   "source": [
    "for m in mapeos\n",
    "    println(\"x0=$(m.x₀), div=$(m.div)\")\n",
    "end"
   ]
  },
  {
   "cell_type": "code",
   "execution_count": 18,
   "metadata": {
    "ExecuteTime": {
     "end_time": "2018-09-29T02:31:52.665000-05:00",
     "start_time": "2018-09-29T07:31:52.115Z"
    }
   },
   "outputs": [
    {
     "data": {
      "image/png": "[encoded data removed]"
     },
     "execution_count": 18,
     "metadata": {},
     "output_type": "execute_result"
    }
   ],
   "source": [
    "p = grafica_mapeo(no_div[1], 10, legend=false)\n",
    "for m in no_div[2:end]\n",
    "    grafica_mapeo!(m, 10)\n",
    "end\n",
    "p\n",
    "xlims!(-2, 2)"
   ]
  },
  {
   "cell_type": "markdown",
   "metadata": {},
   "source": [
    "En efecto, no escapan, de modo que el intervalo de confinamiento es ..."
   ]
  },
  {
   "cell_type": "markdown",
   "metadata": {},
   "source": [
    "## 2\n",
    "\n",
    "- Obtengan el diagrama de bifurcación que se muestra en la Fig. 2 del mapeo $Q_c(x)$ a partir de la iteración de una condición inicial.\n",
    "\n",
    "- Caractericen la cuenca de atracción de $p_-(c)$ cuando el punto es estable.\n"
   ]
  },
  {
   "cell_type": "markdown",
   "metadata": {},
   "source": [
    "Para obtener numéricamente el diagrama de bifurcación será necesario variar el parámetro $c$ y ver a dónde converge el mapeo dada una condición inicial $x_0$, este punto lo tomaremos como alguno que hayamos encontrado en el ejericio anterior."
   ]
  },
  {
   "cell_type": "code",
   "execution_count": 20,
   "metadata": {
    "ExecuteTime": {
     "end_time": "2018-09-29T02:57:31.962000-05:00",
     "start_time": "2018-09-29T07:57:31.958Z"
    }
   },
   "outputs": [],
   "source": [
    "x0 = no_div[rand(1:length(no_div))];"
   ]
  },
  {
   "cell_type": "code",
   "execution_count": null,
   "metadata": {},
   "outputs": [],
   "source": [
    "# Ahora un rango en c\n",
    "# Sabemos que ha de cumplir c < 1/4, entonces\n",
    "rango_c = -5:0.2:1/4\n"
   ]
  },
  {
   "cell_type": "markdown",
   "metadata": {},
   "source": [
    "## 3\n",
    "\n",
    "Para el mapeo $F_\\lambda(x) = \\lambda x(1-x)$, ¿qué podemos decir de la bifurcación que ocurre en $\\lambda_0=1$? ¿Es o no una bifurcación de silla-nodo?"
   ]
  },
  {
   "cell_type": "code",
   "execution_count": null,
   "metadata": {},
   "outputs": [],
   "source": []
  },
  {
   "cell_type": "markdown",
   "metadata": {},
   "source": [
    "## 4\n",
    "\n",
    "- Obtengan numéricamente el diagrama de bifurcación del mapeo $Q_c(x)$ a partir de la iteración de una condición inicial en el intervalo de parámetros $-2<c<1/4$. Para esto se necesita iterar un gran número de veces (hasta llegar al ciclo periódico) condiciones iniciales, y repetir esto para *muchos* valores de $c$ en el intervalo. Vale la pena hacer notar que, si hay ciclos periódicos, *a priori* no conocen su periodicidad.\n",
    "\n",
    "- Para ciertos valores de $c$ característicos, muestren el análisis gráfico del mapeo $Q_c(x)$ a fin de entender los resultados.\n"
   ]
  },
  {
   "cell_type": "code",
   "execution_count": null,
   "metadata": {},
   "outputs": [],
   "source": []
  },
  {
   "cell_type": "markdown",
   "metadata": {},
   "source": [
    "## 5\n",
    "\n",
    "El objetivo de este ejercicio es relacionar, la velocidad de convergencia con que un punto fijo (o una órbita periódica, en el caso de los dos últimos incisos) atraen a puntos suficientemente cercanos, con la derivada del mapeo en el punto fijo (o ciclo periódico). La idea es, entonces, calcular primero el punto fijo y, después, medir cómo la distancia de los iterados sucesivos (de una condición inicial $x_0$) al punto fijo se comporta en el tiempo, para los siguientes mapeos:\n",
    "\n",
    "- $F(x) = x^2+0.25$\n",
    "\n",
    "- $F(x) = 3x(1-x)$\n",
    "\n",
    "- $F(x) = \\exp(x-1)$\n",
    "\n",
    "- $F(x) = x^2 - 1.25$\n",
    "\n",
    "- $F(x) = \\exp(x+1)$\n",
    "\n",
    "Deberán resolver algunas cosas intermedias. Por ejemplo, ¿qué tanto deben acercarse al punto fijo, a fin de evitar ruido numérico? ¿Qué hay que hacer en el caso en que el punto tenga una estabilidad neutra, i.e., no sea no atractivo ni repulsivo?\n",
    "\n",
    "En los dos últimos incisos, el interés está en los ciclos de periodo 2."
   ]
  },
  {
   "cell_type": "code",
   "execution_count": null,
   "metadata": {
    "collapsed": true
   },
   "outputs": [],
   "source": []
  }
 ],
 "metadata": {
  "kernelspec": {
   "display_name": "Julia 0.6.4",
   "language": "julia",
   "name": "julia-0.6"
  },
  "language_info": {
   "file_extension": ".jl",
   "mimetype": "application/julia",
   "name": "julia",
   "version": "0.6.4"
  },
  "nteract": {
   "version": "0.11.6"
  }
 },
 "nbformat": 4,
 "nbformat_minor": 1
}
