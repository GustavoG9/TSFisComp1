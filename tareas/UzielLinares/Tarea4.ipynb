{
 "cells": [
  {
   "cell_type": "markdown",
   "metadata": {},
   "source": [
    "# Tarea 4"
   ]
  },
  {
   "cell_type": "markdown",
   "metadata": {},
   "source": [
    "**Envío del PR inicial:** viernes 28 de septiembre\n",
    "\n",
    "**Aceptación del PR:** martes 9 de octubre"
   ]
  },
  {
   "cell_type": "markdown",
   "metadata": {},
   "source": [
    "## 1\n",
    "\n",
    "Para el mapeo $Q_c(x) = x^2 + c$, ¿cuál es el dominio $\\cal{D}\\subset \\mathbb{R}$ de $Q_c(x)$ tal que la órbita generada por una condición inicial $x_0\\in \\cal{D}$ *no* escapa a infinito a ningún tiempo?"
   ]
  },
  {
   "cell_type": "code",
   "execution_count": 36,
   "metadata": {
    "ExecuteTime": {
     "end_time": "2018-10-01T12:42:29.590000-05:00",
     "start_time": "2018-10-01T17:42:29.173Z"
    }
   },
   "outputs": [
    {
     "name": "stderr",
     "output_type": "stream",
     "text": [
      "WARNING: replacing module Mapeos\n",
      "WARNING: using Mapeos.grafica_mapeo! in module Main conflicts with an existing identifier.\n",
      "WARNING: using Mapeos.grafica_mapeo in module Main conflicts with an existing identifier.\n",
      "WARNING: using Mapeos.Mapeo in module Main conflicts with an existing identifier.\n"
     ]
    },
    {
     "data": {
      "text/plain": [
       "Plots.PyPlotBackend()"
      ]
     },
     "execution_count": 36,
     "metadata": {},
     "output_type": "execute_result"
    }
   ],
   "source": [
    "include(\"Mapeos.jl\")\n",
    "using Mapeos\n",
    "using Plots; pyplot()"
   ]
  },
  {
   "cell_type": "code",
   "execution_count": 37,
   "metadata": {
    "ExecuteTime": {
     "end_time": "2018-10-01T12:42:29.595000-05:00",
     "start_time": "2018-10-01T17:42:29.393Z"
    }
   },
   "outputs": [
    {
     "data": {
      "text/plain": [
       "Qc (generic function with 1 method)"
      ]
     },
     "execution_count": 37,
     "metadata": {},
     "output_type": "execute_result"
    }
   ],
   "source": [
    "Qc(x, c) = x^2 + c"
   ]
  },
  {
   "cell_type": "markdown",
   "metadata": {},
   "source": [
    "Para encontrar este dominio hagamos uso del método gráfico. Para ello tomemos un conjunto de condiciones iniciales y evalúemos ahí."
   ]
  },
  {
   "cell_type": "code",
   "execution_count": 38,
   "metadata": {
    "ExecuteTime": {
     "end_time": "2018-10-01T12:42:29.981000-05:00",
     "start_time": "2018-10-01T17:42:29.780Z"
    }
   },
   "outputs": [
    {
     "data": {
      "text/plain": [
       "(::#31) (generic function with 1 method)"
      ]
     },
     "execution_count": 38,
     "metadata": {},
     "output_type": "execute_result"
    }
   ],
   "source": [
    "# Primero necesitamos fijar un Qc tal que c < 1/4\n",
    "c = 0.08\n",
    "qc1 = x -> Qc(x, c)"
   ]
  },
  {
   "cell_type": "markdown",
   "metadata": {},
   "source": [
    "Veamos quiénes son los puntos fijos bajo esta elección."
   ]
  },
  {
   "cell_type": "code",
   "execution_count": 39,
   "metadata": {
    "ExecuteTime": {
     "end_time": "2018-10-01T12:42:30.094000-05:00",
     "start_time": "2018-10-01T17:42:30.087Z"
    }
   },
   "outputs": [
    {
     "data": {
      "text/plain": [
       "p₋ (generic function with 1 method)"
      ]
     },
     "execution_count": 39,
     "metadata": {},
     "output_type": "execute_result"
    }
   ],
   "source": [
    "p₊(c) = 1/2 * (1 + sqrt(1 - 4*c))\n",
    "p₋(c) = 1/2 * (1 - sqrt(1 - 4*c))"
   ]
  },
  {
   "cell_type": "code",
   "execution_count": 40,
   "metadata": {
    "ExecuteTime": {
     "end_time": "2018-10-01T12:42:30.264000-05:00",
     "start_time": "2018-10-01T17:42:30.249Z"
    }
   },
   "outputs": [
    {
     "name": "stdout",
     "output_type": "stream",
     "text": [
      "pp = p₊(c) = 0.912310562561766\n",
      "pm = p₋(c) = 0.08768943743823399\n"
     ]
    }
   ],
   "source": [
    "@show pp = p₊(c)\n",
    "@show pm = p₋(c);"
   ]
  },
  {
   "cell_type": "code",
   "execution_count": 41,
   "metadata": {
    "ExecuteTime": {
     "end_time": "2018-10-01T12:42:30.404000-05:00",
     "start_time": "2018-10-01T17:42:30.400Z"
    }
   },
   "outputs": [
    {
     "data": {
      "text/plain": [
       "-2.0:0.1:2.0"
      ]
     },
     "execution_count": 41,
     "metadata": {},
     "output_type": "execute_result"
    }
   ],
   "source": [
    "rango = -2:0.1:2"
   ]
  },
  {
   "cell_type": "code",
   "execution_count": 42,
   "metadata": {
    "ExecuteTime": {
     "end_time": "2018-10-01T12:42:31.063000-05:00",
     "start_time": "2018-10-01T17:42:30.967Z"
    }
   },
   "outputs": [],
   "source": [
    "mapeos = [Mapeo(qc1, x0, 10) for x0 in rango];"
   ]
  },
  {
   "cell_type": "markdown",
   "metadata": {},
   "source": [
    "Primero veamos cuáles de estos mapeos divergen, para esto hagamos uso del atributo `div` de cada tipo mapeo, este atributo nos dice si el mapeo ha divergido(se ha ido a infinito) o no."
   ]
  },
  {
   "cell_type": "code",
   "execution_count": 43,
   "metadata": {
    "ExecuteTime": {
     "end_time": "2018-10-01T12:42:31.518000-05:00",
     "start_time": "2018-10-01T17:42:31.499Z"
    }
   },
   "outputs": [
    {
     "name": "stdout",
     "output_type": "stream",
     "text": [
      "x0=-2.0, div=true\n",
      "x0=-1.9, div=true\n",
      "x0=-1.8, div=true\n",
      "x0=-1.7, div=true\n",
      "x0=-1.6, div=true\n",
      "x0=-1.5, div=true\n",
      "x0=-1.4, div=true\n",
      "x0=-1.3, div=true\n",
      "x0=-1.2, div=true\n",
      "x0=-1.1, div=true\n",
      "x0=-1.0, div=true\n",
      "x0=-0.9, div=false\n",
      "x0=-0.8, div=false\n",
      "x0=-0.7, div=false\n",
      "x0=-0.6, div=false\n",
      "x0=-0.5, div=false\n",
      "x0=-0.4, div=false\n",
      "x0=-0.3, div=false\n",
      "x0=-0.2, div=false\n",
      "x0=-0.1, div=false\n",
      "x0=0.0, div=false\n",
      "x0=0.1, div=false\n",
      "x0=0.2, div=false\n",
      "x0=0.3, div=false\n",
      "x0=0.4, div=false\n",
      "x0=0.5, div=false\n",
      "x0=0.6, div=false\n",
      "x0=0.7, div=false\n",
      "x0=0.8, div=false\n",
      "x0=0.9, div=false\n",
      "x0=1.0, div=true\n",
      "x0=1.1, div=true\n",
      "x0=1.2, div=true\n",
      "x0=1.3, div=true\n",
      "x0=1.4, div=true\n",
      "x0=1.5, div=true\n",
      "x0=1.6, div=true\n",
      "x0=1.7, div=true\n",
      "x0=1.8, div=true\n",
      "x0=1.9, div=true\n",
      "x0=2.0, div=true\n"
     ]
    }
   ],
   "source": [
    "for m in mapeos\n",
    "    println(\"x0=$(m.x₀), div=$(m.div)\")\n",
    "end"
   ]
  },
  {
   "cell_type": "code",
   "execution_count": 44,
   "metadata": {
    "ExecuteTime": {
     "end_time": "2018-10-01T12:42:31.970000-05:00",
     "start_time": "2018-10-01T17:42:31.931Z"
    }
   },
   "outputs": [],
   "source": [
    "# Tomemos los mapeos no divergentes\n",
    "no_div = mapeos[[!m.div for m in mapeos]];"
   ]
  },
  {
   "cell_type": "code",
   "execution_count": 46,
   "metadata": {
    "ExecuteTime": {
     "end_time": "2018-10-01T12:42:39.969000-05:00",
     "start_time": "2018-10-01T17:42:39.398Z"
    }
   },
   "outputs": [
    {
     "data": {
      "image/png": "[encoded data removed]"
     },
     "execution_count": 46,
     "metadata": {},
     "output_type": "execute_result"
    }
   ],
   "source": [
    "p = grafica_mapeo(no_div[1], 1:10, legend=false)\n",
    "for m in no_div[2:end]\n",
    "    grafica_mapeo!(m, 1:10)\n",
    "end\n",
    "p\n",
    "xlims!(-2, 2)"
   ]
  },
  {
   "cell_type": "markdown",
   "metadata": {},
   "source": [
    "Para verificar que en efecto no escapan, demos aún más pasos."
   ]
  },
  {
   "cell_type": "code",
   "execution_count": 47,
   "metadata": {
    "ExecuteTime": {
     "end_time": "2018-10-01T12:42:40.239000-05:00",
     "start_time": "2018-10-01T17:42:40.148Z"
    }
   },
   "outputs": [],
   "source": [
    "mapeos = [Mapeo(qc1, x0, 50) for x0 in rango];\n",
    "no_div = mapeos[[!m.div for m in mapeos]];"
   ]
  },
  {
   "cell_type": "code",
   "execution_count": 48,
   "metadata": {
    "ExecuteTime": {
     "end_time": "2018-10-01T12:42:43.548000-05:00",
     "start_time": "2018-10-01T17:42:43.522Z"
    }
   },
   "outputs": [
    {
     "name": "stdout",
     "output_type": "stream",
     "text": [
      "x0=-2.0, div=true\n",
      "x0=-1.9, div=true\n",
      "x0=-1.8, div=true\n",
      "x0=-1.7, div=true\n",
      "x0=-1.6, div=true\n",
      "x0=-1.5, div=true\n",
      "x0=-1.4, div=true\n",
      "x0=-1.3, div=true\n",
      "x0=-1.2, div=true\n",
      "x0=-1.1, div=true\n",
      "x0=-1.0, div=true\n",
      "x0=-0.9, div=false\n",
      "x0=-0.8, div=false\n",
      "x0=-0.7, div=false\n",
      "x0=-0.6, div=false\n",
      "x0=-0.5, div=false\n",
      "x0=-0.4, div=false\n",
      "x0=-0.3, div=false\n",
      "x0=-0.2, div=false\n",
      "x0=-0.1, div=false\n",
      "x0=0.0, div=false\n",
      "x0=0.1, div=false\n",
      "x0=0.2, div=false\n",
      "x0=0.3, div=false\n",
      "x0=0.4, div=false\n",
      "x0=0.5, div=false\n",
      "x0=0.6, div=false\n",
      "x0=0.7, div=false\n",
      "x0=0.8, div=false\n",
      "x0=0.9, div=false\n",
      "x0=1.0, div=true\n",
      "x0=1.1, div=true\n",
      "x0=1.2, div=true\n",
      "x0=1.3, div=true\n",
      "x0=1.4, div=true\n",
      "x0=1.5, div=true\n",
      "x0=1.6, div=true\n",
      "x0=1.7, div=true\n",
      "x0=1.8, div=true\n",
      "x0=1.9, div=true\n",
      "x0=2.0, div=true\n"
     ]
    }
   ],
   "source": [
    "for m in mapeos\n",
    "    println(\"x0=$(m.x₀), div=$(m.div)\")\n",
    "end"
   ]
  },
  {
   "cell_type": "code",
   "execution_count": 49,
   "metadata": {
    "ExecuteTime": {
     "end_time": "2018-10-01T12:42:53.167000-05:00",
     "start_time": "2018-10-01T17:42:52.598Z"
    }
   },
   "outputs": [
    {
     "data": {
      "image/png": "[encoded data removed]"
     },
     "execution_count": 49,
     "metadata": {},
     "output_type": "execute_result"
    }
   ],
   "source": [
    "p = grafica_mapeo(no_div[1], 1:10, legend=false)\n",
    "for m in no_div[2:end]\n",
    "    grafica_mapeo!(m, 1:10)\n",
    "end\n",
    "p\n",
    "xlims!(-2, 2)"
   ]
  },
  {
   "cell_type": "markdown",
   "metadata": {},
   "source": [
    "En efecto, no escapan, de modo que el intervalo de confinamiento es ..."
   ]
  },
  {
   "cell_type": "markdown",
   "metadata": {},
   "source": [
    "## 2\n",
    "\n",
    "- Obtengan el diagrama de bifurcación que se muestra en la Fig. 2 del mapeo $Q_c(x)$ a partir de la iteración de una condición inicial.\n",
    "\n",
    "- Caractericen la cuenca de atracción de $p_-(c)$ cuando el punto es estable.\n"
   ]
  },
  {
   "cell_type": "markdown",
   "metadata": {},
   "source": [
    "Para obtener numéricamente el diagrama de bifurcación será necesario variar el parámetro $c$ y ver a dónde converge el mapeo dada una condición inicial $x_0$, este punto lo tomaremos como alguno que hayamos encontrado en el ejericio anterior."
   ]
  },
  {
   "cell_type": "code",
   "execution_count": 50,
   "metadata": {
    "ExecuteTime": {
     "end_time": "2018-10-01T12:42:56.030000-05:00",
     "start_time": "2018-10-01T17:42:56.027Z"
    }
   },
   "outputs": [],
   "source": [
    "x0 = 0; # Por simplicidad tomemos el 0"
   ]
  },
  {
   "cell_type": "code",
   "execution_count": 51,
   "metadata": {
    "ExecuteTime": {
     "end_time": "2018-10-01T12:42:56.660000-05:00",
     "start_time": "2018-10-01T17:42:56.614Z"
    }
   },
   "outputs": [],
   "source": [
    "# Ahora un rango en c\n",
    "# Sabemos que ha de cumplir c < 1/4, entonces\n",
    "rango_c = -5:0.05:1/4\n",
    "Fs = [x -> Qc(x, c) for c in rango_c]; # Un arreglo con distintas funciones para distintas c"
   ]
  },
  {
   "cell_type": "code",
   "execution_count": 52,
   "metadata": {
    "ExecuteTime": {
     "end_time": "2018-10-01T12:42:57.718000-05:00",
     "start_time": "2018-10-01T17:42:57.607Z"
    }
   },
   "outputs": [],
   "source": [
    "mapeos = [Mapeo(f, x0, 100) for f in Fs];"
   ]
  },
  {
   "cell_type": "code",
   "execution_count": 53,
   "metadata": {
    "ExecuteTime": {
     "end_time": "2018-10-01T12:42:58.154000-05:00",
     "start_time": "2018-10-01T17:42:58.116Z"
    }
   },
   "outputs": [],
   "source": [
    "mask = [!m.div for m in mapeos] ;# esto es un vector de true donde son convergentes"
   ]
  },
  {
   "cell_type": "code",
   "execution_count": 54,
   "metadata": {
    "ExecuteTime": {
     "end_time": "2018-10-01T12:42:58.999000-05:00",
     "start_time": "2018-10-01T17:42:58.996Z"
    }
   },
   "outputs": [],
   "source": [
    "no_div = mapeos[mask]\n",
    "rango_c_nodiv = rango_c[mask];"
   ]
  },
  {
   "cell_type": "code",
   "execution_count": 55,
   "metadata": {
    "ExecuteTime": {
     "end_time": "2018-10-01T12:42:59.340000-05:00",
     "start_time": "2018-10-01T17:42:59.304Z"
    }
   },
   "outputs": [],
   "source": [
    "c_estables = [c for c in rango_c_nodiv];"
   ]
  },
  {
   "cell_type": "code",
   "execution_count": 56,
   "metadata": {
    "ExecuteTime": {
     "end_time": "2018-10-01T12:42:59.782000-05:00",
     "start_time": "2018-10-01T17:42:59.746Z"
    }
   },
   "outputs": [],
   "source": [
    "c_estables = []\n",
    "δ = 0.001 # Hay que tomar una delta, puesto que no siempre se va a estar \"justo\" en el punto\n",
    "for (i, m) in enumerate(no_div)\n",
    "    abs(m.xnn[end] - p₋(rango_c_nodiv[i])) < δ ? push!(c_estables, rango_c_nodiv[i]): nothing\n",
    "end"
   ]
  },
  {
   "cell_type": "code",
   "execution_count": 57,
   "metadata": {
    "ExecuteTime": {
     "end_time": "2018-10-01T12:43:02.665000-05:00",
     "start_time": "2018-10-01T17:43:02.441Z"
    }
   },
   "outputs": [
    {
     "data": {
      "image/png": "[encoded data removed]"
     },
     "execution_count": 57,
     "metadata": {},
     "output_type": "execute_result"
    }
   ],
   "source": [
    "scatter(c_estables, p₋, xlabel=\"c\", ylabel=\"p(c)\")\n",
    "xlims!(-2, 1); ylims!(-1, 2)"
   ]
  },
  {
   "cell_type": "markdown",
   "metadata": {},
   "source": [
    "## 3\n",
    "\n",
    "Para el mapeo $F_\\lambda(x) = \\lambda x(1-x)$, ¿qué podemos decir de la bifurcación que ocurre en $\\lambda_0=1$? ¿Es o no una bifurcación de silla-nodo?"
   ]
  },
  {
   "cell_type": "code",
   "execution_count": 58,
   "metadata": {
    "ExecuteTime": {
     "end_time": "2018-10-01T12:43:04.465000-05:00",
     "start_time": "2018-10-01T17:43:04.461Z"
    }
   },
   "outputs": [
    {
     "data": {
      "text/plain": [
       "Fₗ (generic function with 1 method)"
      ]
     },
     "execution_count": 58,
     "metadata": {},
     "output_type": "execute_result"
    }
   ],
   "source": [
    "Fₗ(λ, x) = λ * x * (1 - x)"
   ]
  },
  {
   "cell_type": "code",
   "execution_count": 59,
   "metadata": {
    "ExecuteTime": {
     "end_time": "2018-10-01T12:43:05.012000-05:00",
     "start_time": "2018-10-01T17:43:04.873Z"
    }
   },
   "outputs": [
    {
     "data": {
      "text/plain": [
       "(::#51) (generic function with 1 method)"
      ]
     },
     "execution_count": 59,
     "metadata": {},
     "output_type": "execute_result"
    }
   ],
   "source": [
    "λ₀ = 1\n",
    "f1 = x -> Fₗ(λ₀, x)"
   ]
  },
  {
   "cell_type": "markdown",
   "metadata": {},
   "source": [
    "Para este mapeo se ha de cumplir que su gráfica es tangente a la diagonal en $x_0$, veamos si es así."
   ]
  },
  {
   "cell_type": "code",
   "execution_count": 60,
   "metadata": {
    "ExecuteTime": {
     "end_time": "2018-10-01T12:43:07.089000-05:00",
     "start_time": "2018-10-01T17:43:06.234Z"
    }
   },
   "outputs": [
    {
     "data": {
      "image/png": "[encoded data removed]"
     },
     "execution_count": 60,
     "metadata": {},
     "output_type": "execute_result"
    }
   ],
   "source": [
    "plot(-10:0.02:10, f1)\n",
    "plot!(x->x)"
   ]
  },
  {
   "cell_type": "markdown",
   "metadata": {},
   "source": [
    "Matemáticamente se tiene que cumplir la igualdad\n",
    "$$\n",
    "F_{\\lambda_0}(x)=x-x^2=x\\\\\n",
    "\\Rightarrow -x^2=0\\Rightarrow x=0\n",
    "$$"
   ]
  },
  {
   "cell_type": "markdown",
   "metadata": {},
   "source": [
    "Veamos que hace este punto."
   ]
  },
  {
   "cell_type": "code",
   "execution_count": 61,
   "metadata": {
    "ExecuteTime": {
     "end_time": "2018-10-01T12:43:08.976000-05:00",
     "start_time": "2018-10-01T17:43:08.926Z"
    }
   },
   "outputs": [],
   "source": [
    "x0 = 0 + rand()\n",
    "mapeo = Mapeo(f1, x0, 20);"
   ]
  },
  {
   "cell_type": "code",
   "execution_count": 62,
   "metadata": {
    "ExecuteTime": {
     "end_time": "2018-10-01T12:43:13.640000-05:00",
     "start_time": "2018-10-01T17:43:13.379Z"
    }
   },
   "outputs": [
    {
     "data": {
      "image/png": "[encoded data removed]"
     },
     "execution_count": 62,
     "metadata": {},
     "output_type": "execute_result"
    }
   ],
   "source": [
    "grafica_mapeo(mapeo, 1:20)\n",
    "xlims!(-5,5)"
   ]
  },
  {
   "cell_type": "markdown",
   "metadata": {},
   "source": [
    "Tal parece que el punto neutral atrae."
   ]
  },
  {
   "cell_type": "markdown",
   "metadata": {},
   "source": [
    "## 4\n",
    "\n",
    "- Obtengan numéricamente el diagrama de bifurcación del mapeo $Q_c(x)$ a partir de la iteración de una condición inicial en el intervalo de parámetros $-2<c<1/4$. Para esto se necesita iterar un gran número de veces (hasta llegar al ciclo periódico) condiciones iniciales, y repetir esto para *muchos* valores de $c$ en el intervalo. Vale la pena hacer notar que, si hay ciclos periódicos, *a priori* no conocen su periodicidad.\n",
    "\n",
    "- Para ciertos valores de $c$ característicos, muestren el análisis gráfico del mapeo $Q_c(x)$ a fin de entender los resultados.\n"
   ]
  },
  {
   "cell_type": "code",
   "execution_count": 63,
   "metadata": {
    "ExecuteTime": {
     "end_time": "2018-10-01T12:43:16.207000-05:00",
     "start_time": "2018-10-01T17:43:16.164Z"
    }
   },
   "outputs": [],
   "source": [
    "rango_c = -2:0.001:1/4\n",
    "Fs = [x -> Qc(x, c) for c in rango_c];"
   ]
  },
  {
   "cell_type": "code",
   "execution_count": 64,
   "metadata": {
    "ExecuteTime": {
     "end_time": "2018-10-01T12:43:17.361000-05:00",
     "start_time": "2018-10-01T17:43:16.752Z"
    }
   },
   "outputs": [],
   "source": [
    "srand(42)\n",
    "x₀ = rand(-2:0.001:1/4)\n",
    "mapeos = [Mapeo(F, x₀, 1000) for F in Fs];"
   ]
  },
  {
   "cell_type": "code",
   "execution_count": 70,
   "metadata": {
    "ExecuteTime": {
     "end_time": "2018-10-01T12:45:44.873000-05:00",
     "start_time": "2018-10-01T17:45:43.770Z"
    }
   },
   "outputs": [
    {
     "data": {
      "text/plain": [
       "2251-element Array{Array{Float64,1},1}:\n",
       " [-1.99808, 1.99233, 1.96938, 1.87847, 1.52865, 0.336782, -1.88658, 1.55918, 0.43103, -1.81421  …  -1.32044, -0.256433, -1.93424, 1.74129, 1.0321, -0.934766, -1.12621, -0.731646, -1.46469, 0.145329]    \n",
       " [-0.000936071, -1.999, 1.997, 1.989, 1.95712, 1.83131, 1.35469, -0.163827, -1.97216, 1.89042  …  -1.1904, -0.581945, -1.66034, 0.757728, -1.42485, 0.0311921, -1.99803, 1.99311, 1.9735, 1.89569]        \n",
       " [1.63073, 0.661272, -1.56072, 0.437846, -1.80629, 1.26469, -0.398565, -1.83915, 1.38446, -0.0812804  …  1.29458, -0.32205, -1.89428, 1.59031, 0.53109, -1.71594, 0.946461, -1.10221, -0.783132, -1.38471]\n",
       " [1.08338, -0.823283, -1.3192, -0.2567, -1.93111, 1.73217, 1.0034, -0.990182, -1.01654, -0.963648  …  1.08155, -0.827248, -1.31266, -0.273924, -1.92197, 1.69695, 0.882648, -1.21793, -0.51364, -1.73317] \n",
       " [-1.75978, 1.10081, -0.784217, -1.381, -0.0888294, -1.98811, 1.95658, 1.8322, 1.36096, -0.143793  …  1.98401, 1.94031, 1.76879, 1.13263, -0.71315, -1.48742, 0.216408, -1.94917, 1.80325, 1.25573]       \n",
       " [-1.7783, 1.16735, -0.6323, -1.5952, 0.549652, -1.69288, 0.870852, -1.23662, -0.465777, -1.77805  …  -1.76939, 1.13575, -0.705081, -1.49786, 0.248588, -1.9332, 1.74228, 1.04053, -0.912295, -1.16272]   \n",
       " [1.96786, 1.87847, 1.53465, 0.361152, -1.86357, 1.47889, 0.193115, -1.95671, 1.8347, 1.37213  …  1.69325, 0.873107, -1.23168, -0.476954, -1.76651, 1.12657, -0.724831, -1.46862, 0.162846, -1.96748]     \n",
       " [-1.96053, 1.85066, 1.43196, 0.0575109, -1.98969, 1.96588, 1.87167, 1.51015, 0.287542, -1.91032  …  0.66301, -1.55342, 0.420107, -1.81651, 1.30671, -0.285515, -1.91148, 1.66076, 0.765124, -1.40759]    \n",
       " [-0.122449, -1.97701, 1.91655, 1.68118, 0.834357, -1.29585, -0.312777, -1.89417, 1.59588, 0.554836  …  0.740719, -1.44334, 0.0912159, -1.98368, 1.94298, 1.78319, 1.18777, -0.581206, -1.6542, 0.744378] \n",
       " [1.42837, 0.0492396, -1.98858, 1.96343, 1.86407, 1.48374, 0.210497, -1.94669, 1.79861, 1.24398  …  -0.764239, -1.40694, -0.0115213, -1.99087, 1.97255, 1.89996, 1.61886, 0.629707, -1.59447, 0.55133]    \n",
       " [1.90065, 1.62248, 0.642427, -1.57729, 0.497837, -1.74216, 1.04512, -0.897733, -1.18408, -0.587966  …  -1.93913, 1.77022, 1.14367, -0.682017, -1.52485, 0.335174, -1.87766, 1.5356, 0.368069, -1.85452]  \n",
       " [1.96595, 1.87595, 1.5302, 0.352506, -1.86474, 1.48825, 0.225898, -1.93797, 1.76673, 1.13233  …  -0.195887, -1.95063, 1.81595, 1.30868, -0.276365, -1.91262, 1.66912, 0.796976, -1.35383, -0.156147]     \n",
       " [-0.848131, -1.26867, -0.378469, -1.84476, 1.41515, 0.0146362, -1.98779, 1.96329, 1.86652, 1.49588  …  0.0438079, -1.98608, 1.95652, 1.83996, 1.39745, -0.035129, -1.98677, 1.95924, 1.85062, 1.43678]   \n",
       " ⋮                                                                                                                                                                                                        \n",
       " [Inf, Inf, Inf, Inf, Inf, Inf, Inf, Inf, Inf, Inf  …  Inf, Inf, Inf, Inf, Inf, Inf, Inf, Inf, Inf, Inf]                                                                                                  \n",
       " [Inf, Inf, Inf, Inf, Inf, Inf, Inf, Inf, Inf, Inf  …  Inf, Inf, Inf, Inf, Inf, Inf, Inf, Inf, Inf, Inf]                                                                                                  \n",
       " [Inf, Inf, Inf, Inf, Inf, Inf, Inf, Inf, Inf, Inf  …  Inf, Inf, Inf, Inf, Inf, Inf, Inf, Inf, Inf, Inf]                                                                                                  \n",
       " [Inf, Inf, Inf, Inf, Inf, Inf, Inf, Inf, Inf, Inf  …  Inf, Inf, Inf, Inf, Inf, Inf, Inf, Inf, Inf, Inf]                                                                                                  \n",
       " [Inf, Inf, Inf, Inf, Inf, Inf, Inf, Inf, Inf, Inf  …  Inf, Inf, Inf, Inf, Inf, Inf, Inf, Inf, Inf, Inf]                                                                                                  \n",
       " [Inf, Inf, Inf, Inf, Inf, Inf, Inf, Inf, Inf, Inf  …  Inf, Inf, Inf, Inf, Inf, Inf, Inf, Inf, Inf, Inf]                                                                                                  \n",
       " [Inf, Inf, Inf, Inf, Inf, Inf, Inf, Inf, Inf, Inf  …  Inf, Inf, Inf, Inf, Inf, Inf, Inf, Inf, Inf, Inf]                                                                                                  \n",
       " [Inf, Inf, Inf, Inf, Inf, Inf, Inf, Inf, Inf, Inf  …  Inf, Inf, Inf, Inf, Inf, Inf, Inf, Inf, Inf, Inf]                                                                                                  \n",
       " [Inf, Inf, Inf, Inf, Inf, Inf, Inf, Inf, Inf, Inf  …  Inf, Inf, Inf, Inf, Inf, Inf, Inf, Inf, Inf, Inf]                                                                                                  \n",
       " [Inf, Inf, Inf, Inf, Inf, Inf, Inf, Inf, Inf, Inf  …  Inf, Inf, Inf, Inf, Inf, Inf, Inf, Inf, Inf, Inf]                                                                                                  \n",
       " [Inf, Inf, Inf, Inf, Inf, Inf, Inf, Inf, Inf, Inf  …  Inf, Inf, Inf, Inf, Inf, Inf, Inf, Inf, Inf, Inf]                                                                                                  \n",
       " [Inf, Inf, Inf, Inf, Inf, Inf, Inf, Inf, Inf, Inf  …  Inf, Inf, Inf, Inf, Inf, Inf, Inf, Inf, Inf, Inf]                                                                                                  "
      ]
     },
     "execution_count": 70,
     "metadata": {},
     "output_type": "execute_result"
    }
   ],
   "source": [
    "ps = [m.xnn[end-100:end] for m in mapeos];"
   ]
  },
  {
   "cell_type": "code",
   "execution_count": 31,
   "metadata": {
    "ExecuteTime": {
     "end_time": "2018-10-01T12:41:56.337000-05:00",
     "start_time": "2018-10-01T17:40:54.544Z"
    }
   },
   "outputs": [
    {
     "ename": "LoadError",
     "evalue": "\u001b[91mNo user recipe defined for Float64\u001b[39m",
     "output_type": "error",
     "traceback": [
      "\u001b[91mNo user recipe defined for Float64\u001b[39m",
      "",
      "Stacktrace:",
      " [1] \u001b[1mmacro expansion\u001b[22m\u001b[22m at \u001b[1m/Users/uzielnmtz/.julia/v0.6/Plots/src/series.jl:131\u001b[22m\u001b[22m [inlined]",
      " [2] \u001b[1mapply_recipe\u001b[22m\u001b[22m\u001b[1m(\u001b[22m\u001b[22m::Dict{Symbol,Any}, ::Type{Plots.SliceIt}, ::Float64, ::Float64, ::Void\u001b[1m)\u001b[22m\u001b[22m at \u001b[1m/Users/uzielnmtz/.julia/v0.6/RecipesBase/src/RecipesBase.jl:291\u001b[22m\u001b[22m",
      " [3] \u001b[1m_process_userrecipes\u001b[22m\u001b[22m\u001b[1m(\u001b[22m\u001b[22m::Plots.Plot{Plots.PyPlotBackend}, ::Dict{Symbol,Any}, ::Tuple{Mapeos.grafica_mapeo}\u001b[1m)\u001b[22m\u001b[22m at \u001b[1m/Users/uzielnmtz/.julia/v0.6/Plots/src/pipeline.jl:81\u001b[22m\u001b[22m",
      " [4] \u001b[1m_plot!\u001b[22m\u001b[22m\u001b[1m(\u001b[22m\u001b[22m::Plots.Plot{Plots.PyPlotBackend}, ::Dict{Symbol,Any}, ::Tuple{Mapeos.grafica_mapeo}\u001b[1m)\u001b[22m\u001b[22m at \u001b[1m/Users/uzielnmtz/.julia/v0.6/Plots/src/plot.jl:179\u001b[22m\u001b[22m",
      " [5] \u001b[1m#grafica_mapeo#2\u001b[22m\u001b[22m\u001b[1m(\u001b[22m\u001b[22m::Array{Any,1}, ::Type{T} where T, ::Mapeos.Mapeo, ::Vararg{Any,N} where N\u001b[1m)\u001b[22m\u001b[22m at \u001b[1m/Users/uzielnmtz/.julia/v0.6/RecipesBase/src/RecipesBase.jl:367\u001b[22m\u001b[22m",
      " [6] \u001b[1mMapeos.grafica_mapeo\u001b[22m\u001b[22m\u001b[1m(\u001b[22m\u001b[22m::Mapeos.Mapeo, ::Int64\u001b[1m)\u001b[22m\u001b[22m at \u001b[1m/Users/uzielnmtz/.julia/v0.6/RecipesBase/src/RecipesBase.jl:367\u001b[22m\u001b[22m",
      " [7] \u001b[1minclude_string\u001b[22m\u001b[22m\u001b[1m(\u001b[22m\u001b[22m::String, ::String\u001b[1m)\u001b[22m\u001b[22m at \u001b[1m./loading.jl:522\u001b[22m\u001b[22m",
      " [8] \u001b[1mexecute_request\u001b[22m\u001b[22m\u001b[1m(\u001b[22m\u001b[22m::ZMQ.Socket, ::IJulia.Msg\u001b[1m)\u001b[22m\u001b[22m at \u001b[1m/Users/uzielnmtz/.julia/v0.6/IJulia/src/execute_request.jl:193\u001b[22m\u001b[22m",
      " [9] \u001b[1m(::Compat.#inner#6{Array{Any,1},IJulia.#execute_request,Tuple{ZMQ.Socket,IJulia.Msg}})\u001b[22m\u001b[22m\u001b[1m(\u001b[22m\u001b[22m\u001b[1m)\u001b[22m\u001b[22m at \u001b[1m/Users/uzielnmtz/.julia/v0.6/Compat/src/Compat.jl:189\u001b[22m\u001b[22m",
      " [10] \u001b[1meventloop\u001b[22m\u001b[22m\u001b[1m(\u001b[22m\u001b[22m::ZMQ.Socket\u001b[1m)\u001b[22m\u001b[22m at \u001b[1m/Users/uzielnmtz/.julia/v0.6/IJulia/src/eventloop.jl:8\u001b[22m\u001b[22m",
      " [11] \u001b[1m(::IJulia.##13#16)\u001b[22m\u001b[22m\u001b[1m(\u001b[22m\u001b[22m\u001b[1m)\u001b[22m\u001b[22m at \u001b[1m./task.jl:335\u001b[22m\u001b[22m"
     ]
    }
   ],
   "source": [
    "scatter(rango_c, mapeos)"
   ]
  },
  {
   "cell_type": "markdown",
   "metadata": {},
   "source": [
    "## 5\n",
    "\n",
    "El objetivo de este ejercicio es relacionar, la velocidad de convergencia con que un punto fijo (o una órbita periódica, en el caso de los dos últimos incisos) atraen a puntos suficientemente cercanos, con la derivada del mapeo en el punto fijo (o ciclo periódico). La idea es, entonces, calcular primero el punto fijo y, después, medir cómo la distancia de los iterados sucesivos (de una condición inicial $x_0$) al punto fijo se comporta en el tiempo, para los siguientes mapeos:\n",
    "\n",
    "- $F(x) = x^2+0.25$\n",
    "\n",
    "- $F(x) = 3x(1-x)$\n",
    "\n",
    "- $F(x) = \\exp(x-1)$\n",
    "\n",
    "- $F(x) = x^2 - 1.25$\n",
    "\n",
    "- $F(x) = \\exp(x+1)$\n",
    "\n",
    "Deberán resolver algunas cosas intermedias. Por ejemplo, ¿qué tanto deben acercarse al punto fijo, a fin de evitar ruido numérico? ¿Qué hay que hacer en el caso en que el punto tenga una estabilidad neutra, i.e., no sea no atractivo ni repulsivo?\n",
    "\n",
    "En los dos últimos incisos, el interés está en los ciclos de periodo 2."
   ]
  },
  {
   "cell_type": "code",
   "execution_count": null,
   "metadata": {},
   "outputs": [],
   "source": []
  }
 ],
 "metadata": {
  "kernelspec": {
   "display_name": "Julia 0.6.4",
   "language": "julia",
   "name": "julia-0.6"
  },
  "language_info": {
   "file_extension": ".jl",
   "mimetype": "application/julia",
   "name": "julia",
   "version": "0.6.4"
  },
  "nteract": {
   "version": "0.11.6"
  }
 },
 "nbformat": 4,
 "nbformat_minor": 1
}
