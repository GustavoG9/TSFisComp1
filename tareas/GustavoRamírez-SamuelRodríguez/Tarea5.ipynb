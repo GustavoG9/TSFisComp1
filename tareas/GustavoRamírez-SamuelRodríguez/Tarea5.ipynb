{
 "cells": [
  {
   "cell_type": "markdown",
   "metadata": {},
   "source": [
    "# Tarea 5"
   ]
  },
  {
   "cell_type": "markdown",
   "metadata": {},
   "source": [
    "**Envío del PR inicial:** 15 de octubre\n",
    "\n",
    "**Aceptación del PR:** 21 de octubre"
   ]
  },
  {
   "cell_type": "markdown",
   "metadata": {},
   "source": [
    "NOTA: Esta tarea debe entregarse en equipo."
   ]
  },
  {
   "cell_type": "markdown",
   "metadata": {},
   "source": [
    "## 1\n",
    "\n",
    "Llamemos $c_n$ el valor del parámetro $c$ donde ocurre la bifurcación de doblamiento de periodo para el mapeo $Q_c(x)=x^2+c$, donde la órbita de periodo $2^n$ nace. Como hemos visto en notebooks anteriores, tenemos que $c_0=1/4$ marca la aparición del atractor de periodo $2^0=1$, $c_1=-1/4$ corresponde a la aparición del atractor de periodo $2^1=2$, $c_2=-3/4$ a la aparición del atractor de periodo $2^2=4$, etc. \n",
    "\n",
    "A partir de estos valores y otros que calcularán (al menos deben encontrar $c_6$), definimos la secuencia: $\\{f_0, f_1, f_2, \\dots\\}$, donde\n",
    "\n",
    "\\begin{equation}\n",
    "f_n = \\frac{c_n-c_{n+1}}{c_{n+1}-c_{n+2}} .\n",
    "\\end{equation}\n",
    "\n",
    "La pregunta es, ¿a qué valor converge esta secuencia?, es decir, dar una estimación de $f_\\infty$.\n",
    "\n",
    "\n",
    "*Hint:* Para realizar este ejercicio deben calcular el atractor para varios valores de $c$, de tal manera que puedan aislar las órbitas de periodo $2^p$ y de ahí determinar varios valores $c_n$. Se requerir suficiente cuidado para obtener una buena aproximación de $c_n$. \n",
    "Una opción se basa en recordar/usar que las bifurcaciones de doblamiento de periodo ocurren cuando los puntos de la órbita de periodo $p$ se tornan en repulsores, es decir, $(Q_c^p)'(x)=-1$. Esta opción, entonces, involucra obtener los valores $c_n$ a partir de órbitas periódicas de periodo $2^n$ usando los polinomios $Q_c^{2^p}(x)$ y diferenciación automática."
   ]
  },
  {
   "cell_type": "code",
   "execution_count": 4,
   "metadata": {},
   "outputs": [],
   "source": [
    "using LaTeXStrings\n",
    "using PyPlot"
   ]
  },
  {
   "cell_type": "markdown",
   "metadata": {},
   "source": [
    "Agregaremos un par de herramientas de notebooks anteriores."
   ]
  },
  {
   "cell_type": "code",
   "execution_count": 5,
   "metadata": {},
   "outputs": [
    {
     "data": {
      "text/plain": [
       "soluciones"
      ]
     },
     "execution_count": 5,
     "metadata": {},
     "output_type": "execute_result"
    }
   ],
   "source": [
    "#\"Módulo\" Diferenciación Automática\n",
    "import Base: +, -, *, /, ^\n",
    "import Base.show\n",
    "import Base: sqrt, exp, log, sin, cos, sinh, cosh\n",
    "\n",
    "\"\"\"\n",
    "    Dual\n",
    "\n",
    "Definición de los números duales. Los campos internos son\n",
    "    x  :: Float64   # valor de la función\n",
    "    x′ :: Float64   # valor de su derivada\n",
    "\n",
    "\"\"\"\n",
    "struct Dual\n",
    "    x  :: Float64\n",
    "    x′ :: Float64\n",
    "end\n",
    "\n",
    "Dual(c::Real) = Dual(c, 0.0)\n",
    "dual(x0::Real) = Dual(x0, 1.0)\n",
    "\n",
    "+(u::Dual, v::Dual) = Dual( u.x + v.x, u.x′ + v.x′)\n",
    "\n",
    "-(u::Dual, v::Dual) = Dual( u.x - v.x, u.x′ - v.x′)\n",
    "\n",
    "*(u::Dual, v::Dual) = Dual( u.x * v.x, u.x * v.x′ + u.x′ * v.x)\n",
    "\n",
    "function /(u::Dual, v::Dual)\n",
    "    y = u.x / v.x\n",
    "    Dual( y, (u.x′ - y * v.x′)/v.x )\n",
    "end\n",
    "\n",
    "function ^(a::Dual, n::Int)\n",
    "    y = a.x^(n-1)\n",
    "    Dual(a.x * y, n*y*a.x′)\n",
    "end\n",
    "\n",
    "#+\n",
    "+(a::Real, u::Dual) = Dual( a + u.x, u.x′)\n",
    "+(u::Dual, a::Real) = Dual( a + u.x, u.x′)\n",
    "#-\n",
    "-(a::Real, u::Dual) = Dual( a - u.x, -u.x′)\n",
    "-(u::Dual, a::Real) = Dual( u.x - a, u.x′)\n",
    "#*\n",
    "*(a::Real, u::Dual) = Dual(u.x*a,u.x′*a)\n",
    "*(u::Dual, a::Real) = Dual(u.x*a,u.x′*a)\n",
    "#/\n",
    "function /(a::Real,u::Dual)\n",
    "    y = a / u.x\n",
    "    Dual( y, (-y * u.x′)/u.x )\n",
    "end\n",
    "/(u::Dual, a::Real)=Dual( u.x/a, u.x′/a )\n",
    "\n",
    "function show(u::Dual)\n",
    "    print(string(u.x)*\" + \"*string(u.x′)*\"ε\")\n",
    "end\n",
    "\n",
    "sqrt(u::Dual)=Dual(sqrt(u.x),u.x′/(2*sqrt(u.x)))\n",
    "exp(u::Dual)=Dual(exp(u.x),u.x′*exp(u.x))\n",
    "log(u::Dual)=Dual(log(u.x),u.x′/u.x)\n",
    "sin(u::Dual)=Dual(sin(u.x),u.x′*cos(u.x))\n",
    "cos(u::Dual)=Dual(cos(u.x),-u.x′*sin(u.x))\n",
    "sinh(u::Dual)=Dual(sinh(u.x),u.x′*cosh(u.x))\n",
    "cosh(u::Dual)=Dual(cosh(u.x),u.x′*sinh(u.x))\n",
    "\n",
    "\"Método de Newton con Duales a partir de una función real f y un valor inicial x=0.\"\n",
    "function newton(f,x0,tol=1e-15)\n",
    "    fprime(x)=f(dual(x)).x′\n",
    "    xn=x0\n",
    "    while abs(f(xn))>tol\n",
    "        xn=xn-f(xn)/fprime(xn)\n",
    "    end\n",
    "    return xn\n",
    "end\n",
    "\n",
    "\"A partir de una función real f, y un rango x0, devuelven las raíces encontradas\"\n",
    "function soluciones(f,x0)\n",
    "    raiz=[]\n",
    "    raices=[]\n",
    "    for i in x0\n",
    "        r=newton(f,i)\n",
    "        if abs(r)≠Inf\n",
    "            push!(raiz,r)\n",
    "        end\n",
    "    end\n",
    "    push!(raices,raiz[1])\n",
    "    for i in 1:size(raiz,1)-1\n",
    "        if abs(raiz[i]-raiz[i+1])>1e-10\n",
    "            a=true\n",
    "            b=true\n",
    "            for j in raices\n",
    "                if abs(raiz[i+1]-j)>1e-10\n",
    "                    a=true\n",
    "                else\n",
    "                    a=false\n",
    "                b=(a & b)\n",
    "                end\n",
    "            end\n",
    "            if b==true\n",
    "                push!(raices,raiz[i+1])\n",
    "            end\n",
    "        end\n",
    "    end\n",
    "    return raices\n",
    "end"
   ]
  },
  {
   "cell_type": "markdown",
   "metadata": {},
   "source": [
    "Utilizaremos un par de funciones correspondientes al notebook 6."
   ]
  },
  {
   "cell_type": "code",
   "execution_count": 6,
   "metadata": {},
   "outputs": [
    {
     "data": {
      "text/plain": [
       "diag_bifurc"
      ]
     },
     "execution_count": 6,
     "metadata": {},
     "output_type": "execute_result"
    }
   ],
   "source": [
    "\"\"\"\n",
    "    ciclosestables!(xx, f, cc, nit, nout)\n",
    "\n",
    "Esta función itera el mapeo `f`, de una variable, `nit+nout` veces, \n",
    "usando como condición inicial `x0=0`; los últimos `nout` iterados \n",
    "actualizan al vector `xx` que tiene longitud `nout`. `cc` es el valor\n",
    "del parámetro del mapeo `f`. El mapeo `f` debe ser definido de \n",
    "tal manera que `f(x0, cc)` tenga sentido. La idea es que los últimos \n",
    "`nout` iterados reflejen los ciclos estables del mapeo `f`.\n",
    "\"\"\"\n",
    "function ciclosestables!(xx, f, cc, nit, nout)\n",
    "    @assert (nit > 0) && (nout > 0)\n",
    "    \n",
    "    x0=0.01\n",
    "    # Primeros nit iterados\n",
    "    for it = 1:nit\n",
    "        x0 = f(x0, cc)\n",
    "    end\n",
    "    \n",
    "    # Se guardan los siguientes nout iterados\n",
    "    for it = 1:nout\n",
    "        x0 = f(x0, cc)\n",
    "        @inbounds xx[it] = x0\n",
    "    end\n",
    "    \n",
    "    nothing\n",
    "end\n",
    "\n",
    "\"\"\"\n",
    "    diag_bifurc(f, nit, nout, crange)\n",
    "\n",
    "Itera el mapeo `f` `nit+nout` veces y regresa una matriz\n",
    "cuya columna `i` tiene los últimos `nout` iterados del mapeo\n",
    "para el valor del parámetro del mapeo `crange[i]`.\n",
    "\n",
    "La función `f` debe ser definida de tal manera que `f(x0, c)` \n",
    "tenga sentido.\n",
    "\"\"\"\n",
    "function diag_bifurc(f, nit, nout, crange)\n",
    "#     xx = Vector{Float64}(nout)\n",
    "    ff = Array{Float64,2}(nout, length(crange))\n",
    "    \n",
    "    for ic in eachindex(crange)\n",
    "        c = crange[ic]\n",
    "        ciclosestables!(view(ff, :, ic), f, c, nit, nout)\n",
    "#         ff[:,ic] = xx\n",
    "    end\n",
    "    \n",
    "    return ff\n",
    "end"
   ]
  },
  {
   "cell_type": "code",
   "execution_count": 7,
   "metadata": {
    "collapsed": true
   },
   "outputs": [],
   "source": [
    "Qc(x,c) = x^2 + c\n",
    "\n",
    "crange = 0.25:-1/2^10:-2.0\n",
    "\n",
    "ff = diag_bifurc(Qc, 100000, 256, crange); \n",
    "cc = ones(size(ff, 1)) * crange';\n",
    "\n",
    "# Esto cambia las matrices en vectores; ayuda un poco para los dibujos\n",
    "ff = reshape(ff, size(ff, 1)*size(ff, 2));\n",
    "cc = reshape(cc, size(ff));"
   ]
  },
  {
   "cell_type": "code",
   "execution_count": 8,
   "metadata": {},
   "outputs": [
    {
     "data": {
      "image/png": "[encoded data removed]",
      "text/plain": [
       "PyPlot.Figure(PyObject <Figure size 600x400 with 1 Axes>)"
      ]
     },
     "metadata": {},
     "output_type": "display_data"
    }
   ],
   "source": [
    "figure(figsize=(6,4))\n",
    "plot(cc, ff, \"b,\")\n",
    "plot([-1.2,-1.5,-1.5,-1.2,-1.2], [-1.5,-1.5,-0.9,-0.9,-1.5], \"k-\")\n",
    "plot([-2,0.5], [0.0,0.0], \"r-\")\n",
    "xlabel(L\"c\")\n",
    "ylabel(L\"x_\\infty\")\n",
    "title(L\"f(x)=x^2+c\")\n",
    "show()"
   ]
  },
  {
   "cell_type": "markdown",
   "metadata": {},
   "source": [
    "Para $c_1$=-0.25"
   ]
  },
  {
   "cell_type": "code",
   "execution_count": 9,
   "metadata": {},
   "outputs": [
    {
     "data": {
      "image/png": "[encoded data removed]",
      "text/plain": [
       "PyPlot.Figure(PyObject <Figure size 600x400 with 1 Axes>)"
      ]
     },
     "metadata": {},
     "output_type": "display_data"
    }
   ],
   "source": [
    "Qc(x,c) = x^2 + c\n",
    "\n",
    "crange = 0.25:-1/2^13:0\n",
    "\n",
    "ff = diag_bifurc(Qc, 100000, 256, crange); \n",
    "cc = ones(size(ff, 1)) * crange';\n",
    "ff = reshape(ff, size(ff, 1)*size(ff, 2));\n",
    "cc = reshape(cc, size(ff));\n",
    "\n",
    "figure(figsize=(6,4))\n",
    "plot(cc, ff, \"b,\")\n",
    "xlabel(L\"c\")\n",
    "ylabel(L\"x_\\infty\")\n",
    "title(L\"f(x)=x^2+c\")\n",
    "xlim(0.20,0.30)\n",
    "ylim(0.6,0)\n",
    "show()"
   ]
  },
  {
   "cell_type": "markdown",
   "metadata": {},
   "source": [
    "Para $c_1$= - 0.75:"
   ]
  },
  {
   "cell_type": "code",
   "execution_count": 10,
   "metadata": {},
   "outputs": [
    {
     "data": {
      "image/png": "[encoded data removed]",
      "text/plain": [
       "PyPlot.Figure(PyObject <Figure size 600x400 with 1 Axes>)"
      ]
     },
     "metadata": {},
     "output_type": "display_data"
    }
   ],
   "source": [
    "Qc(x,c) = x^2 + c\n",
    "\n",
    "crange = -1:1/2^13:-0.5\n",
    "\n",
    "\n",
    "ff = diag_bifurc(Qc, 100000, 256, crange); \n",
    "cc = ones(size(ff, 1)) * crange';\n",
    "ff = reshape(ff, size(ff, 1)*size(ff, 2));\n",
    "cc = reshape(cc, size(ff));\n",
    "\n",
    "figure(figsize=(6,4))\n",
    "plot(cc, ff, \"b,\")\n",
    "xlabel(L\"c\")\n",
    "ylabel(L\"x_\\infty\")\n",
    "title(L\"f(x)=x^2+c\")\n",
    "show()"
   ]
  },
  {
   "cell_type": "markdown",
   "metadata": {},
   "source": [
    "A continuación se hace un zoom:"
   ]
  },
  {
   "cell_type": "markdown",
   "metadata": {},
   "source": [
    "Para $c_2$= - 1.25 :"
   ]
  },
  {
   "cell_type": "code",
   "execution_count": 11,
   "metadata": {},
   "outputs": [
    {
     "data": {
      "image/png": "[encoded data removed]",
      "text/plain": [
       "PyPlot.Figure(PyObject <Figure size 600x400 with 1 Axes>)"
      ]
     },
     "metadata": {},
     "output_type": "display_data"
    }
   ],
   "source": [
    "Qc(x,c) = x^2 + c\n",
    "\n",
    "crange = -1.3:1/2^13:-1.2\n",
    "\n",
    "ff = diag_bifurc(Qc, 100000, 256, crange); \n",
    "cc = ones(size(ff, 1)) * crange';\n",
    "ff = reshape(ff, size(ff, 1)*size(ff, 2));\n",
    "cc = reshape(cc, size(ff));\n",
    "\n",
    "figure(figsize=(6,4))\n",
    "plot(cc, ff, \"b,\")\n",
    "xlabel(L\"c\")\n",
    "ylabel(L\"x_\\infty\")\n",
    "#xlim(-1.24,-1.26)\n",
    "#ylim(-1.150,-1.3)\n",
    "title(L\"f(x)=x^2+c\")\n",
    "show()"
   ]
  },
  {
   "cell_type": "code",
   "execution_count": null,
   "metadata": {
    "collapsed": true
   },
   "outputs": [],
   "source": [
    "\"\"\"Esta función nos da un vector con los valores aproximados de la derivada en una vecindad al punto de bifurcación.\"\"\"\n",
    "function derivada_bifurcacion(f,c,p;tol=1e-16,nit=1000000)\n",
    "    mapeo = diag_bifurc(f, nit, p, [c[1]])\n",
    "    s=c[1]-c[2]\n",
    "    h = dual(mapeo[1,1])\n",
    "        for k in 1:p\n",
    "            h = f(h, c[1])\n",
    "        end\n",
    "    \n",
    "    ev1=1-abs(h.x′)\n",
    "    ev2=1-abs(h.x′)\n",
    "    H=[]\n",
    "    \n",
    "    for i in c\n",
    "        mapeo = diag_bifurc(f, nit, p, [i])\n",
    "        h = dual(mapeo[1,1])\n",
    "        for k in 1:p\n",
    "            h = f(h, i)\n",
    "        end\n",
    "        push!(H,h.x′)\n",
    "    end\n",
    "    return H\n",
    "end"
   ]
  },
  {
   "cell_type": "code",
   "execution_count": 12,
   "metadata": {},
   "outputs": [
    {
     "data": {
      "text/plain": [
       "doblamiento_periodo"
      ]
     },
     "execution_count": 12,
     "metadata": {},
     "output_type": "execute_result"
    }
   ],
   "source": [
    "\"\"\"Esta función nos permite obtener una buena aproximación del valor de c para el cuál ocurre el doblamiento de periodo, \n",
    "tomando como parámetro la función, el intervalo dentro del que se encuentra el doblamiento de periodo y \"p\", el número \n",
    "de iteraciones.\"\"\"\n",
    "function doblamiento_periodo(f,c,p;tol=1e-16,nit=1000000)\n",
    "    mapeo = diag_bifurc(f, nit, p, [c[1]])\n",
    "    s=c[1]-c[2]\n",
    "    h = dual(mapeo[1,1])\n",
    "        for k in 1:p\n",
    "            h = f(h, c[1])\n",
    "        end\n",
    "    \n",
    "    ev1=1-abs(h.x′)\n",
    "    ev2=1-abs(h.x′)\n",
    "    \n",
    "    for i in c\n",
    "        if(ev1*ev2 > tol)\n",
    "            mapeo = diag_bifurc(f, nit, p, [i])\n",
    "            h = dual(mapeo[1,1])\n",
    "            for k in 1:p\n",
    "                h = f(h, i)\n",
    "            end\n",
    "        else\n",
    "            return i+s\n",
    "            break\n",
    "        end\n",
    "        ev1=ev2\n",
    "        ev2=1-abs(h.x′)\n",
    "    end\n",
    "end"
   ]
  },
  {
   "cell_type": "markdown",
   "metadata": {},
   "source": [
    "Conforme c decrece, existe una sucesión de bifurcaciones de doblamiento de periodo. Que aparecen en el orden: $1, 2, 4, 8,..., 2^n, ...$"
   ]
  },
  {
   "cell_type": "code",
   "execution_count": 13,
   "metadata": {},
   "outputs": [
    {
     "data": {
      "text/plain": [
       "Q (generic function with 1 method)"
      ]
     },
     "execution_count": 13,
     "metadata": {},
     "output_type": "execute_result"
    }
   ],
   "source": [
    "Q(x,c)=x^2+c"
   ]
  },
  {
   "cell_type": "code",
   "execution_count": 14,
   "metadata": {},
   "outputs": [
    {
     "data": {
      "text/plain": [
       "-1.25"
      ]
     },
     "execution_count": 14,
     "metadata": {},
     "output_type": "execute_result"
    }
   ],
   "source": [
    "doblamiento_periodo(Q,-1.24:-1/10^5:-1.26,2)"
   ]
  },
  {
   "cell_type": "code",
   "execution_count": 15,
   "metadata": {},
   "outputs": [
    {
     "data": {
      "text/plain": [
       "-1.3680976000000002"
      ]
     },
     "execution_count": 15,
     "metadata": {},
     "output_type": "execute_result"
    }
   ],
   "source": [
    "#doblamiento_periodo(Q,-1.36:-1/10^7:-1.37,4)"
   ]
  },
  {
   "cell_type": "code",
   "execution_count": 16,
   "metadata": {},
   "outputs": [],
   "source": [
    "#doblamiento_periodo(Q,-1.391:-1/10^7:-1.395,8)"
   ]
  },
  {
   "cell_type": "code",
   "execution_count": 17,
   "metadata": {},
   "outputs": [],
   "source": [
    "#doblamiento_periodo(Q,-1.395:-1/10^7:-1.4,16)"
   ]
  },
  {
   "cell_type": "code",
   "execution_count": 18,
   "metadata": {},
   "outputs": [],
   "source": [
    "#doblamiento_periodo(Q,-1.4:-1/10^8:-1.405,32)"
   ]
  },
  {
   "cell_type": "code",
   "execution_count": 19,
   "metadata": {},
   "outputs": [],
   "source": [
    "#doblamiento_periodo(Q,-1.3901:-1/10^7:-1.42,64)"
   ]
  },
  {
   "cell_type": "markdown",
   "metadata": {},
   "source": [
    "Entonces: $c_0=  0.25 ,c_1= - 0.75, c_2= - 1.25, c_3= - 1.3680976, c_4= - 1.3940457, c_5= -1.3996311, c_6= -1.40116863, c_7= -1.4011480$"
   ]
  },
  {
   "cell_type": "markdown",
   "metadata": {},
   "source": [
    "Definimos la secuencia: $\\{f_0, f_1, f_2, \\dots\\}$, donde\n",
    "\n",
    "\\begin{equation}\n",
    "f_n = \\frac{c_n-c_{n+1}}{c_{n+1}-c_{n+2}} .\n",
    "\\end{equation}"
   ]
  },
  {
   "cell_type": "code",
   "execution_count": 20,
   "metadata": {},
   "outputs": [
    {
     "data": {
      "text/plain": [
       "fn (generic function with 1 method)"
      ]
     },
     "execution_count": 20,
     "metadata": {},
     "output_type": "execute_result"
    }
   ],
   "source": [
    "function fn(cn,cn1,cn2)\n",
    "fn=(cn-cn1)/(cn1-cn2)\n",
    "end"
   ]
  },
  {
   "cell_type": "code",
   "execution_count": 21,
   "metadata": {},
   "outputs": [
    {
     "data": {
      "text/plain": [
       "2.0"
      ]
     },
     "execution_count": 21,
     "metadata": {},
     "output_type": "execute_result"
    }
   ],
   "source": [
    "fn(0.25,-0.75,-1.25)"
   ]
  },
  {
   "cell_type": "code",
   "execution_count": 22,
   "metadata": {},
   "outputs": [
    {
     "data": {
      "text/plain": [
       "4.2337719521075705"
      ]
     },
     "execution_count": 22,
     "metadata": {},
     "output_type": "execute_result"
    }
   ],
   "source": [
    "fn(-0.75,-1.25,- 1.368098)"
   ]
  },
  {
   "cell_type": "code",
   "execution_count": 23,
   "metadata": {},
   "outputs": [
    {
     "data": {
      "text/plain": [
       "4.551300480574701"
      ]
     },
     "execution_count": 23,
     "metadata": {},
     "output_type": "execute_result"
    }
   ],
   "source": [
    "fn(-1.25,- 1.3680976,- 1.3940457)"
   ]
  },
  {
   "cell_type": "code",
   "execution_count": 24,
   "metadata": {},
   "outputs": [
    {
     "name": "stdout",
     "output_type": "stream",
     "text": [
      "2.0\n",
      "4.233786292016094\n",
      "4.551300480574701\n",
      "4.645701292655869\n",
      "3.633347644510112\n",
      "-75.50392927248255\n"
     ]
    }
   ],
   "source": [
    "C=[0.25,-0.75,-1.25,- 1.3680976,- 1.3940457,-1.3996311,-1.40116836,-1.4011479999999998]\n",
    "\n",
    "for i in 1:6\n",
    "    A=fn(C[i],C[i+1],C[i+2])\n",
    "    println(A)\n",
    "end"
   ]
  },
  {
   "cell_type": "markdown",
   "metadata": {},
   "source": [
    "Esta secuencia de números converge a la llamada constante de Feigenbaum: $ 4.669201609... $ .Usualmente también es expresada como:\n",
    "\n",
    "$ \\delta = lim_{n-> \\infty} \\frac{a_{n-1}  \\ - \\ a_{n-2}}{a_n \\ - \\ a_{n-1}} = 4.669201609... $\n",
    "\n",
    "Sorprendentemente, este límite es el mismo para cualquier familia de mapeos unidimensionales con un solo parámetro. Dicho de otro modo esta constante es universal en el sentido de que aplica para una variedad de sistemas dinámicos."
   ]
  },
  {
   "cell_type": "markdown",
   "metadata": {},
   "source": [
    "## 2\n",
    "\n",
    "Repitan el ejercicio anterior para el mapeo $S_c(x) = c \\sin(x)$. \n",
    "\n",
    "- ¿Cómo se comparan los valores obtenidos de $f_n$? \n",
    "\n",
    "- ¿Qué interpretación le pueden dar a este resultado, en comparación del ejercicio anterior?"
   ]
  },
  {
   "cell_type": "code",
   "execution_count": 25,
   "metadata": {},
   "outputs": [],
   "source": [
    "Sc(x,c)=c*sin(x)\n",
    "\n",
    "crange = -3:1/7^3:3\n",
    "\n",
    "ff = diag_bifurc(Sc, 100000, 256, crange); \n",
    "cc = ones(size(ff, 1)) * crange';\n",
    "ff = reshape(ff, size(ff, 1)*size(ff, 2));\n",
    "cc = reshape(cc, size(ff));"
   ]
  },
  {
   "cell_type": "code",
   "execution_count": 31,
   "metadata": {},
   "outputs": [
    {
     "data": {
      "image/png": "[encoded data removed]",
      "text/plain": [
       "PyPlot.Figure(PyObject <Figure size 700x500 with 1 Axes>)"
      ]
     },
     "metadata": {},
     "output_type": "display_data"
    },
    {
     "data": {
      "text/plain": [
       "PyObject Text(0.5,1,'c*sen(x)')"
      ]
     },
     "execution_count": 31,
     "metadata": {},
     "output_type": "execute_result"
    }
   ],
   "source": [
    "figure(figsize=(7,5))\n",
    "plot(cc, ff, \"b,\")\n",
    "xlabel(L\"c\")\n",
    "ylabel(L\"x_\\infty\")\n",
    "title(\"c*sen(x)\")"
   ]
  },
  {
   "cell_type": "code",
   "execution_count": 27,
   "metadata": {},
   "outputs": [
    {
     "data": {
      "image/png": "[encoded data removed]",
      "text/plain": [
       "PyPlot.Figure(PyObject <Figure size 600x400 with 1 Axes>)"
      ]
     },
     "metadata": {},
     "output_type": "display_data"
    }
   ],
   "source": [
    "figure(figsize=(6,4))\n",
    "plot(cc, ff, \"b,\")\n",
    "xlabel(L\"c\")\n",
    "ylabel(L\"x_\\infty\")\n",
    "title(L\"f(x)=c*sen(x)\")\n",
    "xlim(1,3)\n",
    "ylim(0,3)\n",
    "show()"
   ]
  },
  {
   "cell_type": "code",
   "execution_count": 28,
   "metadata": {},
   "outputs": [
    {
     "data": {
      "image/png": "[encoded data removed]",
      "text/plain": [
       "PyPlot.Figure(PyObject <Figure size 600x400 with 1 Axes>)"
      ]
     },
     "metadata": {},
     "output_type": "display_data"
    }
   ],
   "source": [
    "figure(figsize=(6,4))\n",
    "plot(cc, ff, \"b,\")\n",
    "xlabel(L\"c\")\n",
    "ylabel(L\"x_\\infty\")\n",
    "xlim(2.2,2.5)\n",
    "ylim(0,3)\n",
    "title(L\"f(x)=c*sen(x)\")\n",
    "show()"
   ]
  },
  {
   "cell_type": "code",
   "execution_count": 34,
   "metadata": {},
   "outputs": [
    {
     "data": {
      "text/plain": [
       "2.2618408203125"
      ]
     },
     "execution_count": 34,
     "metadata": {},
     "output_type": "execute_result"
    }
   ],
   "source": [
    "doblamiento_periodo(Sc,2.25:0.5^15:2.3,1)"
   ]
  },
  {
   "cell_type": "code",
   "execution_count": 27,
   "metadata": {},
   "outputs": [
    {
     "data": {
      "image/png": "[encoded data removed]",
      "text/plain": [
       "PyPlot.Figure(PyObject <Figure size 600x400 with 1 Axes>)"
      ]
     },
     "metadata": {},
     "output_type": "display_data"
    }
   ],
   "source": [
    "Sc(x,c)=c*sin(x)\n",
    "\n",
    "crange = 1:1/7^5:3\n",
    "\n",
    "ff = diag_bifurc(Sc, 10000, 256, crange); \n",
    "cc = ones(size(ff, 1)) * crange';\n",
    "ff = reshape(ff, size(ff, 1)*size(ff, 2));\n",
    "cc = reshape(cc, size(ff));\n",
    "\n",
    "figure(figsize=(6,4))\n",
    "plot(cc, ff, \"b,\")\n",
    "xlabel(L\"c\")\n",
    "ylabel(L\"x_\\infty\")\n",
    "xlim(2.6,2.63)\n",
    "ylim(0,3)\n",
    "title(L\"f(x)=c*sen(x)\")\n",
    "show()"
   ]
  },
  {
   "cell_type": "code",
   "execution_count": 36,
   "metadata": {},
   "outputs": [
    {
     "data": {
      "text/plain": [
       "2.617782211303711"
      ]
     },
     "execution_count": 36,
     "metadata": {},
     "output_type": "execute_result"
    }
   ],
   "source": [
    "doblamiento_periodo(Sc,2.6:0.5^20:2.63,2)"
   ]
  },
  {
   "cell_type": "code",
   "execution_count": 37,
   "metadata": {},
   "outputs": [
    {
     "data": {
      "image/png": "[encoded data removed]",
      "text/plain": [
       "PyPlot.Figure(PyObject <Figure size 600x400 with 1 Axes>)"
      ]
     },
     "metadata": {},
     "output_type": "display_data"
    }
   ],
   "source": [
    "figure(figsize=(6,4))\n",
    "plot(cc, ff, \"b,\")\n",
    "xlabel(L\"c\")\n",
    "ylabel(L\"x_\\infty\")\n",
    "xlim(2.69,2.7)\n",
    "ylim(0,3)\n",
    "title(L\"f(x)=c*sen(x)\")\n",
    "show()"
   ]
  },
  {
   "cell_type": "code",
   "execution_count": 38,
   "metadata": {
    "collapsed": true
   },
   "outputs": [],
   "source": [
    "doblamiento_periodo(Sc,2.69:0.5^15:2.7,4)"
   ]
  },
  {
   "cell_type": "code",
   "execution_count": 39,
   "metadata": {},
   "outputs": [
    {
     "data": {
      "image/png": "[encoded data removed]",
      "text/plain": [
       "PyPlot.Figure(PyObject <Figure size 600x400 with 1 Axes>)"
      ]
     },
     "metadata": {},
     "output_type": "display_data"
    }
   ],
   "source": [
    "Sc(x,c)=c*sin(x)\n",
    "\n",
    "crange = 2.7145:0.5^19:2.72\n",
    "\n",
    "ff = diag_bifurc(Sc, 10000, 256, crange); \n",
    "cc = ones(size(ff, 1)) * crange';\n",
    "ff = reshape(ff, size(ff, 1)*size(ff, 2));\n",
    "cc = reshape(cc, size(ff));\n",
    "\n",
    "figure(figsize=(6,4))\n",
    "plot(cc, ff, \"b,\")\n",
    "xlabel(L\"c\")\n",
    "ylabel(L\"x_\\infty\")\n",
    "xlim(2.7145,2.715)\n",
    "ylim(1,1.25)\n",
    "title(L\"f(x)=c*sen(x)\")\n",
    "show()"
   ]
  },
  {
   "cell_type": "code",
   "execution_count": 40,
   "metadata": {},
   "outputs": [
    {
     "data": {
      "text/plain": [
       "2.7146068115234376"
      ]
     },
     "execution_count": 40,
     "metadata": {},
     "output_type": "execute_result"
    }
   ],
   "source": [
    "doblamiento_periodo(Sc,2.7145:0.5^17:2.715,8)"
   ]
  },
  {
   "cell_type": "code",
   "execution_count": 41,
   "metadata": {},
   "outputs": [
    {
     "data": {
      "image/png": "[encoded data removed]",
      "text/plain": [
       "PyPlot.Figure(PyObject <Figure size 600x400 with 1 Axes>)"
      ]
     },
     "metadata": {},
     "output_type": "display_data"
    }
   ],
   "source": [
    "Sc(x,c)=c*sin(x)\n",
    "\n",
    "crange = 2.71:0.5^16:2.73\n",
    "\n",
    "ff = diag_bifurc(Sc, 10000, 256, crange); \n",
    "cc = ones(size(ff, 1)) * crange';\n",
    "ff = reshape(ff, size(ff, 1)*size(ff, 2));\n",
    "cc = reshape(cc, size(ff));\n",
    "\n",
    "figure(figsize=(6,4))\n",
    "plot(cc, ff, \"b,\")\n",
    "xlabel(L\"c\")\n",
    "ylabel(L\"x_\\infty\")\n",
    "xlim(2.7175,2.72)\n",
    "ylim(1,1.25)\n",
    "title(L\"f(x)=c*sen(x)\")\n",
    "show()"
   ]
  },
  {
   "cell_type": "code",
   "execution_count": 42,
   "metadata": {},
   "outputs": [
    {
     "data": {
      "text/plain": [
       "2.718291049480438"
      ]
     },
     "execution_count": 42,
     "metadata": {},
     "output_type": "execute_result"
    }
   ],
   "source": [
    "doblamiento_periodo(Sc,2.718:0.5^25:2.7185,16)"
   ]
  },
  {
   "cell_type": "code",
   "execution_count": 43,
   "metadata": {},
   "outputs": [
    {
     "data": {
      "image/png": "[encoded data removed]",
      "text/plain": [
       "PyPlot.Figure(PyObject <Figure size 600x400 with 1 Axes>)"
      ]
     },
     "metadata": {},
     "output_type": "display_data"
    }
   ],
   "source": [
    "Sc(x,c)=c*sin(x)\n",
    "\n",
    "crange = 2.718:0.5^19:2.72\n",
    "\n",
    "ff = diag_bifurc(Sc, 10000, 256, crange); \n",
    "cc = ones(size(ff, 1)) * crange';\n",
    "ff = reshape(ff, size(ff, 1)*size(ff, 2));\n",
    "cc = reshape(cc, size(ff));\n",
    "\n",
    "figure(figsize=(6,4))\n",
    "plot(cc, ff, \"b,\")\n",
    "xlabel(L\"c\")\n",
    "ylabel(L\"x_\\infty\")\n",
    "xlim(2.7185,2.72)\n",
    "ylim(1.18,1.25)\n",
    "title(L\"f(x)=c*sen(x)\")\n",
    "show()"
   ]
  },
  {
   "cell_type": "code",
   "execution_count": 44,
   "metadata": {},
   "outputs": [
    {
     "data": {
      "text/plain": [
       "2.7190818967819212"
      ]
     },
     "execution_count": 44,
     "metadata": {},
     "output_type": "execute_result"
    }
   ],
   "source": [
    "doblamiento_periodo(Sc,2.719:0.5^25:2.7195,32)"
   ]
  },
  {
   "cell_type": "code",
   "execution_count": 45,
   "metadata": {},
   "outputs": [
    {
     "data": {
      "image/png": "[encoded data removed]",
      "text/plain": [
       "PyPlot.Figure(PyObject <Figure size 600x400 with 1 Axes>)"
      ]
     },
     "metadata": {},
     "output_type": "display_data"
    }
   ],
   "source": [
    "Sc(x,c)=c*sin(x)\n",
    "\n",
    "crange = 2.719:0.5^24:2.72\n",
    "\n",
    "ff = diag_bifurc(Sc, 10000, 256, crange); \n",
    "cc = ones(size(ff, 1)) * crange';\n",
    "ff = reshape(ff, size(ff, 1)*size(ff, 2));\n",
    "cc = reshape(cc, size(ff));\n",
    "\n",
    "figure(figsize=(6,4))\n",
    "plot(cc, ff, \"b,\")\n",
    "xlabel(L\"c\")\n",
    "ylabel(L\"x_\\infty\")\n",
    "xlim(2.7192,2.7193)\n",
    "ylim(1.18,1.20)\n",
    "title(L\"f(x)=c*sen(x)\")\n",
    "show()"
   ]
  },
  {
   "cell_type": "code",
   "execution_count": 46,
   "metadata": {},
   "outputs": [
    {
     "data": {
      "text/plain": [
       "2.7192537016177174"
      ]
     },
     "execution_count": 46,
     "metadata": {},
     "output_type": "execute_result"
    }
   ],
   "source": [
    "doblamiento_periodo(Sc,(2.719+0.00024):0.5^27:(2.719+0.00026),64)"
   ]
  },
  {
   "cell_type": "markdown",
   "metadata": {},
   "source": [
    "Entonces: \n",
    "\n",
    "$c_1=2.2606582641601562$\n",
    "\n",
    "$c_2=2.617514228820801$\n",
    "\n",
    "$c_3=2.697354736328125$\n",
    "\n",
    "$c_4=2.7145991821289064$\n",
    "\n",
    "$c_5=2.7182898573875427$\n",
    "\n",
    "$c_6=2.719081717967987$\n",
    "\n",
    "$c_7=2.719250952353477$"
   ]
  },
  {
   "cell_type": "markdown",
   "metadata": {},
   "source": [
    "De igual modo, definimos la secuencia: $\\{f_0, f_1, f_2, \\dots\\}$, donde:\n",
    "\n",
    "\\begin{equation}\n",
    "f_n = \\frac{c_n-c_{n+1}}{c_{n+1}-c_{n+2}} .\n",
    "\\end{equation}"
   ]
  },
  {
   "cell_type": "code",
   "execution_count": 47,
   "metadata": {},
   "outputs": [
    {
     "name": "stdout",
     "output_type": "stream",
     "text": [
      "4.469610424606944\n",
      "4.629925973249084\n",
      "4.672436503436281\n",
      "4.660763964997322\n",
      "4.679076170900375\n"
     ]
    }
   ],
   "source": [
    "C=[2.2606582641601562,2.617514228820801,2.697354736328125,2.7145991821289064,2.7182898573875427,2.719081717967987,2.719250952353477]\n",
    "\n",
    "for i in 1:5\n",
    "    A=fn(C[i],C[i+1],C[i+2])\n",
    "    println(A)\n",
    "end"
   ]
  },
  {
   "cell_type": "markdown",
   "metadata": {},
   "source": [
    "Como se puede apreciar, esta familia de mapeos también converge al mismo límite. Al aumentar el número de puntos en el rango se obtienen resultados más precisos, pero también el tiempo que tarda en ejecutar los cálculos aumenta considerablemente."
   ]
  },
  {
   "cell_type": "markdown",
   "metadata": {},
   "source": [
    "## 3\n",
    "\n",
    "Como se ve en la Fig. 1 del diagrama de bifurcaciones de $Q_c$, $x=0$ pertenece a un ciclo de periodo $2^n$ para ciertos valores $C_n$ del parámetro. Dichos valores son *especiales*, ya que el hecho de que $x=0$ pertenezca a un ciclo de periodo $2^n$ define los llamados *ciclos superestable*, donde tenemos $(Q^{2^p}_{C_n})'(0)=0$.\n",
    "\n",
    "- ¿A qué converge la secuencia $f_n$, definida ahora a partir de los valores $C_n$.\n",
    "\n",
    "- De los $2^p$ puntos del ciclo de periodo $2^p$, es decir, $\\{0, p_1, \\dots p_{2^{n-1}}\\,\\}$ hay uno (distinto del 0) cuya distancia a 0 es la menor; a esa distancia la identificaremos como $d_n$. Calcular numéricamente a qué converge la secuencia $d_n/d_{n+1}$."
   ]
  },
  {
   "cell_type": "code",
   "execution_count": 48,
   "metadata": {},
   "outputs": [
    {
     "data": {
      "image/png": "[encoded data removed]",
      "text/plain": [
       "PyPlot.Figure(PyObject <Figure size 600x400 with 1 Axes>)"
      ]
     },
     "metadata": {},
     "output_type": "display_data"
    }
   ],
   "source": [
    "Qc(x,c) = x^2 + c\n",
    "\n",
    "crange = -0.75:-1/2^10:-2.0\n",
    "\n",
    "ff = diag_bifurc(Qc, 100000, 256, crange); \n",
    "cc = ones(size(ff, 1)) * crange';\n",
    "ff = reshape(ff, size(ff, 1)*size(ff, 2));\n",
    "cc = reshape(cc, size(ff));\n",
    "\n",
    "figure(figsize=(6,4))\n",
    "plot(cc, ff, \"b,\")\n",
    "plot([-2,0.5], [0.0,0.0], \"r-\")\n",
    "xlabel(L\"c\")\n",
    "ylabel(L\"x_\\infty\")\n",
    "title(L\"f(x)=x^2+c\")\n",
    "show()"
   ]
  },
  {
   "cell_type": "code",
   "execution_count": 49,
   "metadata": {},
   "outputs": [
    {
     "data": {
      "text/plain": [
       "C_n"
      ]
     },
     "execution_count": 49,
     "metadata": {},
     "output_type": "execute_result"
    }
   ],
   "source": [
    "\"\"\"Esta función encuentra en un intervalo c el parámetro para el cuál f(x) tiene una órbita súper estable (es decir, que \n",
    "el cero pertenece a esta órbita) de periodo p.\"\"\"\n",
    "function C_n(f,c,p;nit=1000000) \n",
    "        mapeo = diag_bifurc(f, nit, p, [c[1]])\n",
    "        h0=1\n",
    "        s=c[1]-c[2]\n",
    "        for j in 1:p\n",
    "            h=mapeo[j,1]\n",
    "            if abs(h)<abs(h0)\n",
    "                h0=h\n",
    "            end\n",
    "        end\n",
    "        h1=h0\n",
    "    for i in c\n",
    "        mapeo = diag_bifurc(f, nit, p, [i])\n",
    "        h0=1\n",
    "        for j in 1:p\n",
    "            h=mapeo[j,1]\n",
    "            if abs(h)<abs(h0)\n",
    "                h0=h\n",
    "            end\n",
    "        end\n",
    "        if h1*h0<0\n",
    "            return i+s\n",
    "            break\n",
    "        end\n",
    "    end\n",
    "end"
   ]
  },
  {
   "cell_type": "code",
   "execution_count": 50,
   "metadata": {},
   "outputs": [
    {
     "data": {
      "text/plain": [
       "-1.0"
      ]
     },
     "execution_count": 50,
     "metadata": {},
     "output_type": "execute_result"
    }
   ],
   "source": [
    "C_n(Q,-0.90:-1/10^4:-1.24,2)"
   ]
  },
  {
   "cell_type": "code",
   "execution_count": 51,
   "metadata": {},
   "outputs": [
    {
     "data": {
      "text/plain": [
       "-1.3106689453125"
      ]
     },
     "execution_count": 51,
     "metadata": {},
     "output_type": "execute_result"
    }
   ],
   "source": [
    "C_n(Q,-1.25:-1/2^14:-1.35,4)"
   ]
  },
  {
   "cell_type": "code",
   "execution_count": 52,
   "metadata": {},
   "outputs": [
    {
     "data": {
      "text/plain": [
       "-1.381527734375"
      ]
     },
     "execution_count": 52,
     "metadata": {},
     "output_type": "execute_result"
    }
   ],
   "source": [
    "C_n(Q,-1.3681:-1/2^15:-1.395,8)"
   ]
  },
  {
   "cell_type": "code",
   "execution_count": 53,
   "metadata": {},
   "outputs": [
    {
     "data": {
      "text/plain": [
       "-1.3969378662109375"
      ]
     },
     "execution_count": 53,
     "metadata": {},
     "output_type": "execute_result"
    }
   ],
   "source": [
    "C_n(Q,-1.395:-1/2^16:-1.3999,16)"
   ]
  },
  {
   "cell_type": "code",
   "execution_count": 54,
   "metadata": {},
   "outputs": [
    {
     "data": {
      "text/plain": [
       "-1.4002509521484374"
      ]
     },
     "execution_count": 54,
     "metadata": {},
     "output_type": "execute_result"
    }
   ],
   "source": [
    "C_n(Q,-1.3999:-1/2^17:-1.401,32)"
   ]
  },
  {
   "cell_type": "code",
   "execution_count": 55,
   "metadata": {},
   "outputs": [
    {
     "data": {
      "text/plain": [
       "-1.4011137256622315"
      ]
     },
     "execution_count": 55,
     "metadata": {},
     "output_type": "execute_result"
    }
   ],
   "source": [
    "C_n(Q,-1.401:-1/2^22:-1.402,64)"
   ]
  },
  {
   "cell_type": "code",
   "execution_count": 56,
   "metadata": {},
   "outputs": [
    {
     "name": "stdout",
     "output_type": "stream",
     "text": [
      "4.469610424606944\n",
      "4.629925973249084\n",
      "4.672436503436281\n",
      "4.660763964997322\n"
     ]
    }
   ],
   "source": [
    "Cn=[-1,-1.3106689453125,-1.381527734375,-1.3969378662109375,-1.4002509521484374,-1.4011137256622315]\n",
    "for i in 1:4\n",
    "    A=fn(C[i],C[i+1],C[i+2])\n",
    "    println(A)\n",
    "end"
   ]
  },
  {
   "cell_type": "markdown",
   "metadata": {},
   "source": [
    "$fn$ definida con los valores en los que $Q_c^p$ es super estable converge también a la constante $\\delta$ de Feigenbaum"
   ]
  },
  {
   "cell_type": "code",
   "execution_count": 57,
   "metadata": {},
   "outputs": [
    {
     "data": {
      "text/plain": [
       "d_n"
      ]
     },
     "execution_count": 57,
     "metadata": {},
     "output_type": "execute_result"
    }
   ],
   "source": [
    "\"\"\"La función encuentra la distancia del x≠0 perteneciente a la órbita súperestable de periodo p de f(x) en el intervalo c\n",
    "más cercano al 0\"\"\"\n",
    "function d_n(f,c,p;nit=1000000) \n",
    "        mapeo = diag_bifurc(f, nit, p, [c[1]])\n",
    "        h0=1\n",
    "        s=c[1]-c[2]\n",
    "        for j in 1:p\n",
    "            h=mapeo[j,1]\n",
    "            if abs(h)<abs(h0)\n",
    "                h0=h\n",
    "            end\n",
    "        end\n",
    "        h1=h0\n",
    "    for i in c\n",
    "        mapeo = diag_bifurc(f, nit, p, [i])\n",
    "        h0=1\n",
    "        for j in 1:p\n",
    "            h=mapeo[j,1]\n",
    "            if abs(h)<abs(h0)\n",
    "                h0=h\n",
    "            end\n",
    "        end\n",
    "        if h1*h0<0\n",
    "            mapeo = diag_bifurc(f, nit, p, [i+s])\n",
    "            H=[]\n",
    "            for j in 1:p\n",
    "            push!(H,abs(mapeo[j,1]))\n",
    "            end\n",
    "            H=sort(H)\n",
    "            return(H[2])\n",
    "            break\n",
    "        end\n",
    "    end\n",
    "end"
   ]
  },
  {
   "cell_type": "code",
   "execution_count": 58,
   "metadata": {},
   "outputs": [
    {
     "data": {
      "text/plain": [
       "1.0"
      ]
     },
     "execution_count": 58,
     "metadata": {},
     "output_type": "execute_result"
    }
   ],
   "source": [
    "d_n(Q,-0.90:-1/10^4:-1.24,2)"
   ]
  },
  {
   "cell_type": "code",
   "execution_count": 59,
   "metadata": {},
   "outputs": [
    {
     "data": {
      "text/plain": [
       "0.4071841299417698"
      ]
     },
     "execution_count": 59,
     "metadata": {},
     "output_type": "execute_result"
    }
   ],
   "source": [
    "d_n(Q,-1.25:-1/2^14:-1.35,4)"
   ]
  },
  {
   "cell_type": "code",
   "execution_count": 60,
   "metadata": {},
   "outputs": [
    {
     "data": {
      "text/plain": [
       "0.16336815248402758"
      ]
     },
     "execution_count": 60,
     "metadata": {},
     "output_type": "execute_result"
    }
   ],
   "source": [
    "d_n(Q,-1.3681:-1/2^15:-1.395,8)"
   ]
  },
  {
   "cell_type": "code",
   "execution_count": 61,
   "metadata": {},
   "outputs": [
    {
     "data": {
      "text/plain": [
       "0.06532317928152831"
      ]
     },
     "execution_count": 61,
     "metadata": {},
     "output_type": "execute_result"
    }
   ],
   "source": [
    "d_n(Q,-1.395:-1/2^16:-1.3999,16)"
   ]
  },
  {
   "cell_type": "code",
   "execution_count": 62,
   "metadata": {},
   "outputs": [
    {
     "data": {
      "text/plain": [
       "0.026099990316489796"
      ]
     },
     "execution_count": 62,
     "metadata": {},
     "output_type": "execute_result"
    }
   ],
   "source": [
    "d_n(Q,-1.3999:-1/2^17:-1.401,32)"
   ]
  },
  {
   "cell_type": "code",
   "execution_count": 63,
   "metadata": {},
   "outputs": [
    {
     "data": {
      "text/plain": [
       "0.011566319937746705"
      ]
     },
     "execution_count": 63,
     "metadata": {},
     "output_type": "execute_result"
    }
   ],
   "source": [
    "d_n(Q,-1.4011:-1/2^24:-1.402,64;nit=100000)"
   ]
  },
  {
   "cell_type": "code",
   "execution_count": 65,
   "metadata": {},
   "outputs": [
    {
     "name": "stdout",
     "output_type": "stream",
     "text": [
      "2.455891392778513\n",
      "2.4924327278634064\n",
      "2.5009216373248973\n",
      "2.5028047324698743\n"
     ]
    }
   ],
   "source": [
    "dn=[1.0,0.4071841299417698,0.16336815248402758,0.06532317928152831,0.0260999903164897,0.011566319937746705]\n",
    "for i in 1:4\n",
    "    A=dn[i]/dn[i+1]\n",
    "    println(A)\n",
    "end"
   ]
  },
  {
   "cell_type": "markdown",
   "metadata": {},
   "source": [
    "Vemos que esta secuencia también converge a otra constante; la constante $\\alpha$ de Feigenbaum, definida por:\n",
    "\n",
    "$$ \\alpha = lim_{n-> \\infty} \\frac{d_n}{d_{n+1}} = 2.5029078750958... $$\n",
    "\n",
    "Que es otra constante universal para los sistemas dinámicos."
   ]
  }
 ],
 "metadata": {
  "kernelspec": {
   "display_name": "Julia 0.6.4",
   "language": "julia",
   "name": "julia-0.6"
  },
  "language_info": {
   "file_extension": ".jl",
   "mimetype": "application/julia",
   "name": "julia",
   "version": "0.6.4"
  }
 },
 "nbformat": 4,
 "nbformat_minor": 1
}
