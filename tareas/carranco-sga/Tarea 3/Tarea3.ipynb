{
 "cells": [
  {
   "cell_type": "markdown",
   "metadata": {},
   "source": [
    "# Tarea 1"
   ]
  },
  {
   "cell_type": "markdown",
   "metadata": {},
   "source": [
    "**Envío del PR inicial:** viernes 21 de septiembre\n",
    "\n",
    "**Aceptación del PR:** martes 25 de septiembre"
   ]
  },
  {
   "cell_type": "markdown",
   "metadata": {},
   "source": [
    "## 1\n",
    "\n",
    "Consideren el mapeo $F(x) = x^2-2$ definido en el intervalo $[-2,2]$. \n",
    "\n",
    "- ¿Qué podemos concluir después de muchos iterados para las condiciones iniciales $x_0=0$, $x_0=0.1$, $x_0=0.001$?\n",
    "    \n",
    "- ¿Qué propiedad hace que el interés en este mapeo sea el intervalo [-2,2]?\n"
   ]
  },
  {
   "cell_type": "markdown",
   "metadata": {},
   "source": [
    "Para facilitar las cosas, conviene definir una función que simplifique el tomar los iterados de una función:"
   ]
  },
  {
   "cell_type": "code",
   "execution_count": null,
   "metadata": {},
   "outputs": [],
   "source": [
    "\"\"\"\n",
    "    iteraciones(f::Function, número_iteraciones::Int, x0)\n",
    "\n",
    "Genera un array unidimensional de tamaño `1 + número_iteraciones` que en la entrada ``i + 1`` tiene al elemento proveniente de iterar `x0` ``ì`` veces con la función `f`. En el caso de ```i = 1``, el valor en el array es igual a la condición inicial usada.\n",
    "\n",
    "# Argumentos\n",
    "\n",
    "Requiere:\n",
    "\n",
    "+ `f`, una función,\n",
    "+ `número_iteraciones`, un entero que dicta el número de iteraciones a realizar, y,\n",
    "+ `x0`, el punto inicial.\n",
    "\n",
    "En particular, la condición inicial suministrada `x0` es convertida a su respectivo flotante antes de calcular los iterados; esto para facilitar el uso de arrays: es necesario que la función que se itera admita valores flotantes o estructuras con valores flotantes.\n",
    "\n",
    "# Ejemplo\n",
    "```julia-repl\n",
    "\n",
    "julia> iteraciones(x->x^2, 5, 2)\n",
    "6-element Array{Int64,1}:\n",
    "          2\n",
    "          4\n",
    "         16\n",
    "        256\n",
    "      65536\n",
    " 4294967296\n",
    "\n",
    "julia> v = x -> [x[1] - x[2], x[1]*x[2]]; iteraciones(v, 2, [1, 3])\n",
    "3-element Array{Array{Float64,1},1}:\n",
    " [1.0, 3.0]  \n",
    " [-2.0, 3.0] \n",
    " [-5.0, -6.0]\n",
    "```\n",
    "\"\"\"\n",
    "function iteraciones(f::Function, número_iteraciones::Int, x0)\n",
    "    \n",
    "    valor = float.(x0)\n",
    "    \n",
    "    iterados = [valor]\n",
    "    \n",
    "    for i in 1:número_iteraciones\n",
    "        \n",
    "        valor = f(valor)\n",
    "        push!(iterados, valor)\n",
    "    end\n",
    "    \n",
    "    return(iterados)\n",
    "end"
   ]
  },
  {
   "cell_type": "markdown",
   "metadata": {},
   "source": [
    "Así como eventualmente el valor de la iteración correspondiente:"
   ]
  },
  {
   "cell_type": "code",
   "execution_count": null,
   "metadata": {},
   "outputs": [],
   "source": [
    "\"\"\"\n",
    "    iterar(f::Function, número_iteraciones::Int, x0)\n",
    "\n",
    "Devuelve el resultado de iterar `número_iteraciones` veces la función `f` con condición inicial `x0`.\n",
    "\n",
    "# Argumentos\n",
    "\n",
    "Requiere:\n",
    "\n",
    "+ `f`, una función,\n",
    "+ `número_iteraciones`, un entero que dicta el número de iteraciones a realizar, y,\n",
    "+ `x0`, el punto inicial.\n",
    "\n",
    "En particular, la condición inicial suministrada `x0` es convertida a su respectivo flotante antes de calcular los iterados; esto para facilitar el uso de arrays: es necesario que la función que se itera admita valores flotantes o estructuras con valores flotantes.\n",
    "\n",
    "# Ejemplo\n",
    "```julia-repl\n",
    "\n",
    "julia> iterar(x->x^2, 5, 2)\n",
    "4294967296\n",
    "\n",
    "julia> v = x -> [x[1] - x[2], x[1]*x[2]]; iterar(v, 2, [1, 3])\n",
    "2-element Array{Float64,1}:\n",
    " -5.0\n",
    " -6.0\n",
    "```\n",
    "\"\"\"\n",
    "function iterar(f::Function, número_iteraciones::Int, x0)\n",
    "    \n",
    "    iterados = iteraciones(f, número_iteraciones, x0)\n",
    "    valor = last(iterados)\n",
    "    \n",
    "    return(valor)\n",
    "end"
   ]
  },
  {
   "cell_type": "markdown",
   "metadata": {},
   "source": [
    "Para la función $ F(x) = x^2 - 2 $, consideremos el resultado de usar las condiciones iniciales dadas iterando $F$ 1000 veces:"
   ]
  },
  {
   "cell_type": "code",
   "execution_count": null,
   "metadata": {},
   "outputs": [],
   "source": [
    "F(x) = x^2 - 2\n",
    "\n",
    "x0 = 0\n",
    "número_iteraciones = 1000\n",
    "\n",
    "iteraciones_F_1 = iteraciones(F, número_iteraciones, x0)"
   ]
  },
  {
   "cell_type": "markdown",
   "metadata": {},
   "source": [
    "Entonces, $x_0 = 0$ es un punto eventualmente periódico, más aún, la órbita a la que converge es de periodo uno, lo que indica que la iteración converge eventualmente a un punto fijo: $x = 2$."
   ]
  },
  {
   "cell_type": "code",
   "execution_count": null,
   "metadata": {},
   "outputs": [],
   "source": [
    "x0 = 0.1\n",
    "iteraciones_F_2 = iteraciones(F, número_iteraciones, x0)"
   ]
  },
  {
   "cell_type": "markdown",
   "metadata": {},
   "source": [
    "No se observa ningún tipo de patrón evidente, aunque una mejor forma de investigar esto es realizando una gráfica:"
   ]
  },
  {
   "cell_type": "code",
   "execution_count": null,
   "metadata": {},
   "outputs": [],
   "source": [
    "using Plots\n",
    "using LaTeXStrings\n",
    "pyplot()\n",
    "\n",
    "scatter(iteraciones_F_2, key = false, xlabel = L\"n\", ylabel = L\"x_n\", title = LaTeXString(\"Primeras 1000 iteraciones de \\$F\\$ con \\$x_0\\$ = $x0\"))"
   ]
  },
  {
   "cell_type": "markdown",
   "metadata": {},
   "source": [
    "No se observa periodicidad, aunque se nota que todos los valores resultantes están en el intervalo [-2, 2]."
   ]
  },
  {
   "cell_type": "code",
   "execution_count": null,
   "metadata": {},
   "outputs": [],
   "source": [
    "x0 = 0.001\n",
    "iteraciones_F_3 = iteraciones(F, número_iteraciones, x0)"
   ]
  },
  {
   "cell_type": "markdown",
   "metadata": {},
   "source": [
    "No se observa ningún tipo de patrón evidente, aunque una mejor forma de investigar esto es realizando una gráfica:"
   ]
  },
  {
   "cell_type": "code",
   "execution_count": null,
   "metadata": {},
   "outputs": [],
   "source": [
    "scatter(iteraciones_F_3, key = false, xlabel = L\"n\", ylabel = L\"x_n\", title = LaTeXString(\"Primeras 1000 iteraciones de \\$F\\$ con \\$x_0\\$ = $x0\"))"
   ]
  },
  {
   "cell_type": "markdown",
   "metadata": {},
   "source": [
    "No se observa periodicidad, aunque se nota que todos los valores resultantes están en el intervalo [-2, 2]."
   ]
  },
  {
   "cell_type": "markdown",
   "metadata": {},
   "source": [
    "Como se pudo observar en los ejemplos, existió un punto que fue eventualmente periódico y otros dos que aparentemente no tienen ningún patrón que sea evidente. Sin embargo, en todos los casos el valor de las iteraciones permanece dentro del intervalo [-2, 2], esto es por lo siguiente:\n",
    "\n",
    "Sea $ x \\in [-2, 2]$, entonces, $x^2 \\in [0, 4] \\implies F(x) = x^2 -2 \\in [-2, 2] $. \n",
    "\n",
    "Esto quiere decir que todas las condiciones iniciales tomadas en el intervalo [-2, 2] son mapeadas al mismo intervalo con la función $F$. Esto, considerando los ejemplos anteriores, nos indica que hay mapeos que no son periódicos o eventualmente periódicos pero acotados."
   ]
  },
  {
   "cell_type": "markdown",
   "metadata": {},
   "source": [
    "## 2\n",
    "\n",
    "Escriban una función cuyos argumentos son la función `F` del mapeo, `x0`, la condición inicial, y `n` el número de iterados del mapeo (un número entero), que genere los `n` iterados del mapeo y haga el análisis gráfico descrito del mapeo. Ilustren el funcionamiento con $F(x)=\\sqrt{x}$.\n",
    "\n",
    "¿Qué pueden concluir de iterar *muchas* veces una condición inicial?"
   ]
  },
  {
   "cell_type": "markdown",
   "metadata": {},
   "source": [
    "Una forma sencilla de implementar lo solicitado es generalizando el código del notebook de clase:"
   ]
  },
  {
   "cell_type": "code",
   "execution_count": null,
   "metadata": {},
   "outputs": [],
   "source": [
    "\"\"\"\n",
    "    análisis_gráfico(f::Function, número_iteraciones::Int, x0::Real, a::Real, b::Real, paso::Real, c::Real, d::Real; title::String = \"\", ylabel::String = \"\\$f(x)\\$\", color = :green)\n",
    "\n",
    "Genera un análisis gráfico de los iterados de la función `f` por el `número_iteraciones` dado con condición inicial `x0`. La ventana de graficación usada está dada por `` [a, b]\\\\times[c, d] ``. Para graficar la función, se usan puntos de muestreo separados por `paso` en el intervalo `` [a,b] ``. El título, el título del eje y y el color de las líneas para los iterados se pueden cambiar usando los mismos argumentos que en `Plots.jl`.\n",
    "\n",
    "# Argumentos\n",
    "\n",
    "Requiere:\n",
    "\n",
    "+ `f`, una función,\n",
    "+ `número_iteraciones`, un entero que dicta el número de iteraciones a realizar,\n",
    "+ `x0`, el punto inicial usado, y,\n",
    "+ `a`, `b`, `c` y `d`, los parámetros usados para establecer la ventana de visualización,\n",
    "\n",
    "En particular, la condición inicial suministrada `x0` es convertida a \n",
    "su respectivo flotante antes de calcular los iterados; esto para facilitar el uso de arrays: es necesario que la función que se itera admita valores flotantes o estructuras con valores flotantes.\n",
    "\n",
    "Opcionalmente se pueden especificar:\n",
    "\n",
    "+ `title`, el título de la gráfica mediante un string,\n",
    "+ `ylabel`, el título del eje y mediante un string, y,\n",
    "+ `color` el color de las líneas usadas para los iterados.\n",
    "\n",
    "En particular, `title` y `ylabel` son interpretados como strings con ecuaciones escritas en  `` \\\\LaTeX `` mediante el comando `LaTeXString`. Esto quiere decir que el texto no es interpretado dentro del entorno matemático de  `` \\\\LaTeX `` sin incluirlo entre pares de  `` \\\\ \\$ `` (signos de dinero escapados).\n",
    "\n",
    "# Ejemplo\n",
    "\n",
    "Para visualizar los primeros cinco iterados de la función `` x \\\\mapsto \\\\sqrt{x} `` en la ventana `` [0, 1] \\\\times [0,1] `` con la función graficada con una resolución de paso igual a 0.01 con condición inicial 0.5 se puede usar el comando:\n",
    "```julia-repl\n",
    "\n",
    "julia> análisis_gráfico(x->sqrt(x), 5, 0.5, 0, 1, 0.01, 0, 1)\n",
    "```\n",
    "\n",
    "Para hacer lo mismo, pero cambiando el título a \"Ejemplo\", el título del eje y a \"Eje y\" y el color de las lineas para los iterados a rojo se puede usar:\n",
    "```julia-repl\n",
    "\n",
    "julia> análisis_gráfico(x->sqrt(x), 5, 0.5, 0, 1, 0.01, 0, 1, title = \"Ejemplo\", ylabel = \"Eje y\", color = :black)\n",
    "```\n",
    "\"\"\"\n",
    "function análisis_gráfico(f::Function, número_iteraciones::Int, x0::Real, a::Real, b::Real, paso::Real, c::Real, d::Real; title::String = \"\", ylabel::String = \"\\$f(x)\\$\", color = :green)\n",
    "\n",
    "    #Convirtiendo los elementos de los puntos muestra a flotantes:\n",
    "    a = float(a)\n",
    "    b = float(b)\n",
    "    paso = float(paso)\n",
    "\n",
    "    #Cargando los iterados:\n",
    "    iterados = iteraciones(f, número_iteraciones, x0)\n",
    "\n",
    "    #Generando la gráfica de la función:\n",
    "    rango_x = a:paso:b\n",
    "    \n",
    "    título = LaTeXString(title)\n",
    "    leyenda_y = LaTeXString(ylabel)\n",
    "    \n",
    "    gráfica = plot(rango_x, f, \n",
    "        xaxis = (L\"x\", (a, b)),\n",
    "        yaxis = (leyenda_y, (c, d)),\n",
    "        legend = false, \n",
    "        title = título, \n",
    "        grid = false)\n",
    "    \n",
    "    #Y de la identidad:\n",
    "    \n",
    "    plot!(gráfica, x -> x, color = :red)\n",
    "    \n",
    "    #El eje x:\n",
    "    \n",
    "    plot!(gráfica, x -> 0, color = :orange)\n",
    "\n",
    "    #Gráfica de los iterados iniciales:\n",
    "    x_0 = iterados[1]\n",
    "    x_1 = iterados[2]\n",
    "\n",
    "    x_iniciales = [x_0, x_0, x_1]\n",
    "    y_iniciales = [0, x_1, x_1]\n",
    "\n",
    "    plot!(gráfica, x_iniciales, y_iniciales, \n",
    "        line=(color, :path, 2.0, :dot), \n",
    "        marker=(:circle, 0.5))\n",
    "\n",
    "    #Gráfica del resto de los iterados:\n",
    "    for i in 2:número_iteraciones\n",
    "\n",
    "        x_actual = iterados[i]\n",
    "        x_siguiente =  iterados[i+1]\n",
    "        \n",
    "        x = [x_actual, x_actual, x_siguiente]\n",
    "        y = [x_actual, x_siguiente, x_siguiente]\n",
    "\n",
    "        plot!(gráfica, x, y, \n",
    "            line=(color, :path, 2.0, :dot), \n",
    "            marker=(:circle, 0.5))\n",
    "    end\n",
    "    \n",
    "    return(gráfica)\n",
    "end"
   ]
  },
  {
   "cell_type": "markdown",
   "metadata": {},
   "source": [
    "Para realizar el análisis de la función $F_2(x) = \\sqrt{x}$ en varias condiciones iniciales se puede utilizar el macro `@manipulate` de la paquetería `Interact.jl`:"
   ]
  },
  {
   "cell_type": "code",
   "execution_count": null,
   "metadata": {},
   "outputs": [],
   "source": [
    "using Interact"
   ]
  },
  {
   "cell_type": "code",
   "execution_count": null,
   "metadata": {},
   "outputs": [],
   "source": [
    "F₂(x) = sqrt(x)\n",
    "número_iteraciones = 5\n",
    "a = 0; b = 5; paso = 0.01; c = 0; d = 3;\n",
    "título = \"Análisis para \\$ F_2(x) = \\\\sqrt{x} \\$\"\n",
    "\n",
    "@manipulate for x0 in 0:0.1:4\n",
    "\n",
    "    análisis_gráfico(F₂, número_iteraciones, x0, a, b, paso, c, d, title = título, color = :black)\n",
    "end\n"
   ]
  },
  {
   "cell_type": "markdown",
   "metadata": {},
   "source": [
    "Como se puede observar, se tienen dos puntos fijos: uno en $x_0 = \\sqrt{x_0} = 0$ y otro en $x_1 = \\sqrt{x_1} = 1$. Más aún, para el muestreo de puntos usado distintos de $x_0$, se observa que $x_1$ tiende a \"atraer\" las trayectorias de otros puntos. Esto se observa gráficamente debido a que las trayectorias generadas se acercan a este punto y el cambio generado por la iteración de la función es menor en la región en torno a $x_1$ en comparación a regiones \"lejanas\" a este punto. Esto se puede observar analíticamente observando que: $0 < x < 1 \\implies 0 < x < \\sqrt{x} < 1 $ y $1 < x \\implies  1 < \\sqrt{x} < x < 1$."
   ]
  },
  {
   "cell_type": "markdown",
   "metadata": {},
   "source": [
    "## 3\n",
    "\n",
    "- Usen el análisis gráfico para encontrar los puntos de periodo dos del mapeo $F(x) = x^2 -1.1$. Den explícitamente los puntos fijos.\n",
    "    \n",
    "- Usen el método de Newton, usando iterados iniciales  sagazmente seleccionados, para obtener los puntos fijos."
   ]
  },
  {
   "cell_type": "markdown",
   "metadata": {},
   "source": [
    "Los puntos fijos de una función $f(x)$ deben satisfacer:\n",
    "\n",
    "$$ x = f(x) \\implies f(x) - x = 0. $$\n",
    "\n",
    "Por lo que, para la función $F_3(x) = x^2 - 1.1$: $ x^2 -x -1.1 = 0 \\implies x = \\frac{1}{2} \\pm \\frac{\\sqrt{1 + 4(1.1)}}{2} = \\frac{1 \\pm \\sqrt{5.4} }{2} $. Esto significa que los dos puntos fijos de la función $F_3$ son: \n",
    "\n",
    "+ $x_0 = \\frac{1 + \\sqrt{5.4} }{2} \\approx 1.6619$, y,\n",
    "+ $x_1 = \\frac{1 - \\sqrt{5.4} }{2} \\approx -0.6619$."
   ]
  },
  {
   "cell_type": "markdown",
   "metadata": {},
   "source": [
    "Realizando el análisis gráfico de la función $F_3(x) = x^2 - 1.1$ con los siguientes parámetros:"
   ]
  },
  {
   "cell_type": "code",
   "execution_count": null,
   "metadata": {},
   "outputs": [],
   "source": [
    "F₃(x) = x^2 - 1.1\n",
    "número_iteraciones = 100\n",
    "a = -3; b = 3; paso = 0.05; c = -1.1; d = 10;\n",
    "título = \"Análisis para \\$ F_3(x) = x^2 - 1.1 \\$\"\n",
    "\n",
    "@manipulate for x0 in -2:0.01:2\n",
    "\n",
    "    gráfica = análisis_gráfico(F₃, número_iteraciones, x0, a, b, paso, c, d, title = título)\n",
    "end"
   ]
  },
  {
   "cell_type": "markdown",
   "metadata": {},
   "source": [
    "Usando estos parámetros se encuentra que $ y_0 \\approx -1.09 $ y $ y_1 \\approx 0.09 $ son dos de los puntos con periodo dos distintos de los puntos de periodo uno $x_0$ y $x_1$. (Ya que un punto fijo por definición es de periodo arbitrario tmabién.) Adicionalmente $ x \\approx -1.48 $ y $ x \\approx 1.09 $ son puntos que aparentan ser eventualmente de periodo 2. \n",
    "\n",
    "Que solo existan cuatro puntos de periodo dos en todo el dominio ($x_0$, $x_1$, $y_0$ y $y_1$), se puede entender usando el teorema fundamental del álgebra de la siguiente forma:\n",
    "\n",
    "Un punto $x^*$ de periodo $n$ de la función $G$ debe de satisfacer que:\n",
    "\n",
    "$$ G^n(x^*) = x^ * \\iff G^n(x^*) - x^* = 0, $$\n",
    "\n",
    "dónde $G^n$ es la función resultante de iterar $ n $ veces la función $G$.\n",
    "\n",
    "Esto implica que los puntos de periodo 2 de $ F_3 $ deben de satisfacer:\n",
    "\n",
    "$$ F_3^2(y) - x^* = F_3(F_3(y)) - y = F_3(y^2 - 1.1) - x^* = (y^2 -1.1)^2 - 1.1 - x^* = (y)^4 - 2.2 y^2 - y - + (1.1)^2 - 1.1 $$\n",
    "\n",
    "Como esto es un polinomio de grado 4, cuanto más, existen cuatro puntos (complejos) que son raíces de esta ecuación- \n",
    "\n",
    "Para conocer los puntos que satisfacen esta ecuación directamente desde Julia, se puede usar el paquete `SymPy.jl`. Para esto, conviene definir una función que de la n-ésima iteración \"simbólica\" de una función dada:"
   ]
  },
  {
   "cell_type": "code",
   "execution_count": null,
   "metadata": {},
   "outputs": [],
   "source": [
    "\"\"\"\n",
    "    función_iterar(f::Function, número_iteraciones::Int)\n",
    "\n",
    "Devuelve la función \"simbólica\" proveniente de iterar `f` el `número_iteraciones` dado.\n",
    "\n",
    "# Argumentos\n",
    "\n",
    "Requiere:\n",
    "\n",
    "+ `f`, una función, y,\n",
    "+ `número_iteraciones`, un entero que dicta el número de iteraciones a realizar.\n",
    "\n",
    "# Ejemplo\n",
    "```julia-repl\n",
    "\n",
    "julia> f = x -> x^2 - 1; g = función_iterar(f, 2); g(1)\n",
    "-1\n",
    "\n",
    "julia> f = x -> x^2 - 1; g = función_iterar(f, 2); g(0)\n",
    "0\n",
    "```\n",
    "\"\"\"\n",
    "function función_iterar(f::Function, número_iteraciones::Int)\n",
    "    \n",
    "    if número_iteraciones == 1\n",
    "        \n",
    "        return(f)\n",
    "        \n",
    "    else\n",
    "        \n",
    "        return(x -> f(función_iterar(f, número_iteraciones - 1)(x)))\n",
    "            \n",
    "    end\n",
    "end"
   ]
  },
  {
   "cell_type": "markdown",
   "metadata": {},
   "source": [
    "La función cuyas raíces son los puntos de periodo $k$ de $F_3$ está dada por:"
   ]
  },
  {
   "cell_type": "code",
   "execution_count": null,
   "metadata": {},
   "outputs": [],
   "source": [
    "puntos_fijos_F₃(k, x) = función_iterar(F₃, k)(x) - x\n",
    "puntos_fijos_F₃(k) = x -> puntos_fijos_F₃(k, x)"
   ]
  },
  {
   "cell_type": "markdown",
   "metadata": {},
   "source": [
    "Los puntos de periodo uno son:"
   ]
  },
  {
   "cell_type": "code",
   "execution_count": null,
   "metadata": {
    "scrolled": true
   },
   "outputs": [],
   "source": [
    "using SymPy\n",
    "\n",
    "y = Sym(\"y\")\n",
    "puntos_fijos = solve(puntos_fijos_F₃(1)(y))"
   ]
  },
  {
   "cell_type": "markdown",
   "metadata": {},
   "source": [
    "Y los puntos de periodo dos son:"
   ]
  },
  {
   "cell_type": "code",
   "execution_count": null,
   "metadata": {},
   "outputs": [],
   "source": [
    "puntos_periodo_2 = solve(puntos_fijos_F₃(2)(y)) |> float"
   ]
  },
  {
   "cell_type": "markdown",
   "metadata": {},
   "source": [
    "Como se puede observar, los puntos estudiados gráficamente son obtenidos numéricamente a partir de métodos simbólicos.\n",
    "\n",
    "Obsérvese que esto no quiere decir que los únicos puntos que generan trayectorias eventualmente de periodo dos sean estos, sino que si algún punto ($ x \\approx -1.48, 1.09 $, por ejemplo) contiene a alguno de los cuatro puntos mencionados como algún iterado, la trayectoria \"final\" de estos es idéntica a la \"total\" de los cuatro puntos mencionados.\n",
    "\n",
    "Finalmente, para apreciar que en efecto estos puntos son los de periodo dos:"
   ]
  },
  {
   "cell_type": "code",
   "execution_count": null,
   "metadata": {},
   "outputs": [],
   "source": [
    "using Colors"
   ]
  },
  {
   "cell_type": "code",
   "execution_count": null,
   "metadata": {},
   "outputs": [],
   "source": [
    "número_iteraciones = 100\n",
    "a = -2; b = 2; paso = 0.05; c = -1.1; d = 3;\n",
    "colores = colormap(\"Greens\", 8)\n",
    "gráfica_comparativa = []\n",
    "\n",
    "for i in 1:4\n",
    "    \n",
    "    x0 = puntos_periodo_2[i]\n",
    "    título = \" \\$ x_0 \\$ = $x0\"\n",
    "    título_y = \" \\$ F_3(x) \\$\"\n",
    "    color_línea = colores[2*i]\n",
    "\n",
    "    gráfica = análisis_gráfico(F₃, número_iteraciones, x0, a, b, paso, c, d, title = título, ylabel = título_y, color = color_línea)\n",
    "    \n",
    "    push!(gráfica_comparativa, gráfica)\n",
    "end\n",
    "\n",
    "plot(gráfica_comparativa[1], gráfica_comparativa[2], gráfica_comparativa[3], gráfica_comparativa[4])"
   ]
  },
  {
   "cell_type": "markdown",
   "metadata": {},
   "source": [
    "Y los puntos eventualmente periódicos encontrados son:"
   ]
  },
  {
   "cell_type": "code",
   "execution_count": null,
   "metadata": {},
   "outputs": [],
   "source": [
    "número_iteraciones = 100\n",
    "a = -2; b = 2; paso = 0.05; c = -1.1; d = 3;\n",
    "colores = colormap(\"Greens\", 6)\n",
    "gráfica_eventualmente_periódicos = []\n",
    "\n",
    "for i in 1:2\n",
    "    \n",
    "    x0 = [-1.48, 1.09][i]\n",
    "    título = \" \\$ x_0 \\$ = $x0\"\n",
    "    título_y = \" \\$ F_3(x) \\$\"\n",
    "    color_línea = colores[2*i + 2]\n",
    "\n",
    "    gráfica = análisis_gráfico(F₃, número_iteraciones, x0, a, b, paso, c, d, title = título, ylabel = título_y, color = color_línea)\n",
    "    \n",
    "    push!(gráfica_eventualmente_periódicos, gráfica)\n",
    "end\n",
    "\n",
    "plot(gráfica_eventualmente_periódicos[1], gráfica_eventualmente_periódicos[2])"
   ]
  },
  {
   "cell_type": "markdown",
   "metadata": {},
   "source": [
    "Una idea para encontrar otros puntos que son eventualmente periódicos es ver las raíces de la función cuando esta es igualada a algún punto de periodo conocido. Descartando los puntos que ya se saben forman parte de la órbita o son otros puntos eventualmente periódicos permiten tener una lista de puntos que poseen órbitas eventualmente periódicas. \n",
    "\n",
    "Para poder encontrar los puntos de periodo 2 usando herramientas desarrolladas en el curso, conviene cargar los siguientes [módulos](https://docs.julialang.org/en/v1/manual/modules/): "
   ]
  },
  {
   "cell_type": "code",
   "execution_count": null,
   "metadata": {},
   "outputs": [],
   "source": [
    "push!(LOAD_PATH, \"/../Código\")\n",
    "\n",
    "using Newton\n",
    "using DifAutom"
   ]
  },
  {
   "cell_type": "markdown",
   "metadata": {},
   "source": [
    "Definiendo la derivada de la función para calcular los puntos fijos usando duales:"
   ]
  },
  {
   "cell_type": "code",
   "execution_count": null,
   "metadata": {},
   "outputs": [],
   "source": [
    "puntos_fijos_F₃_prime(k) = x -> derivada_dual(puntos_fijos_F₃(k), x)"
   ]
  },
  {
   "cell_type": "markdown",
   "metadata": {},
   "source": [
    "Para poder determinar algunas condiciones iniciales de interés, conviene graficar la función cuyas raíces son los puntos de periodo 1:"
   ]
  },
  {
   "cell_type": "code",
   "execution_count": null,
   "metadata": {},
   "outputs": [],
   "source": [
    "plot(-2:0.01:2, puntos_fijos_F₃(1), key = false, title = \"Gráfica de la función para determinar puntos fijos\", xlabel = L\"x\", ylabel = L\"F_3(x) - x\")"
   ]
  },
  {
   "cell_type": "markdown",
   "metadata": {},
   "source": [
    "Como se puede observar, tomando $x_0 = \\pm 2$, probablemente se tienen los puntos fijos de $F_3$ como resultado de aplicar el método de Newton a la función anterior.\n",
    "\n",
    "Calculando los puntos fijos usando el método de Newton en la función adecuada (`puntos_fijos_F₃(k)` con $k = 1$):"
   ]
  },
  {
   "cell_type": "code",
   "execution_count": null,
   "metadata": {},
   "outputs": [],
   "source": [
    "k = 1\n",
    "\n",
    "@show x0 = 2\n",
    "@show newton(puntos_fijos_F₃(k), puntos_fijos_F₃_prime(k), x0)\n",
    "\n",
    "@show x0 = -2\n",
    "@show newton(puntos_fijos_F₃(k), puntos_fijos_F₃_prime(k), x0);"
   ]
  },
  {
   "cell_type": "markdown",
   "metadata": {},
   "source": [
    "Se obseva un acuerdo \"suficiente\" (un ligero desacuerdo en la última cifra decimal en uno de los puntos) con los puntos fijos calculados numéricamente por `SymPy.jl` y el cálculo numérico con herramientas desarrolladas en el curso. Más aún, como:"
   ]
  },
  {
   "cell_type": "code",
   "execution_count": null,
   "metadata": {},
   "outputs": [],
   "source": [
    "@show (1 - sqrt(5.4))/2\n",
    "@show (1 + sqrt(5.4))/2;"
   ]
  },
  {
   "cell_type": "markdown",
   "metadata": {},
   "source": [
    "Se observa un acuerdo en general con los resultados obtenidos analítica y numéricamente."
   ]
  },
  {
   "cell_type": "markdown",
   "metadata": {},
   "source": [
    "## 4\n",
    "\n",
    "Hagan un análisis completo de las posibles órbitas de los siguientes mapeos, usando distintos colores para distintas órbitas. Interesa entre otras cosas saber cuántos puntos fijos tiene y cómo es la dinámica cerca de ésos puntos.\n",
    "\n",
    "- $F_1(x) = \\frac{1}{3x}$.\n",
    "\n",
    "- $F_2(x) = -\\frac{x^5}{5}$.\n",
    "\n",
    "- $F_3(x) = \\frac{x}{2}-2$."
   ]
  },
  {
   "cell_type": "code",
   "execution_count": null,
   "metadata": {},
   "outputs": [],
   "source": []
  },
  {
   "cell_type": "markdown",
   "metadata": {},
   "source": [
    "## 5\n",
    "\n",
    "- Para el mapeo mapeo $F(x) = x^2-2$ en el intervalo $[-2,2]$ (ejercicio 1), consideren un punto al azar en el intervalo $[-2,2]$ y construyan una órbita muy larga, por ejemplo, de $20\\,000$ iterados. Obtengan el histograma de frecuencia (normalizado) de visita de los puntos de la órbita. ¿Qué conclusión podemos sacar de este histograma?\n",
    "\n",
    "- \\Repitan el inciso anterior para el mapeo: $G(x) = 2x \\mod 1$ en el intervalo [0,1].\n",
    "\n",
    "(NOTA: En cuanto al histograma, pueden construir su propia función que haga el histograma, o buscar en las entrañas de la documentación.)"
   ]
  },
  {
   "cell_type": "code",
   "execution_count": null,
   "metadata": {},
   "outputs": [],
   "source": []
  },
  {
   "cell_type": "markdown",
   "metadata": {},
   "source": [
    "## 6\n",
    "\n",
    "Analicen los mapeos\n",
    "\n",
    "- F(x) = x^2,\n",
    "\n",
    "- F(x) = x^3,\n",
    "\n",
    "- F(x) = -x^3,\n",
    "\n",
    "que se satisface $F(0) = F'(0) = 0$. ¿Qué podemos decir de la convergencia?"
   ]
  },
  {
   "cell_type": "code",
   "execution_count": null,
   "metadata": {},
   "outputs": [],
   "source": []
  },
  {
   "cell_type": "markdown",
   "metadata": {},
   "source": [
    "## 7\n",
    "\n",
    "Analicen los mapeos\n",
    "\n",
    "- F(x) = x,\n",
    "\n",
    "- F(x) = -x,\n",
    "\n",
    "- F(x) = x-x^2,\n",
    "\n",
    "que se satisface $F(0) = 0$ y $|F'(0)| = 1$. (Este tipo de puntos son *neutralmente* atractivos o repulsivos.) ¿Qué podemos decir de la convergencia?"
   ]
  },
  {
   "cell_type": "code",
   "execution_count": null,
   "metadata": {},
   "outputs": [],
   "source": []
  },
  {
   "cell_type": "markdown",
   "metadata": {},
   "source": [
    "## 8\n",
    "\n",
    "En el ejercicio 3, implementaron el análisis gráfico (y el método de Newton) para encontrar los puntos de periodo dos del mapeo $F(x) = x^2 -1.1$. Usen el módulo de duales para mostrar la estabilidad de esos puntos."
   ]
  },
  {
   "cell_type": "code",
   "execution_count": null,
   "metadata": {},
   "outputs": [],
   "source": []
  }
 ],
 "metadata": {
  "kernel_info": {
   "name": "julia-0.6"
  },
  "kernelspec": {
   "display_name": "Julia 1.0.0",
   "language": "julia",
   "name": "julia-1.0"
  },
  "language_info": {
   "file_extension": ".jl",
   "mimetype": "application/julia",
   "name": "julia",
   "version": "1.0.0"
  },
  "nteract": {
   "version": "0.11.6"
  }
 },
 "nbformat": 4,
 "nbformat_minor": 2
}
