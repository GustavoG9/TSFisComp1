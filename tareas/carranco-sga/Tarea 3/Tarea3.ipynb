{
 "cells": [
  {
   "cell_type": "markdown",
   "metadata": {},
   "source": [
    "# Tarea 1"
   ]
  },
  {
   "cell_type": "markdown",
   "metadata": {},
   "source": [
    "**Envío del PR inicial:** viernes 21 de septiembre\n",
    "\n",
    "**Aceptación del PR:** martes 25 de septiembre"
   ]
  },
  {
   "cell_type": "markdown",
   "metadata": {},
   "source": [
    "## 1\n",
    "\n",
    "Consideren el mapeo $F(x) = x^2-2$ definido en el intervalo $[-2,2]$. \n",
    "\n",
    "- ¿Qué podemos concluir después de muchos iterados para las condiciones iniciales $x_0=0$, $x_0=0.1$, $x_0=0.001$?\n",
    "    \n",
    "- ¿Qué propiedad hace que el interés en este mapeo sea el intervalo [-2,2]?\n"
   ]
  },
  {
   "cell_type": "markdown",
   "metadata": {},
   "source": [
    "Para facilitar las cosas, conviene definir una función que simplifique el tomar los iterados de una función:"
   ]
  },
  {
   "cell_type": "code",
   "execution_count": null,
   "metadata": {},
   "outputs": [],
   "source": [
    "\"\"\"\n",
    "    iteraciones(f::Function, número_iteraciones::Int, x0)\n",
    "\n",
    "Genera un array unidimensional de tamaño `1 + número_iteraciones` que en la entrada ``i + 1`` tiene al elemento proveniente de iterar `x0` ``ì`` veces con la función `f`. En el caso de ```i = 1``, el valor en el array es igual a la condición inicial usada.\n",
    "\n",
    "# Argumentos\n",
    "\n",
    "Requiere:\n",
    "\n",
    "+ `f`, una función,\n",
    "+ `número_iteraciones`, un entero que dicta el número de iteraciones a realizar, y,\n",
    "+ `x0`, el punto inicial.\n",
    "\n",
    "En particular, la condición inicial suministrada `x0` es convertida a su respectivo flotante antes de calcular los iterados; esto para facilitar el uso de arrays: es necesario que la función que se itera admita valores flotantes o estructuras con valores flotantes.\n",
    "\n",
    "# Ejemplo\n",
    "```julia-repl\n",
    "\n",
    "julia> iteraciones(x->x^2, 5, 2)\n",
    "6-element Array{Int64,1}:\n",
    "          2\n",
    "          4\n",
    "         16\n",
    "        256\n",
    "      65536\n",
    " 4294967296\n",
    "\n",
    "julia> v = x -> [x[1] - x[2], x[1]*x[2]]; iteraciones(v, 2, [1, 3])\n",
    "3-element Array{Array{Float64,1},1}:\n",
    " [1.0, 3.0]  \n",
    " [-2.0, 3.0] \n",
    " [-5.0, -6.0]\n",
    "```\n",
    "\"\"\"\n",
    "function iteraciones(f::Function, número_iteraciones::Int, x0)\n",
    "    \n",
    "    valor = float.(x0)\n",
    "    \n",
    "    iterados = [valor]\n",
    "    \n",
    "    for i in 1:número_iteraciones\n",
    "        \n",
    "        valor = f(valor)\n",
    "        push!(iterados, valor)\n",
    "    end\n",
    "    \n",
    "    return(iterados)\n",
    "end"
   ]
  },
  {
   "cell_type": "markdown",
   "metadata": {},
   "source": [
    "Así como eventualmente el valor de la iteración correspondiente:"
   ]
  },
  {
   "cell_type": "code",
   "execution_count": null,
   "metadata": {},
   "outputs": [],
   "source": [
    "\"\"\"\n",
    "    iterar(f::Function, número_iteraciones::Int, x0)\n",
    "\n",
    "Devuelve el resultado de iterar `número_iteraciones` veces la función `f` con condición inicial `x0`.\n",
    "\n",
    "# Argumentos\n",
    "\n",
    "Requiere:\n",
    "\n",
    "+ `f`, una función,\n",
    "+ `número_iteraciones`, un entero que dicta el número de iteraciones a realizar, y,\n",
    "+ `x0`, el punto inicial.\n",
    "\n",
    "En particular, la condición inicial suministrada `x0` es convertida a su respectivo flotante antes de calcular los iterados; esto para facilitar el uso de arrays: es necesario que la función que se itera admita valores flotantes o estructuras con valores flotantes.\n",
    "\n",
    "# Ejemplo\n",
    "```julia-repl\n",
    "\n",
    "julia> iterar(x->x^2, 5, 2)\n",
    "4294967296\n",
    "\n",
    "julia> v = x -> [x[1] - x[2], x[1]*x[2]]; iterar(v, 2, [1, 3])\n",
    "2-element Array{Float64,1}:\n",
    " -5.0\n",
    " -6.0\n",
    "```\n",
    "\"\"\"\n",
    "function iterar(f::Function, número_iteraciones::Int, x0)\n",
    "    \n",
    "    iterados = iteraciones(f, número_iteraciones, x0)\n",
    "    valor = last(iterados)\n",
    "    \n",
    "    return(valor)\n",
    "end"
   ]
  },
  {
   "cell_type": "markdown",
   "metadata": {},
   "source": [
    "Para la función $ F(x) = x^2 - 2 $, consideremos el resultado de usar las condiciones iniciales dadas iterando $F$ 1000 veces:"
   ]
  },
  {
   "cell_type": "code",
   "execution_count": null,
   "metadata": {},
   "outputs": [],
   "source": [
    "F(x) = x^2 - 2\n",
    "\n",
    "x0 = 0\n",
    "número_iteraciones = 1000\n",
    "\n",
    "iteraciones_F_1 = iteraciones(F, número_iteraciones, x0)"
   ]
  },
  {
   "cell_type": "markdown",
   "metadata": {},
   "source": [
    "Entonces, $x_0 = 0$ es un punto eventualmente periódico, más aún, la órbita a la que converge es de periodo uno, lo que indica que la iteración converge eventualmente a un punto fijo: $x = 2$."
   ]
  },
  {
   "cell_type": "code",
   "execution_count": null,
   "metadata": {},
   "outputs": [],
   "source": [
    "x0 = 0.1\n",
    "iteraciones_F_2 = iteraciones(F, número_iteraciones, x0)"
   ]
  },
  {
   "cell_type": "markdown",
   "metadata": {},
   "source": [
    "No se observa ningún tipo de patrón evidente, aunque una mejor forma de investigar esto es realizando una gráfica:"
   ]
  },
  {
   "cell_type": "code",
   "execution_count": null,
   "metadata": {},
   "outputs": [],
   "source": [
    "using Plots\n",
    "using LaTeXStrings\n",
    "pyplot()\n",
    "\n",
    "scatter(iteraciones_F_2, key = false, xlabel = L\"n\", ylabel = L\"x_n\", title = LaTeXString(\"Primeras 1000 iteraciones de \\$F\\$ con \\$x_0\\$ = $x0\"))"
   ]
  },
  {
   "cell_type": "markdown",
   "metadata": {},
   "source": [
    "No se observa periodicidad, aunque se nota que todos los valores resultantes están en el intervalo [-2, 2]."
   ]
  },
  {
   "cell_type": "code",
   "execution_count": null,
   "metadata": {},
   "outputs": [],
   "source": [
    "x0 = 0.001\n",
    "iteraciones_F_3 = iteraciones(F, número_iteraciones, x0)"
   ]
  },
  {
   "cell_type": "markdown",
   "metadata": {},
   "source": [
    "No se observa ningún tipo de patrón evidente, aunque una mejor forma de investigar esto es realizando una gráfica:"
   ]
  },
  {
   "cell_type": "code",
   "execution_count": null,
   "metadata": {},
   "outputs": [],
   "source": [
    "scatter(iteraciones_F_3, key = false, xlabel = L\"n\", ylabel = L\"x_n\", title = LaTeXString(\"Primeras 1000 iteraciones de \\$F\\$ con \\$x_0\\$ = $x0\"))"
   ]
  },
  {
   "cell_type": "markdown",
   "metadata": {},
   "source": [
    "No se observa periodicidad, aunque se nota que todos los valores resultantes están en el intervalo [-2, 2]."
   ]
  },
  {
   "cell_type": "markdown",
   "metadata": {},
   "source": [
    "Como se pudo observar en los ejemplos, existió un punto que fue eventualmente periódico y otros dos que aparentemente no tienen ningún patrón que sea evidente. Sin embargo, en todos los casos el valor de las iteraciones permanece dentro del intervalo [-2, 2], esto es por lo siguiente:\n",
    "\n",
    "Sea $ x \\in [-2, 2]$, entonces, $x^2 \\in [0, 4] \\implies F(x) = x^2 -2 \\in [-2, 2] $. \n",
    "\n",
    "Esto quiere decir que todas las condiciones iniciales tomadas en el intervalo [-2, 2] son mapeadas al mismo intervalo con la función $F$. Esto, considerando los ejemplos anteriores, nos indica que hay mapeos que no son periódicos o eventualmente periódicos pero acotados."
   ]
  },
  {
   "cell_type": "markdown",
   "metadata": {},
   "source": [
    "## 2\n",
    "\n",
    "Escriban una función cuyos argumentos son la función `F` del mapeo, `x0`, la condición inicial, y `n` el número de iterados del mapeo (un número entero), que genere los `n` iterados del mapeo y haga el análisis gráfico descrito del mapeo. Ilustren el funcionamiento con $F(x)=\\sqrt{x}$.\n",
    "\n",
    "¿Qué pueden concluir de iterar *muchas* veces una condición inicial?"
   ]
  },
  {
   "cell_type": "markdown",
   "metadata": {},
   "source": [
    "Una forma sencilla de implementar lo solicitado es generalizando el código anterior:"
   ]
  },
  {
   "cell_type": "code",
   "execution_count": null,
   "metadata": {},
   "outputs": [],
   "source": [
    "\"\"\"\n",
    "    análisis_gráfico(f::Function, número_iteraciones::Int, x0::Real, a::Real, b::Real, paso::Real, c::Real, d::Real; title::String = \"\", ylabel::String = \"\\$f(x)\\$\", color = :green)\n",
    "\n",
    "Genera un análisis gráfico de los iterados de la función `f` por el `número_iteraciones` dado con condición inicial `x0`. La ventana de graficación usada está dada por \\$ [a, b]\\times[c, d] \\$. Para graficar la función, se usan puntos de muestreo separados por `paso` en el intervalo \\$ [a,b]\\$. El título, el título del eje y y el color de las líneas para los iterados se pueden cambiar usando los mismos argumentos que en `Plots.jl`.\n",
    "\n",
    "# Argumentos\n",
    "\n",
    "Requiere:\n",
    "\n",
    "+ `f`, una función,\n",
    "+ `número_iteraciones`, un entero que dicta el número de iteraciones a realizar,\n",
    "+ `x0`, el punto inicial usado, y,\n",
    "+ `a`, `b`, `c` y `d`, los parámetros usados para establecer la ventana de visualización,\n",
    "\n",
    "En particular, la condición inicial suministrada `x0` es convertida a \n",
    "su respectivo flotante antes de calcular los iterados; esto para facilitar el uso de arrays: es necesario que la función que se itera admita valores flotantes o estructuras con valores flotantes.\n",
    "\n",
    "Opcionalmente se pueden especificar:\n",
    "\n",
    "+ `title`, el título de la gráfica mediante un string,\n",
    "+ `ylabel`, el título del eje y mediante un string, y,\n",
    "+ `color` el color de las líneas usadas para los iterados.\n",
    "\n",
    "En particular, `title` y `ylabel` son interpretados como strings con ecuaciones escritas en \\$ \\LaTeX \\$ mediante el comando `LaTeXString`. Esto quiere decir que el texto no es interpretado dentro del entorno matemático de \\$ \\LaTeX \\$ sin incluirlo entre pares de `\\\\ \\$` (signos de dinero escapados).\n",
    "\n",
    "# Ejemplo\n",
    "\n",
    "Para visualizar los primeros cinco iterados de la función \\$ x \\mapsto \\sqrt(x) \\$ en la ventana \\$ [0, 1] \\times [0,1] \\$ con la función graficada con una resolución de paso igual a 0.01 con condición inicial 0.5 se puede usar el comando:\n",
    "```julia-repl\n",
    "\n",
    "julia> análisis_gráfico(x->sqrt(x), 5, 0.5, 0, 1, 0.01, 0, 1)\n",
    "```\n",
    "\n",
    "Para hacer lo mismo, pero cambiando el título a \"Ejemplo\", el título del eje y a \"Eje y\" y el color de las lineas para los iterados a rojo se puede usar:\n",
    "```julia-repl\n",
    "\n",
    "julia> análisis_gráfico(x->sqrt(x), 5, 0.5, 0, 1, 0.01, 0, 1, title = \"Ejemplo\", ylabel = \"Eje y\", color = :black)\n",
    "```\n",
    "\"\"\"\n",
    "function análisis_gráfico(f::Function, número_iteraciones::Int, x0::Real, a::Real, b::Real, paso::Real, c::Real, d::Real; title::String = \"\", ylabel::String = \"\\$f(x)\\$\", color = :green)\n",
    "\n",
    "    #Convirtiendo los elementos de los puntos muestra a flotantes:\n",
    "    a = float(a)\n",
    "    b = float(b)\n",
    "    paso = float(paso)\n",
    "\n",
    "    #Cargando los iterados:\n",
    "    iterados = iteraciones(f, número_iteraciones, x0)\n",
    "\n",
    "    #Generando la gráfica de la función:\n",
    "    rango_x = a:paso:b\n",
    "    \n",
    "    título = LaTeXString(title)\n",
    "    leyenda_y = LaTeXString(ylabel)\n",
    "    \n",
    "    gráfica = plot(rango_x, f, \n",
    "        xaxis = (L\"x\", (a, b)),\n",
    "        yaxis = (leyenda_y, (c, d)),\n",
    "        legend = false, \n",
    "        title = título, \n",
    "        grid = false)\n",
    "    \n",
    "    #Y de la identidad:\n",
    "    \n",
    "    plot!(gráfica, x -> x, color = :red)\n",
    "\n",
    "    #Gráfica de los iterados iniciales:\n",
    "    x_0 = iterados[1]\n",
    "    x_1 = iterados[2]\n",
    "\n",
    "    x_iniciales = [x_0, x_0, x_1]\n",
    "    y_iniciales = [0, x_1, x_1]\n",
    "\n",
    "    plot!(gráfica, x_iniciales, y_iniciales, \n",
    "        line=(color, :path, 2.0, :dot), \n",
    "        marker=(:circle, 0.5))\n",
    "\n",
    "    #Gráfica del resto de los iterados:\n",
    "    for i in 2:número_iteraciones\n",
    "\n",
    "        x_actual = iterados[i]\n",
    "        x_siguiente =  iterados[i+1]\n",
    "        \n",
    "        x = [x_actual, x_actual, x_siguiente]\n",
    "        y = [x_actual, x_siguiente, x_siguiente]\n",
    "\n",
    "        plot!(gráfica, x, y, \n",
    "            line=(color, :path, 2.0, :dot), \n",
    "            marker=(:circle, 0.5))\n",
    "    end\n",
    "    \n",
    "    return(gráfica)\n",
    "end"
   ]
  },
  {
   "cell_type": "markdown",
   "metadata": {},
   "source": [
    "Para realizar el análisis de la función $F(x) = \\sqrt{x}$ en varias condiciones iniciales se puede utilizar el macro `@manipulate` de la paquetería `Interact.jl`:"
   ]
  },
  {
   "cell_type": "code",
   "execution_count": null,
   "metadata": {},
   "outputs": [],
   "source": [
    "using Interact"
   ]
  },
  {
   "cell_type": "code",
   "execution_count": null,
   "metadata": {},
   "outputs": [],
   "source": [
    "F(x) = sqrt(x)\n",
    "número_iteraciones = 5\n",
    "a = 0; b = 5; paso = 0.01; c = 0; d = 3;\n",
    "título = \"Análisis para \\$ F(x) = \\\\sqrt{x} \\$\"\n",
    "\n",
    "@manipulate for x0 in 0:0.1:4\n",
    "\n",
    "    análisis_gráfico(F, número_iteraciones, x0, a, b, paso, c, d, title = título, color = :black)\n",
    "end\n"
   ]
  },
  {
   "cell_type": "markdown",
   "metadata": {},
   "source": [
    "Como se puede observar, se tienen dos puntos fijos: uno en $x_0 = \\sqrt{x_0} = 0$ y otro en $x_1 = \\sqrt{x_1} = 1$. Más aún, para el muestreo de puntos usado distintos de $x_0$, se observa que $x_1$ tiende a \"atraer\" las trayectorias de otros puntos. Esto se observa gráficamente debido a que las trayectorias generadas se acercan a este punto y el cambio generado por la iteración de la función es menor en la región en torno a $x_1$ en comparación a regiones \"lejanas\" a este punto. Esto se puede observar analíticamente observando que: $0 < x < 1 \\implies 0 < x < \\sqrt{x} < 1 $ y $1 < x \\implies  1 < \\sqrt{x} < x < 1$."
   ]
  },
  {
   "cell_type": "markdown",
   "metadata": {},
   "source": [
    "## 3\n",
    "\n",
    "- Usen el análisis gráfico para encontrar los puntos de periodo dos del mapeo $F(x) = x^2 -1.1$. Den explícitamente los puntos fijos.\n",
    "    \n",
    "- Usen el método de Newton, usando iterados iniciales  sagazmente seleccionados, para obtener los puntos fijos."
   ]
  },
  {
   "cell_type": "code",
   "execution_count": null,
   "metadata": {},
   "outputs": [],
   "source": []
  },
  {
   "cell_type": "markdown",
   "metadata": {},
   "source": [
    "## 4\n",
    "\n",
    "Hagan un análisis completo de las posibles órbitas de los siguientes mapeos, usando distintos colores para distintas órbitas. Interesa entre otras cosas saber cuántos puntos fijos tiene y cómo es la dinámica cerca de ésos puntos.\n",
    "\n",
    "- $F_1(x) = \\frac{1}{3x}$.\n",
    "\n",
    "- $F_2(x) = -\\frac{x^5}{5}$.\n",
    "\n",
    "- $F_3(x) = \\frac{x}{2}-2$."
   ]
  },
  {
   "cell_type": "code",
   "execution_count": null,
   "metadata": {},
   "outputs": [],
   "source": []
  },
  {
   "cell_type": "markdown",
   "metadata": {},
   "source": [
    "## 5\n",
    "\n",
    "- Para el mapeo mapeo $F(x) = x^2-2$ en el intervalo $[-2,2]$ (ejercicio 1), consideren un punto al azar en el intervalo $[-2,2]$ y construyan una órbita muy larga, por ejemplo, de $20\\,000$ iterados. Obtengan el histograma de frecuencia (normalizado) de visita de los puntos de la órbita. ¿Qué conclusión podemos sacar de este histograma?\n",
    "\n",
    "- \\Repitan el inciso anterior para el mapeo: $G(x) = 2x \\mod 1$ en el intervalo [0,1].\n",
    "\n",
    "(NOTA: En cuanto al histograma, pueden construir su propia función que haga el histograma, o buscar en las entrañas de la documentación.)"
   ]
  },
  {
   "cell_type": "code",
   "execution_count": null,
   "metadata": {},
   "outputs": [],
   "source": []
  },
  {
   "cell_type": "markdown",
   "metadata": {},
   "source": [
    "## 6\n",
    "\n",
    "Analicen los mapeos\n",
    "\n",
    "- F(x) = x^2,\n",
    "\n",
    "- F(x) = x^3,\n",
    "\n",
    "- F(x) = -x^3,\n",
    "\n",
    "que se satisface $F(0) = F'(0) = 0$. ¿Qué podemos decir de la convergencia?"
   ]
  },
  {
   "cell_type": "code",
   "execution_count": null,
   "metadata": {},
   "outputs": [],
   "source": []
  },
  {
   "cell_type": "markdown",
   "metadata": {},
   "source": [
    "## 7\n",
    "\n",
    "Analicen los mapeos\n",
    "\n",
    "- F(x) = x,\n",
    "\n",
    "- F(x) = -x,\n",
    "\n",
    "- F(x) = x-x^2,\n",
    "\n",
    "que se satisface $F(0) = 0$ y $|F'(0)| = 1$. (Este tipo de puntos son *neutralmente* atractivos o repulsivos.) ¿Qué podemos decir de la convergencia?"
   ]
  },
  {
   "cell_type": "code",
   "execution_count": null,
   "metadata": {},
   "outputs": [],
   "source": []
  },
  {
   "cell_type": "markdown",
   "metadata": {},
   "source": [
    "## 8\n",
    "\n",
    "En el ejercicio 3, implementaron el análisis gráfico (y el método de Newton) para encontrar los puntos de periodo dos del mapeo $F(x) = x^2 -1.1$. Usen el módulo de duales para mostrar la estabilidad de esos puntos."
   ]
  },
  {
   "cell_type": "code",
   "execution_count": null,
   "metadata": {},
   "outputs": [],
   "source": []
  }
 ],
 "metadata": {
  "kernel_info": {
   "name": "julia-0.6"
  },
  "kernelspec": {
   "display_name": "Julia 1.0.0",
   "language": "julia",
   "name": "julia-1.0"
  },
  "language_info": {
   "file_extension": ".jl",
   "mimetype": "application/julia",
   "name": "julia",
   "version": "1.0.0"
  },
  "nteract": {
   "version": "0.11.6"
  }
 },
 "nbformat": 4,
 "nbformat_minor": 2
}
