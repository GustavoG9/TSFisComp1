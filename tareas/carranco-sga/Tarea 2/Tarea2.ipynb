{
 "cells": [
  {
   "cell_type": "markdown",
   "metadata": {},
   "source": [
    "# Tarea 2"
   ]
  },
  {
   "cell_type": "markdown",
   "metadata": {},
   "source": [
    "**Envío del PR inicial: 07.09.2018**\n",
    "\n",
    "**Aceptación del PR: 14.09.2018**"
   ]
  },
  {
   "cell_type": "markdown",
   "metadata": {},
   "source": [
    "## 1\n",
    "\n",
    "Extiendan los operadores `+`, `-`, `*` y `/` para que funcionen cuando una de las dos entradas es un `Dual` y la otra es un `Real` (número cualquiera), sin importar el orden."
   ]
  },
  {
   "cell_type": "markdown",
   "metadata": {},
   "source": [
    "Es necesario cargar la definición del tipo `Dual` y las operaciones extendidas para este tipo desarrollado en el [notebook 3](https://github.com/lbenet/TSFisComp1/blob/master/notas_clase/03_DiferenciacionAutomatica.ipynb):"
   ]
  },
  {
   "cell_type": "code",
   "execution_count": 1,
   "metadata": {
    "scrolled": false
   },
   "outputs": [],
   "source": [
    "#Definición del tipo Dual.\n",
    "# *Nota*: Se cambió el nombre del campo \"diferencial\" a algo que pueda escribir de manera más sencilla, de `  x′ ` a ` x´ ` (el apóstrofe usado).\n",
    "\"\"\"\n",
    "        Dual\n",
    "\n",
    "    Definición de los números duales. Los campos internos son:\n",
    "\n",
    "        x  :: Float64   # valor de la función\n",
    "        x´ :: Float64   # valor de su derivada\n",
    "\n",
    "\"\"\"\n",
    "struct Dual\n",
    "    x  :: Float64\n",
    "    x´ :: Float64\n",
    "end"
   ]
  },
  {
   "cell_type": "code",
   "execution_count": 2,
   "metadata": {
    "scrolled": false
   },
   "outputs": [
    {
     "data": {
      "text/plain": [
       "dual (generic function with 1 method)"
      ]
     },
     "execution_count": 2,
     "metadata": {},
     "output_type": "execute_result"
    }
   ],
   "source": [
    "# Funciones que convierten un real en un dual con cierto campo `x´`\n",
    "\n",
    "Dual(c::Real) = Dual(c, 0.0)\n",
    "\n",
    "dual(x0::Real) = Dual(x0, 1.0)"
   ]
  },
  {
   "cell_type": "code",
   "execution_count": 3,
   "metadata": {
    "scrolled": false
   },
   "outputs": [
    {
     "data": {
      "text/plain": [
       "^ (generic function with 63 methods)"
      ]
     },
     "execution_count": 3,
     "metadata": {},
     "output_type": "execute_result"
    }
   ],
   "source": [
    "# Extensión de algunas funciones básicas para operar con el tipo `Dual`\n",
    "\n",
    "import Base: +, -, *, /, ^\n",
    "\n",
    "+(u::Dual, v::Dual) = Dual( u.x + v.x, u.x´ + v.x´)\n",
    "\n",
    "-(u::Dual, v::Dual) = Dual( u.x - v.x, u.x´ - v.x´)\n",
    "\n",
    "*(u::Dual, v::Dual) = Dual( u.x * v.x, u.x * v.x´ + u.x´ * v.x)\n",
    "\n",
    "function /(u::Dual, v::Dual)\n",
    "    y = u.x / v.x\n",
    "    Dual( y, (u.x´ - y * v.x´)/v.x )\n",
    "end\n",
    "\n",
    "function ^(a::Dual, n::Int)\n",
    "    y = a.x^(n-1)\n",
    "    Dual(a.x * y, n*y*a.x´)\n",
    "end"
   ]
  },
  {
   "cell_type": "markdown",
   "metadata": {},
   "source": [
    "Se puede entender a un real como una constante, por lo que su dual tiene campo `x'` cero."
   ]
  },
  {
   "cell_type": "code",
   "execution_count": 4,
   "metadata": {
    "scrolled": false
   },
   "outputs": [
    {
     "data": {
      "text/plain": [
       "/ (generic function with 107 methods)"
      ]
     },
     "execution_count": 4,
     "metadata": {},
     "output_type": "execute_result"
    }
   ],
   "source": [
    "# Para la suma:\n",
    "\n",
    "+(a::Real, b::Dual) = Dual(a + b.x, b.x´)\n",
    "+(a::Dual, b::Real) = Dual(a.x + b, a.x´)\n",
    "\n",
    "# Para la diferencia:\n",
    "\n",
    "-(a::Real, b::Dual) = Dual(a - b.x, b.x´)\n",
    "-(a::Dual, b::Real) = Dual(a.x - b, a.x´)\n",
    "\n",
    "# Para el producto:\n",
    "\n",
    "*(a::Real, b::Dual) = Dual(a * b.x, a * b.x´)\n",
    "*(a::Dual, b::Real) = Dual(a.x * b, a.x´ * b)\n",
    "\n",
    "# Para el cociente:\n",
    "\n",
    "/(a::Real, b::Dual) = Dual(a / b.x, (- (a/b.x) * b.x´)/b.x)\n",
    "/(a::Dual, b::Real) = Dual(a.x / b, a.x´/b)"
   ]
  },
  {
   "cell_type": "markdown",
   "metadata": {},
   "source": [
    "Una forma alternativa es definir las operaciones convirtiendo de antemano el real en un dual con campo `x'` igual a cero mediante el uso de la función `Dual` y usar las operaciones definidas con duales \"puros\"."
   ]
  },
  {
   "cell_type": "markdown",
   "metadata": {},
   "source": [
    "## 2\n",
    "\n",
    "Construyan 2 tests para cada una de las operaciones aritméticas definidas para los `Dual`es, incluyendo las que definieron en el ejercicio 1."
   ]
  },
  {
   "cell_type": "markdown",
   "metadata": {},
   "source": [
    "Para generar los tests, conviene hacerlos de forma que se puedan generar los que se desean. Esto se puede lograr haciendo los tests para números arbitrarios."
   ]
  },
  {
   "cell_type": "code",
   "execution_count": 5,
   "metadata": {
    "scrolled": false
   },
   "outputs": [],
   "source": [
    "using Test"
   ]
  },
  {
   "cell_type": "markdown",
   "metadata": {},
   "source": [
    "#### Duales puros (I):"
   ]
  },
  {
   "cell_type": "code",
   "execution_count": 6,
   "metadata": {
    "scrolled": false
   },
   "outputs": [
    {
     "data": {
      "text/plain": [
       "5"
      ]
     },
     "execution_count": 6,
     "metadata": {},
     "output_type": "execute_result"
    }
   ],
   "source": [
    "a = 3\n",
    "b = 4\n",
    "c = π\n",
    "d = 0\n",
    "n = 5"
   ]
  },
  {
   "cell_type": "markdown",
   "metadata": {},
   "source": [
    "Para la suma:"
   ]
  },
  {
   "cell_type": "code",
   "execution_count": 7,
   "metadata": {
    "scrolled": false
   },
   "outputs": [
    {
     "data": {
      "text/plain": [
       "\u001b[32m\u001b[1mTest Passed\u001b[22m\u001b[39m"
      ]
     },
     "execution_count": 7,
     "metadata": {},
     "output_type": "execute_result"
    }
   ],
   "source": [
    "@test Dual(a, b) + Dual(c, d) == Dual(a + c, b + d)"
   ]
  },
  {
   "cell_type": "markdown",
   "metadata": {},
   "source": [
    "Para la resta:"
   ]
  },
  {
   "cell_type": "code",
   "execution_count": 8,
   "metadata": {
    "scrolled": false
   },
   "outputs": [
    {
     "data": {
      "text/plain": [
       "\u001b[32m\u001b[1mTest Passed\u001b[22m\u001b[39m"
      ]
     },
     "execution_count": 8,
     "metadata": {},
     "output_type": "execute_result"
    }
   ],
   "source": [
    "@test Dual(a, b) - Dual(c, d) == Dual(a - c, b - d)"
   ]
  },
  {
   "cell_type": "markdown",
   "metadata": {},
   "source": [
    "Para la multiplicación:"
   ]
  },
  {
   "cell_type": "code",
   "execution_count": 9,
   "metadata": {
    "scrolled": false
   },
   "outputs": [
    {
     "data": {
      "text/plain": [
       "\u001b[32m\u001b[1mTest Passed\u001b[22m\u001b[39m"
      ]
     },
     "execution_count": 9,
     "metadata": {},
     "output_type": "execute_result"
    }
   ],
   "source": [
    "@test Dual(a, b) * Dual(c, d) == Dual(a*c, a*d + c*b)"
   ]
  },
  {
   "cell_type": "markdown",
   "metadata": {},
   "source": [
    "Para la división:"
   ]
  },
  {
   "cell_type": "code",
   "execution_count": 10,
   "metadata": {
    "scrolled": false
   },
   "outputs": [
    {
     "data": {
      "text/plain": [
       "\u001b[32m\u001b[1mTest Passed\u001b[22m\u001b[39m"
      ]
     },
     "execution_count": 10,
     "metadata": {},
     "output_type": "execute_result"
    }
   ],
   "source": [
    "@test Dual(a, b) / Dual(c, d) == Dual(a/c, (b - (a/c)*d)/c)"
   ]
  },
  {
   "cell_type": "markdown",
   "metadata": {},
   "source": [
    "Para las potencias:"
   ]
  },
  {
   "cell_type": "code",
   "execution_count": 11,
   "metadata": {
    "scrolled": false
   },
   "outputs": [
    {
     "data": {
      "text/plain": [
       "\u001b[32m\u001b[1mTest Passed\u001b[22m\u001b[39m"
      ]
     },
     "execution_count": 11,
     "metadata": {},
     "output_type": "execute_result"
    }
   ],
   "source": [
    "@test Dual(a, b)^n == Dual(a^n, n*b*a^(n-1))"
   ]
  },
  {
   "cell_type": "markdown",
   "metadata": {},
   "source": [
    "#### Duales y reales (I):\n",
    "\n",
    "Se muestra en el primer comando una combinación y en el segundo la otra. Se usan los mismos valores que para la parte anterior."
   ]
  },
  {
   "cell_type": "markdown",
   "metadata": {},
   "source": [
    "Para la suma:"
   ]
  },
  {
   "cell_type": "code",
   "execution_count": 12,
   "metadata": {
    "scrolled": false
   },
   "outputs": [
    {
     "data": {
      "text/plain": [
       "\u001b[32m\u001b[1mTest Passed\u001b[22m\u001b[39m"
      ]
     },
     "execution_count": 12,
     "metadata": {},
     "output_type": "execute_result"
    }
   ],
   "source": [
    "@test Dual(a, b) + c == Dual(a + c, b)"
   ]
  },
  {
   "cell_type": "code",
   "execution_count": 13,
   "metadata": {
    "scrolled": false
   },
   "outputs": [
    {
     "data": {
      "text/plain": [
       "\u001b[32m\u001b[1mTest Passed\u001b[22m\u001b[39m"
      ]
     },
     "execution_count": 13,
     "metadata": {},
     "output_type": "execute_result"
    }
   ],
   "source": [
    "@test a + Dual(c, d) == Dual(a + c, d)"
   ]
  },
  {
   "cell_type": "markdown",
   "metadata": {},
   "source": [
    "Para la resta:"
   ]
  },
  {
   "cell_type": "code",
   "execution_count": 14,
   "metadata": {
    "scrolled": false
   },
   "outputs": [
    {
     "data": {
      "text/plain": [
       "\u001b[32m\u001b[1mTest Passed\u001b[22m\u001b[39m"
      ]
     },
     "execution_count": 14,
     "metadata": {},
     "output_type": "execute_result"
    }
   ],
   "source": [
    "@test Dual(a, b) - c == Dual(a - c, b)"
   ]
  },
  {
   "cell_type": "code",
   "execution_count": 15,
   "metadata": {
    "scrolled": false
   },
   "outputs": [
    {
     "data": {
      "text/plain": [
       "\u001b[32m\u001b[1mTest Passed\u001b[22m\u001b[39m"
      ]
     },
     "execution_count": 15,
     "metadata": {},
     "output_type": "execute_result"
    }
   ],
   "source": [
    "@test a - Dual(c, d) == Dual(a - c, d)"
   ]
  },
  {
   "cell_type": "markdown",
   "metadata": {},
   "source": [
    "Para la multiplicación:"
   ]
  },
  {
   "cell_type": "code",
   "execution_count": 16,
   "metadata": {
    "scrolled": false
   },
   "outputs": [
    {
     "data": {
      "text/plain": [
       "\u001b[32m\u001b[1mTest Passed\u001b[22m\u001b[39m"
      ]
     },
     "execution_count": 16,
     "metadata": {},
     "output_type": "execute_result"
    }
   ],
   "source": [
    "@test a * Dual(c, d) == Dual(a*c, a*d)"
   ]
  },
  {
   "cell_type": "code",
   "execution_count": 17,
   "metadata": {
    "scrolled": false
   },
   "outputs": [
    {
     "data": {
      "text/plain": [
       "\u001b[32m\u001b[1mTest Passed\u001b[22m\u001b[39m"
      ]
     },
     "execution_count": 17,
     "metadata": {},
     "output_type": "execute_result"
    }
   ],
   "source": [
    "@test Dual(a, b) * c == Dual(a*c, c*b)"
   ]
  },
  {
   "cell_type": "markdown",
   "metadata": {},
   "source": [
    "Para la división:"
   ]
  },
  {
   "cell_type": "code",
   "execution_count": 18,
   "metadata": {
    "scrolled": false
   },
   "outputs": [
    {
     "data": {
      "text/plain": [
       "\u001b[32m\u001b[1mTest Passed\u001b[22m\u001b[39m"
      ]
     },
     "execution_count": 18,
     "metadata": {},
     "output_type": "execute_result"
    }
   ],
   "source": [
    "@test Dual(a, b) / c == Dual(a/c, b/c)"
   ]
  },
  {
   "cell_type": "code",
   "execution_count": 19,
   "metadata": {
    "scrolled": false
   },
   "outputs": [
    {
     "data": {
      "text/plain": [
       "\u001b[32m\u001b[1mTest Passed\u001b[22m\u001b[39m"
      ]
     },
     "execution_count": 19,
     "metadata": {},
     "output_type": "execute_result"
    }
   ],
   "source": [
    "@test a / Dual(c, d) == Dual(a/c, (- (a/c)*d)/c)"
   ]
  },
  {
   "cell_type": "markdown",
   "metadata": {},
   "source": [
    "#### Duales puros (II):"
   ]
  },
  {
   "cell_type": "code",
   "execution_count": 20,
   "metadata": {
    "scrolled": false
   },
   "outputs": [
    {
     "data": {
      "text/plain": [
       "10"
      ]
     },
     "execution_count": 20,
     "metadata": {},
     "output_type": "execute_result"
    }
   ],
   "source": [
    "a = 0\n",
    "b = sqrt(2)\n",
    "c = 2\n",
    "d = 0.5\n",
    "n = 10"
   ]
  },
  {
   "cell_type": "markdown",
   "metadata": {},
   "source": [
    "Para la suma:"
   ]
  },
  {
   "cell_type": "code",
   "execution_count": 21,
   "metadata": {
    "scrolled": false
   },
   "outputs": [
    {
     "data": {
      "text/plain": [
       "\u001b[32m\u001b[1mTest Passed\u001b[22m\u001b[39m"
      ]
     },
     "execution_count": 21,
     "metadata": {},
     "output_type": "execute_result"
    }
   ],
   "source": [
    "@test Dual(a, b) + Dual(c, d) == Dual(a + c, b + d)"
   ]
  },
  {
   "cell_type": "markdown",
   "metadata": {},
   "source": [
    "Para la resta:"
   ]
  },
  {
   "cell_type": "code",
   "execution_count": 22,
   "metadata": {
    "scrolled": false
   },
   "outputs": [
    {
     "data": {
      "text/plain": [
       "\u001b[32m\u001b[1mTest Passed\u001b[22m\u001b[39m"
      ]
     },
     "execution_count": 22,
     "metadata": {},
     "output_type": "execute_result"
    }
   ],
   "source": [
    "@test Dual(a, b) - Dual(c, d) == Dual(a - c, b - d)"
   ]
  },
  {
   "cell_type": "markdown",
   "metadata": {},
   "source": [
    "Para la multiplicación:"
   ]
  },
  {
   "cell_type": "code",
   "execution_count": 23,
   "metadata": {
    "scrolled": false
   },
   "outputs": [
    {
     "data": {
      "text/plain": [
       "\u001b[32m\u001b[1mTest Passed\u001b[22m\u001b[39m"
      ]
     },
     "execution_count": 23,
     "metadata": {},
     "output_type": "execute_result"
    }
   ],
   "source": [
    "@test Dual(a, b) * Dual(c, d) == Dual(a*c, a*d + c*b)"
   ]
  },
  {
   "cell_type": "markdown",
   "metadata": {},
   "source": [
    "Para la división:"
   ]
  },
  {
   "cell_type": "code",
   "execution_count": 24,
   "metadata": {
    "scrolled": false
   },
   "outputs": [
    {
     "data": {
      "text/plain": [
       "\u001b[32m\u001b[1mTest Passed\u001b[22m\u001b[39m"
      ]
     },
     "execution_count": 24,
     "metadata": {},
     "output_type": "execute_result"
    }
   ],
   "source": [
    "@test Dual(a, b) / Dual(c, d) == Dual(a/c, (b - (a/c)*d)/c)"
   ]
  },
  {
   "cell_type": "markdown",
   "metadata": {},
   "source": [
    "Para las potencias:"
   ]
  },
  {
   "cell_type": "code",
   "execution_count": 25,
   "metadata": {
    "scrolled": false
   },
   "outputs": [
    {
     "data": {
      "text/plain": [
       "\u001b[32m\u001b[1mTest Passed\u001b[22m\u001b[39m"
      ]
     },
     "execution_count": 25,
     "metadata": {},
     "output_type": "execute_result"
    }
   ],
   "source": [
    "@test Dual(a, b)^n == Dual(a^n, n*b*a^(n-1))"
   ]
  },
  {
   "cell_type": "markdown",
   "metadata": {},
   "source": [
    "#### Duales y reales (II):\n",
    "\n",
    "Se muestra en el primer comando una combinación y en el segundo la otra. Se usan los mismos valores que para la parte anterior."
   ]
  },
  {
   "cell_type": "markdown",
   "metadata": {},
   "source": [
    "Para la suma:"
   ]
  },
  {
   "cell_type": "code",
   "execution_count": 26,
   "metadata": {
    "scrolled": false
   },
   "outputs": [
    {
     "data": {
      "text/plain": [
       "\u001b[32m\u001b[1mTest Passed\u001b[22m\u001b[39m"
      ]
     },
     "execution_count": 26,
     "metadata": {},
     "output_type": "execute_result"
    }
   ],
   "source": [
    "@test Dual(a, b) + c == Dual(a + c, b)"
   ]
  },
  {
   "cell_type": "code",
   "execution_count": 27,
   "metadata": {
    "scrolled": false
   },
   "outputs": [
    {
     "data": {
      "text/plain": [
       "\u001b[32m\u001b[1mTest Passed\u001b[22m\u001b[39m"
      ]
     },
     "execution_count": 27,
     "metadata": {},
     "output_type": "execute_result"
    }
   ],
   "source": [
    "@test a + Dual(c, d) == Dual(a + c, d)"
   ]
  },
  {
   "cell_type": "markdown",
   "metadata": {},
   "source": [
    "Para la resta:"
   ]
  },
  {
   "cell_type": "code",
   "execution_count": 28,
   "metadata": {
    "scrolled": false
   },
   "outputs": [
    {
     "data": {
      "text/plain": [
       "\u001b[32m\u001b[1mTest Passed\u001b[22m\u001b[39m"
      ]
     },
     "execution_count": 28,
     "metadata": {},
     "output_type": "execute_result"
    }
   ],
   "source": [
    "@test Dual(a, b) - c == Dual(a - c, b)"
   ]
  },
  {
   "cell_type": "code",
   "execution_count": 29,
   "metadata": {
    "scrolled": false
   },
   "outputs": [
    {
     "data": {
      "text/plain": [
       "\u001b[32m\u001b[1mTest Passed\u001b[22m\u001b[39m"
      ]
     },
     "execution_count": 29,
     "metadata": {},
     "output_type": "execute_result"
    }
   ],
   "source": [
    "@test a - Dual(c, d) == Dual(a - c, d)"
   ]
  },
  {
   "cell_type": "markdown",
   "metadata": {},
   "source": [
    "Para la multiplicación:"
   ]
  },
  {
   "cell_type": "code",
   "execution_count": 30,
   "metadata": {
    "scrolled": false
   },
   "outputs": [
    {
     "data": {
      "text/plain": [
       "\u001b[32m\u001b[1mTest Passed\u001b[22m\u001b[39m"
      ]
     },
     "execution_count": 30,
     "metadata": {},
     "output_type": "execute_result"
    }
   ],
   "source": [
    "@test a * Dual(c, d) == Dual(a*c, a*d)"
   ]
  },
  {
   "cell_type": "code",
   "execution_count": 31,
   "metadata": {
    "scrolled": false
   },
   "outputs": [
    {
     "data": {
      "text/plain": [
       "\u001b[32m\u001b[1mTest Passed\u001b[22m\u001b[39m"
      ]
     },
     "execution_count": 31,
     "metadata": {},
     "output_type": "execute_result"
    }
   ],
   "source": [
    "@test Dual(a, b) * c == Dual(a*c, c*b)"
   ]
  },
  {
   "cell_type": "markdown",
   "metadata": {},
   "source": [
    "Para la división:"
   ]
  },
  {
   "cell_type": "code",
   "execution_count": 32,
   "metadata": {
    "scrolled": false
   },
   "outputs": [
    {
     "data": {
      "text/plain": [
       "\u001b[32m\u001b[1mTest Passed\u001b[22m\u001b[39m"
      ]
     },
     "execution_count": 32,
     "metadata": {},
     "output_type": "execute_result"
    }
   ],
   "source": [
    "@test Dual(a, b) / c == Dual(a/c, b/c)"
   ]
  },
  {
   "cell_type": "code",
   "execution_count": 33,
   "metadata": {
    "scrolled": false
   },
   "outputs": [
    {
     "data": {
      "text/plain": [
       "\u001b[32m\u001b[1mTest Passed\u001b[22m\u001b[39m"
      ]
     },
     "execution_count": 33,
     "metadata": {},
     "output_type": "execute_result"
    }
   ],
   "source": [
    "@test a / Dual(c, d) == Dual(a/c, (- (a/c)*d)/c)"
   ]
  },
  {
   "cell_type": "markdown",
   "metadata": {},
   "source": [
    "## 3\n",
    "\n",
    "Sobrecarguen la función `show` (que está en Base) para que cuando se impriman los duales aparezcan con la notación $\\varepsilon$ que usamos al principio de este notebook, por ejemplo, el resultado de `Dual(1,2)` debe ser parecido a `1.0 + 2.0 ε`."
   ]
  },
  {
   "cell_type": "markdown",
   "metadata": {},
   "source": [
    "La información para poder realizar este ejercicio se tomó de [esta página de la documentación](https://docs.julialang.org/en/v1/base/io-network) y [esta pregunta de uso de Julia](https://discourse.julialang.org/t/overload-show-for-array-of-custom-types/9589), así como la idea para mejorar la representación de los duales con campo `x´` se tomó del código de los compañeros [Uziel Linares y Paulina Martin](https://github.com/uzielnmtz/TSFisComp1/blob/pm_ul/Tarea2/tareas/PaulinaM_UzielL/Tarea2.ipynb)."
   ]
  },
  {
   "cell_type": "code",
   "execution_count": 34,
   "metadata": {
    "scrolled": false
   },
   "outputs": [],
   "source": [
    "function Base.show(io::IO, u::Dual)\n",
    "\n",
    "    if (u.x´ < 0) | (u.x´ == -0.0)\n",
    "        \n",
    "        print(io, \"$(u.x) - $(abs(u.x´)) ε\")\n",
    "        \n",
    "    else\n",
    "        \n",
    "        print(io, \"$(u.x) + $(u.x´) ε\")\n",
    "    end\n",
    "end"
   ]
  },
  {
   "cell_type": "code",
   "execution_count": 35,
   "metadata": {
    "scrolled": false
   },
   "outputs": [
    {
     "data": {
      "text/plain": [
       "1.0 - 2.0 ε"
      ]
     },
     "execution_count": 35,
     "metadata": {},
     "output_type": "execute_result"
    }
   ],
   "source": [
    "u = Dual(1.0, -2.0)"
   ]
  },
  {
   "cell_type": "markdown",
   "metadata": {},
   "source": [
    "## 4\n",
    "\n",
    "Obtengan la derivada de \n",
    "$$g(x) = \\frac{3x^2-8x+5}{7x^3-1}$$\n",
    "en $x_0=1$."
   ]
  },
  {
   "cell_type": "markdown",
   "metadata": {},
   "source": [
    "Como se puede inferir del texto de clase, se tiene que si $f$ es una función \"apropiada\":\n",
    "\n",
    "$$f(x + x´\\varepsilon) = f(x) + x´\\varepsilon f'(x) + \\mathcal{O}((x'\\varepsilon)^2) $$\n",
    "\n",
    "De dónde, como $\\varepsilon^2 = 1$:\n",
    "\n",
    "$$f(x + x´\\varepsilon) = f(x) + x´\\varepsilon f'(x). $$\n",
    "\n",
    "Esto estrictamente es cierto sólo en el caso en el que $\\varepsilon$ sea un diferencial, ya que en caso de ser un real estándar, la serie de Taylor en general no es exacta con sólo el término lineal.\n",
    "\n",
    "De aquí se puede deducir que, tomando la parte \"$\\varepsilon$\" (diferencial, $\\text{dif}$) de la expresión (i.e. el campo `x´`):\n",
    "\n",
    "$$ f'(x) = \\frac{1}{x'} \\text{dif } f(x + x'\\varepsilon). $$\n",
    "\n",
    "En el caso en el que $ \\text{dif } (x + \\varepsilon x´) = x' = 1$ (como la identidad):\n",
    "\n",
    "$$ f'(x) = \\text{dif } f(x + \\varepsilon). $$\n",
    "\n",
    "Esto permite definir:"
   ]
  },
  {
   "cell_type": "code",
   "execution_count": 36,
   "metadata": {
    "scrolled": false
   },
   "outputs": [
    {
     "data": {
      "text/plain": [
       "derivada_dual (generic function with 1 method)"
      ]
     },
     "execution_count": 36,
     "metadata": {},
     "output_type": "execute_result"
    }
   ],
   "source": [
    "\"\"\"\n",
    "    derivada_dual(f, x0)\n",
    "\n",
    "La función `derivada_dual` calcula la derivada numérica de la función `f` en el punto `x0` usando números duales.\n",
    "\n",
    "# Argumentos\n",
    "\n",
    "La función requiere que `f` sea una función definida para duales y que `x0` sea un número real.\n",
    "\n",
    "# Ejemplos\n",
    "´´´julia-repl\n",
    "julia> derivada_dual(x -> x, 1)\n",
    "1.0\n",
    "\n",
    "julia> derivada_dual(x -> x^2, 1)\n",
    "2.0\n",
    "´´´\n",
    "\"\"\"\n",
    "function derivada_dual(f::Function, x0::Real)\n",
    "    \n",
    "    derivada_x0 = f(dual(x0)).x´\n",
    "    \n",
    "    return(derivada_x0)\n",
    "end"
   ]
  },
  {
   "cell_type": "markdown",
   "metadata": {},
   "source": [
    "De dónde se puede calcular lo solicitado:"
   ]
  },
  {
   "cell_type": "code",
   "execution_count": 37,
   "metadata": {
    "scrolled": false
   },
   "outputs": [
    {
     "data": {
      "text/plain": [
       "-0.3333333333333333"
      ]
     },
     "execution_count": 37,
     "metadata": {},
     "output_type": "execute_result"
    }
   ],
   "source": [
    "g(x) = (3*x^2 - 8*x + 5)/(7*x^3 - 1)\n",
    "\n",
    "derivada_dual(g, 1)"
   ]
  },
  {
   "cell_type": "markdown",
   "metadata": {},
   "source": [
    "Esta función no presentó problema alguno por las definiciones de suma, resta, producto, cociente y exponenciación natural de duales. (I.e. Julia ya \"sabía\" calcular con duales para dar un resultado dual para la función $g$.) El resultado es correcto dentro del épsilon de la máquina comparando con el [resultado analítico dado por Wolfram Alpha](https://m.wolframalpha.com/input/?i=D%5B%283*x%5E2+-+8*x+%2B+5%29%2F%287*x%5E3+-+1%29%2C+x%5D%2F.x-%3E1): $-1/3$\n",
    "\n",
    "\n",
    "Sin embargo, hasta ahora no se han hecho extensiones de funciones trascendentes como las funciones trigonométricas:"
   ]
  },
  {
   "cell_type": "code",
   "execution_count": 38,
   "metadata": {
    "scrolled": false
   },
   "outputs": [
    {
     "ename": "MethodError",
     "evalue": "MethodError: no method matching sin(::Dual)\nClosest candidates are:\n  sin(!Matched::BigFloat) at mpfr.jl:683\n  sin(!Matched::Missing) at math.jl:1056\n  sin(!Matched::Complex{Float16}) at math.jl:1005\n  ...",
     "output_type": "error",
     "traceback": [
      "MethodError: no method matching sin(::Dual)\nClosest candidates are:\n  sin(!Matched::BigFloat) at mpfr.jl:683\n  sin(!Matched::Missing) at math.jl:1056\n  sin(!Matched::Complex{Float16}) at math.jl:1005\n  ...",
      "",
      "Stacktrace:",
      " [1] (::getfield(Main, Symbol(\"##3#4\")))(::Dual) at ./In[38]:1",
      " [2] derivada_dual(::getfield(Main, Symbol(\"##3#4\")), ::Int64) at ./In[36]:21",
      " [3] top-level scope at In[38]:1"
     ]
    }
   ],
   "source": [
    "derivada_dual(x -> sin(x), 0)"
   ]
  },
  {
   "cell_type": "markdown",
   "metadata": {},
   "source": [
    "## 5\n",
    "\n",
    "- Recordando la regla de la cadena(!!!), extiendan el usar los `Dual` a las funciones `sqrt`, `exp`, `log`, `sin`, `cos`, `sinh` y `cosh`. \n",
    "\n",
    "- Muestren que las cosas dan los resultados que esperan usando pruebas como hicieron en el ejercicio 2.\n",
    "\n",
    "- Calculen la derivada de $h(x) = \\sin\\Big(x^3 - \\frac{2}{x^6}\\Big)$ en $x_0 = 2$. ¿Qué tan preciso es el resultado?(Pueden usar cualquier otra manera de obtener el resultado correcto, sólo tienen que ser claros en la explicación.)\n",
    "\n",
    "- Dibujen, para $x_0 \\in [1,5]$ la función $h'(x)$."
   ]
  },
  {
   "cell_type": "markdown",
   "metadata": {},
   "source": [
    "#### Extensión de funciones con duales y pruebas de las mismas:\n",
    "\n",
    "La idea para extender los duales a funciones trascendentes es la misma que la usada para extender las funciones \"básicas\" usada de forma implícita al inicio y desarrollada en el ejercicio anterior: hacer un desarrollo de Taylor considerando que $\\varepsilon^2 = 1$:\n",
    "\n",
    "$$f(x + x´\\varepsilon) = f(x) + x´\\varepsilon f'(x). $$"
   ]
  },
  {
   "cell_type": "code",
   "execution_count": 39,
   "metadata": {
    "scrolled": false
   },
   "outputs": [
    {
     "data": {
      "text/plain": [
       "sqrt (generic function with 20 methods)"
      ]
     },
     "execution_count": 39,
     "metadata": {},
     "output_type": "execute_result"
    }
   ],
   "source": [
    "import Base.sqrt\n",
    "\n",
    "sqrt(u::Dual) = begin\n",
    "   \n",
    "    raíz = sqrt(u.x)\n",
    "    valor = Dual(raíz, u.x´ / (2*raíz))\n",
    "    \n",
    "    return(valor)\n",
    "end"
   ]
  },
  {
   "cell_type": "code",
   "execution_count": 40,
   "metadata": {
    "scrolled": false
   },
   "outputs": [
    {
     "data": {
      "text/plain": [
       "2.0 + 0.25 ε"
      ]
     },
     "execution_count": 40,
     "metadata": {},
     "output_type": "execute_result"
    }
   ],
   "source": [
    "sqrt(dual(4))"
   ]
  },
  {
   "cell_type": "code",
   "execution_count": 41,
   "metadata": {
    "scrolled": false
   },
   "outputs": [
    {
     "data": {
      "text/plain": [
       "\u001b[32m\u001b[1mTest Passed\u001b[22m\u001b[39m"
      ]
     },
     "execution_count": 41,
     "metadata": {},
     "output_type": "execute_result"
    }
   ],
   "source": [
    "a = 1\n",
    "@test sqrt(dual(a)) == Dual(sqrt(a), 1/(2*sqrt(a)))"
   ]
  },
  {
   "cell_type": "code",
   "execution_count": 42,
   "metadata": {
    "scrolled": false
   },
   "outputs": [
    {
     "data": {
      "text/plain": [
       "\u001b[32m\u001b[1mTest Passed\u001b[22m\u001b[39m"
      ]
     },
     "execution_count": 42,
     "metadata": {},
     "output_type": "execute_result"
    }
   ],
   "source": [
    "a = 10\n",
    "@test sqrt(dual(a)) == Dual(sqrt(a), 1/(2*sqrt(a)))"
   ]
  },
  {
   "cell_type": "code",
   "execution_count": 43,
   "metadata": {
    "scrolled": false
   },
   "outputs": [
    {
     "data": {
      "text/plain": [
       "exp (generic function with 14 methods)"
      ]
     },
     "execution_count": 43,
     "metadata": {},
     "output_type": "execute_result"
    }
   ],
   "source": [
    "import Base.exp\n",
    "\n",
    "exp(u::Dual) = begin\n",
    "   \n",
    "    exponencial = exp(u.x)\n",
    "    valor = Dual(exponencial, u.x´*exponencial)\n",
    "    \n",
    "    return(valor)\n",
    "end"
   ]
  },
  {
   "cell_type": "code",
   "execution_count": 44,
   "metadata": {
    "scrolled": false
   },
   "outputs": [
    {
     "data": {
      "text/plain": [
       "7.38905609893065 + 7.38905609893065 ε"
      ]
     },
     "execution_count": 44,
     "metadata": {},
     "output_type": "execute_result"
    }
   ],
   "source": [
    "exp(dual(2))"
   ]
  },
  {
   "cell_type": "code",
   "execution_count": 45,
   "metadata": {
    "scrolled": false
   },
   "outputs": [
    {
     "data": {
      "text/plain": [
       "\u001b[32m\u001b[1mTest Passed\u001b[22m\u001b[39m"
      ]
     },
     "execution_count": 45,
     "metadata": {},
     "output_type": "execute_result"
    }
   ],
   "source": [
    "a = 0\n",
    "\n",
    "@test exp(dual(a)) == Dual(exp(a), exp(a))"
   ]
  },
  {
   "cell_type": "code",
   "execution_count": 46,
   "metadata": {
    "scrolled": false
   },
   "outputs": [
    {
     "data": {
      "text/plain": [
       "\u001b[32m\u001b[1mTest Passed\u001b[22m\u001b[39m"
      ]
     },
     "execution_count": 46,
     "metadata": {},
     "output_type": "execute_result"
    }
   ],
   "source": [
    "a = 1\n",
    "\n",
    "@test exp(dual(a)) == Dual(exp(a), exp(a))"
   ]
  },
  {
   "cell_type": "code",
   "execution_count": 47,
   "metadata": {
    "scrolled": false
   },
   "outputs": [
    {
     "data": {
      "text/plain": [
       "log (generic function with 20 methods)"
      ]
     },
     "execution_count": 47,
     "metadata": {},
     "output_type": "execute_result"
    }
   ],
   "source": [
    "import Base.log\n",
    "\n",
    "log(u::Dual) = begin\n",
    "   \n",
    "    valor = Dual(log(u.x), u.x´/u.x)\n",
    "    \n",
    "    return(valor)\n",
    "end"
   ]
  },
  {
   "cell_type": "code",
   "execution_count": 48,
   "metadata": {
    "scrolled": false
   },
   "outputs": [
    {
     "data": {
      "text/plain": [
       "0.6931471805599453 + 0.5 ε"
      ]
     },
     "execution_count": 48,
     "metadata": {},
     "output_type": "execute_result"
    }
   ],
   "source": [
    "log(dual(2))"
   ]
  },
  {
   "cell_type": "code",
   "execution_count": 49,
   "metadata": {
    "scrolled": false
   },
   "outputs": [
    {
     "data": {
      "text/plain": [
       "\u001b[32m\u001b[1mTest Passed\u001b[22m\u001b[39m"
      ]
     },
     "execution_count": 49,
     "metadata": {},
     "output_type": "execute_result"
    }
   ],
   "source": [
    "a = 1\n",
    "\n",
    "@test log(dual(a)) == Dual(log(a), 1/a)"
   ]
  },
  {
   "cell_type": "code",
   "execution_count": 50,
   "metadata": {
    "scrolled": false
   },
   "outputs": [
    {
     "data": {
      "text/plain": [
       "\u001b[32m\u001b[1mTest Passed\u001b[22m\u001b[39m"
      ]
     },
     "execution_count": 50,
     "metadata": {},
     "output_type": "execute_result"
    }
   ],
   "source": [
    "a = 10\n",
    "\n",
    "@test log(dual(a)) == Dual(log(a), 1/a)"
   ]
  },
  {
   "cell_type": "code",
   "execution_count": 51,
   "metadata": {
    "scrolled": false
   },
   "outputs": [
    {
     "data": {
      "text/plain": [
       "sin (generic function with 13 methods)"
      ]
     },
     "execution_count": 51,
     "metadata": {},
     "output_type": "execute_result"
    }
   ],
   "source": [
    "import Base.sin\n",
    "\n",
    "sin(u::Dual) = begin\n",
    "    \n",
    "    valor = Dual(sin(u.x), u.x´*cos(u.x))\n",
    "    return(valor)\n",
    "end   "
   ]
  },
  {
   "cell_type": "code",
   "execution_count": 52,
   "metadata": {
    "scrolled": false
   },
   "outputs": [
    {
     "data": {
      "text/plain": [
       "0.0 + 1.0 ε"
      ]
     },
     "execution_count": 52,
     "metadata": {},
     "output_type": "execute_result"
    }
   ],
   "source": [
    "sin(dual(0))"
   ]
  },
  {
   "cell_type": "code",
   "execution_count": 53,
   "metadata": {
    "scrolled": false
   },
   "outputs": [
    {
     "data": {
      "text/plain": [
       "\u001b[32m\u001b[1mTest Passed\u001b[22m\u001b[39m"
      ]
     },
     "execution_count": 53,
     "metadata": {},
     "output_type": "execute_result"
    }
   ],
   "source": [
    "a = 0\n",
    "\n",
    "@test sin(dual(a)) == Dual(sin(a), cos(a))"
   ]
  },
  {
   "cell_type": "code",
   "execution_count": 54,
   "metadata": {
    "scrolled": false
   },
   "outputs": [
    {
     "data": {
      "text/plain": [
       "\u001b[32m\u001b[1mTest Passed\u001b[22m\u001b[39m"
      ]
     },
     "execution_count": 54,
     "metadata": {},
     "output_type": "execute_result"
    }
   ],
   "source": [
    "a = π\n",
    "\n",
    "@test sin(dual(a)) == Dual(sin(a), cos(a))"
   ]
  },
  {
   "cell_type": "code",
   "execution_count": 55,
   "metadata": {
    "scrolled": false
   },
   "outputs": [
    {
     "data": {
      "text/plain": [
       "cos (generic function with 13 methods)"
      ]
     },
     "execution_count": 55,
     "metadata": {},
     "output_type": "execute_result"
    }
   ],
   "source": [
    "import Base.cos\n",
    "\n",
    "cos(u::Dual) = begin\n",
    "    \n",
    "    valor = Dual(cos(u.x), -u.x´*sin(u.x))\n",
    "    return(valor)\n",
    "end   "
   ]
  },
  {
   "cell_type": "code",
   "execution_count": 56,
   "metadata": {
    "scrolled": false
   },
   "outputs": [
    {
     "data": {
      "text/plain": [
       "1.0 - 0.0 ε"
      ]
     },
     "execution_count": 56,
     "metadata": {},
     "output_type": "execute_result"
    }
   ],
   "source": [
    "cos(dual(0))"
   ]
  },
  {
   "cell_type": "code",
   "execution_count": 57,
   "metadata": {
    "scrolled": false
   },
   "outputs": [
    {
     "data": {
      "text/plain": [
       "\u001b[32m\u001b[1mTest Passed\u001b[22m\u001b[39m"
      ]
     },
     "execution_count": 57,
     "metadata": {},
     "output_type": "execute_result"
    }
   ],
   "source": [
    "a = 0\n",
    "\n",
    "@test cos(dual(a)) == Dual(cos(a), -sin(a))"
   ]
  },
  {
   "cell_type": "code",
   "execution_count": 58,
   "metadata": {
    "scrolled": false
   },
   "outputs": [
    {
     "data": {
      "text/plain": [
       "\u001b[32m\u001b[1mTest Passed\u001b[22m\u001b[39m"
      ]
     },
     "execution_count": 58,
     "metadata": {},
     "output_type": "execute_result"
    }
   ],
   "source": [
    "a = π\n",
    "\n",
    "@test cos(dual(a)) == Dual(cos(a), -sin(a))"
   ]
  },
  {
   "cell_type": "code",
   "execution_count": 59,
   "metadata": {
    "scrolled": false
   },
   "outputs": [
    {
     "data": {
      "text/plain": [
       "sinh (generic function with 13 methods)"
      ]
     },
     "execution_count": 59,
     "metadata": {},
     "output_type": "execute_result"
    }
   ],
   "source": [
    "import Base.sinh\n",
    "\n",
    "sinh(u::Dual) = begin\n",
    "    \n",
    "    valor = Dual(sinh(u.x), u.x´*cosh(u.x))\n",
    "    return(valor)\n",
    "end   "
   ]
  },
  {
   "cell_type": "code",
   "execution_count": 60,
   "metadata": {
    "scrolled": false
   },
   "outputs": [
    {
     "data": {
      "text/plain": [
       "0.0 + 1.0 ε"
      ]
     },
     "execution_count": 60,
     "metadata": {},
     "output_type": "execute_result"
    }
   ],
   "source": [
    "sinh(dual(0))"
   ]
  },
  {
   "cell_type": "code",
   "execution_count": 61,
   "metadata": {
    "scrolled": false
   },
   "outputs": [
    {
     "data": {
      "text/plain": [
       "\u001b[32m\u001b[1mTest Passed\u001b[22m\u001b[39m"
      ]
     },
     "execution_count": 61,
     "metadata": {},
     "output_type": "execute_result"
    }
   ],
   "source": [
    "a = 0\n",
    "\n",
    "@test sinh(dual(a)) == Dual(sinh(a), cosh(a))"
   ]
  },
  {
   "cell_type": "code",
   "execution_count": 62,
   "metadata": {
    "scrolled": false
   },
   "outputs": [
    {
     "data": {
      "text/plain": [
       "\u001b[32m\u001b[1mTest Passed\u001b[22m\u001b[39m"
      ]
     },
     "execution_count": 62,
     "metadata": {},
     "output_type": "execute_result"
    }
   ],
   "source": [
    "a = exp(1)\n",
    "\n",
    "@test sinh(dual(a)) == Dual(sinh(a), cosh(a))"
   ]
  },
  {
   "cell_type": "code",
   "execution_count": 63,
   "metadata": {
    "scrolled": false
   },
   "outputs": [
    {
     "data": {
      "text/plain": [
       "cosh (generic function with 13 methods)"
      ]
     },
     "execution_count": 63,
     "metadata": {},
     "output_type": "execute_result"
    }
   ],
   "source": [
    "import Base.cosh\n",
    "\n",
    "cosh(u::Dual) = begin\n",
    "    \n",
    "    valor = Dual(cosh(u.x), u.x´*sinh(u.x))\n",
    "    return(valor)\n",
    "end   "
   ]
  },
  {
   "cell_type": "code",
   "execution_count": 64,
   "metadata": {
    "scrolled": false
   },
   "outputs": [
    {
     "data": {
      "text/plain": [
       "1.0 - 0.0 ε"
      ]
     },
     "execution_count": 64,
     "metadata": {},
     "output_type": "execute_result"
    }
   ],
   "source": [
    "cosh(dual(0))"
   ]
  },
  {
   "cell_type": "code",
   "execution_count": 65,
   "metadata": {
    "scrolled": false
   },
   "outputs": [
    {
     "data": {
      "text/plain": [
       "\u001b[32m\u001b[1mTest Passed\u001b[22m\u001b[39m"
      ]
     },
     "execution_count": 65,
     "metadata": {},
     "output_type": "execute_result"
    }
   ],
   "source": [
    "a = 0\n",
    "\n",
    "@test cosh(dual(a)) == Dual(cosh(a), sinh(a))"
   ]
  },
  {
   "cell_type": "code",
   "execution_count": 66,
   "metadata": {
    "scrolled": false
   },
   "outputs": [
    {
     "data": {
      "text/plain": [
       "\u001b[32m\u001b[1mTest Passed\u001b[22m\u001b[39m"
      ]
     },
     "execution_count": 66,
     "metadata": {},
     "output_type": "execute_result"
    }
   ],
   "source": [
    "a = exp(1)\n",
    "\n",
    "@test cosh(dual(a)) == Dual(cosh(a), sinh(a))"
   ]
  },
  {
   "cell_type": "markdown",
   "metadata": {},
   "source": [
    "#### Cálculo de la derivada de un ejemplo:\n",
    "\n",
    "Sea $h(x) = \\sin\\Big(x^3 - \\frac{2}{x^6}\\Big)$, para calcular su derivada en $x_0 = 2$, basta usar la función definida anteriormente:"
   ]
  },
  {
   "cell_type": "code",
   "execution_count": 67,
   "metadata": {
    "scrolled": false
   },
   "outputs": [
    {
     "data": {
      "text/plain": [
       "h (generic function with 1 method)"
      ]
     },
     "execution_count": 67,
     "metadata": {},
     "output_type": "execute_result"
    }
   ],
   "source": [
    "x0 = 2\n",
    "\n",
    "h(x) = sin(x^3 - 2/(x^6))"
   ]
  },
  {
   "cell_type": "code",
   "execution_count": 68,
   "metadata": {
    "scrolled": false
   },
   "outputs": [
    {
     "data": {
      "text/plain": [
       "-1.384934905523464"
      ]
     },
     "execution_count": 68,
     "metadata": {},
     "output_type": "execute_result"
    }
   ],
   "source": [
    "hprime_numérica_x0 = derivada_dual(h, x0)"
   ]
  },
  {
   "cell_type": "markdown",
   "metadata": {},
   "source": [
    "La derivada de $h$ en ese punto, según [Wolfram Alpha](https://m.wolframalpha.com/input/?i=D%5BSin%5Bx%5E3+-+2%2Fx%5E6%5D%2C+x%5D%2F.+x-%3E2) es:"
   ]
  },
  {
   "cell_type": "code",
   "execution_count": 69,
   "metadata": {
    "scrolled": false
   },
   "outputs": [
    {
     "data": {
      "text/plain": [
       "-1.384934905523464"
      ]
     },
     "execution_count": 69,
     "metadata": {},
     "output_type": "execute_result"
    }
   ],
   "source": [
    "hprime_analítica_x0 = (387//32)cos(255//32)"
   ]
  },
  {
   "cell_type": "code",
   "execution_count": 70,
   "metadata": {
    "scrolled": false
   },
   "outputs": [
    {
     "data": {
      "text/plain": [
       "true"
      ]
     },
     "execution_count": 70,
     "metadata": {},
     "output_type": "execute_result"
    }
   ],
   "source": [
    "hprime_numérica_x0 == hprime_analítica_x0"
   ]
  },
  {
   "cell_type": "markdown",
   "metadata": {},
   "source": [
    "Por lo que salvo la épsilon de la máquina, los resultados son los mismos.\n",
    "\n",
    "Para poder comparar de mejor manera la derivada, conviene definir la función derivada numérica de $h$:"
   ]
  },
  {
   "cell_type": "code",
   "execution_count": 71,
   "metadata": {
    "scrolled": false
   },
   "outputs": [
    {
     "data": {
      "text/plain": [
       "hprime_numérica (generic function with 1 method)"
      ]
     },
     "execution_count": 71,
     "metadata": {},
     "output_type": "execute_result"
    }
   ],
   "source": [
    "hprime_numérica(x) = derivada_dual(h, x)"
   ]
  },
  {
   "cell_type": "markdown",
   "metadata": {},
   "source": [
    "Así como la derivada analítica, dada por [Wolfram Alpha](https://m.wolframalpha.com/input/?i=D%5BSin%5Bx%5E3+-+2%2Fx%5E6%5D%2C+x%5D), es:"
   ]
  },
  {
   "cell_type": "code",
   "execution_count": 72,
   "metadata": {
    "scrolled": false
   },
   "outputs": [
    {
     "data": {
      "text/plain": [
       "hprime_analítica (generic function with 1 method)"
      ]
     },
     "execution_count": 72,
     "metadata": {},
     "output_type": "execute_result"
    }
   ],
   "source": [
    "hprime_analítica(x) = 3*(x^9 + 4)*cos((2-x^9)/x^6)/(x^7)"
   ]
  },
  {
   "cell_type": "markdown",
   "metadata": {},
   "source": [
    "La comparación gráfica es:"
   ]
  },
  {
   "cell_type": "code",
   "execution_count": 73,
   "metadata": {
    "scrolled": false
   },
   "outputs": [
    {
     "data": {
     },
     "metadata": {},
     "output_type": "display_data"
    },
    {
     "data": {
      "image/png": "[encoded data removed]"
     },
     "execution_count": 73,
     "metadata": {},
     "output_type": "execute_result"
    }
   ],
   "source": [
    "using Plots\n",
    "pyplot() #GR tiene algunas fallas con Plots (https://github.com/JuliaPlots/Plots.jl/issues/1746)\n",
    "rango = 1:0.001:5\n",
    "\n",
    "gráfica_hprime = plot(rango, hprime_numérica, label = \"Duales\")\n",
    "plot!(gráfica_hprime, rango, hprime_analítica, label = \"Analítica\", title = \"Comparación de las derivadas para h\", xlabel = \"x\", ylabel = \"h'(x)\")\n"
   ]
  },
  {
   "cell_type": "markdown",
   "metadata": {},
   "source": [
    "Una gráfica rápida hace notar que en efecto sí hay dos gráficas distintas, aunque muy semejantes. Se observa una similaridad sorprendente:"
   ]
  },
  {
   "cell_type": "code",
   "execution_count": 74,
   "metadata": {
    "scrolled": false
   },
   "outputs": [
    {
     "data": {
      "image/png": "[encoded data removed]"
     },
     "execution_count": 74,
     "metadata": {},
     "output_type": "execute_result"
    }
   ],
   "source": [
    "plot(rango, hprime_numérica, label = \"duales\", title = \"Derivada usando duales para h\", xlabel = \"x\", ylabel = \"h'(x)\")"
   ]
  },
  {
   "cell_type": "markdown",
   "metadata": {},
   "source": [
    "## 6\n",
    "\n",
    "Implementen el método de Newton para una función arbitraria $f(x)$ en una variable, explotando el uso de los `Dual`. \n",
    "\n",
    "- Obtengan, usando su función para el método de Newton, las raices del polinomio de Wilkinson \n",
    "\n",
    "$$\n",
    "W_{6}(x) = (x-1)(x-2)(x-3)(x-4)(x-5)(x-6),\n",
    "$$ \n",
    "\n",
    "usando como iterados iniciales $x_0=2.2$ y $x_0=2.45$.\n",
    "    \n",
    "- Hagan lo mismo que en el inciso anterior para $g(x) = x \\sin(2x)$, con $x_0=0.7$."
   ]
  },
  {
   "cell_type": "markdown",
   "metadata": {},
   "source": [
    "Reimplementando el método de Newton:"
   ]
  },
  {
   "cell_type": "code",
   "execution_count": 75,
   "metadata": {
    "scrolled": false
   },
   "outputs": [
    {
     "data": {
      "text/plain": [
       "newton (generic function with 2 methods)"
      ]
     },
     "execution_count": 75,
     "metadata": {},
     "output_type": "execute_result"
    }
   ],
   "source": [
    "\"\"\"\n",
    "    newton(f, x0, número_iteraciones)\n",
    "\n",
    "`newton` es una implementación unidimensional real del método de Newton para encontrar raíces de la función `f` para funciones extendidas para números duales.\n",
    "\n",
    "# Argumentos\n",
    "\n",
    "Para poder utilizar la función se requieren los siguientes argumentos:\n",
    "\n",
    "* `f`, la función real de variable real de la que se quiere buscar una raíz (un punto \\$ a \\$ tales que \\$ f(a) = 0 \\$), que acepte números duales,\n",
    "* `x0`, una adivinanza inicial sobre la posición de la raíz.\n",
    "\n",
    "Opcionalmente, se puede especificar lo siguiente:\n",
    "\n",
    "* `número_iteraciones`, el número de iteraciones a realizar. (Por defecto está configurado en 1000 iteraciones.)\n",
    "\n",
    "`newton` requiere que `f` sea una función, que `x0` sea un real y que `número_iteraciones` sea un número entero. `x0`, en particular, siempre es convertida a un número flotante para mejorar la estabilidad de tipo.\n",
    "\n",
    "# Ejemplos\n",
    "```julia-repl\n",
    "    julia> newton(x -> x^2 - 2, 2, 5)\n",
    "    1.4142135623730951\n",
    "\n",
    "    julia> newton(x -> x^2 - 2, 1.4, 100)\n",
    "    1.414213562373095\n",
    "\n",
    "    julia> newton(x -> x^2 - 2, MathConstants.φ, 1)\n",
    "    1.4270509831248424\n",
    "\n",
    "    julia> newton(x -> x^2 - 2, MathConstants.φ, 10)\n",
    "    1.414213562373095\n",
    "```\n",
    "\"\"\"\n",
    "function newton(f::Function, x0::Real, número_iteraciones::Int = 1000)\n",
    "    \n",
    "    fprime(x) = derivada_dual(f, x)\n",
    "    punto_actual = float(x0)\n",
    "    \n",
    "    for i in 1:número_iteraciones\n",
    "        punto_actual -= f(punto_actual)/fprime(punto_actual)\n",
    "    end\n",
    "    \n",
    "    return(punto_actual)\n",
    "end"
   ]
  },
  {
   "cell_type": "markdown",
   "metadata": {},
   "source": [
    "Definiendo el polinomio de Wilkinson:"
   ]
  },
  {
   "cell_type": "code",
   "execution_count": 76,
   "metadata": {
    "scrolled": false
   },
   "outputs": [
    {
     "data": {
      "text/plain": [
       "W₆ (generic function with 1 method)"
      ]
     },
     "execution_count": 76,
     "metadata": {},
     "output_type": "execute_result"
    }
   ],
   "source": [
    "W₆(x) = (x-1)*(x-2)*(x-3)*(x-4)*(x-5)*(x-6)"
   ]
  },
  {
   "cell_type": "markdown",
   "metadata": {},
   "source": [
    "Y calculando lo solicitado:"
   ]
  },
  {
   "cell_type": "code",
   "execution_count": 77,
   "metadata": {
    "scrolled": false
   },
   "outputs": [
    {
     "data": {
      "text/plain": [
       "2.0"
      ]
     },
     "execution_count": 77,
     "metadata": {},
     "output_type": "execute_result"
    }
   ],
   "source": [
    "x0 = 2.2\n",
    "newton(W₆, x0)"
   ]
  },
  {
   "cell_type": "code",
   "execution_count": 78,
   "metadata": {
    "scrolled": false
   },
   "outputs": [
    {
     "data": {
      "text/plain": [
       "6.0"
      ]
     },
     "execution_count": 78,
     "metadata": {},
     "output_type": "execute_result"
    }
   ],
   "source": [
    "x0 = 2.45\n",
    "newton(W₆, x0)"
   ]
  },
  {
   "cell_type": "markdown",
   "metadata": {},
   "source": [
    "Curiosamente, cambia de forma algo inesperada. [Este polinomio es usado para estudiar la dificultad de encontrar raíces ante cambios de coeficientes.](https://en.wikipedia.org/wiki/Wilkinson%27s_polynomial) Conviene graficar:"
   ]
  },
  {
   "cell_type": "code",
   "execution_count": 79,
   "metadata": {
    "scrolled": false
   },
   "outputs": [
    {
     "data": {
      "image/png": "[encoded data removed]"
     },
     "execution_count": 79,
     "metadata": {},
     "output_type": "execute_result"
    }
   ],
   "source": [
    "raíz_Wilkinson(x) = newton(W₆, x)\n",
    "\n",
    "plot(0:0.001:7, raíz_Wilkinson, key = false, xlabel = \"x\", ylabel = \"Raíz\", title = \"Análisis de convergencia del método de Newton aplicado a W6\")"
   ]
  },
  {
   "cell_type": "markdown",
   "metadata": {},
   "source": [
    "Se observa que en un intervalo en torno a las raíces ra raíz converge a dicha raíz, mientras que en puntos \"intermedios\", existe un comportamiento anómalo. "
   ]
  },
  {
   "cell_type": "markdown",
   "metadata": {},
   "source": [
    "Para el segundo inciso, definiendo $g_2(x) = x\\sin(2x)$:"
   ]
  },
  {
   "cell_type": "code",
   "execution_count": 80,
   "metadata": {
    "scrolled": false
   },
   "outputs": [
    {
     "data": {
      "text/plain": [
       "g₂ (generic function with 1 method)"
      ]
     },
     "execution_count": 80,
     "metadata": {},
     "output_type": "execute_result"
    }
   ],
   "source": [
    "g₂(x) = x*sin(2*x)"
   ]
  },
  {
   "cell_type": "code",
   "execution_count": 81,
   "metadata": {
    "scrolled": false
   },
   "outputs": [
    {
     "data": {
      "text/plain": [
       "1.0"
      ]
     },
     "execution_count": 81,
     "metadata": {},
     "output_type": "execute_result"
    }
   ],
   "source": [
    "x0 = 0.7\n",
    "newton(W₆, x0)"
   ]
  },
  {
   "cell_type": "markdown",
   "metadata": {},
   "source": [
    "Por completitud, se hace un análisis similar de la convergencia para esta función:"
   ]
  },
  {
   "cell_type": "code",
   "execution_count": 82,
   "metadata": {
    "scrolled": false
   },
   "outputs": [
    {
     "data": {
      "image/png": "[encoded data removed]"
     },
     "execution_count": 82,
     "metadata": {},
     "output_type": "execute_result"
    }
   ],
   "source": [
    "raíz_g₂(x) = newton(g₂, x)\n",
    "\n",
    "plot(-1:0.001:1, raíz_g₂, key = false, xlabel = \"x\", ylabel = \"Raíz\", title = \"Análisis de convergencia del método de Newton aplicado a g2\")"
   ]
  },
  {
   "cell_type": "markdown",
   "metadata": {},
   "source": [
    "Se observa que existe un intervalo \"grande\" en el que el método converge a la raíz en $x = 0$ y otro, antisimétrico, en el que la raíz obtenida oscila."
   ]
  },
  {
   "cell_type": "markdown",
   "metadata": {},
   "source": [
    "## 7\n",
    "\n",
    "Argumenten qué podrían hacer para extender la idea de los `Dual` y calcular derivadas aún más altas. Como caso concreto, piensen en querer obtener la derivada 18 de funciones como las que hemos usado arriba"
   ]
  },
  {
   "cell_type": "markdown",
   "metadata": {},
   "source": [
    "Una de las formas en la que se podría implementar esto para calcular derivadas $n$-ésimas, es observar lo que ocurre con el desarrollo de Taylor para la función:\n",
    "\n",
    "$$ f(x + \\varepsilon x') = f(x) + \\varepsilon x' f'(x) + \\frac{\\varepsilon^2 x'}{2!}f''(x) + \\frac{\\varepsilon^3 x'}{3!}f'''(x) + \\ldots .$$\n",
    "\n",
    "Suponiendo, por ejemplo, que se desea la segunda derivada. Entonces conviene elimitar los términos de orden superior o igual al tercero. Solicitando que $\\varepsilon^3 = 0$, se tiene:\n",
    "\n",
    "$$ f(x + \\varepsilon x') = f(x) + \\varepsilon x' f'(x) + \\frac{\\varepsilon^2 x'}{2!}f''(x) .$$\n",
    "\n",
    "En principio, esta regla ya otorga una forma de extender las funciones \"básicas\" al cálculo con números \"2-duales\", en los que un \"2-dual\" es una estructura con 3 campos: La parte real, la parte \"(1-)diferencial\" y la parte \"2-diferencial\" (los términos sin épsilon, con épsilon y con épsilon cuadrada repectivamente). Una vez dado esto, se puede definir una función `derivada_dual` que admita el orden de la derivada solicitada, la función dada y el punto a calcular. Esta función tomaría el punto, lo transforaría en un 2-dual con partes diferenciales uno y multiplicaría por $k!$ el campo $k$-ésimo diferencial, devolviendo la derivada solicitada. Sin embargo, esto se vuleve impracticable para órdenes superiores rápidamente de ya que requiere programar la acción de funciones comunes sobre \"n-duales\". Una forma de combatir esto sería haciendo con cuidado la extensión de reglas de potencias y de funciones con derivadas cíclicas.\n",
    "\n",
    "En el caso para la derivada 18, se requeriría un 18-dual, con 19 campos con un número $\\varepsilon$ tal que $\\varepsilon^{19} = 0$, así como la extensión de las funciones a 18-duales. Una vez hecho esto, se tomaría el campo 19 de evaluar dicha función en el 18-dual con el punto de interés en la entrada real y unos en todas las demás, y multiplicar este número por 18!.\n",
    "\n",
    "Una forma alternativa, pero aparentemente no generalizable a toda dimensión es usar [números de Grassman.](https://en.wikipedia.org/wiki/Grassmann_number)"
   ]
  }
 ],
 "metadata": {
  "kernelspec": {
   "display_name": "Julia 1.0.0",
   "language": "julia",
   "name": "julia-1.0"
  },
  "language_info": {
   "file_extension": ".jl",
   "mimetype": "application/julia",
   "name": "julia",
   "version": "1.0.0"
  }
 },
 "nbformat": 4,
 "nbformat_minor": 2
}
