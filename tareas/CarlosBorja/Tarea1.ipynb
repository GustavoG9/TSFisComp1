{
 "cells": [
  {
   "cell_type": "markdown",
   "metadata": {},
   "source": [
    "# Tarea 1"
   ]
  },
  {
   "cell_type": "markdown",
   "metadata": {},
   "source": [
    "**Envío del PR inicial: 24.08.2018** \n",
    "\n",
    "**Aceptación del PR: 02.09.2018** "
   ]
  },
  {
   "cell_type": "markdown",
   "metadata": {},
   "source": [
    "## 1\n",
    "\n",
    "- Escriban una función `newton` que, a partir de `f`, `fprime` y `x0` dados, obtenga una de las raices de la ecuación. Comprueben que funciona con $f(x)=x^2 -2$ y $f'(x) = 2x$. Tengan suficiente cuidado para que no haya ningún tipo de inestabilidad de tipo en su función.\n",
    "\n",
    "- Documenta la función de manera adecuada (*docstrings*).\n",
    "\n",
    "- ¿Cómo se comporta, en términos del número de iterados, la convergencia del método de Newton?"
   ]
  },
  {
   "cell_type": "markdown",
   "metadata": {},
   "source": [
    "Para la primera y segunda parte:"
   ]
  },
  {
   "cell_type": "markdown",
   "metadata": {},
   "source": [
    "\n",
    "\n",
    "@doc \"\"\"Se define la función que ejecutará el método de Newton con sus respectivos parámetros.\"\"\" ->\n",
    "\n",
    "\n",
    "function newton(f::Function,fprime::Function,x0::Real,args::Tuple=()) \n",
    "     cont=1\n",
    "     lim=1e-8\n",
    "     eps=1e-10\n",
    "     \n",
    "     \n",
    "     while (cont < 100 )       #Este ciclo inicia el número de iteraciones\n",
    " \n",
    "      fp=fprime(x0, args...)\n",
    "        if abs(fp) < eps       #verifica que el valor de la derivada evaluada en el punto inicial sea menor que eps\n",
    "            warn(\"La derivada es cero\")\n",
    "            return x0\n",
    "        end\n",
    "        f0 = f(x0, args...)\n",
    "        x = x0 - f0/fp         #Se actualiza el valor de x\n",
    "        if abs(x - x0) < lim   #Siempre que se cumpla esta condición continúa iterando\n",
    "            return x\n",
    "        end\n",
    "        x0 = x\n",
    "        cont = cont + 1\n",
    "    end\n",
    "     if cont == 100\n",
    "        error(\"No converge en 100 iteraciones\")\n",
    "    end\n",
    "    \n",
    "end \n",
    "        \n",
    "  \n",
    "      \n",
    "     \n",
    "    \n"
   ]
  },
  {
   "cell_type": "markdown",
   "metadata": {},
   "source": [
    "Para la tercera parte:"
   ]
  },
  {
   "cell_type": "code",
   "execution_count": 35,
   "metadata": {},
   "outputs": [
    {
     "data": {
      "text/plain": [
       "1.4142135623730951"
      ]
     },
     "execution_count": 35,
     "metadata": {},
     "output_type": "execute_result"
    }
   ],
   "source": [
    "f(x)=x^2-2\n",
    "fprime(x)=2x\n",
    "newton(f,fprime,1) "
   ]
  },
  {
   "cell_type": "markdown",
   "metadata": {},
   "source": [
    "Esta función nos permite aproximarnos a una de las soluciones de la función siempre y cuando el valor inicial `x0` se \n",
    "encuentre cercano a la solución.\n",
    "El algoritmo continúa iterando siempre que $|x - x0 | < 1e-8$  , por lo que en el momento en el que la diferencia entre `x` y `x0` es menor a $1e-18$ \n",
    "el algoritmo se detiene ya arroja la solución obtenida.\n",
    "\n",
    "Nótese que el hecho de que `x0` se haya definido como real, mejora la estabilidad de la función en comparación con una definición de `x0` como Int64.\n"
   ]
  },
  {
   "cell_type": "markdown",
   "metadata": {},
   "source": [
    "## 2\n",
    "\n",
    "- Usando la función que hicieron en el ejercicio anterior y variando la condición inicial `x0`, de -3 a 3 con pasos suficientemente pequeños, por ejemplo `0.125`, grafiquen la dependencia de la raíz encontrada de la condición inicial para $f(x)=x^2-2$. Para hacer esto, vale la pena que guarden en un vector la raíz obtenida y en otro la condición inicial.\n",
    "\n",
    "- Repitan el inciso anterior para $g(x) = (x-1)(x-2)(x-3)$, considerando el intervalo $x_0\\in[1,3]$ y muchas condiciones iniciales."
   ]
  },
  {
   "cell_type": "code",
   "execution_count": null,
   "metadata": {
    "inputHidden": false,
    "outputHidden": false
   },
   "outputs": [],
   "source": []
  },
  {
   "cell_type": "markdown",
   "metadata": {},
   "source": [
    "## 3\n",
    "\n",
    "Considerando la función $h(z)=z^3-c$, con $z\\in\\mathbb{C}$ y $c=1$, utiliza el método de Newton para encontrar las raices en el plano complejo de dicha ecuación. Repite el ejercicio de la dependencia de la raíz encontrada de las condiciones iniciales, graficando en el plano de Argand."
   ]
  },
  {
   "cell_type": "code",
   "execution_count": null,
   "metadata": {
    "inputHidden": false,
    "outputHidden": false
   },
   "outputs": [],
   "source": []
  },
  {
   "cell_type": "markdown",
   "metadata": {},
   "source": [
    "## 4\n",
    "\n",
    "- Definan una función `derivada_derecha` que calcule *numéricamente* la derivada de una función $f(x)$ de una variable (a priori arbitaria), en un punto $x_0$. Para esto, utilizaremos la aproximación de la derivada\n",
    "que se basa en su definición:\n",
    "\n",
    "$$ \n",
    "f'(x_0) \\approx \\frac{\\Delta f_+}{\\Delta x} \\equiv \\frac{f(x_0+h)-f(x_0)}{h},\n",
    "$$\n",
    "\n",
    "lo que requiere de la especificación de `h`. (Este método también se conoce por el nombre de *diferencias finitas*.)\n",
    "\n",
    "- A fin de simular el $\\lim_{h\\to 0}$, consideren distintos valores de $h$ que precisamente simulen dicho límite. Para cada valor de $h$ calculen el error absoluto del cálculo numérico respecto al valor *exacto*. Ilustren esto en una gráfica del error vs $h$, para $f(x) = 3x^3-2$, en $x_0=1$. "
   ]
  },
  {
   "cell_type": "code",
   "execution_count": null,
   "metadata": {
    "inputHidden": false,
    "outputHidden": false
   },
   "outputs": [],
   "source": []
  },
  {
   "cell_type": "markdown",
   "metadata": {},
   "source": [
    "## 5\n",
    "\n",
    "- Repitan el ejercicio anterior (escribe una función `derivada_simetrica`, usando ahora la aproximación *simétrica* (respecto a la ocurrencia de $h$) de la derivada, dada por\n",
    "\n",
    "$$\n",
    "f'(x_0) \\approx \\frac{ \\Delta f_{sym}}{\\Delta x} = \\lim_{h\\to 0} \\frac{f(x_0+h)-f(x_0-h)}{2h}.\n",
    "$$\n",
    "\n",
    "- ¿Por qué es correcto afirmar que la derivada simétrica resulta en una mejor aproximación que la derivada derecha? Argumenten y si es necesario usen argumentos analíticos."
   ]
  },
  {
   "cell_type": "code",
   "execution_count": null,
   "metadata": {
    "inputHidden": false,
    "outputHidden": false
   },
   "outputs": [],
   "source": []
  },
  {
   "cell_type": "markdown",
   "metadata": {},
   "source": [
    "## 6\n",
    "\n",
    "- Definan la función `derivada_compleja` considerando la definición de la derivada dada por:\n",
    "$$\n",
    "f'(x_0) \\approx \\frac{\\Delta f_{cmplx}(x_0)}{\\Delta x} = \\Im\\Big(\\frac{f(x_0+ i h)}{h}\\Big),\n",
    "$$\n",
    "donde $\\Im$ indica la parte imaginaria del argumento ($i=\\sqrt{-1}$). \n",
    "\n",
    "- Argumenta (analíticamente) por qué esta definición da tan buen resultado. ¿Hay algún caso en que esta definición puede dar resultados inesperados?"
   ]
  },
  {
   "cell_type": "markdown",
   "metadata": {},
   "source": []
  }
 ],
 "metadata": {
  "kernel_info": {
   "name": "julia-0.6"
  },
  "kernelspec": {
   "display_name": "Julia 0.6.4",
   "language": "julia",
   "name": "julia-0.6"
  },
  "language_info": {
   "file_extension": ".jl",
   "mimetype": "application/julia",
   "name": "julia",
   "version": "0.6.4"
  },
  "nteract": {
   "version": "0.11.6"
  }
 },
 "nbformat": 4,
 "nbformat_minor": 2
}
