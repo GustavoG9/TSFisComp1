{
 "cells": [
  {
   "cell_type": "markdown",
   "metadata": {},
   "source": [
    "# Tarea 2"
   ]
  },
  {
   "cell_type": "markdown",
   "metadata": {},
   "source": [
    "**Envío del PR inicial: 07.09.2018**\n",
    "\n",
    "**Aceptación del PR: 14.09.2018**"
   ]
  },
  {
   "cell_type": "markdown",
   "metadata": {},
   "source": [
    "## 1\n",
    "\n",
    "Extiendan los operadores `+`, `-`, `*` y `/` para que funcionen cuando una de las dos entradas es un `Dual` y la otra es un `Real` (número cualquiera), sin importar el orden."
   ]
  },
  {
   "cell_type": "code",
   "execution_count": 1,
   "metadata": {},
   "outputs": [],
   "source": [
    "# Importamos la definición de los siguientes operadores\n",
    "import Base: +, -,*, /, ^, sqrt,exp,cos,sin,cosh,sinh,log"
   ]
  },
  {
   "cell_type": "markdown",
   "metadata": {},
   "source": [
    "Del mismo modo que en el notebook, definimos un número dual:"
   ]
  },
  {
   "cell_type": "code",
   "execution_count": 2,
   "metadata": {},
   "outputs": [
    {
     "data": {
      "text/plain": [
       "Dual"
      ]
     },
     "execution_count": 2,
     "metadata": {},
     "output_type": "execute_result"
    }
   ],
   "source": [
    "\"\"\"\n",
    "    Dual\n",
    "\n",
    "Definición de los números duales. Los campos internos son\n",
    "    x  :: Float64   # valor de la función\n",
    "    x′ :: Float64   # valor de su derivada\n",
    "\n",
    "\"\"\"\n",
    "struct Dual\n",
    "    x  :: Float64\n",
    "    x′ :: Float64\n",
    "end"
   ]
  },
  {
   "cell_type": "code",
   "execution_count": 243,
   "metadata": {},
   "outputs": [
    {
     "data": {
      "text/plain": [
       "Dual"
      ]
     },
     "execution_count": 243,
     "metadata": {},
     "output_type": "execute_result"
    }
   ],
   "source": [
    "\"\"\"Para poder extender los operadores, primero debemos definir el dual de un número real\"\"\"\n",
    "\n",
    "Dual(u::Real) = Dual(u, 0.0)\n"
   ]
  },
  {
   "cell_type": "code",
   "execution_count": 241,
   "metadata": {},
   "outputs": [
    {
     "data": {
      "text/plain": [
       "Dual"
      ]
     },
     "execution_count": 241,
     "metadata": {},
     "output_type": "execute_result"
    }
   ],
   "source": [
    "Dual(v::Real) = Dual(v, 0.0)"
   ]
  },
  {
   "cell_type": "markdown",
   "metadata": {},
   "source": [
    "Para el operador  \" + \" :"
   ]
  },
  {
   "cell_type": "code",
   "execution_count": 27,
   "metadata": {},
   "outputs": [
    {
     "data": {
      "text/plain": [
       "+ (generic function with 183 methods)"
      ]
     },
     "execution_count": 27,
     "metadata": {},
     "output_type": "execute_result"
    }
   ],
   "source": [
    "+(u::Dual, v::Dual) = Dual( u.x + v.x, u.x′ + v.x′)\n",
    "+(a::Real, u::Dual) = Dual( a + u.x, u.x′)\n",
    "+(u::Dual, a::Real) = Dual( a + u.x, u.x′)"
   ]
  },
  {
   "cell_type": "code",
   "execution_count": 91,
   "metadata": {},
   "outputs": [
    {
     "data": {
      "text/plain": [
       "Dual(4.2, 2.0)"
      ]
     },
     "execution_count": 91,
     "metadata": {},
     "output_type": "execute_result"
    }
   ],
   "source": [
    "Dual(3.2) + Dual(1,2)"
   ]
  },
  {
   "cell_type": "code",
   "execution_count": 48,
   "metadata": {},
   "outputs": [
    {
     "data": {
      "text/plain": [
       "Dual(4.2, 2.0)"
      ]
     },
     "execution_count": 48,
     "metadata": {},
     "output_type": "execute_result"
    }
   ],
   "source": [
    "3.2 + Dual(1,2)"
   ]
  },
  {
   "cell_type": "code",
   "execution_count": 49,
   "metadata": {},
   "outputs": [
    {
     "data": {
      "text/plain": [
       "Dual(4.2, 2.0)"
      ]
     },
     "execution_count": 49,
     "metadata": {},
     "output_type": "execute_result"
    }
   ],
   "source": [
    "Dual(1,2)+3.2"
   ]
  },
  {
   "cell_type": "markdown",
   "metadata": {},
   "source": [
    "Para el operador \" - \" :"
   ]
  },
  {
   "cell_type": "code",
   "execution_count": 118,
   "metadata": {},
   "outputs": [
    {
     "data": {
      "text/plain": [
       "- (generic function with 197 methods)"
      ]
     },
     "execution_count": 118,
     "metadata": {},
     "output_type": "execute_result"
    }
   ],
   "source": [
    "-(u::Dual, v::Dual) = Dual( u.x - v.x, u.x′ - v.x′)\n",
    "-(u::Real, v::Dual) = Dual( u - v.x, - v.x′)\n",
    "-(u::Dual, v::Real) = Dual( u.x - v, u.x′ )"
   ]
  },
  {
   "cell_type": "code",
   "execution_count": 119,
   "metadata": {},
   "outputs": [
    {
     "data": {
      "text/plain": [
       "Dual(2.2, -2.0)"
      ]
     },
     "execution_count": 119,
     "metadata": {},
     "output_type": "execute_result"
    }
   ],
   "source": [
    "3.2 - Dual(1,2)"
   ]
  },
  {
   "cell_type": "code",
   "execution_count": 120,
   "metadata": {},
   "outputs": [
    {
     "data": {
      "text/plain": [
       "Dual(-2.2, 2.0)"
      ]
     },
     "execution_count": 120,
     "metadata": {},
     "output_type": "execute_result"
    }
   ],
   "source": [
    "Dual(1,2)-3.2"
   ]
  },
  {
   "cell_type": "markdown",
   "metadata": {},
   "source": [
    "Para el operador \" * \" :"
   ]
  },
  {
   "cell_type": "code",
   "execution_count": 29,
   "metadata": {},
   "outputs": [
    {
     "data": {
      "text/plain": [
       "* (generic function with 185 methods)"
      ]
     },
     "execution_count": 29,
     "metadata": {},
     "output_type": "execute_result"
    }
   ],
   "source": [
    "*(u::Dual, v::Dual) = Dual( u.x * v.x, u.x * v.x′ + u.x′ * v.x)\n",
    "*(u::Real, v::Dual) = Dual( u * v.x, u * v.x′ )\n",
    "*(u::Dual, v::Real) = Dual( u.x * v, u.x′ * v)"
   ]
  },
  {
   "cell_type": "code",
   "execution_count": 259,
   "metadata": {},
   "outputs": [
    {
     "data": {
      "text/plain": [
       "Dual(3.0, 6.0)"
      ]
     },
     "execution_count": 259,
     "metadata": {},
     "output_type": "execute_result"
    }
   ],
   "source": [
    "3*Dual(1,2)"
   ]
  },
  {
   "cell_type": "code",
   "execution_count": 260,
   "metadata": {},
   "outputs": [
    {
     "data": {
      "text/plain": [
       "Dual(3.0, 6.0)"
      ]
     },
     "execution_count": 260,
     "metadata": {},
     "output_type": "execute_result"
    }
   ],
   "source": [
    "Dual(1,2)*3"
   ]
  },
  {
   "cell_type": "markdown",
   "metadata": {},
   "source": [
    "Para el operador  \" / \" :"
   ]
  },
  {
   "cell_type": "code",
   "execution_count": 102,
   "metadata": {},
   "outputs": [
    {
     "data": {
      "text/plain": [
       "/ (generic function with 76 methods)"
      ]
     },
     "execution_count": 102,
     "metadata": {},
     "output_type": "execute_result"
    }
   ],
   "source": [
    "function /(u::Dual, v::Dual)\n",
    "    y = u.x / v.x\n",
    "    Dual( y, (u.x′ - y * v.x′)/v.x )\n",
    "end\n",
    "\n",
    "function /(u::Real, v::Dual)\n",
    "    y = u / v.x\n",
    "    Dual( y, (u*v.x′)/(v.x)^2 )\n",
    "end\n",
    "function /(u::Dual, v::Real)\n",
    "    y = u.x / v\n",
    "    Dual( y, (u.x)/v )\n",
    "end"
   ]
  },
  {
   "cell_type": "code",
   "execution_count": 46,
   "metadata": {},
   "outputs": [
    {
     "data": {
      "text/plain": [
       "Dual(3.0000000000000004, 1.8181818181818186)"
      ]
     },
     "execution_count": 46,
     "metadata": {},
     "output_type": "execute_result"
    }
   ],
   "source": [
    "9.9/Dual(3.3,2)"
   ]
  },
  {
   "cell_type": "code",
   "execution_count": 47,
   "metadata": {},
   "outputs": [
    {
     "data": {
      "text/plain": [
       "Dual(0.3333333333333333, 0.16835016835016836)"
      ]
     },
     "execution_count": 47,
     "metadata": {},
     "output_type": "execute_result"
    }
   ],
   "source": [
    "Dual(3.3,2)/9.9"
   ]
  },
  {
   "cell_type": "markdown",
   "metadata": {},
   "source": [
    "## 2\n",
    "\n",
    "Construyan 2 tests para cada una de las operaciones aritméticas definidas para los `Dual`es, incluyendo las que definieron en el ejercicio 1."
   ]
  },
  {
   "cell_type": "code",
   "execution_count": 297,
   "metadata": {},
   "outputs": [],
   "source": [
    "# Esto carga la paquetería Base.Test\n",
    "using Base.Test"
   ]
  },
  {
   "cell_type": "markdown",
   "metadata": {},
   "source": [
    "Verifiquemos que la funcionalidad de las definiciones del ejercicio 1 sea la adecuada, para ello construiremos dos tests para cada una."
   ]
  },
  {
   "cell_type": "markdown",
   "metadata": {},
   "source": [
    "Para el operador \" + \" :"
   ]
  },
  {
   "cell_type": "markdown",
   "metadata": {},
   "source": [
    "Para la primera definición: +(u::Dual, v::Dual) = Dual( u.x + v.x, u.x′ + v.x′)"
   ]
  },
  {
   "cell_type": "code",
   "execution_count": 19,
   "metadata": {},
   "outputs": [
    {
     "data": {
      "text/plain": [
       "\u001b[1m\u001b[32mTest Passed\u001b[39m\u001b[22m"
      ]
     },
     "execution_count": 19,
     "metadata": {},
     "output_type": "execute_result"
    }
   ],
   "source": [
    "@test Dual(3.2,2) + Dual(1,2) == Dual(4.2,4)"
   ]
  },
  {
   "cell_type": "code",
   "execution_count": 20,
   "metadata": {},
   "outputs": [
    {
     "data": {
      "text/plain": [
       "\u001b[1m\u001b[32mTest Passed\u001b[39m\u001b[22m"
      ]
     },
     "execution_count": 20,
     "metadata": {},
     "output_type": "execute_result"
    }
   ],
   "source": [
    "@test Dual(1,2) + Dual(5.5,3.2) == Dual(6.5,5.2)"
   ]
  },
  {
   "cell_type": "markdown",
   "metadata": {},
   "source": [
    "Para la segunda definición:  +(a::Real, u::Dual) = Dual( a + u.x, u.x′)"
   ]
  },
  {
   "cell_type": "code",
   "execution_count": 21,
   "metadata": {},
   "outputs": [
    {
     "data": {
      "text/plain": [
       "\u001b[1m\u001b[32mTest Passed\u001b[39m\u001b[22m"
      ]
     },
     "execution_count": 21,
     "metadata": {},
     "output_type": "execute_result"
    }
   ],
   "source": [
    "@test 3.2 + Dual(1,2) == Dual(4.2,2)"
   ]
  },
  {
   "cell_type": "code",
   "execution_count": 22,
   "metadata": {},
   "outputs": [
    {
     "data": {
      "text/plain": [
       "\u001b[1m\u001b[32mTest Passed\u001b[39m\u001b[22m"
      ]
     },
     "execution_count": 22,
     "metadata": {},
     "output_type": "execute_result"
    }
   ],
   "source": [
    "@test 5.3 + Dual(6,2)  == Dual(11.3,2)"
   ]
  },
  {
   "cell_type": "markdown",
   "metadata": {},
   "source": [
    "Para la tercera definición:  +(u::Dual, a::Real) = Dual( a + u.x, u.x′)"
   ]
  },
  {
   "cell_type": "code",
   "execution_count": 24,
   "metadata": {},
   "outputs": [
    {
     "data": {
      "text/plain": [
       "\u001b[1m\u001b[32mTest Passed\u001b[39m\u001b[22m"
      ]
     },
     "execution_count": 24,
     "metadata": {},
     "output_type": "execute_result"
    }
   ],
   "source": [
    "@test Dual(1,2) + 3.2 == Dual(4.2,2)"
   ]
  },
  {
   "cell_type": "code",
   "execution_count": 25,
   "metadata": {},
   "outputs": [
    {
     "data": {
      "text/plain": [
       "\u001b[1m\u001b[32mTest Passed\u001b[39m\u001b[22m"
      ]
     },
     "execution_count": 25,
     "metadata": {},
     "output_type": "execute_result"
    }
   ],
   "source": [
    "@test Dual(6,2) + 5.3 == Dual(11.3,2)"
   ]
  },
  {
   "cell_type": "markdown",
   "metadata": {},
   "source": [
    "Para el operador \" - \" :"
   ]
  },
  {
   "cell_type": "markdown",
   "metadata": {},
   "source": [
    "Para la primera definición: -(u::Dual, v::Dual) = Dual( u.x - v.x, u.x′ - v.x′)"
   ]
  },
  {
   "cell_type": "code",
   "execution_count": 11,
   "metadata": {},
   "outputs": [
    {
     "data": {
      "text/plain": [
       "\u001b[1m\u001b[32mTest Passed\u001b[39m\u001b[22m"
      ]
     },
     "execution_count": 11,
     "metadata": {},
     "output_type": "execute_result"
    }
   ],
   "source": [
    "@test Dual(3,2) - Dual(1,2) == Dual(2,0)"
   ]
  },
  {
   "cell_type": "code",
   "execution_count": 20,
   "metadata": {},
   "outputs": [
    {
     "data": {
      "text/plain": [
       "\u001b[1m\u001b[32mTest Passed\u001b[39m\u001b[22m"
      ]
     },
     "execution_count": 20,
     "metadata": {},
     "output_type": "execute_result"
    }
   ],
   "source": [
    "@test Dual(6,2) - 5.3 == Dual(0.7000000000000002,2)"
   ]
  },
  {
   "cell_type": "markdown",
   "metadata": {},
   "source": [
    "Para la segunda definición:  -(a::Real, u::Dual) = Dual( a - u.x, -u.x′)"
   ]
  },
  {
   "cell_type": "code",
   "execution_count": 13,
   "metadata": {},
   "outputs": [
    {
     "data": {
      "text/plain": [
       "\u001b[1m\u001b[32mTest Passed\u001b[39m\u001b[22m"
      ]
     },
     "execution_count": 13,
     "metadata": {},
     "output_type": "execute_result"
    }
   ],
   "source": [
    "@test 3-Dual(5,6) == Dual(-2,-6)"
   ]
  },
  {
   "cell_type": "code",
   "execution_count": 24,
   "metadata": {},
   "outputs": [
    {
     "data": {
      "text/plain": [
       "\u001b[1m\u001b[32mTest Passed\u001b[39m\u001b[22m"
      ]
     },
     "execution_count": 24,
     "metadata": {},
     "output_type": "execute_result"
    }
   ],
   "source": [
    "@test 5.5 - Dual(6.1,2.3)  == Dual(-0.5999999999999996,-2.3)"
   ]
  },
  {
   "cell_type": "markdown",
   "metadata": {},
   "source": [
    "Para la tercera definición:  -(u::Dual, a::Real) = Dual( u.x-a, u.x′)"
   ]
  },
  {
   "cell_type": "code",
   "execution_count": 26,
   "metadata": {},
   "outputs": [
    {
     "data": {
      "text/plain": [
       "\u001b[1m\u001b[32mTest Passed\u001b[39m\u001b[22m"
      ]
     },
     "execution_count": 26,
     "metadata": {},
     "output_type": "execute_result"
    }
   ],
   "source": [
    "@test Dual(5,6) - 3 == Dual(2,6)"
   ]
  },
  {
   "cell_type": "code",
   "execution_count": 27,
   "metadata": {},
   "outputs": [
    {
     "data": {
      "text/plain": [
       "\u001b[1m\u001b[32mTest Passed\u001b[39m\u001b[22m"
      ]
     },
     "execution_count": 27,
     "metadata": {},
     "output_type": "execute_result"
    }
   ],
   "source": [
    "@test Dual(6,2) - 5.3 == Dual(0.7000000000000002,2)"
   ]
  },
  {
   "cell_type": "markdown",
   "metadata": {},
   "source": [
    "Para el operador \" * \" :"
   ]
  },
  {
   "cell_type": "markdown",
   "metadata": {},
   "source": [
    "Para la primera definición: \\*(u::Dual, v::Dual) = Dual( u.x \\* v.x, u.x \\* v.x′ + u.x′ \\* v.x)"
   ]
  },
  {
   "cell_type": "code",
   "execution_count": 60,
   "metadata": {},
   "outputs": [
    {
     "data": {
      "text/plain": [
       "\u001b[1m\u001b[32mTest Passed\u001b[39m\u001b[22m"
      ]
     },
     "execution_count": 60,
     "metadata": {},
     "output_type": "execute_result"
    }
   ],
   "source": [
    "@test Dual(3.4,5.2) * Dual(2,4)  == Dual(6.8,24)"
   ]
  },
  {
   "cell_type": "code",
   "execution_count": 62,
   "metadata": {},
   "outputs": [
    {
     "data": {
      "text/plain": [
       "\u001b[1m\u001b[32mTest Passed\u001b[39m\u001b[22m"
      ]
     },
     "execution_count": 62,
     "metadata": {},
     "output_type": "execute_result"
    }
   ],
   "source": [
    "@test Dual(4.3,6.2) * Dual(3.2,7) == Dual(13.76,49.94)"
   ]
  },
  {
   "cell_type": "markdown",
   "metadata": {},
   "source": [
    "Para la segunda definición:  \\*(u::Real, v::Dual) = Dual( u \\* v.x, u \\* v.x′ + u \\* v.x)"
   ]
  },
  {
   "cell_type": "code",
   "execution_count": 64,
   "metadata": {},
   "outputs": [
    {
     "data": {
      "text/plain": [
       "\u001b[1m\u001b[32mTest Passed\u001b[39m\u001b[22m"
      ]
     },
     "execution_count": 64,
     "metadata": {},
     "output_type": "execute_result"
    }
   ],
   "source": [
    "@test 3.7 * Dual(2,8) == Dual(7.4,37)"
   ]
  },
  {
   "cell_type": "code",
   "execution_count": 66,
   "metadata": {},
   "outputs": [
    {
     "data": {
      "text/plain": [
       "\u001b[1m\u001b[32mTest Passed\u001b[39m\u001b[22m"
      ]
     },
     "execution_count": 66,
     "metadata": {},
     "output_type": "execute_result"
    }
   ],
   "source": [
    "@test 5.6 * Dual(8.5,21) == Dual(47.599999999999994,165.2)"
   ]
  },
  {
   "cell_type": "markdown",
   "metadata": {},
   "source": [
    "Para la tercera definición:    \\*(u::Dual, v::Real) = Dual( u.x \\* v, u.x \\* v + u.x′ \\* v)"
   ]
  },
  {
   "cell_type": "code",
   "execution_count": 67,
   "metadata": {},
   "outputs": [
    {
     "data": {
      "text/plain": [
       "\u001b[1m\u001b[32mTest Passed\u001b[39m\u001b[22m"
      ]
     },
     "execution_count": 67,
     "metadata": {},
     "output_type": "execute_result"
    }
   ],
   "source": [
    "@test Dual(2,8) * 3.7 == Dual(7.4,37) "
   ]
  },
  {
   "cell_type": "code",
   "execution_count": 68,
   "metadata": {},
   "outputs": [
    {
     "data": {
      "text/plain": [
       "\u001b[1m\u001b[32mTest Passed\u001b[39m\u001b[22m"
      ]
     },
     "execution_count": 68,
     "metadata": {},
     "output_type": "execute_result"
    }
   ],
   "source": [
    "@test Dual(8.5,21) * 5.6 == Dual(47.599999999999994,165.2)"
   ]
  },
  {
   "cell_type": "markdown",
   "metadata": {},
   "source": [
    "Para el operador \" / \" :"
   ]
  },
  {
   "cell_type": "markdown",
   "metadata": {},
   "source": [
    "Para la primera definición: \n",
    "\n",
    "    function /(u::Dual, v::Dual)\n",
    "      y = u.x / v.x\n",
    "      Dual( y, (u.x′ - y * v.x′)/v.x )\n",
    "    end\n"
   ]
  },
  {
   "cell_type": "code",
   "execution_count": 17,
   "metadata": {},
   "outputs": [
    {
     "data": {
      "text/plain": [
       "\u001b[1m\u001b[32mTest Passed\u001b[39m\u001b[22m"
      ]
     },
     "execution_count": 17,
     "metadata": {},
     "output_type": "execute_result"
    }
   ],
   "source": [
    "@test Dual(6,3) / Dual(3,5) == Dual(2,-2.3333333333333335)"
   ]
  },
  {
   "cell_type": "code",
   "execution_count": 32,
   "metadata": {},
   "outputs": [
    {
     "data": {
      "text/plain": [
       "\u001b[1m\u001b[32mTest Passed\u001b[39m\u001b[22m"
      ]
     },
     "execution_count": 32,
     "metadata": {},
     "output_type": "execute_result"
    }
   ],
   "source": [
    "@test Dual(9.9,2) / Dual(3.3,2) == Dual(3.0000000000000004,-1.2121212121212124)"
   ]
  },
  {
   "cell_type": "markdown",
   "metadata": {},
   "source": [
    "Para la segunda definición:\n",
    "\n",
    "    function /(u::Real, v::Dual)\n",
    "       y = u / v.x\n",
    "       Dual( y, (u*v.x′)/(v.x)^2 )\n",
    "    end\n"
   ]
  },
  {
   "cell_type": "code",
   "execution_count": 34,
   "metadata": {},
   "outputs": [
    {
     "data": {
      "text/plain": [
       "\u001b[1m\u001b[32mTest Passed\u001b[39m\u001b[22m"
      ]
     },
     "execution_count": 34,
     "metadata": {},
     "output_type": "execute_result"
    }
   ],
   "source": [
    "@test 6 / Dual(3,5) == Dual(2,-1.3333333333333333)"
   ]
  },
  {
   "cell_type": "code",
   "execution_count": 36,
   "metadata": {},
   "outputs": [
    {
     "data": {
      "text/plain": [
       "\u001b[1m\u001b[32mTest Passed\u001b[39m\u001b[22m"
      ]
     },
     "execution_count": 36,
     "metadata": {},
     "output_type": "execute_result"
    }
   ],
   "source": [
    "@test 9.9 / Dual(3.3,2) == Dual(3.0000000000000004, 1.1818181818181817)"
   ]
  },
  {
   "cell_type": "markdown",
   "metadata": {},
   "source": [
    "Para la tercera definición:\n",
    "\n",
    "    function /(u::Dual, v::Real)\n",
    "       y = u.x / v\n",
    "       Dual( y, (u.x)/v )\n",
    "    end"
   ]
  },
  {
   "cell_type": "code",
   "execution_count": 38,
   "metadata": {},
   "outputs": [
    {
     "data": {
      "text/plain": [
       "\u001b[1m\u001b[32mTest Passed\u001b[39m\u001b[22m"
      ]
     },
     "execution_count": 38,
     "metadata": {},
     "output_type": "execute_result"
    }
   ],
   "source": [
    "@test Dual(3,5) / 6 == Dual(0.5,0.3333333333333333)"
   ]
  },
  {
   "cell_type": "code",
   "execution_count": 40,
   "metadata": {},
   "outputs": [
    {
     "data": {
      "text/plain": [
       "\u001b[1m\u001b[32mTest Passed\u001b[39m\u001b[22m"
      ]
     },
     "execution_count": 40,
     "metadata": {},
     "output_type": "execute_result"
    }
   ],
   "source": [
    "@test Dual(3.3,2) / 9.9 == Dual(0.3333333333333333, -0.1313131313131313)"
   ]
  },
  {
   "cell_type": "markdown",
   "metadata": {},
   "source": [
    "## 3\n",
    "\n",
    "Sobrecarguen la función `show` (que está en Base) para que cuando se impriman los duales aparezcan con la notación $\\varepsilon$ que usamos al principio de este notebook, por ejemplo, el resultado de `Dual(1,2)` debe ser parecido a `1.0 + 2.0 ε`."
   ]
  },
  {
   "cell_type": "code",
   "execution_count": 183,
   "metadata": {},
   "outputs": [
    {
     "data": {
      "text/plain": [
       "show (generic function with 271 methods)"
      ]
     },
     "execution_count": 183,
     "metadata": {},
     "output_type": "execute_result"
    }
   ],
   "source": [
    "import Base.show\n",
    "\n",
    "function show(io::IO,u::Dual)\n",
    "    print(u.x, \" + \" , u.x′ ,\"ϵ\")\n",
    "end\n"
   ]
  },
  {
   "cell_type": "code",
   "execution_count": 284,
   "metadata": {},
   "outputs": [
    {
     "name": "stdout",
     "output_type": "stream",
     "text": [
      "1.0 + 2.0ϵ"
     ]
    }
   ],
   "source": [
    "show(Dual(1,2))"
   ]
  },
  {
   "cell_type": "markdown",
   "metadata": {},
   "source": [
    "## 4\n",
    "\n",
    "Obtengan la derivada de \n",
    "$$g(x) = \\frac{3x^2-8x+5}{7x^3-1}$$\n",
    "en $x_0=1$."
   ]
  },
  {
   "cell_type": "markdown",
   "metadata": {},
   "source": [
    "Utilizaremos las propiedades de los números duales para obtener la derivada de esta función, aprovechando que cumplen con la regla de la cadena:"
   ]
  },
  {
   "cell_type": "code",
   "execution_count": 265,
   "metadata": {},
   "outputs": [
    {
     "data": {
      "text/plain": [
       "g (generic function with 1 method)"
      ]
     },
     "execution_count": 265,
     "metadata": {},
     "output_type": "execute_result"
    }
   ],
   "source": [
    "g(x)=(3x^2-8x+5)/(7x^3-1)"
   ]
  },
  {
   "cell_type": "code",
   "execution_count": 275,
   "metadata": {},
   "outputs": [
    {
     "data": {
      "text/plain": [
       "0.0"
      ]
     },
     "execution_count": 275,
     "metadata": {},
     "output_type": "execute_result"
    }
   ],
   "source": [
    "g(1)"
   ]
  },
  {
   "cell_type": "code",
   "execution_count": 14,
   "metadata": {},
   "outputs": [
    {
     "data": {
      "text/plain": [
       "dual (generic function with 1 method)"
      ]
     },
     "execution_count": 14,
     "metadata": {},
     "output_type": "execute_result"
    }
   ],
   "source": [
    "dual(x0::Real) = Dual(x0, 1)"
   ]
  },
  {
   "cell_type": "code",
   "execution_count": 15,
   "metadata": {},
   "outputs": [
    {
     "data": {
      "text/plain": []
     },
     "execution_count": 15,
     "metadata": {},
     "output_type": "execute_result"
    },
    {
     "name": "stdout",
     "output_type": "stream",
     "text": [
      "1.0 + 1.0ϵ"
     ]
    }
   ],
   "source": [
    "x = dual(1)"
   ]
  },
  {
   "cell_type": "markdown",
   "metadata": {},
   "source": [
    "De acuerdo con el notebook, la función dual($x_0$) construye el Dual de la variable $x$ en $x_0$."
   ]
  },
  {
   "cell_type": "code",
   "execution_count": 270,
   "metadata": {},
   "outputs": [
    {
     "data": {
      "text/plain": [
       "Dual(0.0, -0.3333333333333333)"
      ]
     },
     "execution_count": 270,
     "metadata": {},
     "output_type": "execute_result"
    }
   ],
   "source": [
    "g(x)"
   ]
  },
  {
   "cell_type": "markdown",
   "metadata": {},
   "source": [
    "Notemos que la primera componente nos muestra el valor que resulta de evaluar g($x$) en $x$=1, mientras que la segunda componente nos muestra el valor de la derivada de g($x$); es decir, g'($x$) evaluada en $x$ = 1. "
   ]
  },
  {
   "cell_type": "markdown",
   "metadata": {},
   "source": [
    "La derivada de la función $g(x)$ es: \n",
    "\n",
    "$g'(x) = \\frac{-21x^4 + 112x^3 - 105x^2 - 6x + 8}{(7x^3-1)^2} $ \n",
    "\n",
    "$g'(x)$ evaluada en $x_0=1$ es:\n"
   ]
  },
  {
   "cell_type": "code",
   "execution_count": 74,
   "metadata": {},
   "outputs": [
    {
     "data": {
      "text/plain": [
       "dg (generic function with 1 method)"
      ]
     },
     "execution_count": 74,
     "metadata": {},
     "output_type": "execute_result"
    }
   ],
   "source": [
    "dg(x) = (-21x^4 + 112x^3 - 105x^2 - 6x + 8)/((7x^3-1)^2)"
   ]
  },
  {
   "cell_type": "code",
   "execution_count": 75,
   "metadata": {},
   "outputs": [
    {
     "data": {
      "text/plain": [
       "-0.3333333333333333"
      ]
     },
     "execution_count": 75,
     "metadata": {},
     "output_type": "execute_result"
    }
   ],
   "source": [
    "dg(1)"
   ]
  },
  {
   "cell_type": "code",
   "execution_count": 274,
   "metadata": {},
   "outputs": [
    {
     "data": {
      "text/plain": [
       "0.0"
      ]
     },
     "execution_count": 274,
     "metadata": {},
     "output_type": "execute_result"
    }
   ],
   "source": [
    "abs(g(x).x′ - dg(1))"
   ]
  },
  {
   "cell_type": "markdown",
   "metadata": {},
   "source": [
    "## 5\n",
    "\n",
    "- Recordando la regla de la cadena(!!!), extiendan el usar los `Dual` a las funciones `sqrt`, `exp`, `log`, `sin`, `cos`, `sinh` y `cosh`. \n",
    "\n",
    "- Muestren que las cosas dan los resultados que esperan usando pruebas como hicieron en el ejercicio 2.\n",
    "\n",
    "- Calculen la derivada de $h(x) = \\sin\\Big(x^3 - \\frac{2}{x^6}\\Big)$ en $x_0 = 2$. ¿Qué tan preciso es el resultado?(Pueden usar cualquier otra manera de obtener el resultado correcto, sólo tienen que ser claros en la explicación.)\n",
    "\n",
    "- Dibujen, para $x_0 \\in [1,5]$ la función $h'(x)$."
   ]
  },
  {
   "cell_type": "markdown",
   "metadata": {},
   "source": [
    "- Para el primer punto y segundo punto:"
   ]
  },
  {
   "cell_type": "markdown",
   "metadata": {},
   "source": [
    "Primero, extendamos la función `sqrt` por medio de los `Dual`:"
   ]
  },
  {
   "cell_type": "code",
   "execution_count": 292,
   "metadata": {},
   "outputs": [
    {
     "data": {
      "text/plain": [
       "sqrt (generic function with 12 methods)"
      ]
     },
     "execution_count": 292,
     "metadata": {},
     "output_type": "execute_result"
    }
   ],
   "source": [
    "sqrt(u::Dual)=Dual(sqrt(u.x),u.x′/(2sqrt(u.x)))"
   ]
  },
  {
   "cell_type": "code",
   "execution_count": 293,
   "metadata": {},
   "outputs": [
    {
     "data": {
      "text/plain": [
       "dual (generic function with 1 method)"
      ]
     },
     "execution_count": 293,
     "metadata": {},
     "output_type": "execute_result"
    }
   ],
   "source": [
    "dual(x0::Real) = Dual(x0, 1)"
   ]
  },
  {
   "cell_type": "code",
   "execution_count": 294,
   "metadata": {},
   "outputs": [
    {
     "data": {
      "text/plain": []
     },
     "execution_count": 294,
     "metadata": {},
     "output_type": "execute_result"
    },
    {
     "name": "stdout",
     "output_type": "stream",
     "text": [
      "100.0 + 1.0ϵ"
     ]
    }
   ],
   "source": [
    "x = dual(100)"
   ]
  },
  {
   "cell_type": "code",
   "execution_count": 295,
   "metadata": {},
   "outputs": [
    {
     "data": {
      "text/plain": []
     },
     "execution_count": 295,
     "metadata": {},
     "output_type": "execute_result"
    },
    {
     "name": "stdout",
     "output_type": "stream",
     "text": [
      "10.0 + 0.05ϵ"
     ]
    }
   ],
   "source": [
    "sqrt(x)"
   ]
  },
  {
   "cell_type": "markdown",
   "metadata": {},
   "source": [
    "Veamos que da justamente el resultado esperado:"
   ]
  },
  {
   "cell_type": "code",
   "execution_count": 299,
   "metadata": {},
   "outputs": [
    {
     "data": {
      "text/plain": [
       "\u001b[1m\u001b[32mTest Passed\u001b[39m\u001b[22m"
      ]
     },
     "execution_count": 299,
     "metadata": {},
     "output_type": "execute_result"
    }
   ],
   "source": [
    "@test sqrt(100) == sqrt(x).x"
   ]
  },
  {
   "cell_type": "code",
   "execution_count": 300,
   "metadata": {},
   "outputs": [
    {
     "data": {
      "text/plain": [
       "\u001b[1m\u001b[32mTest Passed\u001b[39m\u001b[22m"
      ]
     },
     "execution_count": 300,
     "metadata": {},
     "output_type": "execute_result"
    }
   ],
   "source": [
    "@test 1/(2*sqrt(100)) == sqrt(x).x′"
   ]
  },
  {
   "cell_type": "markdown",
   "metadata": {},
   "source": [
    "Para extender la función `exp` por medio de los `Dual` :"
   ]
  },
  {
   "cell_type": "code",
   "execution_count": 302,
   "metadata": {},
   "outputs": [
    {
     "data": {
      "text/plain": [
       "exp (generic function with 12 methods)"
      ]
     },
     "execution_count": 302,
     "metadata": {},
     "output_type": "execute_result"
    }
   ],
   "source": [
    "exp(u::Dual)=Dual(exp(u.x),u.x′*exp(u.x))"
   ]
  },
  {
   "cell_type": "code",
   "execution_count": 303,
   "metadata": {},
   "outputs": [
    {
     "data": {
      "text/plain": []
     },
     "execution_count": 303,
     "metadata": {},
     "output_type": "execute_result"
    },
    {
     "name": "stdout",
     "output_type": "stream",
     "text": [
      "3.0 + 1.0ϵ"
     ]
    }
   ],
   "source": [
    "x = dual(3)"
   ]
  },
  {
   "cell_type": "code",
   "execution_count": 304,
   "metadata": {},
   "outputs": [
    {
     "data": {
      "text/plain": []
     },
     "execution_count": 304,
     "metadata": {},
     "output_type": "execute_result"
    },
    {
     "name": "stdout",
     "output_type": "stream",
     "text": [
      "20.085536923187668 + 20.085536923187668ϵ"
     ]
    }
   ],
   "source": [
    "exp(x)"
   ]
  },
  {
   "cell_type": "markdown",
   "metadata": {},
   "source": [
    "Veamos que da justamente el resultado esperado:"
   ]
  },
  {
   "cell_type": "code",
   "execution_count": 305,
   "metadata": {},
   "outputs": [
    {
     "data": {
      "text/plain": [
       "\u001b[1m\u001b[32mTest Passed\u001b[39m\u001b[22m"
      ]
     },
     "execution_count": 305,
     "metadata": {},
     "output_type": "execute_result"
    }
   ],
   "source": [
    "@test exp(3) == exp(x).x"
   ]
  },
  {
   "cell_type": "code",
   "execution_count": 306,
   "metadata": {},
   "outputs": [
    {
     "data": {
      "text/plain": [
       "\u001b[1m\u001b[32mTest Passed\u001b[39m\u001b[22m"
      ]
     },
     "execution_count": 306,
     "metadata": {},
     "output_type": "execute_result"
    }
   ],
   "source": [
    "@test exp(3)  == exp(x).x′"
   ]
  },
  {
   "cell_type": "markdown",
   "metadata": {},
   "source": [
    "Para extender la función `log` por medio de los `Dual` :"
   ]
  },
  {
   "cell_type": "code",
   "execution_count": 313,
   "metadata": {},
   "outputs": [
    {
     "data": {
      "text/plain": [
       "log (generic function with 20 methods)"
      ]
     },
     "execution_count": 313,
     "metadata": {},
     "output_type": "execute_result"
    }
   ],
   "source": [
    "log(u::Dual)=Dual(log(u.x),u.x′*(1/u.x))"
   ]
  },
  {
   "cell_type": "code",
   "execution_count": 314,
   "metadata": {},
   "outputs": [
    {
     "data": {
      "text/plain": []
     },
     "execution_count": 314,
     "metadata": {},
     "output_type": "execute_result"
    },
    {
     "name": "stdout",
     "output_type": "stream",
     "text": [
      "3.0 + 1.0ϵ"
     ]
    }
   ],
   "source": [
    "x = dual(3)"
   ]
  },
  {
   "cell_type": "code",
   "execution_count": 315,
   "metadata": {},
   "outputs": [
    {
     "data": {
      "text/plain": []
     },
     "execution_count": 315,
     "metadata": {},
     "output_type": "execute_result"
    },
    {
     "name": "stdout",
     "output_type": "stream",
     "text": [
      "1.0986122886681096 + 0.3333333333333333ϵ"
     ]
    }
   ],
   "source": [
    "log(x)"
   ]
  },
  {
   "cell_type": "markdown",
   "metadata": {},
   "source": [
    "Veamos que da el resultado justamente esperado:"
   ]
  },
  {
   "cell_type": "code",
   "execution_count": 316,
   "metadata": {},
   "outputs": [
    {
     "data": {
      "text/plain": [
       "\u001b[1m\u001b[32mTest Passed\u001b[39m\u001b[22m"
      ]
     },
     "execution_count": 316,
     "metadata": {},
     "output_type": "execute_result"
    }
   ],
   "source": [
    "@test log(3) == log(x).x"
   ]
  },
  {
   "cell_type": "code",
   "execution_count": 317,
   "metadata": {},
   "outputs": [
    {
     "data": {
      "text/plain": [
       "\u001b[1m\u001b[32mTest Passed\u001b[39m\u001b[22m"
      ]
     },
     "execution_count": 317,
     "metadata": {},
     "output_type": "execute_result"
    }
   ],
   "source": [
    "@test 1/3 == log(x).x′"
   ]
  },
  {
   "cell_type": "markdown",
   "metadata": {},
   "source": [
    "Para extender la función `sin` por medio de los `Dual` :"
   ]
  },
  {
   "cell_type": "code",
   "execution_count": 318,
   "metadata": {},
   "outputs": [
    {
     "data": {
      "text/plain": [
       "sin (generic function with 12 methods)"
      ]
     },
     "execution_count": 318,
     "metadata": {},
     "output_type": "execute_result"
    }
   ],
   "source": [
    "sin(u::Dual)=Dual(sin(u.x*π/180),u.x′*cos(u.x * π/180))"
   ]
  },
  {
   "cell_type": "code",
   "execution_count": 319,
   "metadata": {},
   "outputs": [
    {
     "data": {
      "text/plain": []
     },
     "execution_count": 319,
     "metadata": {},
     "output_type": "execute_result"
    },
    {
     "name": "stdout",
     "output_type": "stream",
     "text": [
      "45.0 + 1.0ϵ"
     ]
    }
   ],
   "source": [
    "x = dual(45)"
   ]
  },
  {
   "cell_type": "code",
   "execution_count": 320,
   "metadata": {},
   "outputs": [
    {
     "data": {
      "text/plain": []
     },
     "execution_count": 320,
     "metadata": {},
     "output_type": "execute_result"
    },
    {
     "name": "stdout",
     "output_type": "stream",
     "text": [
      "0.7071067811865475 + 0.7071067811865476ϵ"
     ]
    }
   ],
   "source": [
    "sin(x)"
   ]
  },
  {
   "cell_type": "markdown",
   "metadata": {},
   "source": [
    "Veamos que da el resultado justamente esperado:"
   ]
  },
  {
   "cell_type": "code",
   "execution_count": 322,
   "metadata": {},
   "outputs": [
    {
     "data": {
      "text/plain": [
       "\u001b[1m\u001b[32mTest Passed\u001b[39m\u001b[22m"
      ]
     },
     "execution_count": 322,
     "metadata": {},
     "output_type": "execute_result"
    }
   ],
   "source": [
    "@test sin(45*π/180)  == sin(x).x"
   ]
  },
  {
   "cell_type": "code",
   "execution_count": 324,
   "metadata": {},
   "outputs": [
    {
     "data": {
      "text/plain": [
       "\u001b[1m\u001b[32mTest Passed\u001b[39m\u001b[22m"
      ]
     },
     "execution_count": 324,
     "metadata": {},
     "output_type": "execute_result"
    }
   ],
   "source": [
    "@test cos(45*π/180)  == sin(x).x′"
   ]
  },
  {
   "cell_type": "markdown",
   "metadata": {},
   "source": [
    "Para extender la función `cos` por medio de los `Dual` :"
   ]
  },
  {
   "cell_type": "code",
   "execution_count": 352,
   "metadata": {},
   "outputs": [
    {
     "data": {
      "text/plain": [
       "cos (generic function with 12 methods)"
      ]
     },
     "execution_count": 352,
     "metadata": {},
     "output_type": "execute_result"
    }
   ],
   "source": [
    "cos(u::Dual)=Dual(cos((u.x)*(π/180)),-u.x′*sin((u.x)*(π/180)))"
   ]
  },
  {
   "cell_type": "code",
   "execution_count": 353,
   "metadata": {},
   "outputs": [
    {
     "data": {
      "text/plain": []
     },
     "execution_count": 353,
     "metadata": {},
     "output_type": "execute_result"
    },
    {
     "name": "stdout",
     "output_type": "stream",
     "text": [
      "45.0 + 1.0ϵ"
     ]
    }
   ],
   "source": [
    "x = dual(45)"
   ]
  },
  {
   "cell_type": "code",
   "execution_count": 354,
   "metadata": {},
   "outputs": [
    {
     "data": {
      "text/plain": []
     },
     "execution_count": 354,
     "metadata": {},
     "output_type": "execute_result"
    },
    {
     "name": "stdout",
     "output_type": "stream",
     "text": [
      "0.7071067811865476 + -0.7071067811865475ϵ"
     ]
    }
   ],
   "source": [
    "cos(x)"
   ]
  },
  {
   "cell_type": "markdown",
   "metadata": {},
   "source": [
    "Veamos que da el resultado justamente esperado:"
   ]
  },
  {
   "cell_type": "code",
   "execution_count": 355,
   "metadata": {},
   "outputs": [
    {
     "data": {
      "text/plain": [
       "\u001b[1m\u001b[32mTest Passed\u001b[39m\u001b[22m"
      ]
     },
     "execution_count": 355,
     "metadata": {},
     "output_type": "execute_result"
    }
   ],
   "source": [
    "@test cos(45* π/180) == cos(x).x"
   ]
  },
  {
   "cell_type": "code",
   "execution_count": 356,
   "metadata": {},
   "outputs": [
    {
     "data": {
      "text/plain": [
       "\u001b[1m\u001b[32mTest Passed\u001b[39m\u001b[22m"
      ]
     },
     "execution_count": 356,
     "metadata": {},
     "output_type": "execute_result"
    }
   ],
   "source": [
    "@test -sin(45* π/180) == cos(x).x′"
   ]
  },
  {
   "cell_type": "markdown",
   "metadata": {},
   "source": [
    "Para extender la función `sinh`por medio de los `Dual` :"
   ]
  },
  {
   "cell_type": "code",
   "execution_count": 16,
   "metadata": {},
   "outputs": [
    {
     "data": {
      "text/plain": [
       "sinh (generic function with 12 methods)"
      ]
     },
     "execution_count": 16,
     "metadata": {},
     "output_type": "execute_result"
    }
   ],
   "source": [
    "sinh(u::Dual)=Dual(sinh(u.x),u.x′*cosh(u.x))"
   ]
  },
  {
   "cell_type": "code",
   "execution_count": 340,
   "metadata": {},
   "outputs": [
    {
     "data": {
      "text/plain": []
     },
     "execution_count": 340,
     "metadata": {},
     "output_type": "execute_result"
    },
    {
     "name": "stdout",
     "output_type": "stream",
     "text": [
      "3.141592653589793 + 1.0ϵ"
     ]
    }
   ],
   "source": [
    "x = dual(π)"
   ]
  },
  {
   "cell_type": "code",
   "execution_count": 341,
   "metadata": {},
   "outputs": [
    {
     "data": {
      "text/plain": []
     },
     "execution_count": 341,
     "metadata": {},
     "output_type": "execute_result"
    },
    {
     "name": "stdout",
     "output_type": "stream",
     "text": [
      "11.548739357257748 + 11.591953275521519ϵ"
     ]
    }
   ],
   "source": [
    "sinh(x)"
   ]
  },
  {
   "cell_type": "markdown",
   "metadata": {},
   "source": [
    "Veamos que da el resultado justamente esperado:"
   ]
  },
  {
   "cell_type": "code",
   "execution_count": 344,
   "metadata": {},
   "outputs": [
    {
     "data": {
      "text/plain": [
       "\u001b[1m\u001b[32mTest Passed\u001b[39m\u001b[22m"
      ]
     },
     "execution_count": 344,
     "metadata": {},
     "output_type": "execute_result"
    }
   ],
   "source": [
    "@test sinh(π) == sinh(x).x"
   ]
  },
  {
   "cell_type": "code",
   "execution_count": 345,
   "metadata": {},
   "outputs": [
    {
     "data": {
      "text/plain": [
       "\u001b[1m\u001b[32mTest Passed\u001b[39m\u001b[22m"
      ]
     },
     "execution_count": 345,
     "metadata": {},
     "output_type": "execute_result"
    }
   ],
   "source": [
    "@test cosh(π) == sinh(x).x′"
   ]
  },
  {
   "cell_type": "markdown",
   "metadata": {},
   "source": [
    "Para extender la función `cosh`por medio de los `Dual` :"
   ]
  },
  {
   "cell_type": "code",
   "execution_count": 20,
   "metadata": {},
   "outputs": [
    {
     "data": {
      "text/plain": [
       "cosh (generic function with 12 methods)"
      ]
     },
     "execution_count": 20,
     "metadata": {},
     "output_type": "execute_result"
    }
   ],
   "source": [
    "cosh(u::Dual)=Dual(cosh(u.x),u.x′*sinh(u.x))"
   ]
  },
  {
   "cell_type": "code",
   "execution_count": 346,
   "metadata": {},
   "outputs": [
    {
     "data": {
      "text/plain": []
     },
     "execution_count": 346,
     "metadata": {},
     "output_type": "execute_result"
    },
    {
     "name": "stdout",
     "output_type": "stream",
     "text": [
      "3.141592653589793 + 1.0ϵ"
     ]
    }
   ],
   "source": [
    "x = dual(π)"
   ]
  },
  {
   "cell_type": "code",
   "execution_count": 347,
   "metadata": {},
   "outputs": [
    {
     "data": {
      "text/plain": []
     },
     "execution_count": 347,
     "metadata": {},
     "output_type": "execute_result"
    },
    {
     "name": "stdout",
     "output_type": "stream",
     "text": [
      "11.591953275521519 + 11.548739357257748ϵ"
     ]
    }
   ],
   "source": [
    "cosh(x)"
   ]
  },
  {
   "cell_type": "markdown",
   "metadata": {},
   "source": [
    "Veamos que da el resultado justamente esperado:"
   ]
  },
  {
   "cell_type": "code",
   "execution_count": 348,
   "metadata": {},
   "outputs": [
    {
     "data": {
      "text/plain": [
       "\u001b[1m\u001b[32mTest Passed\u001b[39m\u001b[22m"
      ]
     },
     "execution_count": 348,
     "metadata": {},
     "output_type": "execute_result"
    }
   ],
   "source": [
    "@test cosh(π)  == cosh(x).x"
   ]
  },
  {
   "cell_type": "code",
   "execution_count": 349,
   "metadata": {},
   "outputs": [
    {
     "data": {
      "text/plain": [
       "\u001b[1m\u001b[32mTest Passed\u001b[39m\u001b[22m"
      ]
     },
     "execution_count": 349,
     "metadata": {},
     "output_type": "execute_result"
    }
   ],
   "source": [
    "@test sinh(π)  == cosh(x).x′"
   ]
  },
  {
   "cell_type": "markdown",
   "metadata": {},
   "source": [
    "- Para el tercer punto:"
   ]
  },
  {
   "cell_type": "markdown",
   "metadata": {},
   "source": [
    "Debemos calcular la derivada de: $h(x) = \\sin\\Big(x^3 - \\frac{2}{x^6}\\Big)$ en $x_0 = 2$.\n",
    "\n",
    "Para ello utilizaremos el método de los números duales, posteriormente compararemos con el resultado analítico para determinar que tan preciso es."
   ]
  },
  {
   "cell_type": "markdown",
   "metadata": {},
   "source": [
    "Por medio de de los números duales:"
   ]
  },
  {
   "cell_type": "code",
   "execution_count": 180,
   "metadata": {},
   "outputs": [
    {
     "data": {
      "text/plain": [
       "h (generic function with 1 method)"
      ]
     },
     "execution_count": 180,
     "metadata": {},
     "output_type": "execute_result"
    }
   ],
   "source": [
    "h(x)=sin(x^3 - 2/x^6)"
   ]
  },
  {
   "cell_type": "code",
   "execution_count": 181,
   "metadata": {},
   "outputs": [
    {
     "data": {
      "text/plain": [
       "Dual(2.0, 1.0)"
      ]
     },
     "execution_count": 181,
     "metadata": {},
     "output_type": "execute_result"
    }
   ],
   "source": [
    "x = dual(2)"
   ]
  },
  {
   "cell_type": "code",
   "execution_count": 184,
   "metadata": {},
   "outputs": [
    {
     "data": {
      "text/plain": []
     },
     "execution_count": 184,
     "metadata": {},
     "output_type": "execute_result"
    },
    {
     "name": "stdout",
     "output_type": "stream",
     "text": [
      "0.1386329728402267 + 11.791281209240948ϵ"
     ]
    }
   ],
   "source": [
    "h(x)"
   ]
  },
  {
   "cell_type": "markdown",
   "metadata": {},
   "source": [
    "La derivada de la función $h$ por este método da:"
   ]
  },
  {
   "cell_type": "code",
   "execution_count": 190,
   "metadata": {},
   "outputs": [
    {
     "data": {
      "text/plain": [
       "11.791281209240948"
      ]
     },
     "execution_count": 190,
     "metadata": {},
     "output_type": "execute_result"
    }
   ],
   "source": [
    "h(x).x′"
   ]
  },
  {
   "cell_type": "markdown",
   "metadata": {},
   "source": [
    "De manera analítica, la derivada de la función $h$ está dada por:\n",
    "\n",
    "     \n",
    "$ h'(x)=cos(x^3 - \\frac{2}{x^6})(3x^2 + \\frac{12}{x^7})$ evaluada en $x_0=2$ es:"
   ]
  },
  {
   "cell_type": "code",
   "execution_count": 233,
   "metadata": {},
   "outputs": [
    {
     "data": {
      "text/plain": [
       "dh (generic function with 1 method)"
      ]
     },
     "execution_count": 233,
     "metadata": {},
     "output_type": "execute_result"
    }
   ],
   "source": [
    "dh(x)=cos((x^3 - 2/(x^6)) *π/180 )*(3x^2 + 12/(x^7))"
   ]
  },
  {
   "cell_type": "code",
   "execution_count": 189,
   "metadata": {},
   "outputs": [
    {
     "data": {
      "text/plain": [
       "11.97697067710301"
      ]
     },
     "execution_count": 189,
     "metadata": {},
     "output_type": "execute_result"
    }
   ],
   "source": [
    "dh(2)"
   ]
  },
  {
   "cell_type": "markdown",
   "metadata": {},
   "source": [
    "Comparando el primer valor que corresponde al resultado obtenido por medio de los números duales con el tercer valor, obtenido de manera analítica:"
   ]
  },
  {
   "cell_type": "code",
   "execution_count": 224,
   "metadata": {},
   "outputs": [
    {
     "data": {
      "text/plain": [
       "0.18568946786206197"
      ]
     },
     "execution_count": 224,
     "metadata": {},
     "output_type": "execute_result"
    }
   ],
   "source": [
    "abs(h(x).x′ - dh(2))"
   ]
  },
  {
   "cell_type": "markdown",
   "metadata": {},
   "source": [
    "Lo que nos indica que no es tan preciso este método."
   ]
  },
  {
   "cell_type": "markdown",
   "metadata": {},
   "source": [
    "- Por último, graficaremos la función $h'(x)$ para $x_0 \\in [1,5]$."
   ]
  },
  {
   "cell_type": "code",
   "execution_count": 288,
   "metadata": {},
   "outputs": [
    {
     "data": {
      "image/svg+xml": [
       "<?xml version=\"1.0\" encoding=\"utf-8\"?>\n",
       "<svg xmlns=\"http://www.w3.org/2000/svg\" xmlns:xlink=\"http://www.w3.org/1999/xlink\" width=\"400\" height=\"400\" viewBox=\"0 0 400 400\">\n",
       "<defs>\n",
       "  <clipPath id=\"clip7300\">\n",
       "    <rect x=\"0\" y=\"0\" width=\"400\" height=\"400\"/>\n",
       "  </clipPath>\n",
       "</defs>\n",
       "<polygon clip-path=\"url(#clip7300)\" points=\"\n",
       "0,400 400,400 400,0 0,0 \n",
       "  \" fill=\"#ffffff\" fill-opacity=\"1\"/>\n",
       "<defs>\n",
       "  <clipPath id=\"clip7301\">\n",
       "    <rect x=\"80\" y=\"40\" width=\"281\" height=\"281\"/>\n",
       "  </clipPath>\n",
       "</defs>\n",
       "<polygon clip-path=\"url(#clip7300)\" points=\"\n",
       "66.4694,355.929 380.315,355.929 380.315,11.811 66.4694,11.811 \n",
       "  \" fill=\"#ffffff\" fill-opacity=\"1\"/>\n",
       "<defs>\n",
       "  <clipPath id=\"clip7302\">\n",
       "    <rect x=\"66\" y=\"11\" width=\"315\" height=\"345\"/>\n",
       "  </clipPath>\n",
       "</defs>\n",
       "<polyline clip-path=\"url(#clip7302)\" style=\"stroke:#000000; stroke-width:0.5; stroke-opacity:0.1; fill:none\" points=\"\n",
       "  72.4271,355.929 72.4271,11.811 \n",
       "  \"/>\n",
       "<polyline clip-path=\"url(#clip7302)\" style=\"stroke:#000000; stroke-width:0.5; stroke-opacity:0.1; fill:none\" points=\"\n",
       "  105.703,355.929 105.703,11.811 \n",
       "  \"/>\n",
       "<polyline clip-path=\"url(#clip7302)\" style=\"stroke:#000000; stroke-width:0.5; stroke-opacity:0.1; fill:none\" points=\"\n",
       "  138.978,355.929 138.978,11.811 \n",
       "  \"/>\n",
       "<polyline clip-path=\"url(#clip7302)\" style=\"stroke:#000000; stroke-width:0.5; stroke-opacity:0.1; fill:none\" points=\"\n",
       "  172.254,355.929 172.254,11.811 \n",
       "  \"/>\n",
       "<polyline clip-path=\"url(#clip7302)\" style=\"stroke:#000000; stroke-width:0.5; stroke-opacity:0.1; fill:none\" points=\"\n",
       "  205.53,355.929 205.53,11.811 \n",
       "  \"/>\n",
       "<polyline clip-path=\"url(#clip7302)\" style=\"stroke:#000000; stroke-width:0.5; stroke-opacity:0.1; fill:none\" points=\"\n",
       "  238.806,355.929 238.806,11.811 \n",
       "  \"/>\n",
       "<polyline clip-path=\"url(#clip7302)\" style=\"stroke:#000000; stroke-width:0.5; stroke-opacity:0.1; fill:none\" points=\"\n",
       "  272.081,355.929 272.081,11.811 \n",
       "  \"/>\n",
       "<polyline clip-path=\"url(#clip7302)\" style=\"stroke:#000000; stroke-width:0.5; stroke-opacity:0.1; fill:none\" points=\"\n",
       "  305.357,355.929 305.357,11.811 \n",
       "  \"/>\n",
       "<polyline clip-path=\"url(#clip7302)\" style=\"stroke:#000000; stroke-width:0.5; stroke-opacity:0.1; fill:none\" points=\"\n",
       "  338.633,355.929 338.633,11.811 \n",
       "  \"/>\n",
       "<polyline clip-path=\"url(#clip7302)\" style=\"stroke:#000000; stroke-width:0.5; stroke-opacity:0.1; fill:none\" points=\"\n",
       "  371.908,355.929 371.908,11.811 \n",
       "  \"/>\n",
       "<polyline clip-path=\"url(#clip7302)\" style=\"stroke:#000000; stroke-width:0.5; stroke-opacity:0.1; fill:none\" points=\"\n",
       "  66.4694,355.929 380.315,355.929 \n",
       "  \"/>\n",
       "<polyline clip-path=\"url(#clip7302)\" style=\"stroke:#000000; stroke-width:0.5; stroke-opacity:0.1; fill:none\" points=\"\n",
       "  66.4694,327.253 380.315,327.253 \n",
       "  \"/>\n",
       "<polyline clip-path=\"url(#clip7302)\" style=\"stroke:#000000; stroke-width:0.5; stroke-opacity:0.1; fill:none\" points=\"\n",
       "  66.4694,298.576 380.315,298.576 \n",
       "  \"/>\n",
       "<polyline clip-path=\"url(#clip7302)\" style=\"stroke:#000000; stroke-width:0.5; stroke-opacity:0.1; fill:none\" points=\"\n",
       "  66.4694,269.9 380.315,269.9 \n",
       "  \"/>\n",
       "<polyline clip-path=\"url(#clip7302)\" style=\"stroke:#000000; stroke-width:0.5; stroke-opacity:0.1; fill:none\" points=\"\n",
       "  66.4694,241.223 380.315,241.223 \n",
       "  \"/>\n",
       "<polyline clip-path=\"url(#clip7302)\" style=\"stroke:#000000; stroke-width:0.5; stroke-opacity:0.1; fill:none\" points=\"\n",
       "  66.4694,212.547 380.315,212.547 \n",
       "  \"/>\n",
       "<polyline clip-path=\"url(#clip7302)\" style=\"stroke:#000000; stroke-width:0.5; stroke-opacity:0.1; fill:none\" points=\"\n",
       "  66.4694,183.87 380.315,183.87 \n",
       "  \"/>\n",
       "<polyline clip-path=\"url(#clip7302)\" style=\"stroke:#000000; stroke-width:0.5; stroke-opacity:0.1; fill:none\" points=\"\n",
       "  66.4694,155.194 380.315,155.194 \n",
       "  \"/>\n",
       "<polyline clip-path=\"url(#clip7302)\" style=\"stroke:#000000; stroke-width:0.5; stroke-opacity:0.1; fill:none\" points=\"\n",
       "  66.4694,126.517 380.315,126.517 \n",
       "  \"/>\n",
       "<polyline clip-path=\"url(#clip7302)\" style=\"stroke:#000000; stroke-width:0.5; stroke-opacity:0.1; fill:none\" points=\"\n",
       "  66.4694,97.8405 380.315,97.8405 \n",
       "  \"/>\n",
       "<polyline clip-path=\"url(#clip7302)\" style=\"stroke:#000000; stroke-width:0.5; stroke-opacity:0.1; fill:none\" points=\"\n",
       "  66.4694,69.164 380.315,69.164 \n",
       "  \"/>\n",
       "<polyline clip-path=\"url(#clip7302)\" style=\"stroke:#000000; stroke-width:0.5; stroke-opacity:0.1; fill:none\" points=\"\n",
       "  66.4694,40.4875 380.315,40.4875 \n",
       "  \"/>\n",
       "<polyline clip-path=\"url(#clip7302)\" style=\"stroke:#000000; stroke-width:0.5; stroke-opacity:0.1; fill:none\" points=\"\n",
       "  66.4694,11.811 380.315,11.811 \n",
       "  \"/>\n",
       "<polyline clip-path=\"url(#clip7300)\" style=\"stroke:#ff0000; stroke-width:1; stroke-opacity:1; fill:none\" points=\"\n",
       "  66.4694,355.929 380.315,355.929 \n",
       "  \"/>\n",
       "<polyline clip-path=\"url(#clip7300)\" style=\"stroke:#ff0000; stroke-width:1; stroke-opacity:1; fill:none\" points=\"\n",
       "  66.4694,355.929 66.4694,11.811 \n",
       "  \"/>\n",
       "<polyline clip-path=\"url(#clip7300)\" style=\"stroke:#ff0000; stroke-width:1; stroke-opacity:1; fill:none\" points=\"\n",
       "  72.4271,355.929 72.4271,350.767 \n",
       "  \"/>\n",
       "<polyline clip-path=\"url(#clip7300)\" style=\"stroke:#ff0000; stroke-width:1; stroke-opacity:1; fill:none\" points=\"\n",
       "  105.703,355.929 105.703,350.767 \n",
       "  \"/>\n",
       "<polyline clip-path=\"url(#clip7300)\" style=\"stroke:#ff0000; stroke-width:1; stroke-opacity:1; fill:none\" points=\"\n",
       "  138.978,355.929 138.978,350.767 \n",
       "  \"/>\n",
       "<polyline clip-path=\"url(#clip7300)\" style=\"stroke:#ff0000; stroke-width:1; stroke-opacity:1; fill:none\" points=\"\n",
       "  172.254,355.929 172.254,350.767 \n",
       "  \"/>\n",
       "<polyline clip-path=\"url(#clip7300)\" style=\"stroke:#ff0000; stroke-width:1; stroke-opacity:1; fill:none\" points=\"\n",
       "  205.53,355.929 205.53,350.767 \n",
       "  \"/>\n",
       "<polyline clip-path=\"url(#clip7300)\" style=\"stroke:#ff0000; stroke-width:1; stroke-opacity:1; fill:none\" points=\"\n",
       "  238.806,355.929 238.806,350.767 \n",
       "  \"/>\n",
       "<polyline clip-path=\"url(#clip7300)\" style=\"stroke:#ff0000; stroke-width:1; stroke-opacity:1; fill:none\" points=\"\n",
       "  272.081,355.929 272.081,350.767 \n",
       "  \"/>\n",
       "<polyline clip-path=\"url(#clip7300)\" style=\"stroke:#ff0000; stroke-width:1; stroke-opacity:1; fill:none\" points=\"\n",
       "  305.357,355.929 305.357,350.767 \n",
       "  \"/>\n",
       "<polyline clip-path=\"url(#clip7300)\" style=\"stroke:#ff0000; stroke-width:1; stroke-opacity:1; fill:none\" points=\"\n",
       "  338.633,355.929 338.633,350.767 \n",
       "  \"/>\n",
       "<polyline clip-path=\"url(#clip7300)\" style=\"stroke:#ff0000; stroke-width:1; stroke-opacity:1; fill:none\" points=\"\n",
       "  371.908,355.929 371.908,350.767 \n",
       "  \"/>\n",
       "<polyline clip-path=\"url(#clip7300)\" style=\"stroke:#ff0000; stroke-width:1; stroke-opacity:1; fill:none\" points=\"\n",
       "  66.4694,355.929 71.177,355.929 \n",
       "  \"/>\n",
       "<polyline clip-path=\"url(#clip7300)\" style=\"stroke:#ff0000; stroke-width:1; stroke-opacity:1; fill:none\" points=\"\n",
       "  66.4694,327.253 71.177,327.253 \n",
       "  \"/>\n",
       "<polyline clip-path=\"url(#clip7300)\" style=\"stroke:#ff0000; stroke-width:1; stroke-opacity:1; fill:none\" points=\"\n",
       "  66.4694,298.576 71.177,298.576 \n",
       "  \"/>\n",
       "<polyline clip-path=\"url(#clip7300)\" style=\"stroke:#ff0000; stroke-width:1; stroke-opacity:1; fill:none\" points=\"\n",
       "  66.4694,269.9 71.177,269.9 \n",
       "  \"/>\n",
       "<polyline clip-path=\"url(#clip7300)\" style=\"stroke:#ff0000; stroke-width:1; stroke-opacity:1; fill:none\" points=\"\n",
       "  66.4694,241.223 71.177,241.223 \n",
       "  \"/>\n",
       "<polyline clip-path=\"url(#clip7300)\" style=\"stroke:#ff0000; stroke-width:1; stroke-opacity:1; fill:none\" points=\"\n",
       "  66.4694,212.547 71.177,212.547 \n",
       "  \"/>\n",
       "<polyline clip-path=\"url(#clip7300)\" style=\"stroke:#ff0000; stroke-width:1; stroke-opacity:1; fill:none\" points=\"\n",
       "  66.4694,183.87 71.177,183.87 \n",
       "  \"/>\n",
       "<polyline clip-path=\"url(#clip7300)\" style=\"stroke:#ff0000; stroke-width:1; stroke-opacity:1; fill:none\" points=\"\n",
       "  66.4694,155.194 71.177,155.194 \n",
       "  \"/>\n",
       "<polyline clip-path=\"url(#clip7300)\" style=\"stroke:#ff0000; stroke-width:1; stroke-opacity:1; fill:none\" points=\"\n",
       "  66.4694,126.517 71.177,126.517 \n",
       "  \"/>\n",
       "<polyline clip-path=\"url(#clip7300)\" style=\"stroke:#ff0000; stroke-width:1; stroke-opacity:1; fill:none\" points=\"\n",
       "  66.4694,97.8405 71.177,97.8405 \n",
       "  \"/>\n",
       "<polyline clip-path=\"url(#clip7300)\" style=\"stroke:#ff0000; stroke-width:1; stroke-opacity:1; fill:none\" points=\"\n",
       "  66.4694,69.164 71.177,69.164 \n",
       "  \"/>\n",
       "<polyline clip-path=\"url(#clip7300)\" style=\"stroke:#ff0000; stroke-width:1; stroke-opacity:1; fill:none\" points=\"\n",
       "  66.4694,40.4875 71.177,40.4875 \n",
       "  \"/>\n",
       "<polyline clip-path=\"url(#clip7300)\" style=\"stroke:#ff0000; stroke-width:1; stroke-opacity:1; fill:none\" points=\"\n",
       "  66.4694,11.811 71.177,11.811 \n",
       "  \"/>\n",
       "<g clip-path=\"url(#clip7300)\">\n",
       "<text style=\"fill:#000000; fill-opacity:1; font-family:Arial,Helvetica Neue,Helvetica,sans-serif; font-size:12; text-anchor:middle;\" transform=\"rotate(0, 72.4271, 368.729)\" x=\"72.4271\" y=\"368.729\">1</text>\n",
       "</g>\n",
       "<g clip-path=\"url(#clip7300)\">\n",
       "<text style=\"fill:#000000; fill-opacity:1; font-family:Arial,Helvetica Neue,Helvetica,sans-serif; font-size:12; text-anchor:middle;\" transform=\"rotate(0, 105.703, 368.729)\" x=\"105.703\" y=\"368.729\">2</text>\n",
       "</g>\n",
       "<g clip-path=\"url(#clip7300)\">\n",
       "<text style=\"fill:#000000; fill-opacity:1; font-family:Arial,Helvetica Neue,Helvetica,sans-serif; font-size:12; text-anchor:middle;\" transform=\"rotate(0, 138.978, 368.729)\" x=\"138.978\" y=\"368.729\">3</text>\n",
       "</g>\n",
       "<g clip-path=\"url(#clip7300)\">\n",
       "<text style=\"fill:#000000; fill-opacity:1; font-family:Arial,Helvetica Neue,Helvetica,sans-serif; font-size:12; text-anchor:middle;\" transform=\"rotate(0, 172.254, 368.729)\" x=\"172.254\" y=\"368.729\">4</text>\n",
       "</g>\n",
       "<g clip-path=\"url(#clip7300)\">\n",
       "<text style=\"fill:#000000; fill-opacity:1; font-family:Arial,Helvetica Neue,Helvetica,sans-serif; font-size:12; text-anchor:middle;\" transform=\"rotate(0, 205.53, 368.729)\" x=\"205.53\" y=\"368.729\">5</text>\n",
       "</g>\n",
       "<g clip-path=\"url(#clip7300)\">\n",
       "<text style=\"fill:#000000; fill-opacity:1; font-family:Arial,Helvetica Neue,Helvetica,sans-serif; font-size:12; text-anchor:middle;\" transform=\"rotate(0, 238.806, 368.729)\" x=\"238.806\" y=\"368.729\">6</text>\n",
       "</g>\n",
       "<g clip-path=\"url(#clip7300)\">\n",
       "<text style=\"fill:#000000; fill-opacity:1; font-family:Arial,Helvetica Neue,Helvetica,sans-serif; font-size:12; text-anchor:middle;\" transform=\"rotate(0, 272.081, 368.729)\" x=\"272.081\" y=\"368.729\">7</text>\n",
       "</g>\n",
       "<g clip-path=\"url(#clip7300)\">\n",
       "<text style=\"fill:#000000; fill-opacity:1; font-family:Arial,Helvetica Neue,Helvetica,sans-serif; font-size:12; text-anchor:middle;\" transform=\"rotate(0, 305.357, 368.729)\" x=\"305.357\" y=\"368.729\">8</text>\n",
       "</g>\n",
       "<g clip-path=\"url(#clip7300)\">\n",
       "<text style=\"fill:#000000; fill-opacity:1; font-family:Arial,Helvetica Neue,Helvetica,sans-serif; font-size:12; text-anchor:middle;\" transform=\"rotate(0, 338.633, 368.729)\" x=\"338.633\" y=\"368.729\">9</text>\n",
       "</g>\n",
       "<g clip-path=\"url(#clip7300)\">\n",
       "<text style=\"fill:#000000; fill-opacity:1; font-family:Arial,Helvetica Neue,Helvetica,sans-serif; font-size:12; text-anchor:middle;\" transform=\"rotate(0, 371.908, 368.729)\" x=\"371.908\" y=\"368.729\">10</text>\n",
       "</g>\n",
       "<g clip-path=\"url(#clip7300)\">\n",
       "<text style=\"fill:#000000; fill-opacity:1; font-family:Arial,Helvetica Neue,Helvetica,sans-serif; font-size:12; text-anchor:end;\" transform=\"rotate(0, 62.4694, 360.429)\" x=\"62.4694\" y=\"360.429\">-300</text>\n",
       "</g>\n",
       "<g clip-path=\"url(#clip7300)\">\n",
       "<text style=\"fill:#000000; fill-opacity:1; font-family:Arial,Helvetica Neue,Helvetica,sans-serif; font-size:12; text-anchor:end;\" transform=\"rotate(0, 62.4694, 331.753)\" x=\"62.4694\" y=\"331.753\">-250</text>\n",
       "</g>\n",
       "<g clip-path=\"url(#clip7300)\">\n",
       "<text style=\"fill:#000000; fill-opacity:1; font-family:Arial,Helvetica Neue,Helvetica,sans-serif; font-size:12; text-anchor:end;\" transform=\"rotate(0, 62.4694, 303.076)\" x=\"62.4694\" y=\"303.076\">-200</text>\n",
       "</g>\n",
       "<g clip-path=\"url(#clip7300)\">\n",
       "<text style=\"fill:#000000; fill-opacity:1; font-family:Arial,Helvetica Neue,Helvetica,sans-serif; font-size:12; text-anchor:end;\" transform=\"rotate(0, 62.4694, 274.4)\" x=\"62.4694\" y=\"274.4\">-150</text>\n",
       "</g>\n",
       "<g clip-path=\"url(#clip7300)\">\n",
       "<text style=\"fill:#000000; fill-opacity:1; font-family:Arial,Helvetica Neue,Helvetica,sans-serif; font-size:12; text-anchor:end;\" transform=\"rotate(0, 62.4694, 245.723)\" x=\"62.4694\" y=\"245.723\">-100</text>\n",
       "</g>\n",
       "<g clip-path=\"url(#clip7300)\">\n",
       "<text style=\"fill:#000000; fill-opacity:1; font-family:Arial,Helvetica Neue,Helvetica,sans-serif; font-size:12; text-anchor:end;\" transform=\"rotate(0, 62.4694, 217.047)\" x=\"62.4694\" y=\"217.047\">-50</text>\n",
       "</g>\n",
       "<g clip-path=\"url(#clip7300)\">\n",
       "<text style=\"fill:#000000; fill-opacity:1; font-family:Arial,Helvetica Neue,Helvetica,sans-serif; font-size:12; text-anchor:end;\" transform=\"rotate(0, 62.4694, 188.37)\" x=\"62.4694\" y=\"188.37\">0</text>\n",
       "</g>\n",
       "<g clip-path=\"url(#clip7300)\">\n",
       "<text style=\"fill:#000000; fill-opacity:1; font-family:Arial,Helvetica Neue,Helvetica,sans-serif; font-size:12; text-anchor:end;\" transform=\"rotate(0, 62.4694, 159.694)\" x=\"62.4694\" y=\"159.694\">50</text>\n",
       "</g>\n",
       "<g clip-path=\"url(#clip7300)\">\n",
       "<text style=\"fill:#000000; fill-opacity:1; font-family:Arial,Helvetica Neue,Helvetica,sans-serif; font-size:12; text-anchor:end;\" transform=\"rotate(0, 62.4694, 131.017)\" x=\"62.4694\" y=\"131.017\">100</text>\n",
       "</g>\n",
       "<g clip-path=\"url(#clip7300)\">\n",
       "<text style=\"fill:#000000; fill-opacity:1; font-family:Arial,Helvetica Neue,Helvetica,sans-serif; font-size:12; text-anchor:end;\" transform=\"rotate(0, 62.4694, 102.341)\" x=\"62.4694\" y=\"102.341\">150</text>\n",
       "</g>\n",
       "<g clip-path=\"url(#clip7300)\">\n",
       "<text style=\"fill:#000000; fill-opacity:1; font-family:Arial,Helvetica Neue,Helvetica,sans-serif; font-size:12; text-anchor:end;\" transform=\"rotate(0, 62.4694, 73.664)\" x=\"62.4694\" y=\"73.664\">200</text>\n",
       "</g>\n",
       "<g clip-path=\"url(#clip7300)\">\n",
       "<text style=\"fill:#000000; fill-opacity:1; font-family:Arial,Helvetica Neue,Helvetica,sans-serif; font-size:12; text-anchor:end;\" transform=\"rotate(0, 62.4694, 44.9875)\" x=\"62.4694\" y=\"44.9875\">250</text>\n",
       "</g>\n",
       "<g clip-path=\"url(#clip7300)\">\n",
       "<text style=\"fill:#000000; fill-opacity:1; font-family:Arial,Helvetica Neue,Helvetica,sans-serif; font-size:12; text-anchor:end;\" transform=\"rotate(0, 62.4694, 16.311)\" x=\"62.4694\" y=\"16.311\">300</text>\n",
       "</g>\n",
       "<g clip-path=\"url(#clip7300)\">\n",
       "<text style=\"fill:#000000; fill-opacity:1; font-family:Arial,Helvetica Neue,Helvetica,sans-serif; font-size:16; text-anchor:middle;\" transform=\"rotate(0, 223.392, 397.6)\" x=\"223.392\" y=\"397.6\">x</text>\n",
       "</g>\n",
       "<g clip-path=\"url(#clip7300)\">\n",
       "<text style=\"fill:#000000; fill-opacity:1; font-family:Arial,Helvetica Neue,Helvetica,sans-serif; font-size:16; text-anchor:middle;\" transform=\"rotate(-90, 14.4, 183.87)\" x=\"14.4\" y=\"183.87\">h&apos;(x)</text>\n",
       "</g>\n",
       "<polyline clip-path=\"url(#clip7302)\" style=\"stroke:#009af9; stroke-width:1; stroke-opacity:1; fill:none\" points=\"\n",
       "  75.3518,178.017 102.395,177.623 118.646,174.311 132.387,171.34 147.313,168.858 161.074,168.773 164.762,169.386 168.45,170.361 172.138,171.75 175.826,173.606 \n",
       "  180.099,176.4 184.373,179.945 188.646,184.28 192.919,189.412 200.514,200.347 208.109,212.915 214.769,224.063 221.429,233.589 225.059,237.318 228.69,239.498 \n",
       "  230.505,239.875 232.321,239.709 234.136,238.951 235.951,237.556 237.777,235.47 239.603,232.666 241.429,229.118 243.256,224.812 245.082,219.744 246.908,213.924 \n",
       "  248.734,207.38 250.56,200.153 254.598,182.086 258.636,162.027 262.674,141.476 266.712,122.389 268.633,114.48 270.554,107.682 272.475,102.258 274.396,98.4597 \n",
       "  275.356,97.245 276.317,96.5232 277.277,96.3189 278.238,96.6547 279.198,97.55 280.159,99.0211 281.119,101.081 282.08,103.738 283.079,107.14 284.077,111.193 \n",
       "  285.076,115.891 286.075,121.223 287.073,127.171 288.072,133.71 289.071,140.809 290.07,148.429 292.067,165.044 294.064,183.107 296.062,202.064 298.059,221.26 \n",
       "  299.741,237.065 301.422,252.044 303.103,265.708 304.785,277.563 305.625,282.661 306.466,287.129 307.307,290.913 308.148,293.961 308.988,296.226 309.829,297.665 \n",
       "  310.67,298.24 311.51,297.921 312.537,296.281 313.563,293.238 314.59,288.777 315.616,282.904 316.642,275.641 317.669,267.034 318.695,257.148 319.722,246.071 \n",
       "  320.748,233.911 321.774,220.8 322.801,206.89 323.827,192.352 325.88,162.167 327.933,131.947 328.898,118.26 329.862,105.183 330.827,92.9169 331.792,81.6641 \n",
       "  332.757,71.6195 333.722,62.9693 334.687,55.8868 335.651,50.5295 336.616,47.0349 337.581,45.5175 338.064,45.5289 338.546,46.0655 339.028,47.1336 339.511,48.7377 \n",
       "  339.993,50.88 340.476,53.5607 340.958,56.7778 341.44,60.527 341.923,64.8016 342.405,69.5926 342.888,74.8888 343.37,80.6762 344.143,90.9309 344.916,102.325 \n",
       "  345.689,114.764 346.462,128.138 347.235,142.322 348.007,157.178 348.78,172.555 349.553,188.291 351.099,220.141 352.645,251.263 353.418,266.072 354.19,280.123 \n",
       "  354.963,293.225 355.736,305.193 356.509,315.851 357.282,325.033 358.055,332.586 358.828,338.374 359.601,342.278 360.373,344.202 360.76,344.398 361.146,344.074 \n",
       "  361.533,343.223 361.919,341.844 362.306,339.933 362.692,337.492 363.078,334.521 363.465,331.025 364.238,322.482 365.011,311.929 365.784,299.466 366.556,285.221 \n",
       "  367.329,269.356 368.102,252.056 368.578,240.787 369.054,229.11 369.529,217.086 370.005,204.775 370.481,192.241 370.957,179.553 371.433,166.78 \n",
       "  \"/>\n",
       "<circle clip-path=\"url(#clip7302)\" style=\"fill:#000000; stroke:none; fill-opacity:1\" cx=\"75.3518\" cy=\"178.017\" r=\"2\"/>\n",
       "<circle clip-path=\"url(#clip7302)\" style=\"fill:#009af9; stroke:none; fill-opacity:1\" cx=\"75.3518\" cy=\"178.017\" r=\"1\"/>\n",
       "<circle clip-path=\"url(#clip7302)\" style=\"fill:#000000; stroke:none; fill-opacity:1\" cx=\"102.395\" cy=\"177.623\" r=\"2\"/>\n",
       "<circle clip-path=\"url(#clip7302)\" style=\"fill:#009af9; stroke:none; fill-opacity:1\" cx=\"102.395\" cy=\"177.623\" r=\"1\"/>\n",
       "<circle clip-path=\"url(#clip7302)\" style=\"fill:#000000; stroke:none; fill-opacity:1\" cx=\"118.646\" cy=\"174.311\" r=\"2\"/>\n",
       "<circle clip-path=\"url(#clip7302)\" style=\"fill:#009af9; stroke:none; fill-opacity:1\" cx=\"118.646\" cy=\"174.311\" r=\"1\"/>\n",
       "<circle clip-path=\"url(#clip7302)\" style=\"fill:#000000; stroke:none; fill-opacity:1\" cx=\"132.387\" cy=\"171.34\" r=\"2\"/>\n",
       "<circle clip-path=\"url(#clip7302)\" style=\"fill:#009af9; stroke:none; fill-opacity:1\" cx=\"132.387\" cy=\"171.34\" r=\"1\"/>\n",
       "<circle clip-path=\"url(#clip7302)\" style=\"fill:#000000; stroke:none; fill-opacity:1\" cx=\"147.313\" cy=\"168.858\" r=\"2\"/>\n",
       "<circle clip-path=\"url(#clip7302)\" style=\"fill:#009af9; stroke:none; fill-opacity:1\" cx=\"147.313\" cy=\"168.858\" r=\"1\"/>\n",
       "<circle clip-path=\"url(#clip7302)\" style=\"fill:#000000; stroke:none; fill-opacity:1\" cx=\"161.074\" cy=\"168.773\" r=\"2\"/>\n",
       "<circle clip-path=\"url(#clip7302)\" style=\"fill:#009af9; stroke:none; fill-opacity:1\" cx=\"161.074\" cy=\"168.773\" r=\"1\"/>\n",
       "<circle clip-path=\"url(#clip7302)\" style=\"fill:#000000; stroke:none; fill-opacity:1\" cx=\"164.762\" cy=\"169.386\" r=\"2\"/>\n",
       "<circle clip-path=\"url(#clip7302)\" style=\"fill:#009af9; stroke:none; fill-opacity:1\" cx=\"164.762\" cy=\"169.386\" r=\"1\"/>\n",
       "<circle clip-path=\"url(#clip7302)\" style=\"fill:#000000; stroke:none; fill-opacity:1\" cx=\"168.45\" cy=\"170.361\" r=\"2\"/>\n",
       "<circle clip-path=\"url(#clip7302)\" style=\"fill:#009af9; stroke:none; fill-opacity:1\" cx=\"168.45\" cy=\"170.361\" r=\"1\"/>\n",
       "<circle clip-path=\"url(#clip7302)\" style=\"fill:#000000; stroke:none; fill-opacity:1\" cx=\"172.138\" cy=\"171.75\" r=\"2\"/>\n",
       "<circle clip-path=\"url(#clip7302)\" style=\"fill:#009af9; stroke:none; fill-opacity:1\" cx=\"172.138\" cy=\"171.75\" r=\"1\"/>\n",
       "<circle clip-path=\"url(#clip7302)\" style=\"fill:#000000; stroke:none; fill-opacity:1\" cx=\"175.826\" cy=\"173.606\" r=\"2\"/>\n",
       "<circle clip-path=\"url(#clip7302)\" style=\"fill:#009af9; stroke:none; fill-opacity:1\" cx=\"175.826\" cy=\"173.606\" r=\"1\"/>\n",
       "<circle clip-path=\"url(#clip7302)\" style=\"fill:#000000; stroke:none; fill-opacity:1\" cx=\"180.099\" cy=\"176.4\" r=\"2\"/>\n",
       "<circle clip-path=\"url(#clip7302)\" style=\"fill:#009af9; stroke:none; fill-opacity:1\" cx=\"180.099\" cy=\"176.4\" r=\"1\"/>\n",
       "<circle clip-path=\"url(#clip7302)\" style=\"fill:#000000; stroke:none; fill-opacity:1\" cx=\"184.373\" cy=\"179.945\" r=\"2\"/>\n",
       "<circle clip-path=\"url(#clip7302)\" style=\"fill:#009af9; stroke:none; fill-opacity:1\" cx=\"184.373\" cy=\"179.945\" r=\"1\"/>\n",
       "<circle clip-path=\"url(#clip7302)\" style=\"fill:#000000; stroke:none; fill-opacity:1\" cx=\"188.646\" cy=\"184.28\" r=\"2\"/>\n",
       "<circle clip-path=\"url(#clip7302)\" style=\"fill:#009af9; stroke:none; fill-opacity:1\" cx=\"188.646\" cy=\"184.28\" r=\"1\"/>\n",
       "<circle clip-path=\"url(#clip7302)\" style=\"fill:#000000; stroke:none; fill-opacity:1\" cx=\"192.919\" cy=\"189.412\" r=\"2\"/>\n",
       "<circle clip-path=\"url(#clip7302)\" style=\"fill:#009af9; stroke:none; fill-opacity:1\" cx=\"192.919\" cy=\"189.412\" r=\"1\"/>\n",
       "<circle clip-path=\"url(#clip7302)\" style=\"fill:#000000; stroke:none; fill-opacity:1\" cx=\"200.514\" cy=\"200.347\" r=\"2\"/>\n",
       "<circle clip-path=\"url(#clip7302)\" style=\"fill:#009af9; stroke:none; fill-opacity:1\" cx=\"200.514\" cy=\"200.347\" r=\"1\"/>\n",
       "<circle clip-path=\"url(#clip7302)\" style=\"fill:#000000; stroke:none; fill-opacity:1\" cx=\"208.109\" cy=\"212.915\" r=\"2\"/>\n",
       "<circle clip-path=\"url(#clip7302)\" style=\"fill:#009af9; stroke:none; fill-opacity:1\" cx=\"208.109\" cy=\"212.915\" r=\"1\"/>\n",
       "<circle clip-path=\"url(#clip7302)\" style=\"fill:#000000; stroke:none; fill-opacity:1\" cx=\"214.769\" cy=\"224.063\" r=\"2\"/>\n",
       "<circle clip-path=\"url(#clip7302)\" style=\"fill:#009af9; stroke:none; fill-opacity:1\" cx=\"214.769\" cy=\"224.063\" r=\"1\"/>\n",
       "<circle clip-path=\"url(#clip7302)\" style=\"fill:#000000; stroke:none; fill-opacity:1\" cx=\"221.429\" cy=\"233.589\" r=\"2\"/>\n",
       "<circle clip-path=\"url(#clip7302)\" style=\"fill:#009af9; stroke:none; fill-opacity:1\" cx=\"221.429\" cy=\"233.589\" r=\"1\"/>\n",
       "<circle clip-path=\"url(#clip7302)\" style=\"fill:#000000; stroke:none; fill-opacity:1\" cx=\"225.059\" cy=\"237.318\" r=\"2\"/>\n",
       "<circle clip-path=\"url(#clip7302)\" style=\"fill:#009af9; stroke:none; fill-opacity:1\" cx=\"225.059\" cy=\"237.318\" r=\"1\"/>\n",
       "<circle clip-path=\"url(#clip7302)\" style=\"fill:#000000; stroke:none; fill-opacity:1\" cx=\"228.69\" cy=\"239.498\" r=\"2\"/>\n",
       "<circle clip-path=\"url(#clip7302)\" style=\"fill:#009af9; stroke:none; fill-opacity:1\" cx=\"228.69\" cy=\"239.498\" r=\"1\"/>\n",
       "<circle clip-path=\"url(#clip7302)\" style=\"fill:#000000; stroke:none; fill-opacity:1\" cx=\"230.505\" cy=\"239.875\" r=\"2\"/>\n",
       "<circle clip-path=\"url(#clip7302)\" style=\"fill:#009af9; stroke:none; fill-opacity:1\" cx=\"230.505\" cy=\"239.875\" r=\"1\"/>\n",
       "<circle clip-path=\"url(#clip7302)\" style=\"fill:#000000; stroke:none; fill-opacity:1\" cx=\"232.321\" cy=\"239.709\" r=\"2\"/>\n",
       "<circle clip-path=\"url(#clip7302)\" style=\"fill:#009af9; stroke:none; fill-opacity:1\" cx=\"232.321\" cy=\"239.709\" r=\"1\"/>\n",
       "<circle clip-path=\"url(#clip7302)\" style=\"fill:#000000; stroke:none; fill-opacity:1\" cx=\"234.136\" cy=\"238.951\" r=\"2\"/>\n",
       "<circle clip-path=\"url(#clip7302)\" style=\"fill:#009af9; stroke:none; fill-opacity:1\" cx=\"234.136\" cy=\"238.951\" r=\"1\"/>\n",
       "<circle clip-path=\"url(#clip7302)\" style=\"fill:#000000; stroke:none; fill-opacity:1\" cx=\"235.951\" cy=\"237.556\" r=\"2\"/>\n",
       "<circle clip-path=\"url(#clip7302)\" style=\"fill:#009af9; stroke:none; fill-opacity:1\" cx=\"235.951\" cy=\"237.556\" r=\"1\"/>\n",
       "<circle clip-path=\"url(#clip7302)\" style=\"fill:#000000; stroke:none; fill-opacity:1\" cx=\"237.777\" cy=\"235.47\" r=\"2\"/>\n",
       "<circle clip-path=\"url(#clip7302)\" style=\"fill:#009af9; stroke:none; fill-opacity:1\" cx=\"237.777\" cy=\"235.47\" r=\"1\"/>\n",
       "<circle clip-path=\"url(#clip7302)\" style=\"fill:#000000; stroke:none; fill-opacity:1\" cx=\"239.603\" cy=\"232.666\" r=\"2\"/>\n",
       "<circle clip-path=\"url(#clip7302)\" style=\"fill:#009af9; stroke:none; fill-opacity:1\" cx=\"239.603\" cy=\"232.666\" r=\"1\"/>\n",
       "<circle clip-path=\"url(#clip7302)\" style=\"fill:#000000; stroke:none; fill-opacity:1\" cx=\"241.429\" cy=\"229.118\" r=\"2\"/>\n",
       "<circle clip-path=\"url(#clip7302)\" style=\"fill:#009af9; stroke:none; fill-opacity:1\" cx=\"241.429\" cy=\"229.118\" r=\"1\"/>\n",
       "<circle clip-path=\"url(#clip7302)\" style=\"fill:#000000; stroke:none; fill-opacity:1\" cx=\"243.256\" cy=\"224.812\" r=\"2\"/>\n",
       "<circle clip-path=\"url(#clip7302)\" style=\"fill:#009af9; stroke:none; fill-opacity:1\" cx=\"243.256\" cy=\"224.812\" r=\"1\"/>\n",
       "<circle clip-path=\"url(#clip7302)\" style=\"fill:#000000; stroke:none; fill-opacity:1\" cx=\"245.082\" cy=\"219.744\" r=\"2\"/>\n",
       "<circle clip-path=\"url(#clip7302)\" style=\"fill:#009af9; stroke:none; fill-opacity:1\" cx=\"245.082\" cy=\"219.744\" r=\"1\"/>\n",
       "<circle clip-path=\"url(#clip7302)\" style=\"fill:#000000; stroke:none; fill-opacity:1\" cx=\"246.908\" cy=\"213.924\" r=\"2\"/>\n",
       "<circle clip-path=\"url(#clip7302)\" style=\"fill:#009af9; stroke:none; fill-opacity:1\" cx=\"246.908\" cy=\"213.924\" r=\"1\"/>\n",
       "<circle clip-path=\"url(#clip7302)\" style=\"fill:#000000; stroke:none; fill-opacity:1\" cx=\"248.734\" cy=\"207.38\" r=\"2\"/>\n",
       "<circle clip-path=\"url(#clip7302)\" style=\"fill:#009af9; stroke:none; fill-opacity:1\" cx=\"248.734\" cy=\"207.38\" r=\"1\"/>\n",
       "<circle clip-path=\"url(#clip7302)\" style=\"fill:#000000; stroke:none; fill-opacity:1\" cx=\"250.56\" cy=\"200.153\" r=\"2\"/>\n",
       "<circle clip-path=\"url(#clip7302)\" style=\"fill:#009af9; stroke:none; fill-opacity:1\" cx=\"250.56\" cy=\"200.153\" r=\"1\"/>\n",
       "<circle clip-path=\"url(#clip7302)\" style=\"fill:#000000; stroke:none; fill-opacity:1\" cx=\"254.598\" cy=\"182.086\" r=\"2\"/>\n",
       "<circle clip-path=\"url(#clip7302)\" style=\"fill:#009af9; stroke:none; fill-opacity:1\" cx=\"254.598\" cy=\"182.086\" r=\"1\"/>\n",
       "<circle clip-path=\"url(#clip7302)\" style=\"fill:#000000; stroke:none; fill-opacity:1\" cx=\"258.636\" cy=\"162.027\" r=\"2\"/>\n",
       "<circle clip-path=\"url(#clip7302)\" style=\"fill:#009af9; stroke:none; fill-opacity:1\" cx=\"258.636\" cy=\"162.027\" r=\"1\"/>\n",
       "<circle clip-path=\"url(#clip7302)\" style=\"fill:#000000; stroke:none; fill-opacity:1\" cx=\"262.674\" cy=\"141.476\" r=\"2\"/>\n",
       "<circle clip-path=\"url(#clip7302)\" style=\"fill:#009af9; stroke:none; fill-opacity:1\" cx=\"262.674\" cy=\"141.476\" r=\"1\"/>\n",
       "<circle clip-path=\"url(#clip7302)\" style=\"fill:#000000; stroke:none; fill-opacity:1\" cx=\"266.712\" cy=\"122.389\" r=\"2\"/>\n",
       "<circle clip-path=\"url(#clip7302)\" style=\"fill:#009af9; stroke:none; fill-opacity:1\" cx=\"266.712\" cy=\"122.389\" r=\"1\"/>\n",
       "<circle clip-path=\"url(#clip7302)\" style=\"fill:#000000; stroke:none; fill-opacity:1\" cx=\"268.633\" cy=\"114.48\" r=\"2\"/>\n",
       "<circle clip-path=\"url(#clip7302)\" style=\"fill:#009af9; stroke:none; fill-opacity:1\" cx=\"268.633\" cy=\"114.48\" r=\"1\"/>\n",
       "<circle clip-path=\"url(#clip7302)\" style=\"fill:#000000; stroke:none; fill-opacity:1\" cx=\"270.554\" cy=\"107.682\" r=\"2\"/>\n",
       "<circle clip-path=\"url(#clip7302)\" style=\"fill:#009af9; stroke:none; fill-opacity:1\" cx=\"270.554\" cy=\"107.682\" r=\"1\"/>\n",
       "<circle clip-path=\"url(#clip7302)\" style=\"fill:#000000; stroke:none; fill-opacity:1\" cx=\"272.475\" cy=\"102.258\" r=\"2\"/>\n",
       "<circle clip-path=\"url(#clip7302)\" style=\"fill:#009af9; stroke:none; fill-opacity:1\" cx=\"272.475\" cy=\"102.258\" r=\"1\"/>\n",
       "<circle clip-path=\"url(#clip7302)\" style=\"fill:#000000; stroke:none; fill-opacity:1\" cx=\"274.396\" cy=\"98.4597\" r=\"2\"/>\n",
       "<circle clip-path=\"url(#clip7302)\" style=\"fill:#009af9; stroke:none; fill-opacity:1\" cx=\"274.396\" cy=\"98.4597\" r=\"1\"/>\n",
       "<circle clip-path=\"url(#clip7302)\" style=\"fill:#000000; stroke:none; fill-opacity:1\" cx=\"275.356\" cy=\"97.245\" r=\"2\"/>\n",
       "<circle clip-path=\"url(#clip7302)\" style=\"fill:#009af9; stroke:none; fill-opacity:1\" cx=\"275.356\" cy=\"97.245\" r=\"1\"/>\n",
       "<circle clip-path=\"url(#clip7302)\" style=\"fill:#000000; stroke:none; fill-opacity:1\" cx=\"276.317\" cy=\"96.5232\" r=\"2\"/>\n",
       "<circle clip-path=\"url(#clip7302)\" style=\"fill:#009af9; stroke:none; fill-opacity:1\" cx=\"276.317\" cy=\"96.5232\" r=\"1\"/>\n",
       "<circle clip-path=\"url(#clip7302)\" style=\"fill:#000000; stroke:none; fill-opacity:1\" cx=\"277.277\" cy=\"96.3189\" r=\"2\"/>\n",
       "<circle clip-path=\"url(#clip7302)\" style=\"fill:#009af9; stroke:none; fill-opacity:1\" cx=\"277.277\" cy=\"96.3189\" r=\"1\"/>\n",
       "<circle clip-path=\"url(#clip7302)\" style=\"fill:#000000; stroke:none; fill-opacity:1\" cx=\"278.238\" cy=\"96.6547\" r=\"2\"/>\n",
       "<circle clip-path=\"url(#clip7302)\" style=\"fill:#009af9; stroke:none; fill-opacity:1\" cx=\"278.238\" cy=\"96.6547\" r=\"1\"/>\n",
       "<circle clip-path=\"url(#clip7302)\" style=\"fill:#000000; stroke:none; fill-opacity:1\" cx=\"279.198\" cy=\"97.55\" r=\"2\"/>\n",
       "<circle clip-path=\"url(#clip7302)\" style=\"fill:#009af9; stroke:none; fill-opacity:1\" cx=\"279.198\" cy=\"97.55\" r=\"1\"/>\n",
       "<circle clip-path=\"url(#clip7302)\" style=\"fill:#000000; stroke:none; fill-opacity:1\" cx=\"280.159\" cy=\"99.0211\" r=\"2\"/>\n",
       "<circle clip-path=\"url(#clip7302)\" style=\"fill:#009af9; stroke:none; fill-opacity:1\" cx=\"280.159\" cy=\"99.0211\" r=\"1\"/>\n",
       "<circle clip-path=\"url(#clip7302)\" style=\"fill:#000000; stroke:none; fill-opacity:1\" cx=\"281.119\" cy=\"101.081\" r=\"2\"/>\n",
       "<circle clip-path=\"url(#clip7302)\" style=\"fill:#009af9; stroke:none; fill-opacity:1\" cx=\"281.119\" cy=\"101.081\" r=\"1\"/>\n",
       "<circle clip-path=\"url(#clip7302)\" style=\"fill:#000000; stroke:none; fill-opacity:1\" cx=\"282.08\" cy=\"103.738\" r=\"2\"/>\n",
       "<circle clip-path=\"url(#clip7302)\" style=\"fill:#009af9; stroke:none; fill-opacity:1\" cx=\"282.08\" cy=\"103.738\" r=\"1\"/>\n",
       "<circle clip-path=\"url(#clip7302)\" style=\"fill:#000000; stroke:none; fill-opacity:1\" cx=\"283.079\" cy=\"107.14\" r=\"2\"/>\n",
       "<circle clip-path=\"url(#clip7302)\" style=\"fill:#009af9; stroke:none; fill-opacity:1\" cx=\"283.079\" cy=\"107.14\" r=\"1\"/>\n",
       "<circle clip-path=\"url(#clip7302)\" style=\"fill:#000000; stroke:none; fill-opacity:1\" cx=\"284.077\" cy=\"111.193\" r=\"2\"/>\n",
       "<circle clip-path=\"url(#clip7302)\" style=\"fill:#009af9; stroke:none; fill-opacity:1\" cx=\"284.077\" cy=\"111.193\" r=\"1\"/>\n",
       "<circle clip-path=\"url(#clip7302)\" style=\"fill:#000000; stroke:none; fill-opacity:1\" cx=\"285.076\" cy=\"115.891\" r=\"2\"/>\n",
       "<circle clip-path=\"url(#clip7302)\" style=\"fill:#009af9; stroke:none; fill-opacity:1\" cx=\"285.076\" cy=\"115.891\" r=\"1\"/>\n",
       "<circle clip-path=\"url(#clip7302)\" style=\"fill:#000000; stroke:none; fill-opacity:1\" cx=\"286.075\" cy=\"121.223\" r=\"2\"/>\n",
       "<circle clip-path=\"url(#clip7302)\" style=\"fill:#009af9; stroke:none; fill-opacity:1\" cx=\"286.075\" cy=\"121.223\" r=\"1\"/>\n",
       "<circle clip-path=\"url(#clip7302)\" style=\"fill:#000000; stroke:none; fill-opacity:1\" cx=\"287.073\" cy=\"127.171\" r=\"2\"/>\n",
       "<circle clip-path=\"url(#clip7302)\" style=\"fill:#009af9; stroke:none; fill-opacity:1\" cx=\"287.073\" cy=\"127.171\" r=\"1\"/>\n",
       "<circle clip-path=\"url(#clip7302)\" style=\"fill:#000000; stroke:none; fill-opacity:1\" cx=\"288.072\" cy=\"133.71\" r=\"2\"/>\n",
       "<circle clip-path=\"url(#clip7302)\" style=\"fill:#009af9; stroke:none; fill-opacity:1\" cx=\"288.072\" cy=\"133.71\" r=\"1\"/>\n",
       "<circle clip-path=\"url(#clip7302)\" style=\"fill:#000000; stroke:none; fill-opacity:1\" cx=\"289.071\" cy=\"140.809\" r=\"2\"/>\n",
       "<circle clip-path=\"url(#clip7302)\" style=\"fill:#009af9; stroke:none; fill-opacity:1\" cx=\"289.071\" cy=\"140.809\" r=\"1\"/>\n",
       "<circle clip-path=\"url(#clip7302)\" style=\"fill:#000000; stroke:none; fill-opacity:1\" cx=\"290.07\" cy=\"148.429\" r=\"2\"/>\n",
       "<circle clip-path=\"url(#clip7302)\" style=\"fill:#009af9; stroke:none; fill-opacity:1\" cx=\"290.07\" cy=\"148.429\" r=\"1\"/>\n",
       "<circle clip-path=\"url(#clip7302)\" style=\"fill:#000000; stroke:none; fill-opacity:1\" cx=\"292.067\" cy=\"165.044\" r=\"2\"/>\n",
       "<circle clip-path=\"url(#clip7302)\" style=\"fill:#009af9; stroke:none; fill-opacity:1\" cx=\"292.067\" cy=\"165.044\" r=\"1\"/>\n",
       "<circle clip-path=\"url(#clip7302)\" style=\"fill:#000000; stroke:none; fill-opacity:1\" cx=\"294.064\" cy=\"183.107\" r=\"2\"/>\n",
       "<circle clip-path=\"url(#clip7302)\" style=\"fill:#009af9; stroke:none; fill-opacity:1\" cx=\"294.064\" cy=\"183.107\" r=\"1\"/>\n",
       "<circle clip-path=\"url(#clip7302)\" style=\"fill:#000000; stroke:none; fill-opacity:1\" cx=\"296.062\" cy=\"202.064\" r=\"2\"/>\n",
       "<circle clip-path=\"url(#clip7302)\" style=\"fill:#009af9; stroke:none; fill-opacity:1\" cx=\"296.062\" cy=\"202.064\" r=\"1\"/>\n",
       "<circle clip-path=\"url(#clip7302)\" style=\"fill:#000000; stroke:none; fill-opacity:1\" cx=\"298.059\" cy=\"221.26\" r=\"2\"/>\n",
       "<circle clip-path=\"url(#clip7302)\" style=\"fill:#009af9; stroke:none; fill-opacity:1\" cx=\"298.059\" cy=\"221.26\" r=\"1\"/>\n",
       "<circle clip-path=\"url(#clip7302)\" style=\"fill:#000000; stroke:none; fill-opacity:1\" cx=\"299.741\" cy=\"237.065\" r=\"2\"/>\n",
       "<circle clip-path=\"url(#clip7302)\" style=\"fill:#009af9; stroke:none; fill-opacity:1\" cx=\"299.741\" cy=\"237.065\" r=\"1\"/>\n",
       "<circle clip-path=\"url(#clip7302)\" style=\"fill:#000000; stroke:none; fill-opacity:1\" cx=\"301.422\" cy=\"252.044\" r=\"2\"/>\n",
       "<circle clip-path=\"url(#clip7302)\" style=\"fill:#009af9; stroke:none; fill-opacity:1\" cx=\"301.422\" cy=\"252.044\" r=\"1\"/>\n",
       "<circle clip-path=\"url(#clip7302)\" style=\"fill:#000000; stroke:none; fill-opacity:1\" cx=\"303.103\" cy=\"265.708\" r=\"2\"/>\n",
       "<circle clip-path=\"url(#clip7302)\" style=\"fill:#009af9; stroke:none; fill-opacity:1\" cx=\"303.103\" cy=\"265.708\" r=\"1\"/>\n",
       "<circle clip-path=\"url(#clip7302)\" style=\"fill:#000000; stroke:none; fill-opacity:1\" cx=\"304.785\" cy=\"277.563\" r=\"2\"/>\n",
       "<circle clip-path=\"url(#clip7302)\" style=\"fill:#009af9; stroke:none; fill-opacity:1\" cx=\"304.785\" cy=\"277.563\" r=\"1\"/>\n",
       "<circle clip-path=\"url(#clip7302)\" style=\"fill:#000000; stroke:none; fill-opacity:1\" cx=\"305.625\" cy=\"282.661\" r=\"2\"/>\n",
       "<circle clip-path=\"url(#clip7302)\" style=\"fill:#009af9; stroke:none; fill-opacity:1\" cx=\"305.625\" cy=\"282.661\" r=\"1\"/>\n",
       "<circle clip-path=\"url(#clip7302)\" style=\"fill:#000000; stroke:none; fill-opacity:1\" cx=\"306.466\" cy=\"287.129\" r=\"2\"/>\n",
       "<circle clip-path=\"url(#clip7302)\" style=\"fill:#009af9; stroke:none; fill-opacity:1\" cx=\"306.466\" cy=\"287.129\" r=\"1\"/>\n",
       "<circle clip-path=\"url(#clip7302)\" style=\"fill:#000000; stroke:none; fill-opacity:1\" cx=\"307.307\" cy=\"290.913\" r=\"2\"/>\n",
       "<circle clip-path=\"url(#clip7302)\" style=\"fill:#009af9; stroke:none; fill-opacity:1\" cx=\"307.307\" cy=\"290.913\" r=\"1\"/>\n",
       "<circle clip-path=\"url(#clip7302)\" style=\"fill:#000000; stroke:none; fill-opacity:1\" cx=\"308.148\" cy=\"293.961\" r=\"2\"/>\n",
       "<circle clip-path=\"url(#clip7302)\" style=\"fill:#009af9; stroke:none; fill-opacity:1\" cx=\"308.148\" cy=\"293.961\" r=\"1\"/>\n",
       "<circle clip-path=\"url(#clip7302)\" style=\"fill:#000000; stroke:none; fill-opacity:1\" cx=\"308.988\" cy=\"296.226\" r=\"2\"/>\n",
       "<circle clip-path=\"url(#clip7302)\" style=\"fill:#009af9; stroke:none; fill-opacity:1\" cx=\"308.988\" cy=\"296.226\" r=\"1\"/>\n",
       "<circle clip-path=\"url(#clip7302)\" style=\"fill:#000000; stroke:none; fill-opacity:1\" cx=\"309.829\" cy=\"297.665\" r=\"2\"/>\n",
       "<circle clip-path=\"url(#clip7302)\" style=\"fill:#009af9; stroke:none; fill-opacity:1\" cx=\"309.829\" cy=\"297.665\" r=\"1\"/>\n",
       "<circle clip-path=\"url(#clip7302)\" style=\"fill:#000000; stroke:none; fill-opacity:1\" cx=\"310.67\" cy=\"298.24\" r=\"2\"/>\n",
       "<circle clip-path=\"url(#clip7302)\" style=\"fill:#009af9; stroke:none; fill-opacity:1\" cx=\"310.67\" cy=\"298.24\" r=\"1\"/>\n",
       "<circle clip-path=\"url(#clip7302)\" style=\"fill:#000000; stroke:none; fill-opacity:1\" cx=\"311.51\" cy=\"297.921\" r=\"2\"/>\n",
       "<circle clip-path=\"url(#clip7302)\" style=\"fill:#009af9; stroke:none; fill-opacity:1\" cx=\"311.51\" cy=\"297.921\" r=\"1\"/>\n",
       "<circle clip-path=\"url(#clip7302)\" style=\"fill:#000000; stroke:none; fill-opacity:1\" cx=\"312.537\" cy=\"296.281\" r=\"2\"/>\n",
       "<circle clip-path=\"url(#clip7302)\" style=\"fill:#009af9; stroke:none; fill-opacity:1\" cx=\"312.537\" cy=\"296.281\" r=\"1\"/>\n",
       "<circle clip-path=\"url(#clip7302)\" style=\"fill:#000000; stroke:none; fill-opacity:1\" cx=\"313.563\" cy=\"293.238\" r=\"2\"/>\n",
       "<circle clip-path=\"url(#clip7302)\" style=\"fill:#009af9; stroke:none; fill-opacity:1\" cx=\"313.563\" cy=\"293.238\" r=\"1\"/>\n",
       "<circle clip-path=\"url(#clip7302)\" style=\"fill:#000000; stroke:none; fill-opacity:1\" cx=\"314.59\" cy=\"288.777\" r=\"2\"/>\n",
       "<circle clip-path=\"url(#clip7302)\" style=\"fill:#009af9; stroke:none; fill-opacity:1\" cx=\"314.59\" cy=\"288.777\" r=\"1\"/>\n",
       "<circle clip-path=\"url(#clip7302)\" style=\"fill:#000000; stroke:none; fill-opacity:1\" cx=\"315.616\" cy=\"282.904\" r=\"2\"/>\n",
       "<circle clip-path=\"url(#clip7302)\" style=\"fill:#009af9; stroke:none; fill-opacity:1\" cx=\"315.616\" cy=\"282.904\" r=\"1\"/>\n",
       "<circle clip-path=\"url(#clip7302)\" style=\"fill:#000000; stroke:none; fill-opacity:1\" cx=\"316.642\" cy=\"275.641\" r=\"2\"/>\n",
       "<circle clip-path=\"url(#clip7302)\" style=\"fill:#009af9; stroke:none; fill-opacity:1\" cx=\"316.642\" cy=\"275.641\" r=\"1\"/>\n",
       "<circle clip-path=\"url(#clip7302)\" style=\"fill:#000000; stroke:none; fill-opacity:1\" cx=\"317.669\" cy=\"267.034\" r=\"2\"/>\n",
       "<circle clip-path=\"url(#clip7302)\" style=\"fill:#009af9; stroke:none; fill-opacity:1\" cx=\"317.669\" cy=\"267.034\" r=\"1\"/>\n",
       "<circle clip-path=\"url(#clip7302)\" style=\"fill:#000000; stroke:none; fill-opacity:1\" cx=\"318.695\" cy=\"257.148\" r=\"2\"/>\n",
       "<circle clip-path=\"url(#clip7302)\" style=\"fill:#009af9; stroke:none; fill-opacity:1\" cx=\"318.695\" cy=\"257.148\" r=\"1\"/>\n",
       "<circle clip-path=\"url(#clip7302)\" style=\"fill:#000000; stroke:none; fill-opacity:1\" cx=\"319.722\" cy=\"246.071\" r=\"2\"/>\n",
       "<circle clip-path=\"url(#clip7302)\" style=\"fill:#009af9; stroke:none; fill-opacity:1\" cx=\"319.722\" cy=\"246.071\" r=\"1\"/>\n",
       "<circle clip-path=\"url(#clip7302)\" style=\"fill:#000000; stroke:none; fill-opacity:1\" cx=\"320.748\" cy=\"233.911\" r=\"2\"/>\n",
       "<circle clip-path=\"url(#clip7302)\" style=\"fill:#009af9; stroke:none; fill-opacity:1\" cx=\"320.748\" cy=\"233.911\" r=\"1\"/>\n",
       "<circle clip-path=\"url(#clip7302)\" style=\"fill:#000000; stroke:none; fill-opacity:1\" cx=\"321.774\" cy=\"220.8\" r=\"2\"/>\n",
       "<circle clip-path=\"url(#clip7302)\" style=\"fill:#009af9; stroke:none; fill-opacity:1\" cx=\"321.774\" cy=\"220.8\" r=\"1\"/>\n",
       "<circle clip-path=\"url(#clip7302)\" style=\"fill:#000000; stroke:none; fill-opacity:1\" cx=\"322.801\" cy=\"206.89\" r=\"2\"/>\n",
       "<circle clip-path=\"url(#clip7302)\" style=\"fill:#009af9; stroke:none; fill-opacity:1\" cx=\"322.801\" cy=\"206.89\" r=\"1\"/>\n",
       "<circle clip-path=\"url(#clip7302)\" style=\"fill:#000000; stroke:none; fill-opacity:1\" cx=\"323.827\" cy=\"192.352\" r=\"2\"/>\n",
       "<circle clip-path=\"url(#clip7302)\" style=\"fill:#009af9; stroke:none; fill-opacity:1\" cx=\"323.827\" cy=\"192.352\" r=\"1\"/>\n",
       "<circle clip-path=\"url(#clip7302)\" style=\"fill:#000000; stroke:none; fill-opacity:1\" cx=\"325.88\" cy=\"162.167\" r=\"2\"/>\n",
       "<circle clip-path=\"url(#clip7302)\" style=\"fill:#009af9; stroke:none; fill-opacity:1\" cx=\"325.88\" cy=\"162.167\" r=\"1\"/>\n",
       "<circle clip-path=\"url(#clip7302)\" style=\"fill:#000000; stroke:none; fill-opacity:1\" cx=\"327.933\" cy=\"131.947\" r=\"2\"/>\n",
       "<circle clip-path=\"url(#clip7302)\" style=\"fill:#009af9; stroke:none; fill-opacity:1\" cx=\"327.933\" cy=\"131.947\" r=\"1\"/>\n",
       "<circle clip-path=\"url(#clip7302)\" style=\"fill:#000000; stroke:none; fill-opacity:1\" cx=\"328.898\" cy=\"118.26\" r=\"2\"/>\n",
       "<circle clip-path=\"url(#clip7302)\" style=\"fill:#009af9; stroke:none; fill-opacity:1\" cx=\"328.898\" cy=\"118.26\" r=\"1\"/>\n",
       "<circle clip-path=\"url(#clip7302)\" style=\"fill:#000000; stroke:none; fill-opacity:1\" cx=\"329.862\" cy=\"105.183\" r=\"2\"/>\n",
       "<circle clip-path=\"url(#clip7302)\" style=\"fill:#009af9; stroke:none; fill-opacity:1\" cx=\"329.862\" cy=\"105.183\" r=\"1\"/>\n",
       "<circle clip-path=\"url(#clip7302)\" style=\"fill:#000000; stroke:none; fill-opacity:1\" cx=\"330.827\" cy=\"92.9169\" r=\"2\"/>\n",
       "<circle clip-path=\"url(#clip7302)\" style=\"fill:#009af9; stroke:none; fill-opacity:1\" cx=\"330.827\" cy=\"92.9169\" r=\"1\"/>\n",
       "<circle clip-path=\"url(#clip7302)\" style=\"fill:#000000; stroke:none; fill-opacity:1\" cx=\"331.792\" cy=\"81.6641\" r=\"2\"/>\n",
       "<circle clip-path=\"url(#clip7302)\" style=\"fill:#009af9; stroke:none; fill-opacity:1\" cx=\"331.792\" cy=\"81.6641\" r=\"1\"/>\n",
       "<circle clip-path=\"url(#clip7302)\" style=\"fill:#000000; stroke:none; fill-opacity:1\" cx=\"332.757\" cy=\"71.6195\" r=\"2\"/>\n",
       "<circle clip-path=\"url(#clip7302)\" style=\"fill:#009af9; stroke:none; fill-opacity:1\" cx=\"332.757\" cy=\"71.6195\" r=\"1\"/>\n",
       "<circle clip-path=\"url(#clip7302)\" style=\"fill:#000000; stroke:none; fill-opacity:1\" cx=\"333.722\" cy=\"62.9693\" r=\"2\"/>\n",
       "<circle clip-path=\"url(#clip7302)\" style=\"fill:#009af9; stroke:none; fill-opacity:1\" cx=\"333.722\" cy=\"62.9693\" r=\"1\"/>\n",
       "<circle clip-path=\"url(#clip7302)\" style=\"fill:#000000; stroke:none; fill-opacity:1\" cx=\"334.687\" cy=\"55.8868\" r=\"2\"/>\n",
       "<circle clip-path=\"url(#clip7302)\" style=\"fill:#009af9; stroke:none; fill-opacity:1\" cx=\"334.687\" cy=\"55.8868\" r=\"1\"/>\n",
       "<circle clip-path=\"url(#clip7302)\" style=\"fill:#000000; stroke:none; fill-opacity:1\" cx=\"335.651\" cy=\"50.5295\" r=\"2\"/>\n",
       "<circle clip-path=\"url(#clip7302)\" style=\"fill:#009af9; stroke:none; fill-opacity:1\" cx=\"335.651\" cy=\"50.5295\" r=\"1\"/>\n",
       "<circle clip-path=\"url(#clip7302)\" style=\"fill:#000000; stroke:none; fill-opacity:1\" cx=\"336.616\" cy=\"47.0349\" r=\"2\"/>\n",
       "<circle clip-path=\"url(#clip7302)\" style=\"fill:#009af9; stroke:none; fill-opacity:1\" cx=\"336.616\" cy=\"47.0349\" r=\"1\"/>\n",
       "<circle clip-path=\"url(#clip7302)\" style=\"fill:#000000; stroke:none; fill-opacity:1\" cx=\"337.581\" cy=\"45.5175\" r=\"2\"/>\n",
       "<circle clip-path=\"url(#clip7302)\" style=\"fill:#009af9; stroke:none; fill-opacity:1\" cx=\"337.581\" cy=\"45.5175\" r=\"1\"/>\n",
       "<circle clip-path=\"url(#clip7302)\" style=\"fill:#000000; stroke:none; fill-opacity:1\" cx=\"338.064\" cy=\"45.5289\" r=\"2\"/>\n",
       "<circle clip-path=\"url(#clip7302)\" style=\"fill:#009af9; stroke:none; fill-opacity:1\" cx=\"338.064\" cy=\"45.5289\" r=\"1\"/>\n",
       "<circle clip-path=\"url(#clip7302)\" style=\"fill:#000000; stroke:none; fill-opacity:1\" cx=\"338.546\" cy=\"46.0655\" r=\"2\"/>\n",
       "<circle clip-path=\"url(#clip7302)\" style=\"fill:#009af9; stroke:none; fill-opacity:1\" cx=\"338.546\" cy=\"46.0655\" r=\"1\"/>\n",
       "<circle clip-path=\"url(#clip7302)\" style=\"fill:#000000; stroke:none; fill-opacity:1\" cx=\"339.028\" cy=\"47.1336\" r=\"2\"/>\n",
       "<circle clip-path=\"url(#clip7302)\" style=\"fill:#009af9; stroke:none; fill-opacity:1\" cx=\"339.028\" cy=\"47.1336\" r=\"1\"/>\n",
       "<circle clip-path=\"url(#clip7302)\" style=\"fill:#000000; stroke:none; fill-opacity:1\" cx=\"339.511\" cy=\"48.7377\" r=\"2\"/>\n",
       "<circle clip-path=\"url(#clip7302)\" style=\"fill:#009af9; stroke:none; fill-opacity:1\" cx=\"339.511\" cy=\"48.7377\" r=\"1\"/>\n",
       "<circle clip-path=\"url(#clip7302)\" style=\"fill:#000000; stroke:none; fill-opacity:1\" cx=\"339.993\" cy=\"50.88\" r=\"2\"/>\n",
       "<circle clip-path=\"url(#clip7302)\" style=\"fill:#009af9; stroke:none; fill-opacity:1\" cx=\"339.993\" cy=\"50.88\" r=\"1\"/>\n",
       "<circle clip-path=\"url(#clip7302)\" style=\"fill:#000000; stroke:none; fill-opacity:1\" cx=\"340.476\" cy=\"53.5607\" r=\"2\"/>\n",
       "<circle clip-path=\"url(#clip7302)\" style=\"fill:#009af9; stroke:none; fill-opacity:1\" cx=\"340.476\" cy=\"53.5607\" r=\"1\"/>\n",
       "<circle clip-path=\"url(#clip7302)\" style=\"fill:#000000; stroke:none; fill-opacity:1\" cx=\"340.958\" cy=\"56.7778\" r=\"2\"/>\n",
       "<circle clip-path=\"url(#clip7302)\" style=\"fill:#009af9; stroke:none; fill-opacity:1\" cx=\"340.958\" cy=\"56.7778\" r=\"1\"/>\n",
       "<circle clip-path=\"url(#clip7302)\" style=\"fill:#000000; stroke:none; fill-opacity:1\" cx=\"341.44\" cy=\"60.527\" r=\"2\"/>\n",
       "<circle clip-path=\"url(#clip7302)\" style=\"fill:#009af9; stroke:none; fill-opacity:1\" cx=\"341.44\" cy=\"60.527\" r=\"1\"/>\n",
       "<circle clip-path=\"url(#clip7302)\" style=\"fill:#000000; stroke:none; fill-opacity:1\" cx=\"341.923\" cy=\"64.8016\" r=\"2\"/>\n",
       "<circle clip-path=\"url(#clip7302)\" style=\"fill:#009af9; stroke:none; fill-opacity:1\" cx=\"341.923\" cy=\"64.8016\" r=\"1\"/>\n",
       "<circle clip-path=\"url(#clip7302)\" style=\"fill:#000000; stroke:none; fill-opacity:1\" cx=\"342.405\" cy=\"69.5926\" r=\"2\"/>\n",
       "<circle clip-path=\"url(#clip7302)\" style=\"fill:#009af9; stroke:none; fill-opacity:1\" cx=\"342.405\" cy=\"69.5926\" r=\"1\"/>\n",
       "<circle clip-path=\"url(#clip7302)\" style=\"fill:#000000; stroke:none; fill-opacity:1\" cx=\"342.888\" cy=\"74.8888\" r=\"2\"/>\n",
       "<circle clip-path=\"url(#clip7302)\" style=\"fill:#009af9; stroke:none; fill-opacity:1\" cx=\"342.888\" cy=\"74.8888\" r=\"1\"/>\n",
       "<circle clip-path=\"url(#clip7302)\" style=\"fill:#000000; stroke:none; fill-opacity:1\" cx=\"343.37\" cy=\"80.6762\" r=\"2\"/>\n",
       "<circle clip-path=\"url(#clip7302)\" style=\"fill:#009af9; stroke:none; fill-opacity:1\" cx=\"343.37\" cy=\"80.6762\" r=\"1\"/>\n",
       "<circle clip-path=\"url(#clip7302)\" style=\"fill:#000000; stroke:none; fill-opacity:1\" cx=\"344.143\" cy=\"90.9309\" r=\"2\"/>\n",
       "<circle clip-path=\"url(#clip7302)\" style=\"fill:#009af9; stroke:none; fill-opacity:1\" cx=\"344.143\" cy=\"90.9309\" r=\"1\"/>\n",
       "<circle clip-path=\"url(#clip7302)\" style=\"fill:#000000; stroke:none; fill-opacity:1\" cx=\"344.916\" cy=\"102.325\" r=\"2\"/>\n",
       "<circle clip-path=\"url(#clip7302)\" style=\"fill:#009af9; stroke:none; fill-opacity:1\" cx=\"344.916\" cy=\"102.325\" r=\"1\"/>\n",
       "<circle clip-path=\"url(#clip7302)\" style=\"fill:#000000; stroke:none; fill-opacity:1\" cx=\"345.689\" cy=\"114.764\" r=\"2\"/>\n",
       "<circle clip-path=\"url(#clip7302)\" style=\"fill:#009af9; stroke:none; fill-opacity:1\" cx=\"345.689\" cy=\"114.764\" r=\"1\"/>\n",
       "<circle clip-path=\"url(#clip7302)\" style=\"fill:#000000; stroke:none; fill-opacity:1\" cx=\"346.462\" cy=\"128.138\" r=\"2\"/>\n",
       "<circle clip-path=\"url(#clip7302)\" style=\"fill:#009af9; stroke:none; fill-opacity:1\" cx=\"346.462\" cy=\"128.138\" r=\"1\"/>\n",
       "<circle clip-path=\"url(#clip7302)\" style=\"fill:#000000; stroke:none; fill-opacity:1\" cx=\"347.235\" cy=\"142.322\" r=\"2\"/>\n",
       "<circle clip-path=\"url(#clip7302)\" style=\"fill:#009af9; stroke:none; fill-opacity:1\" cx=\"347.235\" cy=\"142.322\" r=\"1\"/>\n",
       "<circle clip-path=\"url(#clip7302)\" style=\"fill:#000000; stroke:none; fill-opacity:1\" cx=\"348.007\" cy=\"157.178\" r=\"2\"/>\n",
       "<circle clip-path=\"url(#clip7302)\" style=\"fill:#009af9; stroke:none; fill-opacity:1\" cx=\"348.007\" cy=\"157.178\" r=\"1\"/>\n",
       "<circle clip-path=\"url(#clip7302)\" style=\"fill:#000000; stroke:none; fill-opacity:1\" cx=\"348.78\" cy=\"172.555\" r=\"2\"/>\n",
       "<circle clip-path=\"url(#clip7302)\" style=\"fill:#009af9; stroke:none; fill-opacity:1\" cx=\"348.78\" cy=\"172.555\" r=\"1\"/>\n",
       "<circle clip-path=\"url(#clip7302)\" style=\"fill:#000000; stroke:none; fill-opacity:1\" cx=\"349.553\" cy=\"188.291\" r=\"2\"/>\n",
       "<circle clip-path=\"url(#clip7302)\" style=\"fill:#009af9; stroke:none; fill-opacity:1\" cx=\"349.553\" cy=\"188.291\" r=\"1\"/>\n",
       "<circle clip-path=\"url(#clip7302)\" style=\"fill:#000000; stroke:none; fill-opacity:1\" cx=\"351.099\" cy=\"220.141\" r=\"2\"/>\n",
       "<circle clip-path=\"url(#clip7302)\" style=\"fill:#009af9; stroke:none; fill-opacity:1\" cx=\"351.099\" cy=\"220.141\" r=\"1\"/>\n",
       "<circle clip-path=\"url(#clip7302)\" style=\"fill:#000000; stroke:none; fill-opacity:1\" cx=\"352.645\" cy=\"251.263\" r=\"2\"/>\n",
       "<circle clip-path=\"url(#clip7302)\" style=\"fill:#009af9; stroke:none; fill-opacity:1\" cx=\"352.645\" cy=\"251.263\" r=\"1\"/>\n",
       "<circle clip-path=\"url(#clip7302)\" style=\"fill:#000000; stroke:none; fill-opacity:1\" cx=\"353.418\" cy=\"266.072\" r=\"2\"/>\n",
       "<circle clip-path=\"url(#clip7302)\" style=\"fill:#009af9; stroke:none; fill-opacity:1\" cx=\"353.418\" cy=\"266.072\" r=\"1\"/>\n",
       "<circle clip-path=\"url(#clip7302)\" style=\"fill:#000000; stroke:none; fill-opacity:1\" cx=\"354.19\" cy=\"280.123\" r=\"2\"/>\n",
       "<circle clip-path=\"url(#clip7302)\" style=\"fill:#009af9; stroke:none; fill-opacity:1\" cx=\"354.19\" cy=\"280.123\" r=\"1\"/>\n",
       "<circle clip-path=\"url(#clip7302)\" style=\"fill:#000000; stroke:none; fill-opacity:1\" cx=\"354.963\" cy=\"293.225\" r=\"2\"/>\n",
       "<circle clip-path=\"url(#clip7302)\" style=\"fill:#009af9; stroke:none; fill-opacity:1\" cx=\"354.963\" cy=\"293.225\" r=\"1\"/>\n",
       "<circle clip-path=\"url(#clip7302)\" style=\"fill:#000000; stroke:none; fill-opacity:1\" cx=\"355.736\" cy=\"305.193\" r=\"2\"/>\n",
       "<circle clip-path=\"url(#clip7302)\" style=\"fill:#009af9; stroke:none; fill-opacity:1\" cx=\"355.736\" cy=\"305.193\" r=\"1\"/>\n",
       "<circle clip-path=\"url(#clip7302)\" style=\"fill:#000000; stroke:none; fill-opacity:1\" cx=\"356.509\" cy=\"315.851\" r=\"2\"/>\n",
       "<circle clip-path=\"url(#clip7302)\" style=\"fill:#009af9; stroke:none; fill-opacity:1\" cx=\"356.509\" cy=\"315.851\" r=\"1\"/>\n",
       "<circle clip-path=\"url(#clip7302)\" style=\"fill:#000000; stroke:none; fill-opacity:1\" cx=\"357.282\" cy=\"325.033\" r=\"2\"/>\n",
       "<circle clip-path=\"url(#clip7302)\" style=\"fill:#009af9; stroke:none; fill-opacity:1\" cx=\"357.282\" cy=\"325.033\" r=\"1\"/>\n",
       "<circle clip-path=\"url(#clip7302)\" style=\"fill:#000000; stroke:none; fill-opacity:1\" cx=\"358.055\" cy=\"332.586\" r=\"2\"/>\n",
       "<circle clip-path=\"url(#clip7302)\" style=\"fill:#009af9; stroke:none; fill-opacity:1\" cx=\"358.055\" cy=\"332.586\" r=\"1\"/>\n",
       "<circle clip-path=\"url(#clip7302)\" style=\"fill:#000000; stroke:none; fill-opacity:1\" cx=\"358.828\" cy=\"338.374\" r=\"2\"/>\n",
       "<circle clip-path=\"url(#clip7302)\" style=\"fill:#009af9; stroke:none; fill-opacity:1\" cx=\"358.828\" cy=\"338.374\" r=\"1\"/>\n",
       "<circle clip-path=\"url(#clip7302)\" style=\"fill:#000000; stroke:none; fill-opacity:1\" cx=\"359.601\" cy=\"342.278\" r=\"2\"/>\n",
       "<circle clip-path=\"url(#clip7302)\" style=\"fill:#009af9; stroke:none; fill-opacity:1\" cx=\"359.601\" cy=\"342.278\" r=\"1\"/>\n",
       "<circle clip-path=\"url(#clip7302)\" style=\"fill:#000000; stroke:none; fill-opacity:1\" cx=\"360.373\" cy=\"344.202\" r=\"2\"/>\n",
       "<circle clip-path=\"url(#clip7302)\" style=\"fill:#009af9; stroke:none; fill-opacity:1\" cx=\"360.373\" cy=\"344.202\" r=\"1\"/>\n",
       "<circle clip-path=\"url(#clip7302)\" style=\"fill:#000000; stroke:none; fill-opacity:1\" cx=\"360.76\" cy=\"344.398\" r=\"2\"/>\n",
       "<circle clip-path=\"url(#clip7302)\" style=\"fill:#009af9; stroke:none; fill-opacity:1\" cx=\"360.76\" cy=\"344.398\" r=\"1\"/>\n",
       "<circle clip-path=\"url(#clip7302)\" style=\"fill:#000000; stroke:none; fill-opacity:1\" cx=\"361.146\" cy=\"344.074\" r=\"2\"/>\n",
       "<circle clip-path=\"url(#clip7302)\" style=\"fill:#009af9; stroke:none; fill-opacity:1\" cx=\"361.146\" cy=\"344.074\" r=\"1\"/>\n",
       "<circle clip-path=\"url(#clip7302)\" style=\"fill:#000000; stroke:none; fill-opacity:1\" cx=\"361.533\" cy=\"343.223\" r=\"2\"/>\n",
       "<circle clip-path=\"url(#clip7302)\" style=\"fill:#009af9; stroke:none; fill-opacity:1\" cx=\"361.533\" cy=\"343.223\" r=\"1\"/>\n",
       "<circle clip-path=\"url(#clip7302)\" style=\"fill:#000000; stroke:none; fill-opacity:1\" cx=\"361.919\" cy=\"341.844\" r=\"2\"/>\n",
       "<circle clip-path=\"url(#clip7302)\" style=\"fill:#009af9; stroke:none; fill-opacity:1\" cx=\"361.919\" cy=\"341.844\" r=\"1\"/>\n",
       "<circle clip-path=\"url(#clip7302)\" style=\"fill:#000000; stroke:none; fill-opacity:1\" cx=\"362.306\" cy=\"339.933\" r=\"2\"/>\n",
       "<circle clip-path=\"url(#clip7302)\" style=\"fill:#009af9; stroke:none; fill-opacity:1\" cx=\"362.306\" cy=\"339.933\" r=\"1\"/>\n",
       "<circle clip-path=\"url(#clip7302)\" style=\"fill:#000000; stroke:none; fill-opacity:1\" cx=\"362.692\" cy=\"337.492\" r=\"2\"/>\n",
       "<circle clip-path=\"url(#clip7302)\" style=\"fill:#009af9; stroke:none; fill-opacity:1\" cx=\"362.692\" cy=\"337.492\" r=\"1\"/>\n",
       "<circle clip-path=\"url(#clip7302)\" style=\"fill:#000000; stroke:none; fill-opacity:1\" cx=\"363.078\" cy=\"334.521\" r=\"2\"/>\n",
       "<circle clip-path=\"url(#clip7302)\" style=\"fill:#009af9; stroke:none; fill-opacity:1\" cx=\"363.078\" cy=\"334.521\" r=\"1\"/>\n",
       "<circle clip-path=\"url(#clip7302)\" style=\"fill:#000000; stroke:none; fill-opacity:1\" cx=\"363.465\" cy=\"331.025\" r=\"2\"/>\n",
       "<circle clip-path=\"url(#clip7302)\" style=\"fill:#009af9; stroke:none; fill-opacity:1\" cx=\"363.465\" cy=\"331.025\" r=\"1\"/>\n",
       "<circle clip-path=\"url(#clip7302)\" style=\"fill:#000000; stroke:none; fill-opacity:1\" cx=\"364.238\" cy=\"322.482\" r=\"2\"/>\n",
       "<circle clip-path=\"url(#clip7302)\" style=\"fill:#009af9; stroke:none; fill-opacity:1\" cx=\"364.238\" cy=\"322.482\" r=\"1\"/>\n",
       "<circle clip-path=\"url(#clip7302)\" style=\"fill:#000000; stroke:none; fill-opacity:1\" cx=\"365.011\" cy=\"311.929\" r=\"2\"/>\n",
       "<circle clip-path=\"url(#clip7302)\" style=\"fill:#009af9; stroke:none; fill-opacity:1\" cx=\"365.011\" cy=\"311.929\" r=\"1\"/>\n",
       "<circle clip-path=\"url(#clip7302)\" style=\"fill:#000000; stroke:none; fill-opacity:1\" cx=\"365.784\" cy=\"299.466\" r=\"2\"/>\n",
       "<circle clip-path=\"url(#clip7302)\" style=\"fill:#009af9; stroke:none; fill-opacity:1\" cx=\"365.784\" cy=\"299.466\" r=\"1\"/>\n",
       "<circle clip-path=\"url(#clip7302)\" style=\"fill:#000000; stroke:none; fill-opacity:1\" cx=\"366.556\" cy=\"285.221\" r=\"2\"/>\n",
       "<circle clip-path=\"url(#clip7302)\" style=\"fill:#009af9; stroke:none; fill-opacity:1\" cx=\"366.556\" cy=\"285.221\" r=\"1\"/>\n",
       "<circle clip-path=\"url(#clip7302)\" style=\"fill:#000000; stroke:none; fill-opacity:1\" cx=\"367.329\" cy=\"269.356\" r=\"2\"/>\n",
       "<circle clip-path=\"url(#clip7302)\" style=\"fill:#009af9; stroke:none; fill-opacity:1\" cx=\"367.329\" cy=\"269.356\" r=\"1\"/>\n",
       "<circle clip-path=\"url(#clip7302)\" style=\"fill:#000000; stroke:none; fill-opacity:1\" cx=\"368.102\" cy=\"252.056\" r=\"2\"/>\n",
       "<circle clip-path=\"url(#clip7302)\" style=\"fill:#009af9; stroke:none; fill-opacity:1\" cx=\"368.102\" cy=\"252.056\" r=\"1\"/>\n",
       "<circle clip-path=\"url(#clip7302)\" style=\"fill:#000000; stroke:none; fill-opacity:1\" cx=\"368.578\" cy=\"240.787\" r=\"2\"/>\n",
       "<circle clip-path=\"url(#clip7302)\" style=\"fill:#009af9; stroke:none; fill-opacity:1\" cx=\"368.578\" cy=\"240.787\" r=\"1\"/>\n",
       "<circle clip-path=\"url(#clip7302)\" style=\"fill:#000000; stroke:none; fill-opacity:1\" cx=\"369.054\" cy=\"229.11\" r=\"2\"/>\n",
       "<circle clip-path=\"url(#clip7302)\" style=\"fill:#009af9; stroke:none; fill-opacity:1\" cx=\"369.054\" cy=\"229.11\" r=\"1\"/>\n",
       "<circle clip-path=\"url(#clip7302)\" style=\"fill:#000000; stroke:none; fill-opacity:1\" cx=\"369.529\" cy=\"217.086\" r=\"2\"/>\n",
       "<circle clip-path=\"url(#clip7302)\" style=\"fill:#009af9; stroke:none; fill-opacity:1\" cx=\"369.529\" cy=\"217.086\" r=\"1\"/>\n",
       "<circle clip-path=\"url(#clip7302)\" style=\"fill:#000000; stroke:none; fill-opacity:1\" cx=\"370.005\" cy=\"204.775\" r=\"2\"/>\n",
       "<circle clip-path=\"url(#clip7302)\" style=\"fill:#009af9; stroke:none; fill-opacity:1\" cx=\"370.005\" cy=\"204.775\" r=\"1\"/>\n",
       "<circle clip-path=\"url(#clip7302)\" style=\"fill:#000000; stroke:none; fill-opacity:1\" cx=\"370.481\" cy=\"192.241\" r=\"2\"/>\n",
       "<circle clip-path=\"url(#clip7302)\" style=\"fill:#009af9; stroke:none; fill-opacity:1\" cx=\"370.481\" cy=\"192.241\" r=\"1\"/>\n",
       "<circle clip-path=\"url(#clip7302)\" style=\"fill:#000000; stroke:none; fill-opacity:1\" cx=\"370.957\" cy=\"179.553\" r=\"2\"/>\n",
       "<circle clip-path=\"url(#clip7302)\" style=\"fill:#009af9; stroke:none; fill-opacity:1\" cx=\"370.957\" cy=\"179.553\" r=\"1\"/>\n",
       "<circle clip-path=\"url(#clip7302)\" style=\"fill:#000000; stroke:none; fill-opacity:1\" cx=\"371.433\" cy=\"166.78\" r=\"2\"/>\n",
       "<circle clip-path=\"url(#clip7302)\" style=\"fill:#009af9; stroke:none; fill-opacity:1\" cx=\"371.433\" cy=\"166.78\" r=\"1\"/>\n",
       "</svg>\n"
      ]
     },
     "execution_count": 288,
     "metadata": {},
     "output_type": "execute_result"
    }
   ],
   "source": [
    "using Plots\n",
    "\n",
    "plot(dh,1,10,m=2,xaxis=(\"x\",1:10),yaxis=(\"h'(x)\",-300:50:300,(-300,300)),axiscolor=:red,size=(400,400),legend=false)\n"
   ]
  },
  {
   "cell_type": "markdown",
   "metadata": {},
   "source": [
    "En el intervalo $x_0 \\in [1,5]$ :"
   ]
  },
  {
   "cell_type": "code",
   "execution_count": 285,
   "metadata": {},
   "outputs": [
    {
     "data": {
      "image/svg+xml": [
       "<?xml version=\"1.0\" encoding=\"utf-8\"?>\n",
       "<svg xmlns=\"http://www.w3.org/2000/svg\" xmlns:xlink=\"http://www.w3.org/1999/xlink\" width=\"400\" height=\"400\" viewBox=\"0 0 400 400\">\n",
       "<defs>\n",
       "  <clipPath id=\"clip6700\">\n",
       "    <rect x=\"0\" y=\"0\" width=\"400\" height=\"400\"/>\n",
       "  </clipPath>\n",
       "</defs>\n",
       "<polygon clip-path=\"url(#clip6700)\" points=\"\n",
       "0,400 400,400 400,0 0,0 \n",
       "  \" fill=\"#ffffff\" fill-opacity=\"1\"/>\n",
       "<defs>\n",
       "  <clipPath id=\"clip6701\">\n",
       "    <rect x=\"80\" y=\"40\" width=\"281\" height=\"281\"/>\n",
       "  </clipPath>\n",
       "</defs>\n",
       "<polygon clip-path=\"url(#clip6700)\" points=\"\n",
       "59.7788,355.929 380.315,355.929 380.315,11.811 59.7788,11.811 \n",
       "  \" fill=\"#ffffff\" fill-opacity=\"1\"/>\n",
       "<defs>\n",
       "  <clipPath id=\"clip6702\">\n",
       "    <rect x=\"59\" y=\"11\" width=\"322\" height=\"345\"/>\n",
       "  </clipPath>\n",
       "</defs>\n",
       "<polyline clip-path=\"url(#clip6702)\" style=\"stroke:#000000; stroke-width:0.5; stroke-opacity:0.1; fill:none\" points=\"\n",
       "  68.1081,355.929 68.1081,11.811 \n",
       "  \"/>\n",
       "<polyline clip-path=\"url(#clip6702)\" style=\"stroke:#000000; stroke-width:0.5; stroke-opacity:0.1; fill:none\" points=\"\n",
       "  106.121,355.929 106.121,11.811 \n",
       "  \"/>\n",
       "<polyline clip-path=\"url(#clip6702)\" style=\"stroke:#000000; stroke-width:0.5; stroke-opacity:0.1; fill:none\" points=\"\n",
       "  144.133,355.929 144.133,11.811 \n",
       "  \"/>\n",
       "<polyline clip-path=\"url(#clip6702)\" style=\"stroke:#000000; stroke-width:0.5; stroke-opacity:0.1; fill:none\" points=\"\n",
       "  182.146,355.929 182.146,11.811 \n",
       "  \"/>\n",
       "<polyline clip-path=\"url(#clip6702)\" style=\"stroke:#000000; stroke-width:0.5; stroke-opacity:0.1; fill:none\" points=\"\n",
       "  220.159,355.929 220.159,11.811 \n",
       "  \"/>\n",
       "<polyline clip-path=\"url(#clip6702)\" style=\"stroke:#000000; stroke-width:0.5; stroke-opacity:0.1; fill:none\" points=\"\n",
       "  258.171,355.929 258.171,11.811 \n",
       "  \"/>\n",
       "<polyline clip-path=\"url(#clip6702)\" style=\"stroke:#000000; stroke-width:0.5; stroke-opacity:0.1; fill:none\" points=\"\n",
       "  296.184,355.929 296.184,11.811 \n",
       "  \"/>\n",
       "<polyline clip-path=\"url(#clip6702)\" style=\"stroke:#000000; stroke-width:0.5; stroke-opacity:0.1; fill:none\" points=\"\n",
       "  334.197,355.929 334.197,11.811 \n",
       "  \"/>\n",
       "<polyline clip-path=\"url(#clip6702)\" style=\"stroke:#000000; stroke-width:0.5; stroke-opacity:0.1; fill:none\" points=\"\n",
       "  372.209,355.929 372.209,11.811 \n",
       "  \"/>\n",
       "<polyline clip-path=\"url(#clip6702)\" style=\"stroke:#000000; stroke-width:0.5; stroke-opacity:0.1; fill:none\" points=\"\n",
       "  59.7788,355.929 380.315,355.929 \n",
       "  \"/>\n",
       "<polyline clip-path=\"url(#clip6702)\" style=\"stroke:#000000; stroke-width:0.5; stroke-opacity:0.1; fill:none\" points=\"\n",
       "  59.7788,298.576 380.315,298.576 \n",
       "  \"/>\n",
       "<polyline clip-path=\"url(#clip6702)\" style=\"stroke:#000000; stroke-width:0.5; stroke-opacity:0.1; fill:none\" points=\"\n",
       "  59.7788,241.223 380.315,241.223 \n",
       "  \"/>\n",
       "<polyline clip-path=\"url(#clip6702)\" style=\"stroke:#000000; stroke-width:0.5; stroke-opacity:0.1; fill:none\" points=\"\n",
       "  59.7788,183.87 380.315,183.87 \n",
       "  \"/>\n",
       "<polyline clip-path=\"url(#clip6702)\" style=\"stroke:#000000; stroke-width:0.5; stroke-opacity:0.1; fill:none\" points=\"\n",
       "  59.7788,126.517 380.315,126.517 \n",
       "  \"/>\n",
       "<polyline clip-path=\"url(#clip6702)\" style=\"stroke:#000000; stroke-width:0.5; stroke-opacity:0.1; fill:none\" points=\"\n",
       "  59.7788,69.164 380.315,69.164 \n",
       "  \"/>\n",
       "<polyline clip-path=\"url(#clip6702)\" style=\"stroke:#000000; stroke-width:0.5; stroke-opacity:0.1; fill:none\" points=\"\n",
       "  59.7788,11.811 380.315,11.811 \n",
       "  \"/>\n",
       "<polyline clip-path=\"url(#clip6700)\" style=\"stroke:#ff0000; stroke-width:1; stroke-opacity:1; fill:none\" points=\"\n",
       "  59.7788,355.929 380.315,355.929 \n",
       "  \"/>\n",
       "<polyline clip-path=\"url(#clip6700)\" style=\"stroke:#ff0000; stroke-width:1; stroke-opacity:1; fill:none\" points=\"\n",
       "  59.7788,355.929 59.7788,11.811 \n",
       "  \"/>\n",
       "<polyline clip-path=\"url(#clip6700)\" style=\"stroke:#ff0000; stroke-width:1; stroke-opacity:1; fill:none\" points=\"\n",
       "  68.1081,355.929 68.1081,350.767 \n",
       "  \"/>\n",
       "<polyline clip-path=\"url(#clip6700)\" style=\"stroke:#ff0000; stroke-width:1; stroke-opacity:1; fill:none\" points=\"\n",
       "  106.121,355.929 106.121,350.767 \n",
       "  \"/>\n",
       "<polyline clip-path=\"url(#clip6700)\" style=\"stroke:#ff0000; stroke-width:1; stroke-opacity:1; fill:none\" points=\"\n",
       "  144.133,355.929 144.133,350.767 \n",
       "  \"/>\n",
       "<polyline clip-path=\"url(#clip6700)\" style=\"stroke:#ff0000; stroke-width:1; stroke-opacity:1; fill:none\" points=\"\n",
       "  182.146,355.929 182.146,350.767 \n",
       "  \"/>\n",
       "<polyline clip-path=\"url(#clip6700)\" style=\"stroke:#ff0000; stroke-width:1; stroke-opacity:1; fill:none\" points=\"\n",
       "  220.159,355.929 220.159,350.767 \n",
       "  \"/>\n",
       "<polyline clip-path=\"url(#clip6700)\" style=\"stroke:#ff0000; stroke-width:1; stroke-opacity:1; fill:none\" points=\"\n",
       "  258.171,355.929 258.171,350.767 \n",
       "  \"/>\n",
       "<polyline clip-path=\"url(#clip6700)\" style=\"stroke:#ff0000; stroke-width:1; stroke-opacity:1; fill:none\" points=\"\n",
       "  296.184,355.929 296.184,350.767 \n",
       "  \"/>\n",
       "<polyline clip-path=\"url(#clip6700)\" style=\"stroke:#ff0000; stroke-width:1; stroke-opacity:1; fill:none\" points=\"\n",
       "  334.197,355.929 334.197,350.767 \n",
       "  \"/>\n",
       "<polyline clip-path=\"url(#clip6700)\" style=\"stroke:#ff0000; stroke-width:1; stroke-opacity:1; fill:none\" points=\"\n",
       "  372.209,355.929 372.209,350.767 \n",
       "  \"/>\n",
       "<polyline clip-path=\"url(#clip6700)\" style=\"stroke:#ff0000; stroke-width:1; stroke-opacity:1; fill:none\" points=\"\n",
       "  59.7788,355.929 64.5868,355.929 \n",
       "  \"/>\n",
       "<polyline clip-path=\"url(#clip6700)\" style=\"stroke:#ff0000; stroke-width:1; stroke-opacity:1; fill:none\" points=\"\n",
       "  59.7788,298.576 64.5868,298.576 \n",
       "  \"/>\n",
       "<polyline clip-path=\"url(#clip6700)\" style=\"stroke:#ff0000; stroke-width:1; stroke-opacity:1; fill:none\" points=\"\n",
       "  59.7788,241.223 64.5868,241.223 \n",
       "  \"/>\n",
       "<polyline clip-path=\"url(#clip6700)\" style=\"stroke:#ff0000; stroke-width:1; stroke-opacity:1; fill:none\" points=\"\n",
       "  59.7788,183.87 64.5868,183.87 \n",
       "  \"/>\n",
       "<polyline clip-path=\"url(#clip6700)\" style=\"stroke:#ff0000; stroke-width:1; stroke-opacity:1; fill:none\" points=\"\n",
       "  59.7788,126.517 64.5868,126.517 \n",
       "  \"/>\n",
       "<polyline clip-path=\"url(#clip6700)\" style=\"stroke:#ff0000; stroke-width:1; stroke-opacity:1; fill:none\" points=\"\n",
       "  59.7788,69.164 64.5868,69.164 \n",
       "  \"/>\n",
       "<polyline clip-path=\"url(#clip6700)\" style=\"stroke:#ff0000; stroke-width:1; stroke-opacity:1; fill:none\" points=\"\n",
       "  59.7788,11.811 64.5868,11.811 \n",
       "  \"/>\n",
       "<g clip-path=\"url(#clip6700)\">\n",
       "<text style=\"fill:#000000; fill-opacity:1; font-family:Arial,Helvetica Neue,Helvetica,sans-serif; font-size:12; text-anchor:middle;\" transform=\"rotate(0, 68.1081, 368.729)\" x=\"68.1081\" y=\"368.729\">1.0</text>\n",
       "</g>\n",
       "<g clip-path=\"url(#clip6700)\">\n",
       "<text style=\"fill:#000000; fill-opacity:1; font-family:Arial,Helvetica Neue,Helvetica,sans-serif; font-size:12; text-anchor:middle;\" transform=\"rotate(0, 106.121, 368.729)\" x=\"106.121\" y=\"368.729\">1.5</text>\n",
       "</g>\n",
       "<g clip-path=\"url(#clip6700)\">\n",
       "<text style=\"fill:#000000; fill-opacity:1; font-family:Arial,Helvetica Neue,Helvetica,sans-serif; font-size:12; text-anchor:middle;\" transform=\"rotate(0, 144.133, 368.729)\" x=\"144.133\" y=\"368.729\">2.0</text>\n",
       "</g>\n",
       "<g clip-path=\"url(#clip6700)\">\n",
       "<text style=\"fill:#000000; fill-opacity:1; font-family:Arial,Helvetica Neue,Helvetica,sans-serif; font-size:12; text-anchor:middle;\" transform=\"rotate(0, 182.146, 368.729)\" x=\"182.146\" y=\"368.729\">2.5</text>\n",
       "</g>\n",
       "<g clip-path=\"url(#clip6700)\">\n",
       "<text style=\"fill:#000000; fill-opacity:1; font-family:Arial,Helvetica Neue,Helvetica,sans-serif; font-size:12; text-anchor:middle;\" transform=\"rotate(0, 220.159, 368.729)\" x=\"220.159\" y=\"368.729\">3.0</text>\n",
       "</g>\n",
       "<g clip-path=\"url(#clip6700)\">\n",
       "<text style=\"fill:#000000; fill-opacity:1; font-family:Arial,Helvetica Neue,Helvetica,sans-serif; font-size:12; text-anchor:middle;\" transform=\"rotate(0, 258.171, 368.729)\" x=\"258.171\" y=\"368.729\">3.5</text>\n",
       "</g>\n",
       "<g clip-path=\"url(#clip6700)\">\n",
       "<text style=\"fill:#000000; fill-opacity:1; font-family:Arial,Helvetica Neue,Helvetica,sans-serif; font-size:12; text-anchor:middle;\" transform=\"rotate(0, 296.184, 368.729)\" x=\"296.184\" y=\"368.729\">4.0</text>\n",
       "</g>\n",
       "<g clip-path=\"url(#clip6700)\">\n",
       "<text style=\"fill:#000000; fill-opacity:1; font-family:Arial,Helvetica Neue,Helvetica,sans-serif; font-size:12; text-anchor:middle;\" transform=\"rotate(0, 334.197, 368.729)\" x=\"334.197\" y=\"368.729\">4.5</text>\n",
       "</g>\n",
       "<g clip-path=\"url(#clip6700)\">\n",
       "<text style=\"fill:#000000; fill-opacity:1; font-family:Arial,Helvetica Neue,Helvetica,sans-serif; font-size:12; text-anchor:middle;\" transform=\"rotate(0, 372.209, 368.729)\" x=\"372.209\" y=\"368.729\">5.0</text>\n",
       "</g>\n",
       "<g clip-path=\"url(#clip6700)\">\n",
       "<text style=\"fill:#000000; fill-opacity:1; font-family:Arial,Helvetica Neue,Helvetica,sans-serif; font-size:12; text-anchor:end;\" transform=\"rotate(0, 55.7788, 360.429)\" x=\"55.7788\" y=\"360.429\">-30</text>\n",
       "</g>\n",
       "<g clip-path=\"url(#clip6700)\">\n",
       "<text style=\"fill:#000000; fill-opacity:1; font-family:Arial,Helvetica Neue,Helvetica,sans-serif; font-size:12; text-anchor:end;\" transform=\"rotate(0, 55.7788, 303.076)\" x=\"55.7788\" y=\"303.076\">-20</text>\n",
       "</g>\n",
       "<g clip-path=\"url(#clip6700)\">\n",
       "<text style=\"fill:#000000; fill-opacity:1; font-family:Arial,Helvetica Neue,Helvetica,sans-serif; font-size:12; text-anchor:end;\" transform=\"rotate(0, 55.7788, 245.723)\" x=\"55.7788\" y=\"245.723\">-10</text>\n",
       "</g>\n",
       "<g clip-path=\"url(#clip6700)\">\n",
       "<text style=\"fill:#000000; fill-opacity:1; font-family:Arial,Helvetica Neue,Helvetica,sans-serif; font-size:12; text-anchor:end;\" transform=\"rotate(0, 55.7788, 188.37)\" x=\"55.7788\" y=\"188.37\">0</text>\n",
       "</g>\n",
       "<g clip-path=\"url(#clip6700)\">\n",
       "<text style=\"fill:#000000; fill-opacity:1; font-family:Arial,Helvetica Neue,Helvetica,sans-serif; font-size:12; text-anchor:end;\" transform=\"rotate(0, 55.7788, 131.017)\" x=\"55.7788\" y=\"131.017\">10</text>\n",
       "</g>\n",
       "<g clip-path=\"url(#clip6700)\">\n",
       "<text style=\"fill:#000000; fill-opacity:1; font-family:Arial,Helvetica Neue,Helvetica,sans-serif; font-size:12; text-anchor:end;\" transform=\"rotate(0, 55.7788, 73.664)\" x=\"55.7788\" y=\"73.664\">20</text>\n",
       "</g>\n",
       "<g clip-path=\"url(#clip6700)\">\n",
       "<text style=\"fill:#000000; fill-opacity:1; font-family:Arial,Helvetica Neue,Helvetica,sans-serif; font-size:12; text-anchor:end;\" transform=\"rotate(0, 55.7788, 16.311)\" x=\"55.7788\" y=\"16.311\">30</text>\n",
       "</g>\n",
       "<g clip-path=\"url(#clip6700)\">\n",
       "<text style=\"fill:#000000; fill-opacity:1; font-family:Arial,Helvetica Neue,Helvetica,sans-serif; font-size:16; text-anchor:middle;\" transform=\"rotate(0, 220.047, 397.6)\" x=\"220.047\" y=\"397.6\">x</text>\n",
       "</g>\n",
       "<g clip-path=\"url(#clip6700)\">\n",
       "<text style=\"fill:#000000; fill-opacity:1; font-family:Arial,Helvetica Neue,Helvetica,sans-serif; font-size:16; text-anchor:middle;\" transform=\"rotate(-90, 14.4, 183.87)\" x=\"14.4\" y=\"183.87\">h&apos;(x)</text>\n",
       "</g>\n",
       "<polyline clip-path=\"url(#clip6702)\" style=\"stroke:#009af9; stroke-width:1; stroke-opacity:1; fill:none\" points=\"\n",
       "  68.8505,102.038 69.593,105.884 70.3354,109.417 71.0779,112.665 72.7942,119.199 74.5104,124.566 76.2267,128.965 77.9429,132.556 81.3754,137.818 84.8079,141.142 \n",
       "  88.2404,143.069 91.673,143.968 95.1055,144.101 98.538,143.651 106.789,140.905 115.04,136.609 122.017,132.187 128.993,127.239 144.149,115.165 158.122,102.863 \n",
       "  173.102,88.8596 190.459,72.2244 205.883,57.8699 219.408,46.4469 226.782,41.015 234.155,36.3711 241.572,32.7038 248.989,30.28 257.19,29.365 265.39,30.6838 \n",
       "  273.193,34.4016 280.995,40.9198 285.052,45.5499 289.108,51.1054 293.165,57.6446 297.221,65.2249 300.636,72.4544 304.05,80.494 307.465,89.3745 310.88,99.1253 \n",
       "  315.049,112.248 319.218,126.752 323.386,142.671 327.555,160.034 331.474,177.685 335.393,196.63 339.312,216.86 343.231,238.355 349.509,275.338 355.788,315.25 \n",
       "  362.066,357.748 368.345,402.352 369.311,409.366 370.277,416.412 371.243,423.489 \n",
       "  \"/>\n",
       "<circle clip-path=\"url(#clip6702)\" style=\"fill:#000000; stroke:none; fill-opacity:1\" cx=\"68.8505\" cy=\"102.038\" r=\"3\"/>\n",
       "<circle clip-path=\"url(#clip6702)\" style=\"fill:#009af9; stroke:none; fill-opacity:1\" cx=\"68.8505\" cy=\"102.038\" r=\"2\"/>\n",
       "<circle clip-path=\"url(#clip6702)\" style=\"fill:#000000; stroke:none; fill-opacity:1\" cx=\"69.593\" cy=\"105.884\" r=\"3\"/>\n",
       "<circle clip-path=\"url(#clip6702)\" style=\"fill:#009af9; stroke:none; fill-opacity:1\" cx=\"69.593\" cy=\"105.884\" r=\"2\"/>\n",
       "<circle clip-path=\"url(#clip6702)\" style=\"fill:#000000; stroke:none; fill-opacity:1\" cx=\"70.3354\" cy=\"109.417\" r=\"3\"/>\n",
       "<circle clip-path=\"url(#clip6702)\" style=\"fill:#009af9; stroke:none; fill-opacity:1\" cx=\"70.3354\" cy=\"109.417\" r=\"2\"/>\n",
       "<circle clip-path=\"url(#clip6702)\" style=\"fill:#000000; stroke:none; fill-opacity:1\" cx=\"71.0779\" cy=\"112.665\" r=\"3\"/>\n",
       "<circle clip-path=\"url(#clip6702)\" style=\"fill:#009af9; stroke:none; fill-opacity:1\" cx=\"71.0779\" cy=\"112.665\" r=\"2\"/>\n",
       "<circle clip-path=\"url(#clip6702)\" style=\"fill:#000000; stroke:none; fill-opacity:1\" cx=\"72.7942\" cy=\"119.199\" r=\"3\"/>\n",
       "<circle clip-path=\"url(#clip6702)\" style=\"fill:#009af9; stroke:none; fill-opacity:1\" cx=\"72.7942\" cy=\"119.199\" r=\"2\"/>\n",
       "<circle clip-path=\"url(#clip6702)\" style=\"fill:#000000; stroke:none; fill-opacity:1\" cx=\"74.5104\" cy=\"124.566\" r=\"3\"/>\n",
       "<circle clip-path=\"url(#clip6702)\" style=\"fill:#009af9; stroke:none; fill-opacity:1\" cx=\"74.5104\" cy=\"124.566\" r=\"2\"/>\n",
       "<circle clip-path=\"url(#clip6702)\" style=\"fill:#000000; stroke:none; fill-opacity:1\" cx=\"76.2267\" cy=\"128.965\" r=\"3\"/>\n",
       "<circle clip-path=\"url(#clip6702)\" style=\"fill:#009af9; stroke:none; fill-opacity:1\" cx=\"76.2267\" cy=\"128.965\" r=\"2\"/>\n",
       "<circle clip-path=\"url(#clip6702)\" style=\"fill:#000000; stroke:none; fill-opacity:1\" cx=\"77.9429\" cy=\"132.556\" r=\"3\"/>\n",
       "<circle clip-path=\"url(#clip6702)\" style=\"fill:#009af9; stroke:none; fill-opacity:1\" cx=\"77.9429\" cy=\"132.556\" r=\"2\"/>\n",
       "<circle clip-path=\"url(#clip6702)\" style=\"fill:#000000; stroke:none; fill-opacity:1\" cx=\"81.3754\" cy=\"137.818\" r=\"3\"/>\n",
       "<circle clip-path=\"url(#clip6702)\" style=\"fill:#009af9; stroke:none; fill-opacity:1\" cx=\"81.3754\" cy=\"137.818\" r=\"2\"/>\n",
       "<circle clip-path=\"url(#clip6702)\" style=\"fill:#000000; stroke:none; fill-opacity:1\" cx=\"84.8079\" cy=\"141.142\" r=\"3\"/>\n",
       "<circle clip-path=\"url(#clip6702)\" style=\"fill:#009af9; stroke:none; fill-opacity:1\" cx=\"84.8079\" cy=\"141.142\" r=\"2\"/>\n",
       "<circle clip-path=\"url(#clip6702)\" style=\"fill:#000000; stroke:none; fill-opacity:1\" cx=\"88.2404\" cy=\"143.069\" r=\"3\"/>\n",
       "<circle clip-path=\"url(#clip6702)\" style=\"fill:#009af9; stroke:none; fill-opacity:1\" cx=\"88.2404\" cy=\"143.069\" r=\"2\"/>\n",
       "<circle clip-path=\"url(#clip6702)\" style=\"fill:#000000; stroke:none; fill-opacity:1\" cx=\"91.673\" cy=\"143.968\" r=\"3\"/>\n",
       "<circle clip-path=\"url(#clip6702)\" style=\"fill:#009af9; stroke:none; fill-opacity:1\" cx=\"91.673\" cy=\"143.968\" r=\"2\"/>\n",
       "<circle clip-path=\"url(#clip6702)\" style=\"fill:#000000; stroke:none; fill-opacity:1\" cx=\"95.1055\" cy=\"144.101\" r=\"3\"/>\n",
       "<circle clip-path=\"url(#clip6702)\" style=\"fill:#009af9; stroke:none; fill-opacity:1\" cx=\"95.1055\" cy=\"144.101\" r=\"2\"/>\n",
       "<circle clip-path=\"url(#clip6702)\" style=\"fill:#000000; stroke:none; fill-opacity:1\" cx=\"98.538\" cy=\"143.651\" r=\"3\"/>\n",
       "<circle clip-path=\"url(#clip6702)\" style=\"fill:#009af9; stroke:none; fill-opacity:1\" cx=\"98.538\" cy=\"143.651\" r=\"2\"/>\n",
       "<circle clip-path=\"url(#clip6702)\" style=\"fill:#000000; stroke:none; fill-opacity:1\" cx=\"106.789\" cy=\"140.905\" r=\"3\"/>\n",
       "<circle clip-path=\"url(#clip6702)\" style=\"fill:#009af9; stroke:none; fill-opacity:1\" cx=\"106.789\" cy=\"140.905\" r=\"2\"/>\n",
       "<circle clip-path=\"url(#clip6702)\" style=\"fill:#000000; stroke:none; fill-opacity:1\" cx=\"115.04\" cy=\"136.609\" r=\"3\"/>\n",
       "<circle clip-path=\"url(#clip6702)\" style=\"fill:#009af9; stroke:none; fill-opacity:1\" cx=\"115.04\" cy=\"136.609\" r=\"2\"/>\n",
       "<circle clip-path=\"url(#clip6702)\" style=\"fill:#000000; stroke:none; fill-opacity:1\" cx=\"122.017\" cy=\"132.187\" r=\"3\"/>\n",
       "<circle clip-path=\"url(#clip6702)\" style=\"fill:#009af9; stroke:none; fill-opacity:1\" cx=\"122.017\" cy=\"132.187\" r=\"2\"/>\n",
       "<circle clip-path=\"url(#clip6702)\" style=\"fill:#000000; stroke:none; fill-opacity:1\" cx=\"128.993\" cy=\"127.239\" r=\"3\"/>\n",
       "<circle clip-path=\"url(#clip6702)\" style=\"fill:#009af9; stroke:none; fill-opacity:1\" cx=\"128.993\" cy=\"127.239\" r=\"2\"/>\n",
       "<circle clip-path=\"url(#clip6702)\" style=\"fill:#000000; stroke:none; fill-opacity:1\" cx=\"144.149\" cy=\"115.165\" r=\"3\"/>\n",
       "<circle clip-path=\"url(#clip6702)\" style=\"fill:#009af9; stroke:none; fill-opacity:1\" cx=\"144.149\" cy=\"115.165\" r=\"2\"/>\n",
       "<circle clip-path=\"url(#clip6702)\" style=\"fill:#000000; stroke:none; fill-opacity:1\" cx=\"158.122\" cy=\"102.863\" r=\"3\"/>\n",
       "<circle clip-path=\"url(#clip6702)\" style=\"fill:#009af9; stroke:none; fill-opacity:1\" cx=\"158.122\" cy=\"102.863\" r=\"2\"/>\n",
       "<circle clip-path=\"url(#clip6702)\" style=\"fill:#000000; stroke:none; fill-opacity:1\" cx=\"173.102\" cy=\"88.8596\" r=\"3\"/>\n",
       "<circle clip-path=\"url(#clip6702)\" style=\"fill:#009af9; stroke:none; fill-opacity:1\" cx=\"173.102\" cy=\"88.8596\" r=\"2\"/>\n",
       "<circle clip-path=\"url(#clip6702)\" style=\"fill:#000000; stroke:none; fill-opacity:1\" cx=\"190.459\" cy=\"72.2244\" r=\"3\"/>\n",
       "<circle clip-path=\"url(#clip6702)\" style=\"fill:#009af9; stroke:none; fill-opacity:1\" cx=\"190.459\" cy=\"72.2244\" r=\"2\"/>\n",
       "<circle clip-path=\"url(#clip6702)\" style=\"fill:#000000; stroke:none; fill-opacity:1\" cx=\"205.883\" cy=\"57.8699\" r=\"3\"/>\n",
       "<circle clip-path=\"url(#clip6702)\" style=\"fill:#009af9; stroke:none; fill-opacity:1\" cx=\"205.883\" cy=\"57.8699\" r=\"2\"/>\n",
       "<circle clip-path=\"url(#clip6702)\" style=\"fill:#000000; stroke:none; fill-opacity:1\" cx=\"219.408\" cy=\"46.4469\" r=\"3\"/>\n",
       "<circle clip-path=\"url(#clip6702)\" style=\"fill:#009af9; stroke:none; fill-opacity:1\" cx=\"219.408\" cy=\"46.4469\" r=\"2\"/>\n",
       "<circle clip-path=\"url(#clip6702)\" style=\"fill:#000000; stroke:none; fill-opacity:1\" cx=\"226.782\" cy=\"41.015\" r=\"3\"/>\n",
       "<circle clip-path=\"url(#clip6702)\" style=\"fill:#009af9; stroke:none; fill-opacity:1\" cx=\"226.782\" cy=\"41.015\" r=\"2\"/>\n",
       "<circle clip-path=\"url(#clip6702)\" style=\"fill:#000000; stroke:none; fill-opacity:1\" cx=\"234.155\" cy=\"36.3711\" r=\"3\"/>\n",
       "<circle clip-path=\"url(#clip6702)\" style=\"fill:#009af9; stroke:none; fill-opacity:1\" cx=\"234.155\" cy=\"36.3711\" r=\"2\"/>\n",
       "<circle clip-path=\"url(#clip6702)\" style=\"fill:#000000; stroke:none; fill-opacity:1\" cx=\"241.572\" cy=\"32.7038\" r=\"3\"/>\n",
       "<circle clip-path=\"url(#clip6702)\" style=\"fill:#009af9; stroke:none; fill-opacity:1\" cx=\"241.572\" cy=\"32.7038\" r=\"2\"/>\n",
       "<circle clip-path=\"url(#clip6702)\" style=\"fill:#000000; stroke:none; fill-opacity:1\" cx=\"248.989\" cy=\"30.28\" r=\"3\"/>\n",
       "<circle clip-path=\"url(#clip6702)\" style=\"fill:#009af9; stroke:none; fill-opacity:1\" cx=\"248.989\" cy=\"30.28\" r=\"2\"/>\n",
       "<circle clip-path=\"url(#clip6702)\" style=\"fill:#000000; stroke:none; fill-opacity:1\" cx=\"257.19\" cy=\"29.365\" r=\"3\"/>\n",
       "<circle clip-path=\"url(#clip6702)\" style=\"fill:#009af9; stroke:none; fill-opacity:1\" cx=\"257.19\" cy=\"29.365\" r=\"2\"/>\n",
       "<circle clip-path=\"url(#clip6702)\" style=\"fill:#000000; stroke:none; fill-opacity:1\" cx=\"265.39\" cy=\"30.6838\" r=\"3\"/>\n",
       "<circle clip-path=\"url(#clip6702)\" style=\"fill:#009af9; stroke:none; fill-opacity:1\" cx=\"265.39\" cy=\"30.6838\" r=\"2\"/>\n",
       "<circle clip-path=\"url(#clip6702)\" style=\"fill:#000000; stroke:none; fill-opacity:1\" cx=\"273.193\" cy=\"34.4016\" r=\"3\"/>\n",
       "<circle clip-path=\"url(#clip6702)\" style=\"fill:#009af9; stroke:none; fill-opacity:1\" cx=\"273.193\" cy=\"34.4016\" r=\"2\"/>\n",
       "<circle clip-path=\"url(#clip6702)\" style=\"fill:#000000; stroke:none; fill-opacity:1\" cx=\"280.995\" cy=\"40.9198\" r=\"3\"/>\n",
       "<circle clip-path=\"url(#clip6702)\" style=\"fill:#009af9; stroke:none; fill-opacity:1\" cx=\"280.995\" cy=\"40.9198\" r=\"2\"/>\n",
       "<circle clip-path=\"url(#clip6702)\" style=\"fill:#000000; stroke:none; fill-opacity:1\" cx=\"285.052\" cy=\"45.5499\" r=\"3\"/>\n",
       "<circle clip-path=\"url(#clip6702)\" style=\"fill:#009af9; stroke:none; fill-opacity:1\" cx=\"285.052\" cy=\"45.5499\" r=\"2\"/>\n",
       "<circle clip-path=\"url(#clip6702)\" style=\"fill:#000000; stroke:none; fill-opacity:1\" cx=\"289.108\" cy=\"51.1054\" r=\"3\"/>\n",
       "<circle clip-path=\"url(#clip6702)\" style=\"fill:#009af9; stroke:none; fill-opacity:1\" cx=\"289.108\" cy=\"51.1054\" r=\"2\"/>\n",
       "<circle clip-path=\"url(#clip6702)\" style=\"fill:#000000; stroke:none; fill-opacity:1\" cx=\"293.165\" cy=\"57.6446\" r=\"3\"/>\n",
       "<circle clip-path=\"url(#clip6702)\" style=\"fill:#009af9; stroke:none; fill-opacity:1\" cx=\"293.165\" cy=\"57.6446\" r=\"2\"/>\n",
       "<circle clip-path=\"url(#clip6702)\" style=\"fill:#000000; stroke:none; fill-opacity:1\" cx=\"297.221\" cy=\"65.2249\" r=\"3\"/>\n",
       "<circle clip-path=\"url(#clip6702)\" style=\"fill:#009af9; stroke:none; fill-opacity:1\" cx=\"297.221\" cy=\"65.2249\" r=\"2\"/>\n",
       "<circle clip-path=\"url(#clip6702)\" style=\"fill:#000000; stroke:none; fill-opacity:1\" cx=\"300.636\" cy=\"72.4544\" r=\"3\"/>\n",
       "<circle clip-path=\"url(#clip6702)\" style=\"fill:#009af9; stroke:none; fill-opacity:1\" cx=\"300.636\" cy=\"72.4544\" r=\"2\"/>\n",
       "<circle clip-path=\"url(#clip6702)\" style=\"fill:#000000; stroke:none; fill-opacity:1\" cx=\"304.05\" cy=\"80.494\" r=\"3\"/>\n",
       "<circle clip-path=\"url(#clip6702)\" style=\"fill:#009af9; stroke:none; fill-opacity:1\" cx=\"304.05\" cy=\"80.494\" r=\"2\"/>\n",
       "<circle clip-path=\"url(#clip6702)\" style=\"fill:#000000; stroke:none; fill-opacity:1\" cx=\"307.465\" cy=\"89.3745\" r=\"3\"/>\n",
       "<circle clip-path=\"url(#clip6702)\" style=\"fill:#009af9; stroke:none; fill-opacity:1\" cx=\"307.465\" cy=\"89.3745\" r=\"2\"/>\n",
       "<circle clip-path=\"url(#clip6702)\" style=\"fill:#000000; stroke:none; fill-opacity:1\" cx=\"310.88\" cy=\"99.1253\" r=\"3\"/>\n",
       "<circle clip-path=\"url(#clip6702)\" style=\"fill:#009af9; stroke:none; fill-opacity:1\" cx=\"310.88\" cy=\"99.1253\" r=\"2\"/>\n",
       "<circle clip-path=\"url(#clip6702)\" style=\"fill:#000000; stroke:none; fill-opacity:1\" cx=\"315.049\" cy=\"112.248\" r=\"3\"/>\n",
       "<circle clip-path=\"url(#clip6702)\" style=\"fill:#009af9; stroke:none; fill-opacity:1\" cx=\"315.049\" cy=\"112.248\" r=\"2\"/>\n",
       "<circle clip-path=\"url(#clip6702)\" style=\"fill:#000000; stroke:none; fill-opacity:1\" cx=\"319.218\" cy=\"126.752\" r=\"3\"/>\n",
       "<circle clip-path=\"url(#clip6702)\" style=\"fill:#009af9; stroke:none; fill-opacity:1\" cx=\"319.218\" cy=\"126.752\" r=\"2\"/>\n",
       "<circle clip-path=\"url(#clip6702)\" style=\"fill:#000000; stroke:none; fill-opacity:1\" cx=\"323.386\" cy=\"142.671\" r=\"3\"/>\n",
       "<circle clip-path=\"url(#clip6702)\" style=\"fill:#009af9; stroke:none; fill-opacity:1\" cx=\"323.386\" cy=\"142.671\" r=\"2\"/>\n",
       "<circle clip-path=\"url(#clip6702)\" style=\"fill:#000000; stroke:none; fill-opacity:1\" cx=\"327.555\" cy=\"160.034\" r=\"3\"/>\n",
       "<circle clip-path=\"url(#clip6702)\" style=\"fill:#009af9; stroke:none; fill-opacity:1\" cx=\"327.555\" cy=\"160.034\" r=\"2\"/>\n",
       "<circle clip-path=\"url(#clip6702)\" style=\"fill:#000000; stroke:none; fill-opacity:1\" cx=\"331.474\" cy=\"177.685\" r=\"3\"/>\n",
       "<circle clip-path=\"url(#clip6702)\" style=\"fill:#009af9; stroke:none; fill-opacity:1\" cx=\"331.474\" cy=\"177.685\" r=\"2\"/>\n",
       "<circle clip-path=\"url(#clip6702)\" style=\"fill:#000000; stroke:none; fill-opacity:1\" cx=\"335.393\" cy=\"196.63\" r=\"3\"/>\n",
       "<circle clip-path=\"url(#clip6702)\" style=\"fill:#009af9; stroke:none; fill-opacity:1\" cx=\"335.393\" cy=\"196.63\" r=\"2\"/>\n",
       "<circle clip-path=\"url(#clip6702)\" style=\"fill:#000000; stroke:none; fill-opacity:1\" cx=\"339.312\" cy=\"216.86\" r=\"3\"/>\n",
       "<circle clip-path=\"url(#clip6702)\" style=\"fill:#009af9; stroke:none; fill-opacity:1\" cx=\"339.312\" cy=\"216.86\" r=\"2\"/>\n",
       "<circle clip-path=\"url(#clip6702)\" style=\"fill:#000000; stroke:none; fill-opacity:1\" cx=\"343.231\" cy=\"238.355\" r=\"3\"/>\n",
       "<circle clip-path=\"url(#clip6702)\" style=\"fill:#009af9; stroke:none; fill-opacity:1\" cx=\"343.231\" cy=\"238.355\" r=\"2\"/>\n",
       "<circle clip-path=\"url(#clip6702)\" style=\"fill:#000000; stroke:none; fill-opacity:1\" cx=\"349.509\" cy=\"275.338\" r=\"3\"/>\n",
       "<circle clip-path=\"url(#clip6702)\" style=\"fill:#009af9; stroke:none; fill-opacity:1\" cx=\"349.509\" cy=\"275.338\" r=\"2\"/>\n",
       "<circle clip-path=\"url(#clip6702)\" style=\"fill:#000000; stroke:none; fill-opacity:1\" cx=\"355.788\" cy=\"315.25\" r=\"3\"/>\n",
       "<circle clip-path=\"url(#clip6702)\" style=\"fill:#009af9; stroke:none; fill-opacity:1\" cx=\"355.788\" cy=\"315.25\" r=\"2\"/>\n",
       "</svg>\n"
      ]
     },
     "execution_count": 285,
     "metadata": {},
     "output_type": "execute_result"
    }
   ],
   "source": [
    "using Plots\n",
    "\n",
    "plot(dh,1,5,m=3,xaxis=(\"x\",1:0.5:5),yaxis=(\"h'(x)\",(-30,30)),axiscolor=:red,size=(400,400),legend=false)\n"
   ]
  },
  {
   "cell_type": "markdown",
   "metadata": {},
   "source": [
    "## 6\n",
    "\n",
    "Implementen el método de Newton para una función arbitraria $f(x)$ en una variable, explotando el uso de los `Dual`. \n",
    "\n",
    "- Obtengan, usando su función para el método de Newton, las raices del polinomio de Wilkinson \n",
    "\n",
    "$$\n",
    "W_{6}(x) = (x-1)(x-2)(x-3)(x-4)(x-5)(x-6),\n",
    "$$ \n",
    "\n",
    "usando como iterados iniciales $x_0=2.2$ y $x_0=2.45$.\n",
    "    \n",
    "- Hagan lo mismo que en el inciso anterior para $g(x) = x \\sin(2x)$, con $x_0=0.7$."
   ]
  },
  {
   "cell_type": "markdown",
   "metadata": {},
   "source": [
    "Para $x_0=2.2$ :"
   ]
  },
  {
   "cell_type": "code",
   "execution_count": 371,
   "metadata": {},
   "outputs": [
    {
     "data": {
      "text/plain": [
       "W (generic function with 1 method)"
      ]
     },
     "execution_count": 371,
     "metadata": {},
     "output_type": "execute_result"
    }
   ],
   "source": [
    "W(x)=(x-1)*(x-2)*(x-3)*(x-4)*(x-5)*(x-6)\n"
   ]
  },
  {
   "cell_type": "code",
   "execution_count": 374,
   "metadata": {},
   "outputs": [
    {
     "data": {
      "text/plain": [
       "3.6771840000000022"
      ]
     },
     "execution_count": 374,
     "metadata": {},
     "output_type": "execute_result"
    }
   ],
   "source": [
    "W(2.2)"
   ]
  },
  {
   "cell_type": "code",
   "execution_count": 375,
   "metadata": {},
   "outputs": [
    {
     "data": {
      "text/plain": []
     },
     "execution_count": 375,
     "metadata": {},
     "output_type": "execute_result"
    },
    {
     "name": "stdout",
     "output_type": "stream",
     "text": [
      "2.2 + 1.0ϵ"
     ]
    }
   ],
   "source": [
    "x = dual(2.2)"
   ]
  },
  {
   "cell_type": "code",
   "execution_count": 376,
   "metadata": {},
   "outputs": [
    {
     "data": {
      "text/plain": []
     },
     "execution_count": 376,
     "metadata": {},
     "output_type": "execute_result"
    },
    {
     "name": "stdout",
     "output_type": "stream",
     "text": [
      "3.6771840000000022 + 12.529919999999992ϵ"
     ]
    }
   ],
   "source": [
    "W(x)"
   ]
  },
  {
   "cell_type": "code",
   "execution_count": 377,
   "metadata": {},
   "outputs": [
    {
     "data": {
      "text/plain": [
       "newton (generic function with 3 methods)"
      ]
     },
     "execution_count": 377,
     "metadata": {},
     "output_type": "execute_result"
    }
   ],
   "source": [
    "function newton(W::Function,dW::Function,x0,iteraciones::Int)   \n",
    "   \n",
    "x=x0\n",
    "cont=1\n",
    "    while (cont < iteraciones)\n",
    "    \n",
    "        x = x0 - W.(x0)/dW.(x0)  #Se actualiza el valor de x\n",
    "        \n",
    "        x0 = x\n",
    "        cont=cont +1\n",
    "    end\n",
    "    return x\n",
    "    \n",
    "end"
   ]
  },
  {
   "cell_type": "code",
   "execution_count": null,
   "metadata": {},
   "outputs": [],
   "source": []
  },
  {
   "cell_type": "code",
   "execution_count": null,
   "metadata": {},
   "outputs": [],
   "source": []
  },
  {
   "cell_type": "markdown",
   "metadata": {},
   "source": [
    "## 7\n",
    "\n",
    "Argumenten qué podrían hacer para extender la idea de los `Dual` y calcular derivadas aún más altas. Como caso concreto, piensen en querer obtener la derivada 18 de funciones como las que hemos usado arriba"
   ]
  },
  {
   "cell_type": "markdown",
   "metadata": {},
   "source": [
    "Para extender la idea de los números Dual y poder calcular derivadas más altas se podría utilizar el método mostrado en los incisos anteriores de los números Duales para obtener la primera derivada junto con un ciclo que permitiera volver a evaluar la primera derivada en el mismo número dual, de este modo obtendríamos la segunda derivada evaluada en ese mismo punto y así sucesivamente podrían calcularse hasta la derivada del orden deseado. Ya que el ciclo nos estaría fijando el límite de la cantidad de veces que tendría que repetirse ese procedimiento. "
   ]
  },
  {
   "cell_type": "code",
   "execution_count": null,
   "metadata": {},
   "outputs": [],
   "source": []
  },
  {
   "cell_type": "markdown",
   "metadata": {},
   "source": []
  }
 ],
 "metadata": {
  "kernelspec": {
   "display_name": "Julia 0.6.4",
   "language": "julia",
   "name": "julia-0.6"
  },
  "language_info": {
   "file_extension": ".jl",
   "mimetype": "application/julia",
   "name": "julia",
   "version": "0.6.4"
  }
 },
 "nbformat": 4,
 "nbformat_minor": 2
}
