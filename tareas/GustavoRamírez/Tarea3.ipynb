{
 "cells": [
  {
   "cell_type": "markdown",
   "metadata": {},
   "source": [
    "# Tarea 1"
   ]
  },
  {
   "cell_type": "markdown",
   "metadata": {},
   "source": [
    "**Envío del PR inicial:** viernes 21 de septiembre\n",
    "\n",
    "**Aceptación del PR:** martes 25 de septiembre"
   ]
  },
  {
   "cell_type": "code",
   "execution_count": 12,
   "metadata": {},
   "outputs": [],
   "source": [
    "using PlotRecipes"
   ]
  },
  {
   "cell_type": "code",
   "execution_count": 9,
   "metadata": {},
   "outputs": [],
   "source": [
    "using Plots"
   ]
  },
  {
   "cell_type": "code",
   "execution_count": 10,
   "metadata": {},
   "outputs": [],
   "source": [
    "\n",
    "using LaTeXStrings"
   ]
  },
  {
   "cell_type": "code",
   "execution_count": 11,
   "metadata": {},
   "outputs": [
    {
     "data": {
      "text/plain": [
       "Plots.GRBackend()"
      ]
     },
     "execution_count": 11,
     "metadata": {},
     "output_type": "execute_result"
    }
   ],
   "source": [
    "\n",
    "# Esto define a `GR.jl` como el *backend* que usaremos\n",
    "# Puede tardar un poco en cargarse, especialmente la primer vez que se usa.\n",
    "gr()"
   ]
  },
  {
   "cell_type": "code",
   "execution_count": null,
   "metadata": {},
   "outputs": [],
   "source": []
  },
  {
   "cell_type": "markdown",
   "metadata": {},
   "source": [
    "## 1\n",
    "\n",
    "Consideren el mapeo $F(x) = x^2-2$ definido en el intervalo $[-2,2]$. \n",
    "\n",
    "- ¿Qué podemos concluir después de muchos iterados para las condiciones iniciales $x_0=0$, $x_0=0.1$, $x_0=0.001$?\n",
    "    \n",
    "- ¿Qué propiedad hace que el interés en este mapeo sea el intervalo [-2,2]$\n"
   ]
  },
  {
   "cell_type": "markdown",
   "metadata": {},
   "source": [
    "Para la primera parte:"
   ]
  },
  {
   "cell_type": "markdown",
   "metadata": {},
   "source": [
    "Para $x_0=0$ :"
   ]
  },
  {
   "cell_type": "code",
   "execution_count": 1,
   "metadata": {},
   "outputs": [
    {
     "data": {
      "text/plain": [
       "f (generic function with 1 method)"
      ]
     },
     "execution_count": 1,
     "metadata": {},
     "output_type": "execute_result"
    }
   ],
   "source": [
    "f(x) = x^2-2"
   ]
  },
  {
   "cell_type": "code",
   "execution_count": 74,
   "metadata": {},
   "outputs": [
    {
     "data": {
      "image/svg+xml": [
       "<?xml version=\"1.0\" encoding=\"utf-8\"?>\n",
       "<svg xmlns=\"http://www.w3.org/2000/svg\" xmlns:xlink=\"http://www.w3.org/1999/xlink\" width=\"400\" height=\"400\" viewBox=\"0 0 400 400\">\n",
       "<defs>\n",
       "  <clipPath id=\"clip8700\">\n",
       "    <rect x=\"0\" y=\"0\" width=\"400\" height=\"400\"/>\n",
       "  </clipPath>\n",
       "</defs>\n",
       "<polygon clip-path=\"url(#clip8700)\" points=\"\n",
       "0,400 400,400 400,0 0,0 \n",
       "  \" fill=\"#ffffff\" fill-opacity=\"1\"/>\n",
       "<defs>\n",
       "  <clipPath id=\"clip8701\">\n",
       "    <rect x=\"80\" y=\"40\" width=\"281\" height=\"281\"/>\n",
       "  </clipPath>\n",
       "</defs>\n",
       "<polygon clip-path=\"url(#clip8700)\" points=\"\n",
       "63.1241,355.929 380.315,355.929 380.315,11.811 63.1241,11.811 \n",
       "  \" fill=\"#ffffff\" fill-opacity=\"1\"/>\n",
       "<defs>\n",
       "  <clipPath id=\"clip8702\">\n",
       "    <rect x=\"63\" y=\"11\" width=\"318\" height=\"345\"/>\n",
       "  </clipPath>\n",
       "</defs>\n",
       "<polyline clip-path=\"url(#clip8702)\" style=\"stroke:#000000; stroke-width:0.5; stroke-opacity:0.1; fill:none\" points=\"\n",
       "  72.1012,355.929 72.1012,11.811 \n",
       "  \"/>\n",
       "<polyline clip-path=\"url(#clip8702)\" style=\"stroke:#000000; stroke-width:0.5; stroke-opacity:0.1; fill:none\" points=\"\n",
       "  109.506,355.929 109.506,11.811 \n",
       "  \"/>\n",
       "<polyline clip-path=\"url(#clip8702)\" style=\"stroke:#000000; stroke-width:0.5; stroke-opacity:0.1; fill:none\" points=\"\n",
       "  146.91,355.929 146.91,11.811 \n",
       "  \"/>\n",
       "<polyline clip-path=\"url(#clip8702)\" style=\"stroke:#000000; stroke-width:0.5; stroke-opacity:0.1; fill:none\" points=\"\n",
       "  184.315,355.929 184.315,11.811 \n",
       "  \"/>\n",
       "<polyline clip-path=\"url(#clip8702)\" style=\"stroke:#000000; stroke-width:0.5; stroke-opacity:0.1; fill:none\" points=\"\n",
       "  221.72,355.929 221.72,11.811 \n",
       "  \"/>\n",
       "<polyline clip-path=\"url(#clip8702)\" style=\"stroke:#000000; stroke-width:0.5; stroke-opacity:0.1; fill:none\" points=\"\n",
       "  259.124,355.929 259.124,11.811 \n",
       "  \"/>\n",
       "<polyline clip-path=\"url(#clip8702)\" style=\"stroke:#000000; stroke-width:0.5; stroke-opacity:0.1; fill:none\" points=\"\n",
       "  296.529,355.929 296.529,11.811 \n",
       "  \"/>\n",
       "<polyline clip-path=\"url(#clip8702)\" style=\"stroke:#000000; stroke-width:0.5; stroke-opacity:0.1; fill:none\" points=\"\n",
       "  333.933,355.929 333.933,11.811 \n",
       "  \"/>\n",
       "<polyline clip-path=\"url(#clip8702)\" style=\"stroke:#000000; stroke-width:0.5; stroke-opacity:0.1; fill:none\" points=\"\n",
       "  371.338,355.929 371.338,11.811 \n",
       "  \"/>\n",
       "<polyline clip-path=\"url(#clip8702)\" style=\"stroke:#000000; stroke-width:0.5; stroke-opacity:0.1; fill:none\" points=\"\n",
       "  63.1241,346.19 380.315,346.19 \n",
       "  \"/>\n",
       "<polyline clip-path=\"url(#clip8702)\" style=\"stroke:#000000; stroke-width:0.5; stroke-opacity:0.1; fill:none\" points=\"\n",
       "  63.1241,305.61 380.315,305.61 \n",
       "  \"/>\n",
       "<polyline clip-path=\"url(#clip8702)\" style=\"stroke:#000000; stroke-width:0.5; stroke-opacity:0.1; fill:none\" points=\"\n",
       "  63.1241,265.03 380.315,265.03 \n",
       "  \"/>\n",
       "<polyline clip-path=\"url(#clip8702)\" style=\"stroke:#000000; stroke-width:0.5; stroke-opacity:0.1; fill:none\" points=\"\n",
       "  63.1241,224.45 380.315,224.45 \n",
       "  \"/>\n",
       "<polyline clip-path=\"url(#clip8702)\" style=\"stroke:#000000; stroke-width:0.5; stroke-opacity:0.1; fill:none\" points=\"\n",
       "  63.1241,183.87 380.315,183.87 \n",
       "  \"/>\n",
       "<polyline clip-path=\"url(#clip8702)\" style=\"stroke:#000000; stroke-width:0.5; stroke-opacity:0.1; fill:none\" points=\"\n",
       "  63.1241,143.29 380.315,143.29 \n",
       "  \"/>\n",
       "<polyline clip-path=\"url(#clip8702)\" style=\"stroke:#000000; stroke-width:0.5; stroke-opacity:0.1; fill:none\" points=\"\n",
       "  63.1241,102.71 380.315,102.71 \n",
       "  \"/>\n",
       "<polyline clip-path=\"url(#clip8702)\" style=\"stroke:#000000; stroke-width:0.5; stroke-opacity:0.1; fill:none\" points=\"\n",
       "  63.1241,62.1302 380.315,62.1302 \n",
       "  \"/>\n",
       "<polyline clip-path=\"url(#clip8702)\" style=\"stroke:#000000; stroke-width:0.5; stroke-opacity:0.1; fill:none\" points=\"\n",
       "  63.1241,21.5502 380.315,21.5502 \n",
       "  \"/>\n",
       "<polyline clip-path=\"url(#clip8700)\" style=\"stroke:#ff0000; stroke-width:1; stroke-opacity:1; fill:none\" points=\"\n",
       "  63.1241,355.929 380.315,355.929 \n",
       "  \"/>\n",
       "<polyline clip-path=\"url(#clip8700)\" style=\"stroke:#ff0000; stroke-width:1; stroke-opacity:1; fill:none\" points=\"\n",
       "  63.1241,355.929 63.1241,11.811 \n",
       "  \"/>\n",
       "<polyline clip-path=\"url(#clip8700)\" style=\"stroke:#ff0000; stroke-width:1; stroke-opacity:1; fill:none\" points=\"\n",
       "  72.1012,355.929 72.1012,350.767 \n",
       "  \"/>\n",
       "<polyline clip-path=\"url(#clip8700)\" style=\"stroke:#ff0000; stroke-width:1; stroke-opacity:1; fill:none\" points=\"\n",
       "  109.506,355.929 109.506,350.767 \n",
       "  \"/>\n",
       "<polyline clip-path=\"url(#clip8700)\" style=\"stroke:#ff0000; stroke-width:1; stroke-opacity:1; fill:none\" points=\"\n",
       "  146.91,355.929 146.91,350.767 \n",
       "  \"/>\n",
       "<polyline clip-path=\"url(#clip8700)\" style=\"stroke:#ff0000; stroke-width:1; stroke-opacity:1; fill:none\" points=\"\n",
       "  184.315,355.929 184.315,350.767 \n",
       "  \"/>\n",
       "<polyline clip-path=\"url(#clip8700)\" style=\"stroke:#ff0000; stroke-width:1; stroke-opacity:1; fill:none\" points=\"\n",
       "  221.72,355.929 221.72,350.767 \n",
       "  \"/>\n",
       "<polyline clip-path=\"url(#clip8700)\" style=\"stroke:#ff0000; stroke-width:1; stroke-opacity:1; fill:none\" points=\"\n",
       "  259.124,355.929 259.124,350.767 \n",
       "  \"/>\n",
       "<polyline clip-path=\"url(#clip8700)\" style=\"stroke:#ff0000; stroke-width:1; stroke-opacity:1; fill:none\" points=\"\n",
       "  296.529,355.929 296.529,350.767 \n",
       "  \"/>\n",
       "<polyline clip-path=\"url(#clip8700)\" style=\"stroke:#ff0000; stroke-width:1; stroke-opacity:1; fill:none\" points=\"\n",
       "  333.933,355.929 333.933,350.767 \n",
       "  \"/>\n",
       "<polyline clip-path=\"url(#clip8700)\" style=\"stroke:#ff0000; stroke-width:1; stroke-opacity:1; fill:none\" points=\"\n",
       "  371.338,355.929 371.338,350.767 \n",
       "  \"/>\n",
       "<polyline clip-path=\"url(#clip8700)\" style=\"stroke:#ff0000; stroke-width:1; stroke-opacity:1; fill:none\" points=\"\n",
       "  63.1241,346.19 67.8819,346.19 \n",
       "  \"/>\n",
       "<polyline clip-path=\"url(#clip8700)\" style=\"stroke:#ff0000; stroke-width:1; stroke-opacity:1; fill:none\" points=\"\n",
       "  63.1241,305.61 67.8819,305.61 \n",
       "  \"/>\n",
       "<polyline clip-path=\"url(#clip8700)\" style=\"stroke:#ff0000; stroke-width:1; stroke-opacity:1; fill:none\" points=\"\n",
       "  63.1241,265.03 67.8819,265.03 \n",
       "  \"/>\n",
       "<polyline clip-path=\"url(#clip8700)\" style=\"stroke:#ff0000; stroke-width:1; stroke-opacity:1; fill:none\" points=\"\n",
       "  63.1241,224.45 67.8819,224.45 \n",
       "  \"/>\n",
       "<polyline clip-path=\"url(#clip8700)\" style=\"stroke:#ff0000; stroke-width:1; stroke-opacity:1; fill:none\" points=\"\n",
       "  63.1241,183.87 67.8819,183.87 \n",
       "  \"/>\n",
       "<polyline clip-path=\"url(#clip8700)\" style=\"stroke:#ff0000; stroke-width:1; stroke-opacity:1; fill:none\" points=\"\n",
       "  63.1241,143.29 67.8819,143.29 \n",
       "  \"/>\n",
       "<polyline clip-path=\"url(#clip8700)\" style=\"stroke:#ff0000; stroke-width:1; stroke-opacity:1; fill:none\" points=\"\n",
       "  63.1241,102.71 67.8819,102.71 \n",
       "  \"/>\n",
       "<polyline clip-path=\"url(#clip8700)\" style=\"stroke:#ff0000; stroke-width:1; stroke-opacity:1; fill:none\" points=\"\n",
       "  63.1241,62.1302 67.8819,62.1302 \n",
       "  \"/>\n",
       "<polyline clip-path=\"url(#clip8700)\" style=\"stroke:#ff0000; stroke-width:1; stroke-opacity:1; fill:none\" points=\"\n",
       "  63.1241,21.5502 67.8819,21.5502 \n",
       "  \"/>\n",
       "<g clip-path=\"url(#clip8700)\">\n",
       "<text style=\"fill:#000000; fill-opacity:1; font-family:Arial,Helvetica Neue,Helvetica,sans-serif; font-size:12; text-anchor:middle;\" transform=\"rotate(0, 72.1012, 368.729)\" x=\"72.1012\" y=\"368.729\">-2.0</text>\n",
       "</g>\n",
       "<g clip-path=\"url(#clip8700)\">\n",
       "<text style=\"fill:#000000; fill-opacity:1; font-family:Arial,Helvetica Neue,Helvetica,sans-serif; font-size:12; text-anchor:middle;\" transform=\"rotate(0, 109.506, 368.729)\" x=\"109.506\" y=\"368.729\">-1.5</text>\n",
       "</g>\n",
       "<g clip-path=\"url(#clip8700)\">\n",
       "<text style=\"fill:#000000; fill-opacity:1; font-family:Arial,Helvetica Neue,Helvetica,sans-serif; font-size:12; text-anchor:middle;\" transform=\"rotate(0, 146.91, 368.729)\" x=\"146.91\" y=\"368.729\">-1.0</text>\n",
       "</g>\n",
       "<g clip-path=\"url(#clip8700)\">\n",
       "<text style=\"fill:#000000; fill-opacity:1; font-family:Arial,Helvetica Neue,Helvetica,sans-serif; font-size:12; text-anchor:middle;\" transform=\"rotate(0, 184.315, 368.729)\" x=\"184.315\" y=\"368.729\">-0.5</text>\n",
       "</g>\n",
       "<g clip-path=\"url(#clip8700)\">\n",
       "<text style=\"fill:#000000; fill-opacity:1; font-family:Arial,Helvetica Neue,Helvetica,sans-serif; font-size:12; text-anchor:middle;\" transform=\"rotate(0, 221.72, 368.729)\" x=\"221.72\" y=\"368.729\">0.0</text>\n",
       "</g>\n",
       "<g clip-path=\"url(#clip8700)\">\n",
       "<text style=\"fill:#000000; fill-opacity:1; font-family:Arial,Helvetica Neue,Helvetica,sans-serif; font-size:12; text-anchor:middle;\" transform=\"rotate(0, 259.124, 368.729)\" x=\"259.124\" y=\"368.729\">0.5</text>\n",
       "</g>\n",
       "<g clip-path=\"url(#clip8700)\">\n",
       "<text style=\"fill:#000000; fill-opacity:1; font-family:Arial,Helvetica Neue,Helvetica,sans-serif; font-size:12; text-anchor:middle;\" transform=\"rotate(0, 296.529, 368.729)\" x=\"296.529\" y=\"368.729\">1.0</text>\n",
       "</g>\n",
       "<g clip-path=\"url(#clip8700)\">\n",
       "<text style=\"fill:#000000; fill-opacity:1; font-family:Arial,Helvetica Neue,Helvetica,sans-serif; font-size:12; text-anchor:middle;\" transform=\"rotate(0, 333.933, 368.729)\" x=\"333.933\" y=\"368.729\">1.5</text>\n",
       "</g>\n",
       "<g clip-path=\"url(#clip8700)\">\n",
       "<text style=\"fill:#000000; fill-opacity:1; font-family:Arial,Helvetica Neue,Helvetica,sans-serif; font-size:12; text-anchor:middle;\" transform=\"rotate(0, 371.338, 368.729)\" x=\"371.338\" y=\"368.729\">2.0</text>\n",
       "</g>\n",
       "<g clip-path=\"url(#clip8700)\">\n",
       "<text style=\"fill:#000000; fill-opacity:1; font-family:Arial,Helvetica Neue,Helvetica,sans-serif; font-size:12; text-anchor:end;\" transform=\"rotate(0, 59.1241, 350.69)\" x=\"59.1241\" y=\"350.69\">-2.0</text>\n",
       "</g>\n",
       "<g clip-path=\"url(#clip8700)\">\n",
       "<text style=\"fill:#000000; fill-opacity:1; font-family:Arial,Helvetica Neue,Helvetica,sans-serif; font-size:12; text-anchor:end;\" transform=\"rotate(0, 59.1241, 310.11)\" x=\"59.1241\" y=\"310.11\">-1.5</text>\n",
       "</g>\n",
       "<g clip-path=\"url(#clip8700)\">\n",
       "<text style=\"fill:#000000; fill-opacity:1; font-family:Arial,Helvetica Neue,Helvetica,sans-serif; font-size:12; text-anchor:end;\" transform=\"rotate(0, 59.1241, 269.53)\" x=\"59.1241\" y=\"269.53\">-1.0</text>\n",
       "</g>\n",
       "<g clip-path=\"url(#clip8700)\">\n",
       "<text style=\"fill:#000000; fill-opacity:1; font-family:Arial,Helvetica Neue,Helvetica,sans-serif; font-size:12; text-anchor:end;\" transform=\"rotate(0, 59.1241, 228.95)\" x=\"59.1241\" y=\"228.95\">-0.5</text>\n",
       "</g>\n",
       "<g clip-path=\"url(#clip8700)\">\n",
       "<text style=\"fill:#000000; fill-opacity:1; font-family:Arial,Helvetica Neue,Helvetica,sans-serif; font-size:12; text-anchor:end;\" transform=\"rotate(0, 59.1241, 188.37)\" x=\"59.1241\" y=\"188.37\">0.0</text>\n",
       "</g>\n",
       "<g clip-path=\"url(#clip8700)\">\n",
       "<text style=\"fill:#000000; fill-opacity:1; font-family:Arial,Helvetica Neue,Helvetica,sans-serif; font-size:12; text-anchor:end;\" transform=\"rotate(0, 59.1241, 147.79)\" x=\"59.1241\" y=\"147.79\">0.5</text>\n",
       "</g>\n",
       "<g clip-path=\"url(#clip8700)\">\n",
       "<text style=\"fill:#000000; fill-opacity:1; font-family:Arial,Helvetica Neue,Helvetica,sans-serif; font-size:12; text-anchor:end;\" transform=\"rotate(0, 59.1241, 107.21)\" x=\"59.1241\" y=\"107.21\">1.0</text>\n",
       "</g>\n",
       "<g clip-path=\"url(#clip8700)\">\n",
       "<text style=\"fill:#000000; fill-opacity:1; font-family:Arial,Helvetica Neue,Helvetica,sans-serif; font-size:12; text-anchor:end;\" transform=\"rotate(0, 59.1241, 66.6302)\" x=\"59.1241\" y=\"66.6302\">1.5</text>\n",
       "</g>\n",
       "<g clip-path=\"url(#clip8700)\">\n",
       "<text style=\"fill:#000000; fill-opacity:1; font-family:Arial,Helvetica Neue,Helvetica,sans-serif; font-size:12; text-anchor:end;\" transform=\"rotate(0, 59.1241, 26.0502)\" x=\"59.1241\" y=\"26.0502\">2.0</text>\n",
       "</g>\n",
       "<g clip-path=\"url(#clip8700)\">\n",
       "<text style=\"fill:#000000; fill-opacity:1; font-family:Arial,Helvetica Neue,Helvetica,sans-serif; font-size:16; text-anchor:middle;\" transform=\"rotate(0, 221.72, 397.6)\" x=\"221.72\" y=\"397.6\">x</text>\n",
       "</g>\n",
       "<g clip-path=\"url(#clip8700)\">\n",
       "<image width=\"16\" height=\"33\" xlink:href=\"data:image/png;base64,\n",
       "iVBORw0KGgoAAAANSUhEUgAAABAAAAAhCAYAAADQ1StpAAABA0lEQVRIic1VyxWDIBDcSSnaAbai\n",
       "NdiBvdCCJWgLlmANWMLkEDWIgBBzcN7bg7jM/gYQkhKyeZ7ZdR2naWLIByTFBoDjggckYX/ISsK+\n",
       "74ORbDPG8LN1zQAAD6yJAMBTCbl43dodI0hpZpAg1BMfaXYPXPJoCQDYtm08gm/OwzDQ1odtrq+X\n",
       "oK5rr6B8QguqLaRKN4uoZE/OIlRKHdYeosRU1bkoy/J7mHJP5Oa/l0AS4zhyE5DW+pCV1nr/1zTN\n",
       "N1hsCkopigiLoki/0nLxv/vg10k8qAQXAFhV1WV6DyphUxkALssSTMudVtLbaJ8R98xc9uCK8LIH\n",
       "JLGZMeYc4O678Aactbhs3lnCmgAAAABJRU5ErkJggg==\n",
       "\" transform=\"translate(0, 168)\"/>\n",
       "</g>\n",
       "<polyline clip-path=\"url(#clip8702)\" style=\"stroke:#009af9; stroke-width:1; stroke-opacity:1; fill:none\" points=\"\n",
       "  72.1012,21.5502 75.8416,37.5793 79.5821,53.2026 83.3225,68.4201 87.063,83.2317 90.8035,97.6376 94.5439,111.638 98.2844,125.232 102.025,138.42 105.765,151.203 \n",
       "  109.506,163.58 113.246,175.551 116.987,187.116 120.727,198.276 124.468,209.03 128.208,219.377 131.949,229.32 135.689,238.856 139.429,247.986 143.17,256.711 \n",
       "  146.91,265.03 150.651,272.943 154.391,280.45 158.132,287.552 161.872,294.247 165.613,300.537 169.353,306.421 173.094,311.9 176.834,316.972 180.574,321.639 \n",
       "  184.315,325.9 188.055,329.755 191.796,333.204 195.536,336.248 199.277,338.885 203.017,341.117 206.758,342.943 210.498,344.364 214.239,345.378 217.979,345.987 \n",
       "  221.72,346.19 225.46,345.987 229.2,345.378 232.941,344.364 236.681,342.943 240.422,341.117 244.162,338.885 247.903,336.248 251.643,333.204 255.384,329.755 \n",
       "  259.124,325.9 262.865,321.639 266.605,316.972 270.345,311.9 274.086,306.421 277.826,300.537 281.567,294.247 285.307,287.552 289.048,280.45 292.788,272.943 \n",
       "  296.529,265.03 300.269,256.711 304.01,247.986 307.75,238.856 311.491,229.32 315.231,219.377 318.971,209.03 322.712,198.276 326.452,187.116 330.193,175.551 \n",
       "  333.933,163.58 337.674,151.203 341.414,138.42 345.155,125.232 348.895,111.638 352.636,97.6376 356.376,83.2317 360.116,68.4201 363.857,53.2026 367.597,37.5793 \n",
       "  371.338,21.5502 \n",
       "  \"/>\n",
       "<circle clip-path=\"url(#clip8702)\" style=\"fill:#000000; stroke:none; fill-opacity:1\" cx=\"72.1012\" cy=\"21.5502\" r=\"2\"/>\n",
       "<circle clip-path=\"url(#clip8702)\" style=\"fill:#009af9; stroke:none; fill-opacity:1\" cx=\"72.1012\" cy=\"21.5502\" r=\"1\"/>\n",
       "<circle clip-path=\"url(#clip8702)\" style=\"fill:#000000; stroke:none; fill-opacity:1\" cx=\"75.8416\" cy=\"37.5793\" r=\"2\"/>\n",
       "<circle clip-path=\"url(#clip8702)\" style=\"fill:#009af9; stroke:none; fill-opacity:1\" cx=\"75.8416\" cy=\"37.5793\" r=\"1\"/>\n",
       "<circle clip-path=\"url(#clip8702)\" style=\"fill:#000000; stroke:none; fill-opacity:1\" cx=\"79.5821\" cy=\"53.2026\" r=\"2\"/>\n",
       "<circle clip-path=\"url(#clip8702)\" style=\"fill:#009af9; stroke:none; fill-opacity:1\" cx=\"79.5821\" cy=\"53.2026\" r=\"1\"/>\n",
       "<circle clip-path=\"url(#clip8702)\" style=\"fill:#000000; stroke:none; fill-opacity:1\" cx=\"83.3225\" cy=\"68.4201\" r=\"2\"/>\n",
       "<circle clip-path=\"url(#clip8702)\" style=\"fill:#009af9; stroke:none; fill-opacity:1\" cx=\"83.3225\" cy=\"68.4201\" r=\"1\"/>\n",
       "<circle clip-path=\"url(#clip8702)\" style=\"fill:#000000; stroke:none; fill-opacity:1\" cx=\"87.063\" cy=\"83.2317\" r=\"2\"/>\n",
       "<circle clip-path=\"url(#clip8702)\" style=\"fill:#009af9; stroke:none; fill-opacity:1\" cx=\"87.063\" cy=\"83.2317\" r=\"1\"/>\n",
       "<circle clip-path=\"url(#clip8702)\" style=\"fill:#000000; stroke:none; fill-opacity:1\" cx=\"90.8035\" cy=\"97.6376\" r=\"2\"/>\n",
       "<circle clip-path=\"url(#clip8702)\" style=\"fill:#009af9; stroke:none; fill-opacity:1\" cx=\"90.8035\" cy=\"97.6376\" r=\"1\"/>\n",
       "<circle clip-path=\"url(#clip8702)\" style=\"fill:#000000; stroke:none; fill-opacity:1\" cx=\"94.5439\" cy=\"111.638\" r=\"2\"/>\n",
       "<circle clip-path=\"url(#clip8702)\" style=\"fill:#009af9; stroke:none; fill-opacity:1\" cx=\"94.5439\" cy=\"111.638\" r=\"1\"/>\n",
       "<circle clip-path=\"url(#clip8702)\" style=\"fill:#000000; stroke:none; fill-opacity:1\" cx=\"98.2844\" cy=\"125.232\" r=\"2\"/>\n",
       "<circle clip-path=\"url(#clip8702)\" style=\"fill:#009af9; stroke:none; fill-opacity:1\" cx=\"98.2844\" cy=\"125.232\" r=\"1\"/>\n",
       "<circle clip-path=\"url(#clip8702)\" style=\"fill:#000000; stroke:none; fill-opacity:1\" cx=\"102.025\" cy=\"138.42\" r=\"2\"/>\n",
       "<circle clip-path=\"url(#clip8702)\" style=\"fill:#009af9; stroke:none; fill-opacity:1\" cx=\"102.025\" cy=\"138.42\" r=\"1\"/>\n",
       "<circle clip-path=\"url(#clip8702)\" style=\"fill:#000000; stroke:none; fill-opacity:1\" cx=\"105.765\" cy=\"151.203\" r=\"2\"/>\n",
       "<circle clip-path=\"url(#clip8702)\" style=\"fill:#009af9; stroke:none; fill-opacity:1\" cx=\"105.765\" cy=\"151.203\" r=\"1\"/>\n",
       "<circle clip-path=\"url(#clip8702)\" style=\"fill:#000000; stroke:none; fill-opacity:1\" cx=\"109.506\" cy=\"163.58\" r=\"2\"/>\n",
       "<circle clip-path=\"url(#clip8702)\" style=\"fill:#009af9; stroke:none; fill-opacity:1\" cx=\"109.506\" cy=\"163.58\" r=\"1\"/>\n",
       "<circle clip-path=\"url(#clip8702)\" style=\"fill:#000000; stroke:none; fill-opacity:1\" cx=\"113.246\" cy=\"175.551\" r=\"2\"/>\n",
       "<circle clip-path=\"url(#clip8702)\" style=\"fill:#009af9; stroke:none; fill-opacity:1\" cx=\"113.246\" cy=\"175.551\" r=\"1\"/>\n",
       "<circle clip-path=\"url(#clip8702)\" style=\"fill:#000000; stroke:none; fill-opacity:1\" cx=\"116.987\" cy=\"187.116\" r=\"2\"/>\n",
       "<circle clip-path=\"url(#clip8702)\" style=\"fill:#009af9; stroke:none; fill-opacity:1\" cx=\"116.987\" cy=\"187.116\" r=\"1\"/>\n",
       "<circle clip-path=\"url(#clip8702)\" style=\"fill:#000000; stroke:none; fill-opacity:1\" cx=\"120.727\" cy=\"198.276\" r=\"2\"/>\n",
       "<circle clip-path=\"url(#clip8702)\" style=\"fill:#009af9; stroke:none; fill-opacity:1\" cx=\"120.727\" cy=\"198.276\" r=\"1\"/>\n",
       "<circle clip-path=\"url(#clip8702)\" style=\"fill:#000000; stroke:none; fill-opacity:1\" cx=\"124.468\" cy=\"209.03\" r=\"2\"/>\n",
       "<circle clip-path=\"url(#clip8702)\" style=\"fill:#009af9; stroke:none; fill-opacity:1\" cx=\"124.468\" cy=\"209.03\" r=\"1\"/>\n",
       "<circle clip-path=\"url(#clip8702)\" style=\"fill:#000000; stroke:none; fill-opacity:1\" cx=\"128.208\" cy=\"219.377\" r=\"2\"/>\n",
       "<circle clip-path=\"url(#clip8702)\" style=\"fill:#009af9; stroke:none; fill-opacity:1\" cx=\"128.208\" cy=\"219.377\" r=\"1\"/>\n",
       "<circle clip-path=\"url(#clip8702)\" style=\"fill:#000000; stroke:none; fill-opacity:1\" cx=\"131.949\" cy=\"229.32\" r=\"2\"/>\n",
       "<circle clip-path=\"url(#clip8702)\" style=\"fill:#009af9; stroke:none; fill-opacity:1\" cx=\"131.949\" cy=\"229.32\" r=\"1\"/>\n",
       "<circle clip-path=\"url(#clip8702)\" style=\"fill:#000000; stroke:none; fill-opacity:1\" cx=\"135.689\" cy=\"238.856\" r=\"2\"/>\n",
       "<circle clip-path=\"url(#clip8702)\" style=\"fill:#009af9; stroke:none; fill-opacity:1\" cx=\"135.689\" cy=\"238.856\" r=\"1\"/>\n",
       "<circle clip-path=\"url(#clip8702)\" style=\"fill:#000000; stroke:none; fill-opacity:1\" cx=\"139.429\" cy=\"247.986\" r=\"2\"/>\n",
       "<circle clip-path=\"url(#clip8702)\" style=\"fill:#009af9; stroke:none; fill-opacity:1\" cx=\"139.429\" cy=\"247.986\" r=\"1\"/>\n",
       "<circle clip-path=\"url(#clip8702)\" style=\"fill:#000000; stroke:none; fill-opacity:1\" cx=\"143.17\" cy=\"256.711\" r=\"2\"/>\n",
       "<circle clip-path=\"url(#clip8702)\" style=\"fill:#009af9; stroke:none; fill-opacity:1\" cx=\"143.17\" cy=\"256.711\" r=\"1\"/>\n",
       "<circle clip-path=\"url(#clip8702)\" style=\"fill:#000000; stroke:none; fill-opacity:1\" cx=\"146.91\" cy=\"265.03\" r=\"2\"/>\n",
       "<circle clip-path=\"url(#clip8702)\" style=\"fill:#009af9; stroke:none; fill-opacity:1\" cx=\"146.91\" cy=\"265.03\" r=\"1\"/>\n",
       "<circle clip-path=\"url(#clip8702)\" style=\"fill:#000000; stroke:none; fill-opacity:1\" cx=\"150.651\" cy=\"272.943\" r=\"2\"/>\n",
       "<circle clip-path=\"url(#clip8702)\" style=\"fill:#009af9; stroke:none; fill-opacity:1\" cx=\"150.651\" cy=\"272.943\" r=\"1\"/>\n",
       "<circle clip-path=\"url(#clip8702)\" style=\"fill:#000000; stroke:none; fill-opacity:1\" cx=\"154.391\" cy=\"280.45\" r=\"2\"/>\n",
       "<circle clip-path=\"url(#clip8702)\" style=\"fill:#009af9; stroke:none; fill-opacity:1\" cx=\"154.391\" cy=\"280.45\" r=\"1\"/>\n",
       "<circle clip-path=\"url(#clip8702)\" style=\"fill:#000000; stroke:none; fill-opacity:1\" cx=\"158.132\" cy=\"287.552\" r=\"2\"/>\n",
       "<circle clip-path=\"url(#clip8702)\" style=\"fill:#009af9; stroke:none; fill-opacity:1\" cx=\"158.132\" cy=\"287.552\" r=\"1\"/>\n",
       "<circle clip-path=\"url(#clip8702)\" style=\"fill:#000000; stroke:none; fill-opacity:1\" cx=\"161.872\" cy=\"294.247\" r=\"2\"/>\n",
       "<circle clip-path=\"url(#clip8702)\" style=\"fill:#009af9; stroke:none; fill-opacity:1\" cx=\"161.872\" cy=\"294.247\" r=\"1\"/>\n",
       "<circle clip-path=\"url(#clip8702)\" style=\"fill:#000000; stroke:none; fill-opacity:1\" cx=\"165.613\" cy=\"300.537\" r=\"2\"/>\n",
       "<circle clip-path=\"url(#clip8702)\" style=\"fill:#009af9; stroke:none; fill-opacity:1\" cx=\"165.613\" cy=\"300.537\" r=\"1\"/>\n",
       "<circle clip-path=\"url(#clip8702)\" style=\"fill:#000000; stroke:none; fill-opacity:1\" cx=\"169.353\" cy=\"306.421\" r=\"2\"/>\n",
       "<circle clip-path=\"url(#clip8702)\" style=\"fill:#009af9; stroke:none; fill-opacity:1\" cx=\"169.353\" cy=\"306.421\" r=\"1\"/>\n",
       "<circle clip-path=\"url(#clip8702)\" style=\"fill:#000000; stroke:none; fill-opacity:1\" cx=\"173.094\" cy=\"311.9\" r=\"2\"/>\n",
       "<circle clip-path=\"url(#clip8702)\" style=\"fill:#009af9; stroke:none; fill-opacity:1\" cx=\"173.094\" cy=\"311.9\" r=\"1\"/>\n",
       "<circle clip-path=\"url(#clip8702)\" style=\"fill:#000000; stroke:none; fill-opacity:1\" cx=\"176.834\" cy=\"316.972\" r=\"2\"/>\n",
       "<circle clip-path=\"url(#clip8702)\" style=\"fill:#009af9; stroke:none; fill-opacity:1\" cx=\"176.834\" cy=\"316.972\" r=\"1\"/>\n",
       "<circle clip-path=\"url(#clip8702)\" style=\"fill:#000000; stroke:none; fill-opacity:1\" cx=\"180.574\" cy=\"321.639\" r=\"2\"/>\n",
       "<circle clip-path=\"url(#clip8702)\" style=\"fill:#009af9; stroke:none; fill-opacity:1\" cx=\"180.574\" cy=\"321.639\" r=\"1\"/>\n",
       "<circle clip-path=\"url(#clip8702)\" style=\"fill:#000000; stroke:none; fill-opacity:1\" cx=\"184.315\" cy=\"325.9\" r=\"2\"/>\n",
       "<circle clip-path=\"url(#clip8702)\" style=\"fill:#009af9; stroke:none; fill-opacity:1\" cx=\"184.315\" cy=\"325.9\" r=\"1\"/>\n",
       "<circle clip-path=\"url(#clip8702)\" style=\"fill:#000000; stroke:none; fill-opacity:1\" cx=\"188.055\" cy=\"329.755\" r=\"2\"/>\n",
       "<circle clip-path=\"url(#clip8702)\" style=\"fill:#009af9; stroke:none; fill-opacity:1\" cx=\"188.055\" cy=\"329.755\" r=\"1\"/>\n",
       "<circle clip-path=\"url(#clip8702)\" style=\"fill:#000000; stroke:none; fill-opacity:1\" cx=\"191.796\" cy=\"333.204\" r=\"2\"/>\n",
       "<circle clip-path=\"url(#clip8702)\" style=\"fill:#009af9; stroke:none; fill-opacity:1\" cx=\"191.796\" cy=\"333.204\" r=\"1\"/>\n",
       "<circle clip-path=\"url(#clip8702)\" style=\"fill:#000000; stroke:none; fill-opacity:1\" cx=\"195.536\" cy=\"336.248\" r=\"2\"/>\n",
       "<circle clip-path=\"url(#clip8702)\" style=\"fill:#009af9; stroke:none; fill-opacity:1\" cx=\"195.536\" cy=\"336.248\" r=\"1\"/>\n",
       "<circle clip-path=\"url(#clip8702)\" style=\"fill:#000000; stroke:none; fill-opacity:1\" cx=\"199.277\" cy=\"338.885\" r=\"2\"/>\n",
       "<circle clip-path=\"url(#clip8702)\" style=\"fill:#009af9; stroke:none; fill-opacity:1\" cx=\"199.277\" cy=\"338.885\" r=\"1\"/>\n",
       "<circle clip-path=\"url(#clip8702)\" style=\"fill:#000000; stroke:none; fill-opacity:1\" cx=\"203.017\" cy=\"341.117\" r=\"2\"/>\n",
       "<circle clip-path=\"url(#clip8702)\" style=\"fill:#009af9; stroke:none; fill-opacity:1\" cx=\"203.017\" cy=\"341.117\" r=\"1\"/>\n",
       "<circle clip-path=\"url(#clip8702)\" style=\"fill:#000000; stroke:none; fill-opacity:1\" cx=\"206.758\" cy=\"342.943\" r=\"2\"/>\n",
       "<circle clip-path=\"url(#clip8702)\" style=\"fill:#009af9; stroke:none; fill-opacity:1\" cx=\"206.758\" cy=\"342.943\" r=\"1\"/>\n",
       "<circle clip-path=\"url(#clip8702)\" style=\"fill:#000000; stroke:none; fill-opacity:1\" cx=\"210.498\" cy=\"344.364\" r=\"2\"/>\n",
       "<circle clip-path=\"url(#clip8702)\" style=\"fill:#009af9; stroke:none; fill-opacity:1\" cx=\"210.498\" cy=\"344.364\" r=\"1\"/>\n",
       "<circle clip-path=\"url(#clip8702)\" style=\"fill:#000000; stroke:none; fill-opacity:1\" cx=\"214.239\" cy=\"345.378\" r=\"2\"/>\n",
       "<circle clip-path=\"url(#clip8702)\" style=\"fill:#009af9; stroke:none; fill-opacity:1\" cx=\"214.239\" cy=\"345.378\" r=\"1\"/>\n",
       "<circle clip-path=\"url(#clip8702)\" style=\"fill:#000000; stroke:none; fill-opacity:1\" cx=\"217.979\" cy=\"345.987\" r=\"2\"/>\n",
       "<circle clip-path=\"url(#clip8702)\" style=\"fill:#009af9; stroke:none; fill-opacity:1\" cx=\"217.979\" cy=\"345.987\" r=\"1\"/>\n",
       "<circle clip-path=\"url(#clip8702)\" style=\"fill:#000000; stroke:none; fill-opacity:1\" cx=\"221.72\" cy=\"346.19\" r=\"2\"/>\n",
       "<circle clip-path=\"url(#clip8702)\" style=\"fill:#009af9; stroke:none; fill-opacity:1\" cx=\"221.72\" cy=\"346.19\" r=\"1\"/>\n",
       "<circle clip-path=\"url(#clip8702)\" style=\"fill:#000000; stroke:none; fill-opacity:1\" cx=\"225.46\" cy=\"345.987\" r=\"2\"/>\n",
       "<circle clip-path=\"url(#clip8702)\" style=\"fill:#009af9; stroke:none; fill-opacity:1\" cx=\"225.46\" cy=\"345.987\" r=\"1\"/>\n",
       "<circle clip-path=\"url(#clip8702)\" style=\"fill:#000000; stroke:none; fill-opacity:1\" cx=\"229.2\" cy=\"345.378\" r=\"2\"/>\n",
       "<circle clip-path=\"url(#clip8702)\" style=\"fill:#009af9; stroke:none; fill-opacity:1\" cx=\"229.2\" cy=\"345.378\" r=\"1\"/>\n",
       "<circle clip-path=\"url(#clip8702)\" style=\"fill:#000000; stroke:none; fill-opacity:1\" cx=\"232.941\" cy=\"344.364\" r=\"2\"/>\n",
       "<circle clip-path=\"url(#clip8702)\" style=\"fill:#009af9; stroke:none; fill-opacity:1\" cx=\"232.941\" cy=\"344.364\" r=\"1\"/>\n",
       "<circle clip-path=\"url(#clip8702)\" style=\"fill:#000000; stroke:none; fill-opacity:1\" cx=\"236.681\" cy=\"342.943\" r=\"2\"/>\n",
       "<circle clip-path=\"url(#clip8702)\" style=\"fill:#009af9; stroke:none; fill-opacity:1\" cx=\"236.681\" cy=\"342.943\" r=\"1\"/>\n",
       "<circle clip-path=\"url(#clip8702)\" style=\"fill:#000000; stroke:none; fill-opacity:1\" cx=\"240.422\" cy=\"341.117\" r=\"2\"/>\n",
       "<circle clip-path=\"url(#clip8702)\" style=\"fill:#009af9; stroke:none; fill-opacity:1\" cx=\"240.422\" cy=\"341.117\" r=\"1\"/>\n",
       "<circle clip-path=\"url(#clip8702)\" style=\"fill:#000000; stroke:none; fill-opacity:1\" cx=\"244.162\" cy=\"338.885\" r=\"2\"/>\n",
       "<circle clip-path=\"url(#clip8702)\" style=\"fill:#009af9; stroke:none; fill-opacity:1\" cx=\"244.162\" cy=\"338.885\" r=\"1\"/>\n",
       "<circle clip-path=\"url(#clip8702)\" style=\"fill:#000000; stroke:none; fill-opacity:1\" cx=\"247.903\" cy=\"336.248\" r=\"2\"/>\n",
       "<circle clip-path=\"url(#clip8702)\" style=\"fill:#009af9; stroke:none; fill-opacity:1\" cx=\"247.903\" cy=\"336.248\" r=\"1\"/>\n",
       "<circle clip-path=\"url(#clip8702)\" style=\"fill:#000000; stroke:none; fill-opacity:1\" cx=\"251.643\" cy=\"333.204\" r=\"2\"/>\n",
       "<circle clip-path=\"url(#clip8702)\" style=\"fill:#009af9; stroke:none; fill-opacity:1\" cx=\"251.643\" cy=\"333.204\" r=\"1\"/>\n",
       "<circle clip-path=\"url(#clip8702)\" style=\"fill:#000000; stroke:none; fill-opacity:1\" cx=\"255.384\" cy=\"329.755\" r=\"2\"/>\n",
       "<circle clip-path=\"url(#clip8702)\" style=\"fill:#009af9; stroke:none; fill-opacity:1\" cx=\"255.384\" cy=\"329.755\" r=\"1\"/>\n",
       "<circle clip-path=\"url(#clip8702)\" style=\"fill:#000000; stroke:none; fill-opacity:1\" cx=\"259.124\" cy=\"325.9\" r=\"2\"/>\n",
       "<circle clip-path=\"url(#clip8702)\" style=\"fill:#009af9; stroke:none; fill-opacity:1\" cx=\"259.124\" cy=\"325.9\" r=\"1\"/>\n",
       "<circle clip-path=\"url(#clip8702)\" style=\"fill:#000000; stroke:none; fill-opacity:1\" cx=\"262.865\" cy=\"321.639\" r=\"2\"/>\n",
       "<circle clip-path=\"url(#clip8702)\" style=\"fill:#009af9; stroke:none; fill-opacity:1\" cx=\"262.865\" cy=\"321.639\" r=\"1\"/>\n",
       "<circle clip-path=\"url(#clip8702)\" style=\"fill:#000000; stroke:none; fill-opacity:1\" cx=\"266.605\" cy=\"316.972\" r=\"2\"/>\n",
       "<circle clip-path=\"url(#clip8702)\" style=\"fill:#009af9; stroke:none; fill-opacity:1\" cx=\"266.605\" cy=\"316.972\" r=\"1\"/>\n",
       "<circle clip-path=\"url(#clip8702)\" style=\"fill:#000000; stroke:none; fill-opacity:1\" cx=\"270.345\" cy=\"311.9\" r=\"2\"/>\n",
       "<circle clip-path=\"url(#clip8702)\" style=\"fill:#009af9; stroke:none; fill-opacity:1\" cx=\"270.345\" cy=\"311.9\" r=\"1\"/>\n",
       "<circle clip-path=\"url(#clip8702)\" style=\"fill:#000000; stroke:none; fill-opacity:1\" cx=\"274.086\" cy=\"306.421\" r=\"2\"/>\n",
       "<circle clip-path=\"url(#clip8702)\" style=\"fill:#009af9; stroke:none; fill-opacity:1\" cx=\"274.086\" cy=\"306.421\" r=\"1\"/>\n",
       "<circle clip-path=\"url(#clip8702)\" style=\"fill:#000000; stroke:none; fill-opacity:1\" cx=\"277.826\" cy=\"300.537\" r=\"2\"/>\n",
       "<circle clip-path=\"url(#clip8702)\" style=\"fill:#009af9; stroke:none; fill-opacity:1\" cx=\"277.826\" cy=\"300.537\" r=\"1\"/>\n",
       "<circle clip-path=\"url(#clip8702)\" style=\"fill:#000000; stroke:none; fill-opacity:1\" cx=\"281.567\" cy=\"294.247\" r=\"2\"/>\n",
       "<circle clip-path=\"url(#clip8702)\" style=\"fill:#009af9; stroke:none; fill-opacity:1\" cx=\"281.567\" cy=\"294.247\" r=\"1\"/>\n",
       "<circle clip-path=\"url(#clip8702)\" style=\"fill:#000000; stroke:none; fill-opacity:1\" cx=\"285.307\" cy=\"287.552\" r=\"2\"/>\n",
       "<circle clip-path=\"url(#clip8702)\" style=\"fill:#009af9; stroke:none; fill-opacity:1\" cx=\"285.307\" cy=\"287.552\" r=\"1\"/>\n",
       "<circle clip-path=\"url(#clip8702)\" style=\"fill:#000000; stroke:none; fill-opacity:1\" cx=\"289.048\" cy=\"280.45\" r=\"2\"/>\n",
       "<circle clip-path=\"url(#clip8702)\" style=\"fill:#009af9; stroke:none; fill-opacity:1\" cx=\"289.048\" cy=\"280.45\" r=\"1\"/>\n",
       "<circle clip-path=\"url(#clip8702)\" style=\"fill:#000000; stroke:none; fill-opacity:1\" cx=\"292.788\" cy=\"272.943\" r=\"2\"/>\n",
       "<circle clip-path=\"url(#clip8702)\" style=\"fill:#009af9; stroke:none; fill-opacity:1\" cx=\"292.788\" cy=\"272.943\" r=\"1\"/>\n",
       "<circle clip-path=\"url(#clip8702)\" style=\"fill:#000000; stroke:none; fill-opacity:1\" cx=\"296.529\" cy=\"265.03\" r=\"2\"/>\n",
       "<circle clip-path=\"url(#clip8702)\" style=\"fill:#009af9; stroke:none; fill-opacity:1\" cx=\"296.529\" cy=\"265.03\" r=\"1\"/>\n",
       "<circle clip-path=\"url(#clip8702)\" style=\"fill:#000000; stroke:none; fill-opacity:1\" cx=\"300.269\" cy=\"256.711\" r=\"2\"/>\n",
       "<circle clip-path=\"url(#clip8702)\" style=\"fill:#009af9; stroke:none; fill-opacity:1\" cx=\"300.269\" cy=\"256.711\" r=\"1\"/>\n",
       "<circle clip-path=\"url(#clip8702)\" style=\"fill:#000000; stroke:none; fill-opacity:1\" cx=\"304.01\" cy=\"247.986\" r=\"2\"/>\n",
       "<circle clip-path=\"url(#clip8702)\" style=\"fill:#009af9; stroke:none; fill-opacity:1\" cx=\"304.01\" cy=\"247.986\" r=\"1\"/>\n",
       "<circle clip-path=\"url(#clip8702)\" style=\"fill:#000000; stroke:none; fill-opacity:1\" cx=\"307.75\" cy=\"238.856\" r=\"2\"/>\n",
       "<circle clip-path=\"url(#clip8702)\" style=\"fill:#009af9; stroke:none; fill-opacity:1\" cx=\"307.75\" cy=\"238.856\" r=\"1\"/>\n",
       "<circle clip-path=\"url(#clip8702)\" style=\"fill:#000000; stroke:none; fill-opacity:1\" cx=\"311.491\" cy=\"229.32\" r=\"2\"/>\n",
       "<circle clip-path=\"url(#clip8702)\" style=\"fill:#009af9; stroke:none; fill-opacity:1\" cx=\"311.491\" cy=\"229.32\" r=\"1\"/>\n",
       "<circle clip-path=\"url(#clip8702)\" style=\"fill:#000000; stroke:none; fill-opacity:1\" cx=\"315.231\" cy=\"219.377\" r=\"2\"/>\n",
       "<circle clip-path=\"url(#clip8702)\" style=\"fill:#009af9; stroke:none; fill-opacity:1\" cx=\"315.231\" cy=\"219.377\" r=\"1\"/>\n",
       "<circle clip-path=\"url(#clip8702)\" style=\"fill:#000000; stroke:none; fill-opacity:1\" cx=\"318.971\" cy=\"209.03\" r=\"2\"/>\n",
       "<circle clip-path=\"url(#clip8702)\" style=\"fill:#009af9; stroke:none; fill-opacity:1\" cx=\"318.971\" cy=\"209.03\" r=\"1\"/>\n",
       "<circle clip-path=\"url(#clip8702)\" style=\"fill:#000000; stroke:none; fill-opacity:1\" cx=\"322.712\" cy=\"198.276\" r=\"2\"/>\n",
       "<circle clip-path=\"url(#clip8702)\" style=\"fill:#009af9; stroke:none; fill-opacity:1\" cx=\"322.712\" cy=\"198.276\" r=\"1\"/>\n",
       "<circle clip-path=\"url(#clip8702)\" style=\"fill:#000000; stroke:none; fill-opacity:1\" cx=\"326.452\" cy=\"187.116\" r=\"2\"/>\n",
       "<circle clip-path=\"url(#clip8702)\" style=\"fill:#009af9; stroke:none; fill-opacity:1\" cx=\"326.452\" cy=\"187.116\" r=\"1\"/>\n",
       "<circle clip-path=\"url(#clip8702)\" style=\"fill:#000000; stroke:none; fill-opacity:1\" cx=\"330.193\" cy=\"175.551\" r=\"2\"/>\n",
       "<circle clip-path=\"url(#clip8702)\" style=\"fill:#009af9; stroke:none; fill-opacity:1\" cx=\"330.193\" cy=\"175.551\" r=\"1\"/>\n",
       "<circle clip-path=\"url(#clip8702)\" style=\"fill:#000000; stroke:none; fill-opacity:1\" cx=\"333.933\" cy=\"163.58\" r=\"2\"/>\n",
       "<circle clip-path=\"url(#clip8702)\" style=\"fill:#009af9; stroke:none; fill-opacity:1\" cx=\"333.933\" cy=\"163.58\" r=\"1\"/>\n",
       "<circle clip-path=\"url(#clip8702)\" style=\"fill:#000000; stroke:none; fill-opacity:1\" cx=\"337.674\" cy=\"151.203\" r=\"2\"/>\n",
       "<circle clip-path=\"url(#clip8702)\" style=\"fill:#009af9; stroke:none; fill-opacity:1\" cx=\"337.674\" cy=\"151.203\" r=\"1\"/>\n",
       "<circle clip-path=\"url(#clip8702)\" style=\"fill:#000000; stroke:none; fill-opacity:1\" cx=\"341.414\" cy=\"138.42\" r=\"2\"/>\n",
       "<circle clip-path=\"url(#clip8702)\" style=\"fill:#009af9; stroke:none; fill-opacity:1\" cx=\"341.414\" cy=\"138.42\" r=\"1\"/>\n",
       "<circle clip-path=\"url(#clip8702)\" style=\"fill:#000000; stroke:none; fill-opacity:1\" cx=\"345.155\" cy=\"125.232\" r=\"2\"/>\n",
       "<circle clip-path=\"url(#clip8702)\" style=\"fill:#009af9; stroke:none; fill-opacity:1\" cx=\"345.155\" cy=\"125.232\" r=\"1\"/>\n",
       "<circle clip-path=\"url(#clip8702)\" style=\"fill:#000000; stroke:none; fill-opacity:1\" cx=\"348.895\" cy=\"111.638\" r=\"2\"/>\n",
       "<circle clip-path=\"url(#clip8702)\" style=\"fill:#009af9; stroke:none; fill-opacity:1\" cx=\"348.895\" cy=\"111.638\" r=\"1\"/>\n",
       "<circle clip-path=\"url(#clip8702)\" style=\"fill:#000000; stroke:none; fill-opacity:1\" cx=\"352.636\" cy=\"97.6376\" r=\"2\"/>\n",
       "<circle clip-path=\"url(#clip8702)\" style=\"fill:#009af9; stroke:none; fill-opacity:1\" cx=\"352.636\" cy=\"97.6376\" r=\"1\"/>\n",
       "<circle clip-path=\"url(#clip8702)\" style=\"fill:#000000; stroke:none; fill-opacity:1\" cx=\"356.376\" cy=\"83.2317\" r=\"2\"/>\n",
       "<circle clip-path=\"url(#clip8702)\" style=\"fill:#009af9; stroke:none; fill-opacity:1\" cx=\"356.376\" cy=\"83.2317\" r=\"1\"/>\n",
       "<circle clip-path=\"url(#clip8702)\" style=\"fill:#000000; stroke:none; fill-opacity:1\" cx=\"360.116\" cy=\"68.4201\" r=\"2\"/>\n",
       "<circle clip-path=\"url(#clip8702)\" style=\"fill:#009af9; stroke:none; fill-opacity:1\" cx=\"360.116\" cy=\"68.4201\" r=\"1\"/>\n",
       "<circle clip-path=\"url(#clip8702)\" style=\"fill:#000000; stroke:none; fill-opacity:1\" cx=\"363.857\" cy=\"53.2026\" r=\"2\"/>\n",
       "<circle clip-path=\"url(#clip8702)\" style=\"fill:#009af9; stroke:none; fill-opacity:1\" cx=\"363.857\" cy=\"53.2026\" r=\"1\"/>\n",
       "<circle clip-path=\"url(#clip8702)\" style=\"fill:#000000; stroke:none; fill-opacity:1\" cx=\"367.597\" cy=\"37.5793\" r=\"2\"/>\n",
       "<circle clip-path=\"url(#clip8702)\" style=\"fill:#009af9; stroke:none; fill-opacity:1\" cx=\"367.597\" cy=\"37.5793\" r=\"1\"/>\n",
       "<circle clip-path=\"url(#clip8702)\" style=\"fill:#000000; stroke:none; fill-opacity:1\" cx=\"371.338\" cy=\"21.5502\" r=\"2\"/>\n",
       "<circle clip-path=\"url(#clip8702)\" style=\"fill:#009af9; stroke:none; fill-opacity:1\" cx=\"371.338\" cy=\"21.5502\" r=\"1\"/>\n",
       "</svg>\n"
      ]
     },
     "execution_count": 74,
     "metadata": {},
     "output_type": "execute_result"
    }
   ],
   "source": [
    "\n",
    "using LaTeXStrings\n",
    "using Plots\n",
    "\n",
    "f(x) = x^2-2\n",
    "plot(-2:0.05:2,f,m=2,xaxis=(\"x\",-2:0.5:2),yaxis=(L\"F(x)\",-2:0.5:2),axiscolor=:red,size=(400,400),legend=false)\n"
   ]
  },
  {
   "cell_type": "code",
   "execution_count": 14,
   "metadata": {},
   "outputs": [
    {
     "data": {
      "text/plain": [
       "-2"
      ]
     },
     "execution_count": 14,
     "metadata": {},
     "output_type": "execute_result"
    }
   ],
   "source": [
    "f(0)"
   ]
  },
  {
   "cell_type": "code",
   "execution_count": 11,
   "metadata": {},
   "outputs": [
    {
     "data": {
      "text/plain": [
       "2"
      ]
     },
     "execution_count": 11,
     "metadata": {},
     "output_type": "execute_result"
    }
   ],
   "source": [
    "f2(x)=(f(x))^2-2\n",
    "f2(0)"
   ]
  },
  {
   "cell_type": "code",
   "execution_count": 35,
   "metadata": {},
   "outputs": [
    {
     "data": {
      "text/plain": [
       "2"
      ]
     },
     "execution_count": 35,
     "metadata": {},
     "output_type": "execute_result"
    }
   ],
   "source": [
    "f3(x)=(f2(x))^2-2\n",
    "f3(0)"
   ]
  },
  {
   "cell_type": "code",
   "execution_count": 15,
   "metadata": {},
   "outputs": [
    {
     "data": {
      "text/plain": [
       "2"
      ]
     },
     "execution_count": 15,
     "metadata": {},
     "output_type": "execute_result"
    }
   ],
   "source": [
    "f4(x)=(f3(x))^2-2\n",
    "f4(0)"
   ]
  },
  {
   "cell_type": "code",
   "execution_count": 110,
   "metadata": {},
   "outputs": [
    {
     "data": {
      "text/plain": [
       "mapeo (generic function with 1 method)"
      ]
     },
     "execution_count": 110,
     "metadata": {},
     "output_type": "execute_result"
    }
   ],
   "source": [
    "function mapeo(f::Function,x0,iteraciones)\n",
    "n=[]  \n",
    "for _ in 1:iteraciones\n",
    "    xn=f(x0)\n",
    "    x0=xn\n",
    "    push!(n,x0)\n",
    "end\n",
    "\n",
    "return x0,n\n",
    "end"
   ]
  },
  {
   "cell_type": "markdown",
   "metadata": {},
   "source": [
    "Para un número bajo de iteraciones:"
   ]
  },
  {
   "cell_type": "code",
   "execution_count": 111,
   "metadata": {},
   "outputs": [
    {
     "data": {
      "text/plain": [
       "(2, Any[-2, 2, 2, 2])"
      ]
     },
     "execution_count": 111,
     "metadata": {},
     "output_type": "execute_result"
    }
   ],
   "source": [
    "f(x) = x^2-2\n",
    "mapeo(f,0,4)"
   ]
  },
  {
   "cell_type": "code",
   "execution_count": 112,
   "metadata": {},
   "outputs": [
    {
     "data": {
      "text/plain": [
       "(2, Any[-2, 2, 2, 2, 2, 2, 2, 2, 2, 2])"
      ]
     },
     "execution_count": 112,
     "metadata": {},
     "output_type": "execute_result"
    }
   ],
   "source": [
    "f(x) = x^2-2\n",
    "mapeo(f,0,10)"
   ]
  },
  {
   "cell_type": "code",
   "execution_count": 113,
   "metadata": {},
   "outputs": [
    {
     "data": {
      "text/plain": [
       "(2, Any[-2, 2, 2, 2, 2, 2, 2, 2, 2, 2, 2, 2, 2, 2, 2, 2, 2, 2, 2, 2])"
      ]
     },
     "execution_count": 113,
     "metadata": {},
     "output_type": "execute_result"
    }
   ],
   "source": [
    "f(x) = x^2-2\n",
    "mapeo(f,0,20)"
   ]
  },
  {
   "cell_type": "markdown",
   "metadata": {},
   "source": [
    "Para un número alto de iteraciones:"
   ]
  },
  {
   "cell_type": "code",
   "execution_count": 114,
   "metadata": {},
   "outputs": [
    {
     "data": {
      "text/plain": [
       "(2, Any[-2, 2, 2, 2, 2, 2, 2, 2, 2, 2  …  2, 2, 2, 2, 2, 2, 2, 2, 2, 2])"
      ]
     },
     "execution_count": 114,
     "metadata": {},
     "output_type": "execute_result"
    }
   ],
   "source": [
    "f(x) = x^2-2\n",
    "mapeo(f,0,100)"
   ]
  },
  {
   "cell_type": "code",
   "execution_count": 115,
   "metadata": {},
   "outputs": [
    {
     "data": {
      "text/plain": [
       "(2, Any[-2, 2, 2, 2, 2, 2, 2, 2, 2, 2  …  2, 2, 2, 2, 2, 2, 2, 2, 2, 2])"
      ]
     },
     "execution_count": 115,
     "metadata": {},
     "output_type": "execute_result"
    }
   ],
   "source": [
    "f(x) = x^2-2\n",
    "mapeo(f,0,1000)"
   ]
  },
  {
   "cell_type": "code",
   "execution_count": 116,
   "metadata": {},
   "outputs": [
    {
     "data": {
      "text/plain": [
       "(2, Any[-2, 2, 2, 2, 2, 2, 2, 2, 2, 2  …  2, 2, 2, 2, 2, 2, 2, 2, 2, 2])"
      ]
     },
     "execution_count": 116,
     "metadata": {},
     "output_type": "execute_result"
    }
   ],
   "source": [
    "f(x) = x^2-2\n",
    "mapeo(f,0,50000)"
   ]
  },
  {
   "cell_type": "markdown",
   "metadata": {},
   "source": [
    "Por lo que podemos concluir que en $x_0=0$ la órbita es periódica y es estable."
   ]
  },
  {
   "cell_type": "markdown",
   "metadata": {},
   "source": [
    "Para $x_0=0.1$ :"
   ]
  },
  {
   "cell_type": "markdown",
   "metadata": {},
   "source": [
    "Para un número bajo de iteraciones:"
   ]
  },
  {
   "cell_type": "code",
   "execution_count": 117,
   "metadata": {},
   "outputs": [
    {
     "data": {
      "text/plain": [
       "(1.3929345649038427, Any[-1.99, 1.9601, 1.84199, 1.39293])"
      ]
     },
     "execution_count": 117,
     "metadata": {},
     "output_type": "execute_result"
    }
   ],
   "source": [
    "f(x) = x^2-2\n",
    "mapeo(f,0.1,4)"
   ]
  },
  {
   "cell_type": "code",
   "execution_count": 118,
   "metadata": {},
   "outputs": [
    {
     "data": {
      "text/plain": [
       "(1.1537886689264814, Any[-1.99, 1.9601, 1.84199, 1.39293, -0.0597333, -1.99643, 1.98574, 1.94317, 1.77589, 1.15379])"
      ]
     },
     "execution_count": 118,
     "metadata": {},
     "output_type": "execute_result"
    }
   ],
   "source": [
    "f(x) = x^2-2\n",
    "mapeo(f,0.1,10)"
   ]
  },
  {
   "cell_type": "code",
   "execution_count": 119,
   "metadata": {},
   "outputs": [
    {
     "data": {
      "text/plain": [
       "(0.41652458569967, Any[-1.99, 1.9601, 1.84199, 1.39293, -0.0597333, -1.99643, 1.98574, 1.94317, 1.77589, 1.15379, -0.668772, -1.55274, 0.411015, -1.83107, 1.3528, -0.16992, -1.97113, 1.88534, 1.55452, 0.416525])"
      ]
     },
     "execution_count": 119,
     "metadata": {},
     "output_type": "execute_result"
    }
   ],
   "source": [
    "f(x) = x^2-2\n",
    "mapeo(f,0.1,20)"
   ]
  },
  {
   "cell_type": "markdown",
   "metadata": {},
   "source": [
    "Para un número alto de iteraciones:"
   ]
  },
  {
   "cell_type": "code",
   "execution_count": 120,
   "metadata": {},
   "outputs": [
    {
     "data": {
      "text/plain": [
       "(0.03955357456268782, Any[-1.99, 1.9601, 1.84199, 1.39293, -0.0597333, -1.99643, 1.98574, 1.94317, 1.77589, 1.15379  …  0.926451, -1.14169, -0.696548, -1.51482, 0.294684, -1.91316, 1.66019, 0.756221, -1.42813, 0.0395536])"
      ]
     },
     "execution_count": 120,
     "metadata": {},
     "output_type": "execute_result"
    }
   ],
   "source": [
    "f(x) = x^2-2\n",
    "mapeo(f,0.1,90)"
   ]
  },
  {
   "cell_type": "code",
   "execution_count": 121,
   "metadata": {},
   "outputs": [
    {
     "data": {
      "text/plain": [
       "(0.3336362976557088, Any[-1.99, 1.9601, 1.84199, 1.39293, -0.0597333, -1.99643, 1.98574, 1.94317, 1.77589, 1.15379  …  -1.99844, 1.99374, 1.97502, 1.90069, 1.61263, 0.600585, -1.6393, 0.687296, -1.52762, 0.333636])"
      ]
     },
     "execution_count": 121,
     "metadata": {},
     "output_type": "execute_result"
    }
   ],
   "source": [
    "f(x) = x^2-2\n",
    "mapeo(f,0.1,100)"
   ]
  },
  {
   "cell_type": "code",
   "execution_count": 122,
   "metadata": {},
   "outputs": [
    {
     "data": {
      "text/plain": [
       "(0.3944856856126071, Any[-1.99, 1.9601, 1.84199, 1.39293, -0.0597333, -1.99643, 1.98574, 1.94317, 1.77589, 1.15379  …  1.99656, 1.98624, 1.94516, 1.78365, 1.18141, -0.604273, -1.63485, 0.672746, -1.54741, 0.394486])"
      ]
     },
     "execution_count": 122,
     "metadata": {},
     "output_type": "execute_result"
    }
   ],
   "source": [
    "f(x) = x^2-2\n",
    "mapeo(f,0.1,200)"
   ]
  },
  {
   "cell_type": "code",
   "execution_count": 123,
   "metadata": {},
   "outputs": [
    {
     "data": {
      "text/plain": [
       "(-0.6795577781340991, Any[-1.99, 1.9601, 1.84199, 1.39293, -0.0597333, -1.99643, 1.98574, 1.94317, 1.77589, 1.15379  …  0.261738, -1.93149, 1.73067, 0.995208, -1.00956, -0.980787, -1.03806, -0.92244, -1.1491, -0.679558])"
      ]
     },
     "execution_count": 123,
     "metadata": {},
     "output_type": "execute_result"
    }
   ],
   "source": [
    "f(x) = x^2-2\n",
    "mapeo(f,0.1,2000)"
   ]
  },
  {
   "cell_type": "markdown",
   "metadata": {},
   "source": [
    "Del número de iteraciones nos podemos dar cuenta de que a pesar de que la condición inicial $x_0$ solo se desplazo $0.1$, la secuencia de puntos cambió drásticamente; sin embargo, la órbita se mantiene periódica al ir aumentando el número de iteraciones."
   ]
  },
  {
   "cell_type": "markdown",
   "metadata": {},
   "source": [
    "Para $x_0=0.001$ :"
   ]
  },
  {
   "cell_type": "markdown",
   "metadata": {},
   "source": [
    "Para un número bajo de iteraciones:"
   ]
  },
  {
   "cell_type": "code",
   "execution_count": 125,
   "metadata": {},
   "outputs": [
    {
     "data": {
      "text/plain": [
       "(1.9999960000010004, Any[-2.0, 2.0])"
      ]
     },
     "execution_count": 125,
     "metadata": {},
     "output_type": "execute_result"
    }
   ],
   "source": [
    "f(x) = x^2-2\n",
    "mapeo(f,0.001,2)"
   ]
  },
  {
   "cell_type": "code",
   "execution_count": 132,
   "metadata": {},
   "outputs": [
    {
     "data": {
      "text/plain": [
       "(1.9999360003360063, Any[-2.0, 2.0, 1.99998, 1.99994])"
      ]
     },
     "execution_count": 132,
     "metadata": {},
     "output_type": "execute_result"
    }
   ],
   "source": [
    "f(x) = x^2-2\n",
    "mapeo(f,0.001,4)"
   ]
  },
  {
   "cell_type": "code",
   "execution_count": 133,
   "metadata": {},
   "outputs": [
    {
     "data": {
      "text/plain": [
       "(1.7435327957527287, Any[-2.0, 2.0, 1.99998, 1.99994, 1.99974, 1.99898, 1.99591, 1.98364, 1.93482, 1.74353])"
      ]
     },
     "execution_count": 133,
     "metadata": {},
     "output_type": "execute_result"
    }
   ],
   "source": [
    "f(x) = x^2-2\n",
    "mapeo(f,0.001,10)"
   ]
  },
  {
   "cell_type": "code",
   "execution_count": 134,
   "metadata": {},
   "outputs": [
    {
     "data": {
      "text/plain": [
       "(-1.8732331038748131, Any[-2.0, 2.0, 1.99998, 1.99994, 1.99974, 1.99898, 1.99591, 1.98364, 1.93482, 1.74353, 1.03991, -0.918594, -1.15618, -0.663237, -1.56012, 0.433964, -1.81168, 1.28217, -0.356043, -1.87323])"
      ]
     },
     "execution_count": 134,
     "metadata": {},
     "output_type": "execute_result"
    }
   ],
   "source": [
    "f(x) = x^2-2\n",
    "mapeo(f,0.001,20)"
   ]
  },
  {
   "cell_type": "markdown",
   "metadata": {},
   "source": [
    "Para un número alto de iteraciones:"
   ]
  },
  {
   "cell_type": "code",
   "execution_count": 127,
   "metadata": {},
   "outputs": [
    {
     "data": {
      "text/plain": [
       "(1.3930964492186222, Any[-2.0, 2.0, 1.99998, 1.99994, 1.99974, 1.99898, 1.99591, 1.98364, 1.93482, 1.74353  …  -1.95598, 1.82588, 1.33383, -0.220905, -1.9512, 1.80719, 1.26592, -0.397447, -1.84204, 1.3931])"
      ]
     },
     "execution_count": 127,
     "metadata": {},
     "output_type": "execute_result"
    }
   ],
   "source": [
    "f(x) = x^2-2\n",
    "mapeo(f,0.001,100)"
   ]
  },
  {
   "cell_type": "code",
   "execution_count": 130,
   "metadata": {},
   "outputs": [
    {
     "data": {
      "text/plain": [
       "(-1.9988363668281366, Any[-2.0, 2.0, 1.99998, 1.99994, 1.99974, 1.99898, 1.99591, 1.98364, 1.93482, 1.74353  …  1.87041, 1.49845, 0.24535, -1.9398, 1.76284, 1.10759, -0.773239, -1.4021, -0.0341121, -1.99884])"
      ]
     },
     "execution_count": 130,
     "metadata": {},
     "output_type": "execute_result"
    }
   ],
   "source": [
    "f(x) = x^2-2\n",
    "mapeo(f,0.001,500)"
   ]
  },
  {
   "cell_type": "code",
   "execution_count": 131,
   "metadata": {},
   "outputs": [
    {
     "data": {
      "text/plain": [
       "(1.0853682270434795, Any[-2.0, 2.0, 1.99998, 1.99994, 1.99974, 1.99898, 1.99591, 1.98364, 1.93482, 1.74353  …  1.03154, -0.935916, -1.12406, -0.736486, -1.45759, 0.124565, -1.98448, 1.93817, 1.75652, 1.08537])"
      ]
     },
     "execution_count": 131,
     "metadata": {},
     "output_type": "execute_result"
    }
   ],
   "source": [
    "f(x) = x^2-2\n",
    "mapeo(f,0.001,2000)"
   ]
  },
  {
   "cell_type": "markdown",
   "metadata": {},
   "source": [
    "Para la segunda parte:"
   ]
  },
  {
   "cell_type": "markdown",
   "metadata": {},
   "source": [
    "La propiedad que hace que este mapeo sea interesante en el intervalo $[-2,2]$ es la estabilidad de la órbita; es decir, dado un un punto $x_0 \\neq 0$ conforme aumenta el número de iteraciones el punto se acerca o se aleja del punto inicial, pero los valores siempre oscilan alrededor del intervalo $[-2,2]$ . "
   ]
  },
  {
   "cell_type": "markdown",
   "metadata": {},
   "source": [
    "## 2\n",
    "\n",
    "Escriban una función cuyos argumentos son la función `F` del mapeo, `x0`, la condición inicial, y `n` el número de iterados del mapeo (un número entero), que genere los `n` iterados del mapeo y haga el análisis gráfico descrito del mapeo. Ilustren el funcionamiento con $F(x)=\\sqrt{x}$.\n",
    "\n",
    "¿Qué pueden concluir de iterar *muchas* veces una condición inicial?"
   ]
  },
  {
   "cell_type": "markdown",
   "metadata": {},
   "source": [
    "Curiosamente ya se me había ocurrido realizar esta función para realizar más rápidamente el ejercicio 1, por lo cuál utilizaré la misma función e ilustremos su funcionamiento  con $F(x)=\\sqrt{x}$."
   ]
  },
  {
   "cell_type": "code",
   "execution_count": 2,
   "metadata": {},
   "outputs": [
    {
     "data": {
      "text/plain": [
       "mapeo (generic function with 1 method)"
      ]
     },
     "execution_count": 2,
     "metadata": {},
     "output_type": "execute_result"
    }
   ],
   "source": [
    "function mapeo(f::Function,x0,iteraciones::Int)\n",
    "n=[]  \n",
    "for _ in 1:iteraciones\n",
    "    xn=f(x0)\n",
    "    x0=xn\n",
    "    push!(n,x0)\n",
    "end\n",
    "\n",
    "return x0,n\n",
    "end"
   ]
  },
  {
   "cell_type": "code",
   "execution_count": 145,
   "metadata": {},
   "outputs": [
    {
     "data": {
      "text/plain": [
       "(1.0006771306930664, Any[1.41421, 1.18921, 1.09051, 1.04427, 1.0219, 1.01089, 1.00543, 1.00271, 1.00135, 1.00068])"
      ]
     },
     "execution_count": 145,
     "metadata": {},
     "output_type": "execute_result"
    }
   ],
   "source": [
    "f(x) = sqrt(x)\n",
    "mapeo(f,2,10)"
   ]
  },
  {
   "cell_type": "code",
   "execution_count": 7,
   "metadata": {},
   "outputs": [
    {
     "data": {
      "text/plain": [
       "(1.0000006610368821, Any[1.41421, 1.18921, 1.09051, 1.04427, 1.0219, 1.01089, 1.00543, 1.00271, 1.00135, 1.00068, 1.00034, 1.00017, 1.00008, 1.00004, 1.00002, 1.00001, 1.00001, 1.0, 1.0, 1.0])"
      ]
     },
     "execution_count": 7,
     "metadata": {},
     "output_type": "execute_result"
    }
   ],
   "source": [
    "f(x) = sqrt(x)\n",
    "mapeo(f,2,20)"
   ]
  },
  {
   "cell_type": "code",
   "execution_count": 147,
   "metadata": {},
   "outputs": [
    {
     "data": {
      "text/plain": [
       "(1.0, Any[1.41421, 1.18921, 1.09051, 1.04427, 1.0219, 1.01089, 1.00543, 1.00271, 1.00135, 1.00068  …  1.0, 1.0, 1.0, 1.0, 1.0, 1.0, 1.0, 1.0, 1.0, 1.0])"
      ]
     },
     "execution_count": 147,
     "metadata": {},
     "output_type": "execute_result"
    }
   ],
   "source": [
    "f(x) = sqrt(x)\n",
    "mapeo(f,2,2000)"
   ]
  },
  {
   "cell_type": "code",
   "execution_count": 3,
   "metadata": {},
   "outputs": [
    {
     "data": {
      "text/plain": [
       "(1.0, Any[1.73205, 1.31607, 1.1472, 1.07108, 1.03493, 1.01731, 1.00862, 1.0043, 1.00215, 1.00107  …  1.0, 1.0, 1.0, 1.0, 1.0, 1.0, 1.0, 1.0, 1.0, 1.0])"
      ]
     },
     "execution_count": 3,
     "metadata": {},
     "output_type": "execute_result"
    }
   ],
   "source": [
    "f(x) = sqrt(x)\n",
    "mapeo(f,3,100000)"
   ]
  },
  {
   "cell_type": "markdown",
   "metadata": {},
   "source": [
    "Notemos que al iterar muchas veces la condición inicial $x_0$ la órbita se vuelve periódica ya que a partir de cierto punto el único valor que arroja es $1.0, esto es debido a que la diferencia entre un iterado y el siguiente es tan pequeña que gráficamente tendríamos que realizar un gran \"zoom\" para observar la diferencia (Para ello utilizaremos plotly, con el fin de poder hacer un acercamiento a voluntad en esa región); es decir, tenemos una secuencia finita de iterados que se repite a partir de la iteración número 20."
   ]
  },
  {
   "cell_type": "markdown",
   "metadata": {},
   "source": [
    "Para el análisis gráfico:"
   ]
  },
  {
   "cell_type": "code",
   "execution_count": 80,
   "metadata": {},
   "outputs": [
    {
     "data": {
      "text/plain": [
       "(1.1159320573530855, Any[1.55078, 1.2453, 1.11593])"
      ]
     },
     "execution_count": 80,
     "metadata": {},
     "output_type": "execute_result"
    }
   ],
   "source": [
    "f(x) = sqrt(x)\n",
    "mapeo(f, 2.4049277289719817,3)"
   ]
  },
  {
   "cell_type": "code",
   "execution_count": 96,
   "metadata": {},
   "outputs": [
    {
     "data": {
      "text/plain": [
       "analisis_mapeo (generic function with 1 method)"
      ]
     },
     "execution_count": 96,
     "metadata": {},
     "output_type": "execute_result"
    }
   ],
   "source": [
    "function analisis_mapeo(f::Function,x0,iteraciones::Int)\n",
    "x01=x0\n",
    "n=[]  \n",
    "for _ in 1:iteraciones\n",
    "    xn=f(x0)\n",
    "    x0=xn\n",
    "    push!(n,x0)\n",
    "end\n",
    "\n",
    "plot(0.0:1/32:5.2, f, xaxis=(L\"x\", 0:5.2), yaxis=(L\"F(x)\",(0.0,2.0)), legend=false, title=L\"F(x)=\\sqrt{x}\", grid=false)\n",
    "plot!(0:5, x->x, color=:red) \n",
    "\n",
    "plot!([x01, x01, n[1], n[1], n[2],n[2],n[3],n[3],n[4]], [-0.5, n[1], n[1], n[2], n[2], n[3], n[3], n[4], n[4]], line=(:green, :path, 2.0, :dot), marker=(:dot, 0.5))\n",
    "\n",
    "\n",
    "end"
   ]
  },
  {
   "cell_type": "code",
   "execution_count": 97,
   "metadata": {},
   "outputs": [
    {
     "data": {
      "image/svg+xml": [
       "<?xml version=\"1.0\" encoding=\"utf-8\"?>\n",
       "<svg xmlns=\"http://www.w3.org/2000/svg\" xmlns:xlink=\"http://www.w3.org/1999/xlink\" width=\"600\" height=\"400\" viewBox=\"0 0 600 400\">\n",
       "<defs>\n",
       "  <clipPath id=\"clip3600\">\n",
       "    <rect x=\"0\" y=\"0\" width=\"600\" height=\"400\"/>\n",
       "  </clipPath>\n",
       "</defs>\n",
       "<polygon clip-path=\"url(#clip3600)\" points=\"\n",
       "0,400 600,400 600,0 0,0 \n",
       "  \" fill=\"#ffffff\" fill-opacity=\"1\"/>\n",
       "<defs>\n",
       "  <clipPath id=\"clip3601\">\n",
       "    <rect x=\"120\" y=\"0\" width=\"421\" height=\"400\"/>\n",
       "  </clipPath>\n",
       "</defs>\n",
       "<polygon clip-path=\"url(#clip3600)\" points=\"\n",
       "56.0965,360.121 580.315,360.121 580.315,31.4961 56.0965,31.4961 \n",
       "  \" fill=\"#ffffff\" fill-opacity=\"1\"/>\n",
       "<defs>\n",
       "  <clipPath id=\"clip3602\">\n",
       "    <rect x=\"56\" y=\"31\" width=\"525\" height=\"330\"/>\n",
       "  </clipPath>\n",
       "</defs>\n",
       "<polyline clip-path=\"url(#clip3600)\" style=\"stroke:#000000; stroke-width:1; stroke-opacity:1; fill:none\" points=\"\n",
       "  56.0965,360.121 580.315,360.121 \n",
       "  \"/>\n",
       "<polyline clip-path=\"url(#clip3600)\" style=\"stroke:#000000; stroke-width:1; stroke-opacity:1; fill:none\" points=\"\n",
       "  56.0965,360.121 56.0965,31.4961 \n",
       "  \"/>\n",
       "<polyline clip-path=\"url(#clip3600)\" style=\"stroke:#000000; stroke-width:1; stroke-opacity:1; fill:none\" points=\"\n",
       "  70.9329,360.121 70.9329,355.191 \n",
       "  \"/>\n",
       "<polyline clip-path=\"url(#clip3600)\" style=\"stroke:#000000; stroke-width:1; stroke-opacity:1; fill:none\" points=\"\n",
       "  166.267,360.121 166.267,355.191 \n",
       "  \"/>\n",
       "<polyline clip-path=\"url(#clip3600)\" style=\"stroke:#000000; stroke-width:1; stroke-opacity:1; fill:none\" points=\"\n",
       "  261.601,360.121 261.601,355.191 \n",
       "  \"/>\n",
       "<polyline clip-path=\"url(#clip3600)\" style=\"stroke:#000000; stroke-width:1; stroke-opacity:1; fill:none\" points=\"\n",
       "  356.935,360.121 356.935,355.191 \n",
       "  \"/>\n",
       "<polyline clip-path=\"url(#clip3600)\" style=\"stroke:#000000; stroke-width:1; stroke-opacity:1; fill:none\" points=\"\n",
       "  452.269,360.121 452.269,355.191 \n",
       "  \"/>\n",
       "<polyline clip-path=\"url(#clip3600)\" style=\"stroke:#000000; stroke-width:1; stroke-opacity:1; fill:none\" points=\"\n",
       "  547.603,360.121 547.603,355.191 \n",
       "  \"/>\n",
       "<polyline clip-path=\"url(#clip3600)\" style=\"stroke:#000000; stroke-width:1; stroke-opacity:1; fill:none\" points=\"\n",
       "  56.0965,360.121 63.9598,360.121 \n",
       "  \"/>\n",
       "<polyline clip-path=\"url(#clip3600)\" style=\"stroke:#000000; stroke-width:1; stroke-opacity:1; fill:none\" points=\"\n",
       "  56.0965,277.965 63.9598,277.965 \n",
       "  \"/>\n",
       "<polyline clip-path=\"url(#clip3600)\" style=\"stroke:#000000; stroke-width:1; stroke-opacity:1; fill:none\" points=\"\n",
       "  56.0965,195.808 63.9598,195.808 \n",
       "  \"/>\n",
       "<polyline clip-path=\"url(#clip3600)\" style=\"stroke:#000000; stroke-width:1; stroke-opacity:1; fill:none\" points=\"\n",
       "  56.0965,113.652 63.9598,113.652 \n",
       "  \"/>\n",
       "<polyline clip-path=\"url(#clip3600)\" style=\"stroke:#000000; stroke-width:1; stroke-opacity:1; fill:none\" points=\"\n",
       "  56.0965,31.4961 63.9598,31.4961 \n",
       "  \"/>\n",
       "<g clip-path=\"url(#clip3600)\">\n",
       "<text style=\"fill:#000000; fill-opacity:1; font-family:Arial,Helvetica Neue,Helvetica,sans-serif; font-size:12; text-anchor:middle;\" transform=\"rotate(0, 70.9329, 373.921)\" x=\"70.9329\" y=\"373.921\">0</text>\n",
       "</g>\n",
       "<g clip-path=\"url(#clip3600)\">\n",
       "<text style=\"fill:#000000; fill-opacity:1; font-family:Arial,Helvetica Neue,Helvetica,sans-serif; font-size:12; text-anchor:middle;\" transform=\"rotate(0, 166.267, 373.921)\" x=\"166.267\" y=\"373.921\">1</text>\n",
       "</g>\n",
       "<g clip-path=\"url(#clip3600)\">\n",
       "<text style=\"fill:#000000; fill-opacity:1; font-family:Arial,Helvetica Neue,Helvetica,sans-serif; font-size:12; text-anchor:middle;\" transform=\"rotate(0, 261.601, 373.921)\" x=\"261.601\" y=\"373.921\">2</text>\n",
       "</g>\n",
       "<g clip-path=\"url(#clip3600)\">\n",
       "<text style=\"fill:#000000; fill-opacity:1; font-family:Arial,Helvetica Neue,Helvetica,sans-serif; font-size:12; text-anchor:middle;\" transform=\"rotate(0, 356.935, 373.921)\" x=\"356.935\" y=\"373.921\">3</text>\n",
       "</g>\n",
       "<g clip-path=\"url(#clip3600)\">\n",
       "<text style=\"fill:#000000; fill-opacity:1; font-family:Arial,Helvetica Neue,Helvetica,sans-serif; font-size:12; text-anchor:middle;\" transform=\"rotate(0, 452.269, 373.921)\" x=\"452.269\" y=\"373.921\">4</text>\n",
       "</g>\n",
       "<g clip-path=\"url(#clip3600)\">\n",
       "<text style=\"fill:#000000; fill-opacity:1; font-family:Arial,Helvetica Neue,Helvetica,sans-serif; font-size:12; text-anchor:middle;\" transform=\"rotate(0, 547.603, 373.921)\" x=\"547.603\" y=\"373.921\">5</text>\n",
       "</g>\n",
       "<g clip-path=\"url(#clip3600)\">\n",
       "<text style=\"fill:#000000; fill-opacity:1; font-family:Arial,Helvetica Neue,Helvetica,sans-serif; font-size:12; text-anchor:end;\" transform=\"rotate(0, 50.0965, 364.621)\" x=\"50.0965\" y=\"364.621\">0.0</text>\n",
       "</g>\n",
       "<g clip-path=\"url(#clip3600)\">\n",
       "<text style=\"fill:#000000; fill-opacity:1; font-family:Arial,Helvetica Neue,Helvetica,sans-serif; font-size:12; text-anchor:end;\" transform=\"rotate(0, 50.0965, 282.465)\" x=\"50.0965\" y=\"282.465\">0.5</text>\n",
       "</g>\n",
       "<g clip-path=\"url(#clip3600)\">\n",
       "<text style=\"fill:#000000; fill-opacity:1; font-family:Arial,Helvetica Neue,Helvetica,sans-serif; font-size:12; text-anchor:end;\" transform=\"rotate(0, 50.0965, 200.308)\" x=\"50.0965\" y=\"200.308\">1.0</text>\n",
       "</g>\n",
       "<g clip-path=\"url(#clip3600)\">\n",
       "<text style=\"fill:#000000; fill-opacity:1; font-family:Arial,Helvetica Neue,Helvetica,sans-serif; font-size:12; text-anchor:end;\" transform=\"rotate(0, 50.0965, 118.152)\" x=\"50.0965\" y=\"118.152\">1.5</text>\n",
       "</g>\n",
       "<g clip-path=\"url(#clip3600)\">\n",
       "<text style=\"fill:#000000; fill-opacity:1; font-family:Arial,Helvetica Neue,Helvetica,sans-serif; font-size:12; text-anchor:end;\" transform=\"rotate(0, 50.0965, 35.9961)\" x=\"50.0965\" y=\"35.9961\">2.0</text>\n",
       "</g>\n",
       "<g clip-path=\"url(#clip3600)\">\n",
       "<image width=\"100\" height=\"22\" xlink:href=\"data:image/png;base64,\n",
       "iVBORw0KGgoAAAANSUhEUgAAAGQAAAAWCAYAAAA2CDmeAAACFUlEQVRoge1Z7ZGDIBDdvbkCMikh\n",
       "dmANsYOkBUuwBkuILaQEakg6MCnBlPDuxw0OUUBAuHB32ZmdEfl67NtdUBgAvSWdPB4PbLdb5/b8\n",
       "JiStMDMAsGv7j5RgQoWZ/4SXVFXlRQaRJkJ8jGGazNcrUo3xaglZwyxCALAcpCzLsTzVmCB0AoB/\n",
       "c6R0XYdhGPw7Aphp27b4rprXSdXV7/d7ax9fXcKQs4Zi127q0jN9IyFFmvmNqet2u+F+v1NVVd64\n",
       "34QkkDWYjaespmmeytfr9Yk5HRl1XVsnK4oCzAx1b5iW/4LY7CDX23Wd3gau+4fu3Zp6IhrnUZ91\n",
       "/ZbGzkltWE+nE0zt5DqNBtDpGkJs7YkIwzBo+/d970yIDXvImkJ0t9sZHUuHdVr/aQotRMzb05x6\n",
       "PB6t6U+VoiiYvsEvSkzMUwndV23Y1NQ21uuYbNvW23PIw9vI0zt92qZQOT8RwRQBITbQvlcLLt8f\n",
       "KcHkSoiKw2jISGtynvBVhJRlmdUeQob9bm2GGKMwJiHn89noPTLUbWBMffu+D8KUQn3xA/PMoxtj\n",
       "tI98IYRYffJwCefL5fI0hxDCOl8u6cqGaQmjalf5e2lK0PicEqitrmka1HW9aOxcCVE3epc+QojZ\n",
       "gWCz2cz6/hghIXo4HLJKV6pxfQlx1eg3hjH/PeX8H8vluyREot8YBt0BaCRnMlJKkjv1/2rMGPIF\n",
       "ccV/3yzYG/sAAAAASUVORK5CYII=\n",
       "\" transform=\"translate(268, 0)\"/>\n",
       "</g>\n",
       "<g clip-path=\"url(#clip3600)\">\n",
       "<image width=\"8\" height=\"7\" xlink:href=\"data:image/png;base64,\n",
       "iVBORw0KGgoAAAANSUhEUgAAAAgAAAAHCAYAAAA1WQxeAAAAVUlEQVQImYWOwQ3AIAwDz52A9VmB\n",
       "XdiAHRjh+qhApZ9asuQ4UeyoLCRRDUCt9VmoBwFLKS69zfdBa23PeUd8YwAufnABzDkF6L0f75LI\n",
       "GMPVAdh68Qbi31GNt876rQAAAABJRU5ErkJggg==\n",
       "\" transform=\"translate(314, 393)\"/>\n",
       "</g>\n",
       "<g clip-path=\"url(#clip3600)\">\n",
       "<image width=\"17\" height=\"33\" xlink:href=\"data:image/png;base64,\n",
       "iVBORw0KGgoAAAANSUhEUgAAABEAAAAhCAYAAAA/F0BXAAAA+0lEQVRIic1V2xGDMAyTel2AFRgh\n",
       "MzAC7AQbMAMjADOwkvrRpiWBPCh84Dt/kHMUW9YJSEIox3GUMUZlWWoYBoXqKAnrIOkcGGMAAMuy\n",
       "OHWSuP7AB0h1XQdf87NtW72vfzohKQf5QJDUZpx/4nEaIQZCUj7Jh0Ekse/7zXnTNBvgICdHyI52\n",
       "Ykeapik6VtZ2fG78Dp9JBO/SHtnR7aQAkyC2eM1HaO03U2yuMveCpB7ATxN7agxF13WygkyaUlVV\n",
       "AIB5np06Z+33IvYykFMbuj8nRVFkeQmQGCfX3S4Z52tKKfeKRVL2OaCbcSRxnfaHbg3pElPaI/sS\n",
       "sb0Ar0z1OWcnxHUAAAAASUVORK5CYII=\n",
       "\" transform=\"translate(0, 179)\"/>\n",
       "</g>\n",
       "<polyline clip-path=\"url(#clip3602)\" style=\"stroke:#009af9; stroke-width:1; stroke-opacity:1; fill:none\" points=\"\n",
       "  70.9329,360.121 73.9121,331.074 76.8913,319.043 79.8705,309.81 82.8497,302.027 85.8289,295.171 88.8081,288.971 91.7872,283.271 94.7664,277.965 97.7456,272.981 \n",
       "  100.725,268.267 103.704,263.784 106.683,259.5 109.662,255.392 112.642,251.438 115.621,247.624 118.6,243.934 121.579,240.359 124.558,236.886 127.538,233.51 \n",
       "  130.517,230.22 133.496,227.012 136.475,223.88 139.454,220.818 142.433,217.822 145.413,214.888 148.392,212.012 151.371,209.19 154.35,206.421 157.329,203.7 \n",
       "  160.309,201.026 163.288,198.396 166.267,195.808 169.246,193.261 172.225,190.751 175.205,188.279 178.184,185.841 181.163,183.437 184.142,181.065 187.121,178.725 \n",
       "  190.101,176.414 193.08,174.132 196.059,171.877 199.038,169.649 202.017,167.447 204.996,165.27 207.976,163.117 210.955,160.987 213.934,158.88 216.913,156.795 \n",
       "  219.892,154.73 222.872,152.687 225.851,150.663 228.83,148.658 231.809,146.673 234.788,144.705 237.768,142.756 240.747,140.824 243.726,138.908 246.705,137.01 \n",
       "  249.684,135.127 252.664,133.26 255.643,131.408 258.622,129.571 261.601,127.748 264.58,125.94 267.56,124.145 270.539,122.364 273.518,120.596 276.497,118.842 \n",
       "  279.476,117.099 282.455,115.37 285.435,113.652 288.414,111.947 291.393,110.252 294.372,108.57 297.351,106.898 300.331,105.238 303.31,103.588 306.289,101.949 \n",
       "  309.268,100.32 312.247,98.7014 315.227,97.0926 318.206,95.4937 321.185,93.9043 324.164,92.3244 327.143,90.7537 330.123,89.1921 333.102,87.6395 336.081,86.0957 \n",
       "  339.06,84.5606 342.039,83.0339 345.018,81.5156 347.998,80.0055 350.977,78.5036 353.956,77.0096 356.935,75.5234 359.914,74.045 362.894,72.5741 365.873,71.1108 \n",
       "  368.852,69.6548 371.831,68.2061 374.81,66.7645 377.79,65.33 380.769,63.9025 383.748,62.4817 386.727,61.0678 389.706,59.6604 392.686,58.2597 395.665,56.8654 \n",
       "  398.644,55.4775 401.623,54.0959 404.602,52.7205 407.581,51.3512 410.561,49.988 413.54,48.6307 416.519,47.2794 419.498,45.9338 422.477,44.594 425.457,43.2598 \n",
       "  428.436,41.9313 431.415,40.6082 434.394,39.2906 437.373,37.9784 440.353,36.6716 443.332,35.37 446.311,34.0736 449.29,32.7823 452.269,31.4961 455.249,30.2149 \n",
       "  458.228,28.9386 461.207,27.6673 464.186,26.4008 467.165,25.1391 470.144,23.8821 473.124,22.6298 476.103,21.3822 479.082,20.1391 482.061,18.9005 485.04,17.6665 \n",
       "  488.02,16.4368 490.999,15.2116 493.978,13.9907 496.957,12.774 499.936,11.5616 502.916,10.3535 505.895,9.14944 508.874,7.94953 511.853,6.7537 514.832,5.5619 \n",
       "  517.812,4.3741 520.791,3.19025 523.77,2.01031 526.749,0.834245 529.728,-0.337981 532.707,-1.50641 535.687,-2.67107 538.666,-3.83201 541.645,-4.98925 544.624,-6.14284 \n",
       "  547.603,-7.29281 550.583,-8.43919 553.562,-9.58201 556.541,-10.7213 559.52,-11.8571 562.499,-12.9895 565.479,-14.1184 \n",
       "  \"/>\n",
       "<polyline clip-path=\"url(#clip3602)\" style=\"stroke:#ff0000; stroke-width:1; stroke-opacity:1; fill:none\" points=\"\n",
       "  70.9329,360.121 166.267,195.808 261.601,31.4961 356.935,-132.816 452.269,-297.129 547.603,-461.441 \n",
       "  \"/>\n",
       "<polyline clip-path=\"url(#clip3602)\" style=\"stroke:#008000; stroke-width:2; stroke-opacity:1; fill:none\" stroke-dasharray=\"1, 2\" points=\"\n",
       "  300.205,442.277 300.205,105.308 218.775,105.308 218.775,155.502 189.653,155.502 189.653,176.759 177.319,176.759 177.319,186.545 171.642,186.545 \n",
       "  \"/>\n",
       "<circle clip-path=\"url(#clip3602)\" style=\"fill:#000000; stroke:none; fill-opacity:0.5\" cx=\"300.205\" cy=\"105.308\" r=\"4\"/>\n",
       "<circle clip-path=\"url(#clip3602)\" style=\"fill:#3da44d; stroke:none; fill-opacity:0.5\" cx=\"300.205\" cy=\"105.308\" r=\"3\"/>\n",
       "<circle clip-path=\"url(#clip3602)\" style=\"fill:#000000; stroke:none; fill-opacity:0.5\" cx=\"218.775\" cy=\"105.308\" r=\"4\"/>\n",
       "<circle clip-path=\"url(#clip3602)\" style=\"fill:#3da44d; stroke:none; fill-opacity:0.5\" cx=\"218.775\" cy=\"105.308\" r=\"3\"/>\n",
       "<circle clip-path=\"url(#clip3602)\" style=\"fill:#000000; stroke:none; fill-opacity:0.5\" cx=\"218.775\" cy=\"155.502\" r=\"4\"/>\n",
       "<circle clip-path=\"url(#clip3602)\" style=\"fill:#3da44d; stroke:none; fill-opacity:0.5\" cx=\"218.775\" cy=\"155.502\" r=\"3\"/>\n",
       "<circle clip-path=\"url(#clip3602)\" style=\"fill:#000000; stroke:none; fill-opacity:0.5\" cx=\"189.653\" cy=\"155.502\" r=\"4\"/>\n",
       "<circle clip-path=\"url(#clip3602)\" style=\"fill:#3da44d; stroke:none; fill-opacity:0.5\" cx=\"189.653\" cy=\"155.502\" r=\"3\"/>\n",
       "<circle clip-path=\"url(#clip3602)\" style=\"fill:#000000; stroke:none; fill-opacity:0.5\" cx=\"189.653\" cy=\"176.759\" r=\"4\"/>\n",
       "<circle clip-path=\"url(#clip3602)\" style=\"fill:#3da44d; stroke:none; fill-opacity:0.5\" cx=\"189.653\" cy=\"176.759\" r=\"3\"/>\n",
       "<circle clip-path=\"url(#clip3602)\" style=\"fill:#000000; stroke:none; fill-opacity:0.5\" cx=\"177.319\" cy=\"176.759\" r=\"4\"/>\n",
       "<circle clip-path=\"url(#clip3602)\" style=\"fill:#3da44d; stroke:none; fill-opacity:0.5\" cx=\"177.319\" cy=\"176.759\" r=\"3\"/>\n",
       "<circle clip-path=\"url(#clip3602)\" style=\"fill:#000000; stroke:none; fill-opacity:0.5\" cx=\"177.319\" cy=\"186.545\" r=\"4\"/>\n",
       "<circle clip-path=\"url(#clip3602)\" style=\"fill:#3da44d; stroke:none; fill-opacity:0.5\" cx=\"177.319\" cy=\"186.545\" r=\"3\"/>\n",
       "<circle clip-path=\"url(#clip3602)\" style=\"fill:#000000; stroke:none; fill-opacity:0.5\" cx=\"171.642\" cy=\"186.545\" r=\"4\"/>\n",
       "<circle clip-path=\"url(#clip3602)\" style=\"fill:#3da44d; stroke:none; fill-opacity:0.5\" cx=\"171.642\" cy=\"186.545\" r=\"3\"/>\n",
       "</svg>\n"
      ]
     },
     "execution_count": 97,
     "metadata": {},
     "output_type": "execute_result"
    }
   ],
   "source": [
    "f(x) = sqrt(x)\n",
    "analisis_mapeo(f,2.4049277289719817,4)"
   ]
  },
  {
   "cell_type": "code",
   "execution_count": 196,
   "metadata": {},
   "outputs": [
    {
     "data": {
      "text/plain": [
       "analisis_mapeo"
      ]
     },
     "execution_count": 196,
     "metadata": {},
     "output_type": "execute_result"
    }
   ],
   "source": [
    "plotly()\n",
    "\"\"\"Esta función nos permite obtener x_n para un número determinado de iteraciones en un mapeo al igual que la función anterior,\n",
    "además nos permite realizar el análisis gráfico del mapeo para el número dado de iterados de una órbita y poder visualizarlos en el \n",
    "eje de las abcisas de manera automática\"\"\"\n",
    "\n",
    "#Inicia la función\n",
    "function analisis_mapeo(f::Function,x0,iteraciones::Int)\n",
    "x01=x0\n",
    "n=[]\n",
    "w=[]   \n",
    "v=[]\n",
    "    \n",
    "#Esta parte nos permite capturar el número de iteraciones en el vector n.\n",
    "for _ in 1:iteraciones\n",
    "    xn=f(x0)\n",
    "    x0=xn\n",
    "    push!(n,x0)\n",
    "\n",
    "end\n",
    "   \n",
    "#Esta parte nos permite capturar cada una de las componentes del vector n[a] que está regido por la sucesión a que va como {1,1,\n",
    "#2,2,3,3,4,4,...} en el vector v,el cual nos servirá posteriromente para graficarlo en el eje y.\n",
    "for i in 2:2*iteraciones \n",
    "    a=(1/4)*(2*i + (-1)^(i+1) + 1)\n",
    "    push!(v,n[Int(a)])\n",
    "            \n",
    "end\n",
    "\n",
    "#Esta parte nos permite del mismo modo capturar las componentes del vector n[a] que está regido por la sucesión a que va como \n",
    "#{1,1,2,2,3,3,4,...} en el vector v, pero en esta ocasión la sucesión termina un número antes por lo cual es necesario restarle\n",
    "#1 al límite superior del ciclo for, esto nos servirá posteriormente para graficarlo en el eje x.\n",
    "for i in 1:(2*iteraciones-1) \n",
    "    a=(1/4)*(2*i + (-1)^(i+1) + 1)\n",
    "    push!(w,n[Int(a)])\n",
    "            \n",
    "end\n",
    "    \n",
    "plot(0.0:1/32:5.2, f, xaxis=(L\"x\", 0:5.2), yaxis=(L\"F(x)\",(0.0,2.0)), legend=false, title=L\"F(x)=\\sqrt{x}\", grid=false)\n",
    "plot!(0:5, x->x, color=:red) \n",
    "\n",
    "plot!([x01,x01,n[1]], [-0.5,n[1],n[1]], line=(:green, :path, 2.0, :dot), marker=(:dot, 0.5))\n",
    "plot!([w], [v], line=(:green, :path, 2.0, :dot), marker=(:dot, 0.5))\n",
    "\n",
    "\n",
    "end\n",
    "\n",
    "\n"
   ]
  },
  {
   "cell_type": "code",
   "execution_count": 207,
   "metadata": {},
   "outputs": [
    {
     "data": {
      "application/vnd.plotly.v1+json": {
       "data": [
        {
         "colorbar": {
          "title": ""
         },
         "hoverinfo": "text",
         "legendgroup": "y1",
         "line": {
          "color": "rgba(0, 154, 250, 1.000)",
          "dash": "solid",
          "shape": "linear",
          "width": 1
         },
         "mode": "lines",
         "name": "y1",
         "showlegend": true,
         "text": [
          null,
          null,
          null,
          null,
          null,
          null,
          null,
          null,
          null,
          null,
          null,
          null,
          null,
          null,
          null,
          null,
          null,
          null,
          null,
          null,
          null,
          null,
          null,
          null,
          null,
          null,
          null,
          null,
          null,
          null,
          null,
          null,
          null,
          null,
          null,
          null,
          null,
          null,
          null,
          null,
          null,
          null,
          null,
          null,
          null,
          null,
          null,
          null,
          null,
          null,
          null,
          null,
          null,
          null,
          null,
          null,
          null,
          null,
          null,
          null,
          null,
          null,
          null,
          null,
          null,
          null,
          null,
          null,
          null,
          null,
          null,
          null,
          null,
          null,
          null,
          null,
          null,
          null,
          null,
          null,
          null,
          null,
          null,
          null,
          null,
          null,
          null,
          null,
          null,
          null,
          null,
          null,
          null,
          null,
          null,
          null,
          null,
          null,
          null,
          null,
          null,
          null,
          null,
          null,
          null,
          null,
          null,
          null,
          null,
          null,
          null,
          null,
          null,
          null,
          null,
          null,
          null,
          null,
          null,
          null,
          null,
          null,
          null,
          null,
          null,
          null,
          null,
          null,
          null,
          null,
          null,
          null,
          null,
          null,
          null,
          null,
          null,
          null,
          null,
          null,
          null,
          null,
          null,
          null,
          null,
          null,
          null,
          null,
          null,
          null,
          null,
          null,
          null,
          null,
          null,
          null,
          null,
          null,
          null,
          null,
          null,
          null,
          null,
          null,
          null,
          null,
          null
         ],
         "type": "scatter",
         "x": [
          0,
          0.03125,
          0.0625,
          0.09375,
          0.125,
          0.15625,
          0.1875,
          0.21875,
          0.25,
          0.28125,
          0.3125,
          0.34375,
          0.375,
          0.40625,
          0.4375,
          0.46875,
          0.5,
          0.53125,
          0.5625,
          0.59375,
          0.625,
          0.65625,
          0.6875,
          0.71875,
          0.75,
          0.78125,
          0.8125,
          0.84375,
          0.875,
          0.90625,
          0.9375,
          0.96875,
          1,
          1.03125,
          1.0625,
          1.09375,
          1.125,
          1.15625,
          1.1875,
          1.21875,
          1.25,
          1.28125,
          1.3125,
          1.34375,
          1.375,
          1.40625,
          1.4375,
          1.46875,
          1.5,
          1.53125,
          1.5625,
          1.59375,
          1.625,
          1.65625,
          1.6875,
          1.71875,
          1.75,
          1.78125,
          1.8125,
          1.84375,
          1.875,
          1.90625,
          1.9375,
          1.96875,
          2,
          2.03125,
          2.0625,
          2.09375,
          2.125,
          2.15625,
          2.1875,
          2.21875,
          2.25,
          2.28125,
          2.3125,
          2.34375,
          2.375,
          2.40625,
          2.4375,
          2.46875,
          2.5,
          2.53125,
          2.5625,
          2.59375,
          2.625,
          2.65625,
          2.6875,
          2.71875,
          2.75,
          2.78125,
          2.8125,
          2.84375,
          2.875,
          2.90625,
          2.9375,
          2.96875,
          3,
          3.03125,
          3.0625,
          3.09375,
          3.125,
          3.15625,
          3.1875,
          3.21875,
          3.25,
          3.28125,
          3.3125,
          3.34375,
          3.375,
          3.40625,
          3.4375,
          3.46875,
          3.5,
          3.53125,
          3.5625,
          3.59375,
          3.625,
          3.65625,
          3.6875,
          3.71875,
          3.75,
          3.78125,
          3.8125,
          3.84375,
          3.875,
          3.90625,
          3.9375,
          3.96875,
          4,
          4.03125,
          4.0625,
          4.09375,
          4.125,
          4.15625,
          4.1875,
          4.21875,
          4.25,
          4.28125,
          4.3125,
          4.34375,
          4.375,
          4.40625,
          4.4375,
          4.46875,
          4.5,
          4.53125,
          4.5625,
          4.59375,
          4.625,
          4.65625,
          4.6875,
          4.71875,
          4.75,
          4.78125,
          4.8125,
          4.84375,
          4.875,
          4.90625,
          4.9375,
          4.96875,
          5,
          5.03125,
          5.0625,
          5.09375,
          5.125,
          5.15625,
          5.1875
         ],
         "xaxis": "x1",
         "y": [
          0,
          0.1767766952966369,
          0.25,
          0.30618621784789724,
          0.3535533905932738,
          0.39528470752104744,
          0.4330127018922193,
          0.46770717334674267,
          0.5,
          0.5303300858899106,
          0.5590169943749475,
          0.5863019699779287,
          0.6123724356957945,
          0.6373774391990981,
          0.6614378277661477,
          0.6846531968814576,
          0.7071067811865476,
          0.7288689868556626,
          0.75,
          0.770551750371122,
          0.7905694150420949,
          0.8100925873009825,
          0.82915619758885,
          0.8477912478906585,
          0.8660254037844386,
          0.8838834764831844,
          0.9013878188659973,
          0.9185586535436918,
          0.9354143466934853,
          0.9519716382329886,
          0.9682458365518543,
          0.9842509842514764,
          1,
          1.015504800579495,
          1.0307764064044151,
          1.0458250331675945,
          1.0606601717798212,
          1.0752906583803283,
          1.0897247358851685,
          1.103970108290981,
          1.118033988749895,
          1.1319231422671772,
          1.14564392373896,
          1.159202311936963,
          1.1726039399558574,
          1.1858541225631423,
          1.1989578808281798,
          1.2119199643540823,
          1.224744871391589,
          1.2374368670764582,
          1.25,
          1.2624381172952597,
          1.2747548783981961,
          1.286953767623375,
          1.299038105676658,
          1.3110110602126894,
          1.3228756555322954,
          1.334634781503914,
          1.346291201783626,
          1.357847561400027,
          1.3693063937629153,
          1.3806701271484076,
          1.3919410907075054,
          1.403121520040228,
          1.4142135623730951,
          1.4252192813739224,
          1.4361406616345072,
          1.4469796128487782,
          1.4577379737113252,
          1.4684175155588413,
          1.479019945774904,
          1.489546910976623,
          1.5,
          1.5103807466993215,
          1.5206906325745548,
          1.5309310892394863,
          1.541103500742244,
          1.5512092057488571,
          1.5612494995995996,
          1.571225636247067,
          1.5811388300841898,
          1.590990257669732,
          1.6007810593582121,
          1.6105123408406408,
          1.620185174601965,
          1.6298006013006623,
          1.6393596310755,
          1.648863244784115,
          1.6583123951777,
          1.6677080080157918,
          1.6770509831248424,
          1.6863421954040052,
          1.695582495781317,
          1.704772712123232,
          1.713913650100261,
          1.7230060940112777,
          1.7320508075688772,
          1.741048534648015,
          1.75,
          1.758905909933786,
          1.7677669529663689,
          1.776583800443987,
          1.7853571071357126,
          1.7940875118009154,
          1.8027756377319946,
          1.8114220932736798,
          1.8200274723201295,
          1.8285923547909742,
          1.8371173070873836,
          1.845602882529175,
          1.8540496217739157,
          1.8624580532189174,
          1.8708286933869707,
          1.8791620472966135,
          1.8874586088176875,
          1.8957188610128877,
          1.9039432764659772,
          1.9121323175972944,
          1.920286436967152,
          1.928406077567689,
          1.9364916731037085,
          1.9445436482630056,
          1.9525624189766635,
          1.9605483926697653,
          1.9685019685029528,
          1.976423537605237,
          1.984313483298443,
          1.9921721813136535,
          2,
          2.0077973005261263,
          2.0155644370746373,
          2.023301757029831,
          2.03100960115899,
          2.038688303787511,
          2.0463381929681126,
          2.053959590644373,
          2.0615528128088303,
          2.069118169655856,
          2.0766559657295187,
          2.084166500066633,
          2.091650066335189,
          2.099106952968333,
          2.1065374432940898,
          2.1139418156609704,
          2.1213203435596424,
          2.1286732957408003,
          2.1360009363293826,
          2.143303524935281,
          2.1505813167606567,
          2.1578345627040085,
          2.165063509461097,
          2.172268399622846,
          2.179449471770337,
          2.1866069605669876,
          2.1937410968480306,
          2.200852107707376,
          2.207940216581962,
          2.2150056433336687,
          2.222048604328897,
          2.229069312515876,
          2.23606797749979,
          2.2430448056157952,
          2.25,
          2.2569337606584736,
          2.2638462845343543,
          2.2707377655731187,
          2.277608394786075
         ],
         "yaxis": "y1"
        },
        {
         "colorbar": {
          "title": ""
         },
         "hoverinfo": "text",
         "legendgroup": "y2",
         "line": {
          "color": "rgba(255, 0, 0, 1.000)",
          "dash": "solid",
          "shape": "linear",
          "width": 1
         },
         "mode": "lines",
         "name": "y2",
         "showlegend": true,
         "text": [
          null,
          null,
          null,
          null,
          null,
          null
         ],
         "type": "scatter",
         "x": [
          0,
          1,
          2,
          3,
          4,
          5
         ],
         "xaxis": "x1",
         "y": [
          0,
          1,
          2,
          3,
          4,
          5
         ],
         "yaxis": "y1"
        },
        {
         "colorbar": {
          "title": ""
         },
         "hoverinfo": "text",
         "legendgroup": "y3",
         "line": {
          "color": "rgba(0, 128, 0, 1.000)",
          "dash": "dot",
          "shape": "linear",
          "width": 2
         },
         "marker": {
          "color": "rgba(62, 164, 78, 0.500)",
          "line": {
           "color": "rgba(0, 0, 0, 0.500)",
           "width": 1
          },
          "size": 8,
          "symbol": "circle"
         },
         "mode": "lines+markers",
         "name": "y3",
         "showlegend": true,
         "text": [
          null,
          null,
          null
         ],
         "type": "scatter",
         "x": [
          3,
          3,
          1.7320508075688772
         ],
         "xaxis": "x1",
         "y": [
          -0.5,
          1.7320508075688772,
          1.7320508075688772
         ],
         "yaxis": "y1"
        },
        {
         "colorbar": {
          "title": ""
         },
         "hoverinfo": "text",
         "legendgroup": "y4",
         "line": {
          "color": "rgba(0, 128, 0, 1.000)",
          "dash": "dot",
          "shape": "linear",
          "width": 2
         },
         "marker": {
          "color": "rgba(195, 113, 210, 0.500)",
          "line": {
           "color": "rgba(0, 0, 0, 0.500)",
           "width": 1
          },
          "size": 8,
          "symbol": "circle"
         },
         "mode": "lines+markers",
         "name": "y4",
         "showlegend": true,
         "text": [
          null,
          null,
          null,
          null,
          null,
          null,
          null,
          null,
          null,
          null,
          null,
          null,
          null,
          null,
          null,
          null,
          null,
          null,
          null
         ],
         "type": "scatter",
         "x": [
          1.7320508075688772,
          1.7320508075688772,
          1.3160740129524924,
          1.3160740129524924,
          1.147202690439877,
          1.147202690439877,
          1.0710754830729146,
          1.0710754830729146,
          1.0349277670798647,
          1.0349277670798647,
          1.0173139963058921,
          1.0173139963058921,
          1.0086198472694716,
          1.0086198472694716,
          1.0043006757288733,
          1.0043006757288733,
          1.0021480308461785,
          1.0021480308461785,
          1.0010734392871377
         ],
         "xaxis": "x1",
         "y": [
          1.7320508075688772,
          1.3160740129524924,
          1.3160740129524924,
          1.147202690439877,
          1.147202690439877,
          1.0710754830729146,
          1.0710754830729146,
          1.0349277670798647,
          1.0349277670798647,
          1.0173139963058921,
          1.0173139963058921,
          1.0086198472694716,
          1.0086198472694716,
          1.0043006757288733,
          1.0043006757288733,
          1.0021480308461785,
          1.0021480308461785,
          1.0010734392871377,
          1.0010734392871377
         ],
         "yaxis": "y1"
        }
       ],
       "layout": {
        "annotations": [
         {
          "font": {
           "color": "rgba(0, 0, 0, 1.000)",
           "family": "sans-serif",
           "size": 20
          },
          "rotation": 0,
          "showarrow": false,
          "text": "$F(x)=\\sqrt{x}$",
          "x": 0.5349537037037038,
          "xanchor": "center",
          "xref": "paper",
          "y": 1,
          "yanchor": "top",
          "yref": "paper"
         }
        ],
        "height": 400,
        "margin": {
         "b": 20,
         "l": 0,
         "r": 0,
         "t": 20
        },
        "paper_bgcolor": "rgba(255, 255, 255, 1.000)",
        "plot_bgcolor": "rgba(255, 255, 255, 1.000)",
        "showlegend": false,
        "width": 600,
        "xaxis": {
         "anchor": "y1",
         "domain": [
          0.07646908719743364,
          0.9934383202099737
         ],
         "gridcolor": "rgba(0, 0, 0, 0.100)",
         "gridwidth": 0.5,
         "linecolor": "rgba(0, 0, 0, 1.000)",
         "mirror": false,
         "range": [
          -0.15562499999999999,
          5.343125
         ],
         "showgrid": false,
         "showline": true,
         "showticklabels": true,
         "tickangle": 0,
         "tickcolor": "rgb(0, 0, 0)",
         "tickfont": {
          "color": "rgba(0, 0, 0, 1.000)",
          "family": "sans-serif",
          "size": 11
         },
         "tickmode": "array",
         "ticks": "inside",
         "ticktext": [
          "0",
          "1",
          "2",
          "3",
          "4",
          "5"
         ],
         "tickvals": [
          0,
          1,
          2,
          3,
          4,
          5
         ],
         "title": "$x$",
         "titlefont": {
          "color": "rgba(0, 0, 0, 1.000)",
          "family": "sans-serif",
          "size": 15
         },
         "type": "-",
         "visible": true,
         "zeroline": false,
         "zerolinecolor": "rgba(0, 0, 0, 1.000)"
        },
        "yaxis": {
         "anchor": "x1",
         "domain": [
          0.07581474190726165,
          0.9415463692038496
         ],
         "gridcolor": "rgba(0, 0, 0, 0.100)",
         "gridwidth": 0.5,
         "linecolor": "rgba(0, 0, 0, 1.000)",
         "mirror": false,
         "range": [
          0,
          2
         ],
         "showgrid": false,
         "showline": true,
         "showticklabels": true,
         "tickangle": 0,
         "tickcolor": "rgb(0, 0, 0)",
         "tickfont": {
          "color": "rgba(0, 0, 0, 1.000)",
          "family": "sans-serif",
          "size": 11
         },
         "tickmode": "array",
         "ticks": "inside",
         "ticktext": [
          "0.0",
          "0.5",
          "1.0",
          "1.5",
          "2.0"
         ],
         "tickvals": [
          0,
          0.5,
          1,
          1.5,
          2
         ],
         "title": "$F(x)$",
         "titlefont": {
          "color": "rgba(0, 0, 0, 1.000)",
          "family": "sans-serif",
          "size": 15
         },
         "type": "-",
         "visible": true,
         "zeroline": false,
         "zerolinecolor": "rgba(0, 0, 0, 1.000)"
        }
       }
      },
      "text/html": [
       "<script src=\"file://C:\\Users\\gusta\\.julia\\v0.6\\Plots\\src\\backends\\..\\..\\deps\\plotly-latest.min.js\"></script>    <div id=\"3d3a950b-8a27-49b8-a5f7-1a6240b410a9\" style=\"width:600px;height:400px;\"></div>\n",
       "    <script>\n",
       "    PLOT = document.getElementById('3d3a950b-8a27-49b8-a5f7-1a6240b410a9');\n",
       "    Plotly.plot(PLOT, [{\"xaxis\":\"x1\",\"colorbar\":{\"title\":\"\"},\"yaxis\":\"y1\",\"text\":[null,null,null,null,null,null,null,null,null,null,null,null,null,null,null,null,null,null,null,null,null,null,null,null,null,null,null,null,null,null,null,null,null,null,null,null,null,null,null,null,null,null,null,null,null,null,null,null,null,null,null,null,null,null,null,null,null,null,null,null,null,null,null,null,null,null,null,null,null,null,null,null,null,null,null,null,null,null,null,null,null,null,null,null,null,null,null,null,null,null,null,null,null,null,null,null,null,null,null,null,null,null,null,null,null,null,null,null,null,null,null,null,null,null,null,null,null,null,null,null,null,null,null,null,null,null,null,null,null,null,null,null,null,null,null,null,null,null,null,null,null,null,null,null,null,null,null,null,null,null,null,null,null,null,null,null,null,null,null,null,null,null,null,null,null,null,null],\"x\":[0.0,0.03125,0.0625,0.09375,0.125,0.15625,0.1875,0.21875,0.25,0.28125,0.3125,0.34375,0.375,0.40625,0.4375,0.46875,0.5,0.53125,0.5625,0.59375,0.625,0.65625,0.6875,0.71875,0.75,0.78125,0.8125,0.84375,0.875,0.90625,0.9375,0.96875,1.0,1.03125,1.0625,1.09375,1.125,1.15625,1.1875,1.21875,1.25,1.28125,1.3125,1.34375,1.375,1.40625,1.4375,1.46875,1.5,1.53125,1.5625,1.59375,1.625,1.65625,1.6875,1.71875,1.75,1.78125,1.8125,1.84375,1.875,1.90625,1.9375,1.96875,2.0,2.03125,2.0625,2.09375,2.125,2.15625,2.1875,2.21875,2.25,2.28125,2.3125,2.34375,2.375,2.40625,2.4375,2.46875,2.5,2.53125,2.5625,2.59375,2.625,2.65625,2.6875,2.71875,2.75,2.78125,2.8125,2.84375,2.875,2.90625,2.9375,2.96875,3.0,3.03125,3.0625,3.09375,3.125,3.15625,3.1875,3.21875,3.25,3.28125,3.3125,3.34375,3.375,3.40625,3.4375,3.46875,3.5,3.53125,3.5625,3.59375,3.625,3.65625,3.6875,3.71875,3.75,3.78125,3.8125,3.84375,3.875,3.90625,3.9375,3.96875,4.0,4.03125,4.0625,4.09375,4.125,4.15625,4.1875,4.21875,4.25,4.28125,4.3125,4.34375,4.375,4.40625,4.4375,4.46875,4.5,4.53125,4.5625,4.59375,4.625,4.65625,4.6875,4.71875,4.75,4.78125,4.8125,4.84375,4.875,4.90625,4.9375,4.96875,5.0,5.03125,5.0625,5.09375,5.125,5.15625,5.1875],\"showlegend\":true,\"mode\":\"lines\",\"name\":\"y1\",\"legendgroup\":\"y1\",\"line\":{\"color\":\"rgba(0, 154, 250, 1.000)\",\"shape\":\"linear\",\"dash\":\"solid\",\"width\":1},\"y\":[0.0,0.1767766952966369,0.25,0.30618621784789724,0.3535533905932738,0.39528470752104744,0.4330127018922193,0.46770717334674267,0.5,0.5303300858899106,0.5590169943749475,0.5863019699779287,0.6123724356957945,0.6373774391990981,0.6614378277661477,0.6846531968814576,0.7071067811865476,0.7288689868556626,0.75,0.770551750371122,0.7905694150420949,0.8100925873009825,0.82915619758885,0.8477912478906585,0.8660254037844386,0.8838834764831844,0.9013878188659973,0.9185586535436918,0.9354143466934853,0.9519716382329886,0.9682458365518543,0.9842509842514764,1.0,1.015504800579495,1.0307764064044151,1.0458250331675945,1.0606601717798212,1.0752906583803283,1.0897247358851685,1.103970108290981,1.118033988749895,1.1319231422671772,1.14564392373896,1.159202311936963,1.1726039399558574,1.1858541225631423,1.1989578808281798,1.2119199643540823,1.224744871391589,1.2374368670764582,1.25,1.2624381172952597,1.2747548783981961,1.286953767623375,1.299038105676658,1.3110110602126894,1.3228756555322954,1.334634781503914,1.346291201783626,1.357847561400027,1.3693063937629153,1.3806701271484076,1.3919410907075054,1.403121520040228,1.4142135623730951,1.4252192813739224,1.4361406616345072,1.4469796128487782,1.4577379737113252,1.4684175155588413,1.479019945774904,1.489546910976623,1.5,1.5103807466993215,1.5206906325745548,1.5309310892394863,1.541103500742244,1.5512092057488571,1.5612494995995996,1.571225636247067,1.5811388300841898,1.590990257669732,1.6007810593582121,1.6105123408406408,1.620185174601965,1.6298006013006623,1.6393596310755,1.648863244784115,1.6583123951777,1.6677080080157918,1.6770509831248424,1.6863421954040052,1.695582495781317,1.704772712123232,1.713913650100261,1.7230060940112777,1.7320508075688772,1.741048534648015,1.75,1.758905909933786,1.7677669529663689,1.776583800443987,1.7853571071357126,1.7940875118009154,1.8027756377319946,1.8114220932736798,1.8200274723201295,1.8285923547909742,1.8371173070873836,1.845602882529175,1.8540496217739157,1.8624580532189174,1.8708286933869707,1.8791620472966135,1.8874586088176875,1.8957188610128877,1.9039432764659772,1.9121323175972944,1.920286436967152,1.928406077567689,1.9364916731037085,1.9445436482630056,1.9525624189766635,1.9605483926697653,1.9685019685029528,1.976423537605237,1.984313483298443,1.9921721813136535,2.0,2.0077973005261263,2.0155644370746373,2.023301757029831,2.03100960115899,2.038688303787511,2.0463381929681126,2.053959590644373,2.0615528128088303,2.069118169655856,2.0766559657295187,2.084166500066633,2.091650066335189,2.099106952968333,2.1065374432940898,2.1139418156609704,2.1213203435596424,2.1286732957408003,2.1360009363293826,2.143303524935281,2.1505813167606567,2.1578345627040085,2.165063509461097,2.172268399622846,2.179449471770337,2.1866069605669876,2.1937410968480306,2.200852107707376,2.207940216581962,2.2150056433336687,2.222048604328897,2.229069312515876,2.23606797749979,2.2430448056157952,2.25,2.2569337606584736,2.2638462845343543,2.2707377655731187,2.277608394786075],\"type\":\"scatter\",\"hoverinfo\":\"text\"},{\"xaxis\":\"x1\",\"colorbar\":{\"title\":\"\"},\"yaxis\":\"y1\",\"text\":[null,null,null,null,null,null],\"x\":[0,1,2,3,4,5],\"showlegend\":true,\"mode\":\"lines\",\"name\":\"y2\",\"legendgroup\":\"y2\",\"line\":{\"color\":\"rgba(255, 0, 0, 1.000)\",\"shape\":\"linear\",\"dash\":\"solid\",\"width\":1},\"y\":[0,1,2,3,4,5],\"type\":\"scatter\",\"hoverinfo\":\"text\"},{\"xaxis\":\"x1\",\"colorbar\":{\"title\":\"\"},\"yaxis\":\"y1\",\"text\":[null,null,null],\"x\":[3.0,3.0,1.7320508075688772],\"showlegend\":true,\"mode\":\"lines+markers\",\"name\":\"y3\",\"legendgroup\":\"y3\",\"marker\":{\"symbol\":\"circle\",\"color\":\"rgba(62, 164, 78, 0.500)\",\"line\":{\"color\":\"rgba(0, 0, 0, 0.500)\",\"width\":1},\"size\":8},\"line\":{\"color\":\"rgba(0, 128, 0, 1.000)\",\"shape\":\"linear\",\"dash\":\"dot\",\"width\":2.0},\"y\":[-0.5,1.7320508075688772,1.7320508075688772],\"type\":\"scatter\",\"hoverinfo\":\"text\"},{\"xaxis\":\"x1\",\"colorbar\":{\"title\":\"\"},\"yaxis\":\"y1\",\"text\":[null,null,null,null,null,null,null,null,null,null,null,null,null,null,null,null,null,null,null],\"x\":[1.7320508075688772,1.7320508075688772,1.3160740129524924,1.3160740129524924,1.147202690439877,1.147202690439877,1.0710754830729146,1.0710754830729146,1.0349277670798647,1.0349277670798647,1.0173139963058921,1.0173139963058921,1.0086198472694716,1.0086198472694716,1.0043006757288733,1.0043006757288733,1.0021480308461785,1.0021480308461785,1.0010734392871377],\"showlegend\":true,\"mode\":\"lines+markers\",\"name\":\"y4\",\"legendgroup\":\"y4\",\"marker\":{\"symbol\":\"circle\",\"color\":\"rgba(195, 113, 210, 0.500)\",\"line\":{\"color\":\"rgba(0, 0, 0, 0.500)\",\"width\":1},\"size\":8},\"line\":{\"color\":\"rgba(0, 128, 0, 1.000)\",\"shape\":\"linear\",\"dash\":\"dot\",\"width\":2.0},\"y\":[1.7320508075688772,1.3160740129524924,1.3160740129524924,1.147202690439877,1.147202690439877,1.0710754830729146,1.0710754830729146,1.0349277670798647,1.0349277670798647,1.0173139963058921,1.0173139963058921,1.0086198472694716,1.0086198472694716,1.0043006757288733,1.0043006757288733,1.0021480308461785,1.0021480308461785,1.0010734392871377,1.0010734392871377],\"type\":\"scatter\",\"hoverinfo\":\"text\"}], {\"showlegend\":false,\"xaxis\":{\"showticklabels\":true,\"gridwidth\":0.5,\"tickvals\":[0.0,1.0,2.0,3.0,4.0,5.0],\"visible\":true,\"ticks\":\"inside\",\"range\":[-0.15562499999999999,5.343125],\"domain\":[0.07646908719743364,0.9934383202099737],\"tickmode\":\"array\",\"linecolor\":\"rgba(0, 0, 0, 1.000)\",\"showgrid\":false,\"title\":\"$x$\",\"mirror\":false,\"tickangle\":0,\"showline\":true,\"gridcolor\":\"rgba(0, 0, 0, 0.100)\",\"titlefont\":{\"color\":\"rgba(0, 0, 0, 1.000)\",\"family\":\"sans-serif\",\"size\":15},\"tickcolor\":\"rgb(0, 0, 0)\",\"ticktext\":[\"0\",\"1\",\"2\",\"3\",\"4\",\"5\"],\"zeroline\":false,\"type\":\"-\",\"tickfont\":{\"color\":\"rgba(0, 0, 0, 1.000)\",\"family\":\"sans-serif\",\"size\":11},\"zerolinecolor\":\"rgba(0, 0, 0, 1.000)\",\"anchor\":\"y1\"},\"paper_bgcolor\":\"rgba(255, 255, 255, 1.000)\",\"annotations\":[{\"yanchor\":\"top\",\"xanchor\":\"center\",\"rotation\":-0.0,\"y\":1.0,\"font\":{\"color\":\"rgba(0, 0, 0, 1.000)\",\"family\":\"sans-serif\",\"size\":20},\"yref\":\"paper\",\"showarrow\":false,\"text\":\"$F(x)=\\\\sqrt{x}$\",\"xref\":\"paper\",\"x\":0.5349537037037038}],\"height\":400,\"margin\":{\"l\":0,\"b\":20,\"r\":0,\"t\":20},\"plot_bgcolor\":\"rgba(255, 255, 255, 1.000)\",\"yaxis\":{\"showticklabels\":true,\"gridwidth\":0.5,\"tickvals\":[0.0,0.5,1.0,1.5,2.0],\"visible\":true,\"ticks\":\"inside\",\"range\":[0.0,2.0],\"domain\":[0.07581474190726165,0.9415463692038496],\"tickmode\":\"array\",\"linecolor\":\"rgba(0, 0, 0, 1.000)\",\"showgrid\":false,\"title\":\"$F(x)$\",\"mirror\":false,\"tickangle\":0,\"showline\":true,\"gridcolor\":\"rgba(0, 0, 0, 0.100)\",\"titlefont\":{\"color\":\"rgba(0, 0, 0, 1.000)\",\"family\":\"sans-serif\",\"size\":15},\"tickcolor\":\"rgb(0, 0, 0)\",\"ticktext\":[\"0.0\",\"0.5\",\"1.0\",\"1.5\",\"2.0\"],\"zeroline\":false,\"type\":\"-\",\"tickfont\":{\"color\":\"rgba(0, 0, 0, 1.000)\",\"family\":\"sans-serif\",\"size\":11},\"zerolinecolor\":\"rgba(0, 0, 0, 1.000)\",\"anchor\":\"x1\"},\"width\":600});\n",
       "    </script>\n"
      ]
     },
     "execution_count": 207,
     "metadata": {},
     "output_type": "execute_result"
    }
   ],
   "source": [
    "f(x) = sqrt(x)\n",
    "analisis_mapeo(f,3,10)"
   ]
  },
  {
   "cell_type": "markdown",
   "metadata": {},
   "source": [
    "## 3\n",
    "\n",
    "- Usen el análisis gráfico para encontrar los puntos de periodo dos del mapeo $F(x) = x^2 -1.1$. Den explícitamente los puntos fijos.\n",
    "    \n",
    "- Usen el método de Newton, usando iterados iniciales  sagazmente seleccionados, para obtener los puntos fijos."
   ]
  },
  {
   "cell_type": "markdown",
   "metadata": {},
   "source": []
  },
  {
   "cell_type": "markdown",
   "metadata": {},
   "source": [
    "## 4\n",
    "\n",
    "Hagan un análisis completo de las posibles órbitas de los siguientes mapeos, usando distintos colores para distintas órbitas. Interesa entre otras cosas saber cuántos puntos fijos tiene y cómo es la dinámica cerca de ésos puntos.\n",
    "\n",
    "- $F_1(x) = \\frac{1}{3x}$.\n",
    "\n",
    "- $F_2(x) = -\\frac{x^5}{5}$.\n",
    "\n",
    "- $F_3(x) = \\frac{x}{2}-2$."
   ]
  },
  {
   "cell_type": "code",
   "execution_count": null,
   "metadata": {},
   "outputs": [],
   "source": []
  },
  {
   "cell_type": "markdown",
   "metadata": {},
   "source": [
    "## 5\n",
    "\n",
    "- Para el mapeo mapeo $F(x) = x^2-2$ en el intervalo $[-2,2]$ (ejercicio 1), consideren un punto al azar en el intervalo $[-2,2]$ y construyan una órbita muy larga, por ejemplo, de $20\\,000$ iterados. Obtengan el histograma de frecuencia (normalizado) de visita de los puntos de la órbita. ¿Qué conclusión podemos sacar de este histograma?\n",
    "\n",
    "- \\Repitan el inciso anterior para el mapeo: $G(x) = 2x \\mod 1$ en el intervalo [0,1].\n",
    "\n",
    "(NOTA: En cuanto al histograma, pueden construir su propia función que haga el histograma, o buscar en las entrañas de la documentación.)"
   ]
  },
  {
   "cell_type": "code",
   "execution_count": null,
   "metadata": {},
   "outputs": [],
   "source": []
  },
  {
   "cell_type": "markdown",
   "metadata": {},
   "source": [
    "## 6\n",
    "\n",
    "Analicen los mapeos\n",
    "\n",
    "- F(x) = x^2,\n",
    "\n",
    "- F(x) = x^3,\n",
    "\n",
    "- F(x) = -x^3,\n",
    "\n",
    "que se satisface $F(0) = F'(0) = 0$. ¿Qué podemos decir de la convergencia?"
   ]
  },
  {
   "cell_type": "code",
   "execution_count": null,
   "metadata": {},
   "outputs": [],
   "source": []
  },
  {
   "cell_type": "markdown",
   "metadata": {},
   "source": [
    "## 7\n",
    "\n",
    "Analicen los mapeos\n",
    "\n",
    "- F(x) = x,\n",
    "\n",
    "- F(x) = -x,\n",
    "\n",
    "- F(x) = x-x^2,\n",
    "\n",
    "que se satisface $F(0) = 0$ y $|F'(0)| = 1$. (Este tipo de puntos son *neutralmente* atractivos o repulsivos.) ¿Qué podemos decir de la convergencia?"
   ]
  },
  {
   "cell_type": "code",
   "execution_count": null,
   "metadata": {},
   "outputs": [],
   "source": []
  },
  {
   "cell_type": "markdown",
   "metadata": {},
   "source": [
    "## 8\n",
    "\n",
    "En el ejercicio 3, implementaron el análisis gráfico (y el método de Newton) para encontrar los puntos de periodo dos del mapeo $F(x) = x^2 -1.1$. Usen el módulo de duales para mostrar la estabilidad de esos puntos."
   ]
  },
  {
   "cell_type": "code",
   "execution_count": null,
   "metadata": {},
   "outputs": [],
   "source": []
  }
 ],
 "metadata": {
  "kernel_info": {
   "name": "julia-0.6"
  },
  "kernelspec": {
   "display_name": "Julia 0.6.4",
   "language": "julia",
   "name": "julia-0.6"
  },
  "language_info": {
   "file_extension": ".jl",
   "mimetype": "application/julia",
   "name": "julia",
   "version": "0.6.4"
  },
  "nteract": {
   "version": "0.11.6"
  }
 },
 "nbformat": 4,
 "nbformat_minor": 2
}
