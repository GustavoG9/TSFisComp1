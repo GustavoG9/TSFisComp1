{
 "cells": [
  {
   "cell_type": "markdown",
   "metadata": {},
   "source": [
    "# Tarea 4"
   ]
  },
  {
   "cell_type": "markdown",
   "metadata": {},
   "source": [
    "**Envío del PR inicial:** viernes 28 de septiembre\n",
    "\n",
    "**Aceptación del PR:** martes 9 de octubre"
   ]
  },
  {
   "cell_type": "markdown",
   "metadata": {},
   "source": [
    "### Documentación del módulo $Mapeos.jl$"
   ]
  },
  {
   "cell_type": "markdown",
   "metadata": {},
   "source": [
    "A grandes rasgos, el módulo `Mapeos.jl` contiene dos cosas útiles para el cálculo y análisis de órbitas. \n",
    "\n",
    "#### A. Tipo Mapeo (F, $x_0$; n)\n",
    "\n",
    "El tipo `Mapeo` es un \"ente\" que contiene dentro suyo toda la información relevante de un mapeo, se define un mapeo de la siguiente forma\n",
    "\n",
    "```julia\n",
    "    mi_mapeo = Mapeo(F, x₀, n)\n",
    "```\n",
    "En donde `F` es una función, esto es el mapeo, `x₀` la condición inicial sobre la cual iterar, `n` el número de iteraciones. \n",
    "\n",
    "Dos puntos importantes deben mencionarse acerca de `Mapeo`:\n",
    "\n",
    "##### [1] El tipo $Mapeo$ contiene 5 campos que pueden resultar útiles.\n",
    "    \n",
    "- `F::Function` es la función `F` que es evaluada en el punto inicial $x_0$.\n",
    "\n",
    "- `x₀::Real` es la condición inicial a partir de la cual comienza a iterarse la función `F` para generar la órbita del mapeo.\n",
    "\n",
    "- `n::Int` es el número de iteraciones que se aplicarán a la función `F`.\n",
    "\n",
    "- `xnn::Vector{Float64}` es un vector que tiene por componenetes al punto inicial $x_0$ como primer elemento, y a cada uno de los $n$ iterados $X^n$.\n",
    "\n",
    "- `div::Bool` es una variable booleana que devuelve la etiqueta `true` si la órbita diverge a infinito positivo (o a infitino negativo) en algún iterado $X^n$ elemento del vector $xnn$, o `false` si la órbita está definida (no diverge).\n",
    "\n",
    "##### Ejemplo\n",
    "\n",
    "Considérese el siguiente mapeo\n",
    "\n",
    "```julia\n",
    "Mapeo1 = Mapeo(G, 3.0, 100)\n",
    "```\n",
    "\n",
    "Para acceder a los disntintos campos se utiliza lo siguiente:\n",
    "\n",
    "- `Mapeo1.F` devuelve la función `G` del mapeo $Mapeo1$.\n",
    "\n",
    "- `Mapeo1.x₀` arroja la condición inicial a partir de la cual comienza a iterarse la función `G` para generar la órbita del mapeo.\n",
    "\n",
    "- `Mapeo1.n` devuelve el número de iteraciones que se aplicaron a la función `G`.\n",
    "\n",
    "- `Mapeo1.xnn` arroja el vector que genera la órbita de Mapeo1. Tiene por componenetes al punto inicial $x_0  = 3.0$ como primer elemento, y a cada uno de los $100$ iterados $X^n$ (desde $X^1$ hasta $X^{100}$).\n",
    "\n",
    "- `div::Bool` es una variable booleana que devuelve la etiqueta `true` si la órbita diverge a infinito positivo (o a infitino negativo) en alguno de los $100$ iterados $X^n$ (elemenetos del vector $xnn$), o `false` si la órbita está definida (no diverge).\n",
    "\n",
    "[2] El tipo `Mapeo` tiene un atributo `inf` el cual es una cantidad numérica a partir de la cual se considera que un iterado en el mapeo de F diverge a $\\infty$. Por default se ha establecido el valor de este atributo como $inf=1e7$.\n",
    "\n",
    "\n",
    "#### B. Función grafica_mapeo\n",
    "\n",
    "La función `grafica_mapeo` genera el análisis gráfico correspondiente a la órbita del mapeo `F(x)` evaluado en el punto inicial $x_0$ e iterado un número $n$ de veces.  \n",
    "\n",
    "`grafica_mapeo(F, n)` recibe un mapeo `F` y el intervalo de iteraciones que se desean incluir en el análisis gráfico. Se pueden añadir argumentos adicionales compatibles con `Plots`.\n",
    "\n",
    "##### Ejemplo\n",
    "\n",
    "```julia\n",
    "    Mapeo1 = Mapeo(G, 3.0, 100)\n",
    "```\n",
    "Para graficar la órbita de este mapeo basta\n",
    "\n",
    "```julia\n",
    "    grafica_mapeo(Mapeo1, 1:20, kws...)\n",
    "```\n",
    "En dónde `kws` son argumentos de `Plots`.\n",
    "Lo anterior generará la gráfica de la órbita de `Mapeo1`, es posible graficar dos órbitas juntas, si existe un mapeo `Mapeo2` basta hacer\n",
    "\n",
    "```julia\n",
    "    grafica_mapeo!(Mapeo2, 1:20, kws...)\n",
    "```"
   ]
  },
  {
   "cell_type": "code",
   "execution_count": null,
   "metadata": {},
   "outputs": [],
   "source": [
    "include(\"Mapeos.jl\")\n",
    "using Plots, LaTeXStrings, Mapeos"
   ]
  },
  {
   "cell_type": "markdown",
   "metadata": {},
   "source": [
    "## 1\n",
    "\n",
    "Para el mapeo $Q_c(x) = x^2 + c$, ¿cuál es el dominio $\\cal{D}\\subset \\mathbb{R}$ de $Q_c(x)$ tal que la órbita generada por una condición inicial $x_0\\in \\cal{D}$ *no* escapa a infinito a ningún tiempo?"
   ]
  },
  {
   "cell_type": "code",
   "execution_count": null,
   "metadata": {},
   "outputs": [],
   "source": []
  },
  {
   "cell_type": "markdown",
   "metadata": {},
   "source": [
    "## 2\n",
    "\n",
    "- Obtengan el diagrama de bifurcación que se muestra en la Fig. 2 del mapeo $Q_c(x)$ a partir de la iteración de una condición inicial.\n",
    "\n",
    "- Caractericen la cuenca de atracción de $p_-(c)$ cuando el punto es estable.\n"
   ]
  },
  {
   "cell_type": "code",
   "execution_count": null,
   "metadata": {},
   "outputs": [],
   "source": []
  },
  {
   "cell_type": "markdown",
   "metadata": {},
   "source": [
    "## 3\n",
    "\n",
    "Para el mapeo $F_\\lambda(x) = \\lambda x(1-x)$, ¿qué podemos decir de la bifurcación que ocurre en $\\lambda_0=1$? ¿Es o no una bifurcación de silla-nodo?"
   ]
  },
  {
   "cell_type": "code",
   "execution_count": null,
   "metadata": {},
   "outputs": [],
   "source": []
  },
  {
   "cell_type": "markdown",
   "metadata": {},
   "source": [
    "## 4\n",
    "\n",
    "- Obtengan numéricamente el diagrama de bifurcación del mapeo $Q_c(x)$ a partir de la iteración de una condición inicial en el intervalo de parámetros $-2<c<1/4$. Para esto se necesita iterar un gran número de veces (hasta llegar al ciclo periódico) condiciones iniciales, y repetir esto para *muchos* valores de $c$ en el intervalo. Vale la pena hacer notar que, si hay ciclos periódicos, *a priori* no conocen su periodicidad.\n",
    "\n",
    "- Para ciertos valores de $c$ característicos, muestren el análisis gráfico del mapeo $Q_c(x)$ a fin de entender los resultados.\n"
   ]
  },
  {
   "cell_type": "code",
   "execution_count": null,
   "metadata": {},
   "outputs": [],
   "source": []
  },
  {
   "cell_type": "markdown",
   "metadata": {},
   "source": [
    "## 5\n",
    "\n",
    "El objetivo de este ejercicio es relacionar, la velocidad de convergencia con que un punto fijo (o una órbita periódica, en el caso de los dos últimos incisos) atraen a puntos suficientemente cercanos, con la derivada del mapeo en el punto fijo (o ciclo periódico). La idea es, entonces, calcular primero el punto fijo y, después, medir cómo la distancia de los iterados sucesivos (de una condición inicial $x_0$) al punto fijo se comporta en el tiempo, para los siguientes mapeos:\n",
    "\n",
    "- $F(x) = x^2+0.25$\n",
    "\n",
    "- $F(x) = 3x(1-x)$\n",
    "\n",
    "- $F(x) = \\exp(x-1)$\n",
    "\n",
    "- $F(x) = x^2 - 1.25$\n",
    "\n",
    "- $F(x) = \\exp(x+1)$\n",
    "\n",
    "Deberán resolver algunas cosas intermedias. Por ejemplo, ¿qué tanto deben acercarse al punto fijo, a fin de evitar ruido numérico? ¿Qué hay que hacer en el caso en que el punto tenga una estabilidad neutra, i.e., no sea no atractivo ni repulsivo?\n",
    "\n",
    "En los dos últimos incisos, el interés está en los ciclos de periodo 2."
   ]
  },
  {
   "cell_type": "code",
   "execution_count": null,
   "metadata": {
    "collapsed": true
   },
   "outputs": [],
   "source": []
  }
 ],
 "metadata": {
  "kernelspec": {
   "display_name": "Julia 0.6.4",
   "language": "julia",
   "name": "julia-0.6"
  },
  "language_info": {
   "file_extension": ".jl",
   "mimetype": "application/julia",
   "name": "julia",
   "version": "0.6.4"
  },
  "nteract": {
   "version": "0.11.6"
  }
 },
 "nbformat": 4,
 "nbformat_minor": 1
}
