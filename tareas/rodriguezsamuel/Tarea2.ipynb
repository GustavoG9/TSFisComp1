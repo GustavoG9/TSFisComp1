{
 "cells": [
  {
   "cell_type": "markdown",
   "metadata": {},
   "source": [
    "# Tarea 2"
   ]
  },
  {
   "cell_type": "markdown",
   "metadata": {},
   "source": [
    "**Envío del PR inicial: 07.09.2018**\n",
    "\n",
    "**Aceptación del PR: 14.09.2018**"
   ]
  },
  {
   "cell_type": "markdown",
   "metadata": {},
   "source": [
    "## 1\n",
    "\n",
    "Extiendan los operadores `+`, `-`, `*` y `/` para que funcionen cuando una de las dos entradas es un `Dual` y la otra es un `Real` (número cualquiera), sin importar el orden."
   ]
  },
  {
   "cell_type": "code",
   "execution_count": 1,
   "metadata": {},
   "outputs": [
    {
     "data": {
      "text/plain": [
       "dual (generic function with 1 method)"
      ]
     },
     "execution_count": 1,
     "metadata": {},
     "output_type": "execute_result"
    }
   ],
   "source": [
    "\"\"\"\n",
    "    Dual\n",
    "\n",
    "Definición de los números duales. Los campos internos son\n",
    "    x  :: Float64   # valor de la función\n",
    "    x′ :: Float64   # valor de su derivada\n",
    "\n",
    "\"\"\"\n",
    "struct Dual\n",
    "    x  :: Float64\n",
    "    x′ :: Float64\n",
    "end\n",
    "\n",
    "Dual(c::Real) = Dual(c, 0.0)\n",
    "dual(x0::Real) = Dual(x0, 1.0)"
   ]
  },
  {
   "cell_type": "code",
   "execution_count": 3,
   "metadata": {},
   "outputs": [
    {
     "data": {
      "text/plain": [
       "^ (generic function with 53 methods)"
      ]
     },
     "execution_count": 3,
     "metadata": {},
     "output_type": "execute_result"
    }
   ],
   "source": [
    "# Importamos la definición de los siguientes operadores\n",
    "import Base: +, -, *, /, ^\n",
    "\n",
    "+(u::Dual, v::Dual) = Dual( u.x + v.x, u.x′ + v.x′)\n",
    "\n",
    "-(u::Dual, v::Dual) = Dual( u.x - v.x, u.x′ - v.x′)\n",
    "\n",
    "*(u::Dual, v::Dual) = Dual( u.x * v.x, u.x * v.x′ + u.x′ * v.x)\n",
    "\n",
    "function /(u::Dual, v::Dual)\n",
    "    y = u.x / v.x\n",
    "    Dual( y, (u.x′ - y * v.x′)/v.x )\n",
    "end\n",
    "\n",
    "function ^(a::Dual, n::Int)\n",
    "    y = a.x^(n-1)\n",
    "    Dual(a.x * y, n*y*a.x′)\n",
    "end"
   ]
  },
  {
   "cell_type": "code",
   "execution_count": 4,
   "metadata": {},
   "outputs": [
    {
     "data": {
      "text/plain": [
       "/ (generic function with 76 methods)"
      ]
     },
     "execution_count": 4,
     "metadata": {},
     "output_type": "execute_result"
    }
   ],
   "source": [
    "#+\n",
    "+(a::Real, u::Dual) = Dual( a + u.x, u.x′)\n",
    "+(u::Dual, a::Real) = Dual( a + u.x, u.x′)\n",
    "#-\n",
    "-(a::Real, u::Dual) = Dual( a - u.x, -u.x′)\n",
    "-(u::Dual, a::Real) = Dual( u.x - a, u.x′)\n",
    "#*\n",
    "*(a::Real, u::Dual) = Dual(u.x*a,u.x′*a)\n",
    "*(u::Dual, a::Real) = Dual(u.x*a,u.x′*a)\n",
    "#/\n",
    "function /(a::Real,u::Dual)\n",
    "    y = a / u.x\n",
    "    Dual( y, (-y * u.x′)/u.x )\n",
    "end\n",
    "/(u::Dual, a::Real)=Dual( u.x/a, u.x′/a )"
   ]
  },
  {
   "cell_type": "code",
   "execution_count": 5,
   "metadata": {},
   "outputs": [
    {
     "data": {
      "text/plain": [
       "Dual(-0.5, 1.25)"
      ]
     },
     "execution_count": 5,
     "metadata": {},
     "output_type": "execute_result"
    }
   ],
   "source": [
    "Dual(-1,0)/Dual(2,5)"
   ]
  },
  {
   "cell_type": "markdown",
   "metadata": {},
   "source": [
    "## 2\n",
    "\n",
    "Construyan 2 tests para cada una de las operaciones aritméticas definidas para los `Dual`es, incluyendo las que definieron en el ejercicio 1."
   ]
  },
  {
   "cell_type": "code",
   "execution_count": 6,
   "metadata": {
    "collapsed": true
   },
   "outputs": [],
   "source": [
    "using Base.Test"
   ]
  },
  {
   "cell_type": "code",
   "execution_count": 7,
   "metadata": {},
   "outputs": [
    {
     "data": {
      "text/plain": [
       "\u001b[1m\u001b[32mTest Passed\u001b[39m\u001b[22m"
      ]
     },
     "execution_count": 7,
     "metadata": {},
     "output_type": "execute_result"
    }
   ],
   "source": [
    "#+\n",
    "@test Dual(1,2)+Dual(-1,-2) == Dual(0.0)\n",
    "@test Dual(1,2)+Dual(1,2) == Dual(2,4)\n",
    "\n",
    "@test 1+Dual(1,1) == Dual(2,1)\n",
    "@test -0.5+Dual(1,0)==Dual(.5,0)\n",
    "@test Dual(0,1)+5.0==Dual(5,1)\n",
    "@test Dual(-1,-1)+1==Dual(0,-1)\n",
    "#-\n",
    "@test Dual(1,2)-Dual(-1,-2) == Dual(2,4)\n",
    "@test Dual(1,2)-Dual(1,2) == Dual(0)\n",
    "\n",
    "@test 1-Dual(1,1) == Dual(0,-1.0)\n",
    "@test -0.5-Dual(1,0)==Dual(-1.5,-0.0)\n",
    "@test Dual(0,1.1)-5==Dual(-5,1.1)\n",
    "@test Dual(-1,-1)-1==Dual(-2,-1)\n",
    "#*\n",
    "@test Dual(2,3)*Dual(2,3) == Dual(4,12)\n",
    "@test Dual(2,-5)*Dual(2,5) == Dual(4,0)\n",
    "\n",
    "@test 2*Dual(3,5)==Dual(6,10)\n",
    "@test -3.3*Dual(2,-1)==Dual(-6.6,3.3)\n",
    "@test Dual(5,2)*1==Dual(5,2)\n",
    "@test Dual(2,3)*-6==Dual(-12,-18)\n",
    "#/\n",
    "@test Dual(2,2)/Dual(0.5,0.5)==Dual(4,0)\n",
    "@test Dual(6,-6)/Dual(2,3)==Dual(3,-7.5)\n",
    "\n",
    "@test 6/Dual(3,3)==Dual(6,0)/Dual(3,3)\n",
    "@test -1/Dual(2,5)==Dual(-0.5,1.25)\n",
    "@test Dual(1,-2)/4==Dual(0.25,-0.5)\n",
    "@test Dual(-1,1)/0==Dual(-Inf,Inf)\n",
    "#^\n",
    "@test Dual(2,2)^2==Dual(2,2)*Dual(2,2)\n",
    "prueba=1\n",
    "for i in 1:10\n",
    "    prueba=prueba*Dual(2,-3)\n",
    "end\n",
    "@test Dual(2,-3)^10==prueba"
   ]
  },
  {
   "cell_type": "markdown",
   "metadata": {},
   "source": [
    "## 3\n",
    "\n",
    "Sobrecarguen la función `show` (que está en Base) para que cuando se impriman los duales aparezcan con la notación $\\varepsilon$ que usamos al principio de este notebook, por ejemplo, el resultado de `Dual(1,2)` debe ser parecido a `1.0 + 2.0 ε`."
   ]
  },
  {
   "cell_type": "code",
   "execution_count": 8,
   "metadata": {},
   "outputs": [
    {
     "data": {
      "text/plain": [
       "show (generic function with 271 methods)"
      ]
     },
     "execution_count": 8,
     "metadata": {},
     "output_type": "execute_result"
    }
   ],
   "source": [
    "import Base.show\n",
    "function show(u::Dual)\n",
    "    print(string(u.x)*\" + \"*string(u.x′)*\"ε\")\n",
    "end"
   ]
  },
  {
   "cell_type": "code",
   "execution_count": 9,
   "metadata": {},
   "outputs": [
    {
     "name": "stdout",
     "output_type": "stream",
     "text": [
      "1.0 + 2.0ε"
     ]
    }
   ],
   "source": [
    "u=Dual(1.0,2)\n",
    "show(u)"
   ]
  },
  {
   "cell_type": "markdown",
   "metadata": {},
   "source": [
    "## 4\n",
    "\n",
    "Obtengan la derivada de \n",
    "$$g(x) = \\frac{3x^2-8x+5}{7x^3-1}$$\n",
    "en $x_0=1$."
   ]
  },
  {
   "cell_type": "code",
   "execution_count": 10,
   "metadata": {},
   "outputs": [
    {
     "data": {
      "text/plain": [
       "\u001b[1m\u001b[32mTest Passed\u001b[39m\u001b[22m"
      ]
     },
     "execution_count": 10,
     "metadata": {},
     "output_type": "execute_result"
    }
   ],
   "source": [
    "g(x)=(3*x^2-8*x+5)/(7*x^3-1)\n",
    "y=dual(1)\n",
    "g(y)\n",
    "\n",
    "h(x)=(-21*x^4+112*x^3-105*x^2-6*x+8)/((7*x^3-1)^2)\n",
    "z=Dual(0.0,h(1))\n",
    "\n",
    "@test g(y)==z"
   ]
  },
  {
   "cell_type": "markdown",
   "metadata": {},
   "source": [
    "## 5\n",
    "\n",
    "- Recordando la regla de la cadena(!!!), extiendan el usar los `Dual` a las funciones `sqrt`, `exp`, `log`, `sin`, `cos`, `sinh` y `cosh`. \n",
    "\n",
    "- Muestren que las cosas dan los resultados que esperan usando pruebas como hicieron en el ejercicio 2.\n",
    "\n",
    "- Calculen la derivada de $h(x) = \\sin\\Big(x^3 - \\frac{2}{x^6}\\Big)$ en $x_0 = 2$. ¿Qué tan preciso es el resultado?(Pueden usar cualquier otra manera de obtener el resultado correcto, sólo tienen que ser claros en la explicación.)\n",
    "\n",
    "- Dibujen, para $x_0 \\in [1,5]$ la función $h'(x)$."
   ]
  },
  {
   "cell_type": "code",
   "execution_count": 11,
   "metadata": {},
   "outputs": [
    {
     "data": {
      "text/plain": [
       "cosh (generic function with 12 methods)"
      ]
     },
     "execution_count": 11,
     "metadata": {},
     "output_type": "execute_result"
    }
   ],
   "source": [
    "#Extensión de los Dual a diferentes funciones\n",
    "import Base: sqrt, exp, log, sin, cos, sinh, cosh\n",
    "\n",
    "sqrt(u::Dual)=Dual(sqrt(u.x),u.x′/(2*sqrt(u.x)))\n",
    "exp(u::Dual)=Dual(exp(u.x),u.x′*exp(u.x))\n",
    "log(u::Dual)=Dual(log(u.x),u.x′/u.x)\n",
    "sin(u::Dual)=Dual(sin(u.x),u.x′*cos(u.x))\n",
    "cos(u::Dual)=Dual(cos(u.x),-u.x′*sen(u.x))\n",
    "sinh(u::Dual)=Dual(sinh(u.x),u.x′*cosh(u.x))\n",
    "cosh(u::Dual)=Dual(cosh(u.x),u.x′*sinh(u.x))"
   ]
  },
  {
   "cell_type": "markdown",
   "metadata": {},
   "source": [
    "## 6\n",
    "\n",
    "Implementen el método de Newton para una función arbitraria $f(x)$ en una variable, explotando el uso de los `Dual`. \n",
    "\n",
    "- Obtengan, usando su función para el método de Newton, las raices del polinomio de Wilkinson \n",
    "\n",
    "$$\n",
    "W_{6}(x) = (x-1)(x-2)(x-3)(x-4)(x-5)(x-6),\n",
    "$$ \n",
    "\n",
    "usando como iterados iniciales $x_0=2.2$ y $x_0=2.45$.\n",
    "    \n",
    "- Hagan lo mismo que en el inciso anterior para $g(x) = x \\sin(2x)$, con $x_0=0.7$."
   ]
  },
  {
   "cell_type": "code",
   "execution_count": 12,
   "metadata": {},
   "outputs": [
    {
     "data": {
      "text/plain": [
       "newton"
      ]
     },
     "execution_count": 12,
     "metadata": {},
     "output_type": "execute_result"
    }
   ],
   "source": [
    "\"Método de Newton con Duales\"\n",
    "function newton(f,x0,tol=1e-10)\n",
    "    fprime(x)=f(dual(x)).x′\n",
    "    xn=x0\n",
    "    while abs(f(xn))>tol\n",
    "        xn=xn-f(xn)/fprime(xn)\n",
    "    end\n",
    "    return xn\n",
    "end"
   ]
  },
  {
   "cell_type": "code",
   "execution_count": 15,
   "metadata": {},
   "outputs": [
    {
     "name": "stdout",
     "output_type": "stream",
     "text": [
      "2.0\n",
      "6.0\n",
      "2.11254479017457e-31"
     ]
    }
   ],
   "source": [
    "W6(x)=(x-1)*(x-2)*(x-3)*(x-4)*(x-5)*(x-6)\n",
    "show(newton(W6,2.2))\n",
    "println()\n",
    "show(newton(W6,2.45))\n",
    "println()\n",
    "g(x)=x*sin(2*x)\n",
    "show(newton(g,0.7))"
   ]
  },
  {
   "cell_type": "code",
   "execution_count": null,
   "metadata": {
    "collapsed": true
   },
   "outputs": [],
   "source": []
  },
  {
   "cell_type": "markdown",
   "metadata": {},
   "source": [
    "## 7\n",
    "\n",
    "Argumenten qué podrían hacer para extender la idea de los `Dual` y calcular derivadas aún más altas. Como caso concreto, piensen en querer obtener la derivada 18 de funciones como las que hemos usado arriba"
   ]
  },
  {
   "cell_type": "markdown",
   "metadata": {
    "collapsed": true
   },
   "source": [
    "Una manera sería crear una nueva estructura y definir operaciones para esta estructura como se hizo para el Dual; para cada orden de derivada; sin embargo la complejidad de las operaciones comienza a crecer demasiado.\n",
    "\n",
    "Otro método podría ser definir las series de Taylor para cada función, generando un vector, y generalizar las reglas del Dual para cada orden de derivada; como se muestra a continuación con el esboso de lo que se realizaría con un exponente:"
   ]
  },
  {
   "cell_type": "code",
   "execution_count": 38,
   "metadata": {},
   "outputs": [
    {
     "data": {
      "text/plain": [
       "Dual(20.0, 60.0)"
      ]
     },
     "execution_count": 38,
     "metadata": {},
     "output_type": "execute_result"
    }
   ],
   "source": [
    "\"\"\"\n",
    "Taylor100 es una estructura que alberga la expanción en Taylor de orden 99, y el orden de la derivada.\n",
    "\"\"\"\n",
    "struct Taylor100\n",
    "    a ::Array{Any,1}\n",
    "    y ::Int64\n",
    "end\n",
    "\n",
    "Taylor100(a::Array{Any,1}) = Taylor100(a,0)\n",
    "\n",
    "function taylor100(a::Float64)\n",
    "    o=[]\n",
    "    push!(o,a)\n",
    "    for i in 1:99\n",
    "        push!(o,0)\n",
    "        end\n",
    "    return Taylor100(o)\n",
    "end\n",
    "\n",
    "#Extendemos el operador exponente.\n",
    "function ^(x::Taylor100,n::Int)\n",
    "    o=[]\n",
    "    for i in 0:99\n",
    "        if i≠n\n",
    "            push!(o,0)\n",
    "        else\n",
    "            push!(o,x.a[1])\n",
    "        end\n",
    "    end\n",
    "    return Taylor100(o)\n",
    "end\n",
    "\n",
    "\"Deriva la serie de Taylor perdiendo el término de mayor orden.\"\n",
    "function derivartaylor(x)\n",
    "    m=x.a\n",
    "    k=[]\n",
    "    deleteat!(m,1)\n",
    "    for i in 1:99\n",
    "        push!(k,m[i]*i)\n",
    "    end\n",
    "    push!(k,0)\n",
    "    z=Taylor100(k)\n",
    "    return z\n",
    "end\n",
    "\n",
    "#Extendemos el Dual.\n",
    "Dual(x::Taylor100)=Dual(sum(x.a),sum(derivartaylor(x).a))\n",
    "\n",
    "\n",
    "#Este es un ejemplo.\n",
    "x=taylor100(1.0)\n",
    "\n",
    "x=x^5\n",
    "x1=derivartaylor(x)\n",
    "x2=derivartaylor(x1)\n",
    "m=Dual(x2)"
   ]
  }
 ],
 "metadata": {
  "kernelspec": {
   "display_name": "Julia 0.6.4",
   "language": "julia",
   "name": "julia-0.6"
  },
  "language_info": {
   "file_extension": ".jl",
   "mimetype": "application/julia",
   "name": "julia",
   "version": "0.6.4"
  }
 },
 "nbformat": 4,
 "nbformat_minor": 2
}
